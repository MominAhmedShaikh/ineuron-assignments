{
 "cells": [
  {
   "cell_type": "markdown",
   "id": "fe42aaac",
   "metadata": {},
   "source": [
    "# Python Progamming Assignment : 1"
   ]
  },
  {
   "cell_type": "markdown",
   "id": "0cbc12b7",
   "metadata": {},
   "source": [
    "### Q1. What is the purpose of Python's OOP?"
   ]
  },
  {
   "cell_type": "markdown",
   "id": "bbf5d946",
   "metadata": {},
   "source": [
    "**Ans:** OOP is a way of organizing your code so that it is `easier to maintain and extend`. It does this by organizing your code into `\"objects\"`, which represent real-world things and concepts. These objects have `\"attributes\" (data)` and `\"methods\" (functions)` that represent their characteristics and behaviors.\n",
    "\n",
    "For example,when writing a program to simulate a pet store. we might have an `\"Animal\"` object that has attributes like `\"name\"` and `\"species\"`, and methods like `\"eat\"` and `\"sleep\"`. we could then create specific animals like `\"Dog\"` or `\"Cat\"` that inherit the attributes and methods of the `\"Animal\"` object, but have some unique characteristics of their own.\n",
    "\n",
    "OOP makes it easier to write code because we can reuse the code from the parent object (like \"Animal\") in the child objects (like \"Dog\" or \"Cat\"), and we can easily add new features to your program by creating new objects or modifying existing ones.\n",
    "\n",
    "Overall, OOP helps you create more organized, efficient, and reusable code in Python."
   ]
  },
  {
   "cell_type": "code",
   "execution_count": 1,
   "id": "e5e67600",
   "metadata": {},
   "outputs": [
    {
     "name": "stdout",
     "output_type": "stream",
     "text": [
      "Fluffy\n",
      "Dog\n",
      "Some generic animal sound\n"
     ]
    }
   ],
   "source": [
    "class Animal:                                   #Class\n",
    "    def __init__(self, name, species):\n",
    "        self.name = name                        #Attribute\n",
    "        self.species = species\n",
    "    \n",
    "    def make_sound(self):                       #Method\n",
    "        print(\"Some generic animal sound\")\n",
    "\n",
    "animal1 = Animal(\"Fluffy\", \"Dog\")\n",
    "\n",
    "print(animal1.name)  \n",
    "print(animal1.species)  \n",
    "\n",
    "animal1.make_sound()                            #Object"
   ]
  },
  {
   "cell_type": "markdown",
   "id": "850f7952",
   "metadata": {},
   "source": [
    "### Q2. Where does an inheritance search look for an attribute?\n"
   ]
  },
  {
   "cell_type": "markdown",
   "id": "a1a81110",
   "metadata": {},
   "source": [
    "When we try to access an attribute of an object in Python, the interpreter will first check if the object itself has an attribute with that name. If it does not, it will then check the object's class and all of its superclasses, in the order that they appear in the class hierarchy. This process is called `inheritance resolution`, and it continues until the attribute is found or it is determined that the attribute does not exist. If the attribute is not found, then an `AttributeError will be raised`.\n",
    "\n",
    "For example, consider the following class hierarchy:"
   ]
  },
  {
   "cell_type": "markdown",
   "id": "1ab0dab0",
   "metadata": {},
   "source": [
    "<!-- object\n",
    "\n",
    "  |\n",
    "  \n",
    "  A\n",
    "  \n",
    "  |\n",
    "  \n",
    "  B\n",
    "  \n",
    "  |\n",
    "  \n",
    "  C -->\n",
    "  \n",
    "\n",
    "<img src=\" https://github.com/MominAhmedShaikh/ineuron-assignments/blob/main/assets/object.png\" alt=\"Object\" height=\"300px\" width=\"300px\">"
   ]
  },
  {
   "cell_type": "markdown",
   "id": "71e47f98",
   "metadata": {},
   "source": [
    "If we have an instance of C, and we try to access an attribute x, the interpreter will first check if C has an attribute x, then it will check B, then A, and finally object. If x is not found in any of these classes, an AttributeError will be raised.\n",
    "\n",
    "This process is repeated every time an attribute is accessed on an object, so it is important to design your class hierarchy carefully to ensure that attribute resolution is efficient."
   ]
  },
  {
   "cell_type": "markdown",
   "id": "8a05ca0e",
   "metadata": {},
   "source": [
    "### Q3. How do you distinguish between a class object and an instance object?\n"
   ]
  },
  {
   "cell_type": "markdown",
   "id": "dc605346",
   "metadata": {},
   "source": [
    "In Python, we can use the type function to determine the type of an object. If the object is a class, the type function will return `<class 'type'>`. If the object is an instance of a class, the type function will return the class of the object `<class '__main__.MyClass'>`.\n",
    "\n",
    "For example:"
   ]
  },
  {
   "cell_type": "code",
   "execution_count": 2,
   "id": "d307d0fa",
   "metadata": {},
   "outputs": [
    {
     "name": "stdout",
     "output_type": "stream",
     "text": [
      "<class 'type'>\n",
      "<class '__main__.MyClass'>\n"
     ]
    }
   ],
   "source": [
    "class MyClass:\n",
    "    pass\n",
    "\n",
    "obj = MyClass()\n",
    "\n",
    "print(type(MyClass))  \n",
    "print(type(obj))    "
   ]
  },
  {
   "cell_type": "markdown",
   "id": "926f0842",
   "metadata": {},
   "source": [
    "### Q4. What makes the first argument in a class’s method function special?\n"
   ]
  },
  {
   "cell_type": "markdown",
   "id": "1bfb4c83",
   "metadata": {},
   "source": [
    "In a class's method function in Python, the first argument is usually called self. This argument does not have a special meaning to the Python interpreter, but it is a convention that is followed by most Python programmers.\n",
    "\n",
    "The self argument is used to refer to the instance of the class that the method is being called on. It is similar to the this keyword in other programming languages.\n",
    "\n",
    "For example:"
   ]
  },
  {
   "cell_type": "code",
   "execution_count": 3,
   "id": "eb9bc170",
   "metadata": {},
   "outputs": [
    {
     "name": "stdout",
     "output_type": "stream",
     "text": [
      "<__main__.MyClass object at 0x7fe56c6b4b50>\n"
     ]
    }
   ],
   "source": [
    "class MyClass:\n",
    "    def my_method(self):\n",
    "        print(self)\n",
    "\n",
    "obj = MyClass()\n",
    "obj.my_method() \n"
   ]
  },
  {
   "cell_type": "markdown",
   "id": "5861d5ff",
   "metadata": {},
   "source": [
    "The self argument is not passed explicitly when the method is called. Instead, it is passed automatically by the Python interpreter when the method is called on an instance."
   ]
  },
  {
   "cell_type": "markdown",
   "id": "d6c12919",
   "metadata": {},
   "source": [
    "### Q5. What is the purpose of the init method?\n"
   ]
  },
  {
   "cell_type": "markdown",
   "id": "fe88dfd2",
   "metadata": {},
   "source": [
    "The `__init__` method is called automatically when an instance of the class is created, and it is passed the instance itself as the first argument (which is usually called self). Any additional arguments that are passed when the instance is created are also passed to the `__init__` method.\n",
    "\n",
    "For example:"
   ]
  },
  {
   "cell_type": "code",
   "execution_count": 4,
   "id": "f8f73e22",
   "metadata": {
    "scrolled": true
   },
   "outputs": [
    {
     "name": "stdout",
     "output_type": "stream",
     "text": [
      "1\n",
      "2\n"
     ]
    }
   ],
   "source": [
    "class MyClass:\n",
    "    def __init__(self, x, y):\n",
    "        self.x = x\n",
    "        self.y = y\n",
    "\n",
    "obj = MyClass(1, 2)\n",
    "print(obj.x) \n",
    "print(obj.y)  "
   ]
  },
  {
   "cell_type": "markdown",
   "id": "f22de986",
   "metadata": {},
   "source": [
    "**Note**: The `__init__` method is not required in a Python class. If we do not define an `__init__` method in our class, the instance will still be created, but it will not have any initialized attributes."
   ]
  },
  {
   "cell_type": "markdown",
   "id": "cddd5392",
   "metadata": {},
   "source": [
    "### Q6. What is the process for creating a class instance?\n"
   ]
  },
  {
   "cell_type": "markdown",
   "id": "6c62b93a",
   "metadata": {},
   "source": [
    "To create an instance of a class in Python, we need to call the class as if it were a function, and pass any necessary arguments.\n",
    "\n",
    "For example:"
   ]
  },
  {
   "cell_type": "code",
   "execution_count": 5,
   "id": "e59a7575",
   "metadata": {},
   "outputs": [],
   "source": [
    "class MyClass:\n",
    "    def __init__(self, x, y):\n",
    "        self.x = x\n",
    "        self.y = y\n",
    "\n",
    "obj = MyClass(1, 2)\n"
   ]
  },
  {
   "cell_type": "markdown",
   "id": "1fa707f2",
   "metadata": {},
   "source": [
    "This creates a new instance of the MyClass class, and initializes the x and y attributes of the instance using the `__init__` method. The instance is stored in the obj variable, which can then be used to access the attributes and methods of the instance."
   ]
  },
  {
   "cell_type": "markdown",
   "id": "df48a7cd",
   "metadata": {},
   "source": [
    "### Q7. What is the process for creating a class?"
   ]
  },
  {
   "cell_type": "markdown",
   "id": "6f43d7dc",
   "metadata": {},
   "source": [
    "To create a new class in Python, you can use the `class` keyword followed by the `name` of the class. The class definition should include a pass statement, or add some attributes and methods to the class by defining them within the class definition.\n",
    "\n",
    "For example:"
   ]
  },
  {
   "cell_type": "code",
   "execution_count": 6,
   "id": "81cf37d4",
   "metadata": {},
   "outputs": [
    {
     "name": "stdout",
     "output_type": "stream",
     "text": [
      "Hello, world!\n"
     ]
    }
   ],
   "source": [
    "class MyClass:\n",
    "    def my_method(self):\n",
    "        print(\"Hello, world!\")\n",
    "\n",
    "obj = MyClass()\n",
    "obj.my_method()  "
   ]
  },
  {
   "cell_type": "markdown",
   "id": "766e849d",
   "metadata": {},
   "source": [
    "### Q8. How would you define the superclasses of a class?"
   ]
  },
  {
   "cell_type": "markdown",
   "id": "a5f13951",
   "metadata": {},
   "source": [
    "To define the superclasses of a class in Python, we can use the `class` keyword followed by the `name of the class`, and a tuple of the superclasses in parentheses.\n",
    "\n",
    "For example (`without super`):"
   ]
  },
  {
   "cell_type": "code",
   "execution_count": 7,
   "id": "93b719b0",
   "metadata": {},
   "outputs": [
    {
     "name": "stdout",
     "output_type": "stream",
     "text": [
      "Hello, world!\n"
     ]
    }
   ],
   "source": [
    "class SuperClass1:\n",
    "    def my_method(self):\n",
    "        print(\"Hello, world!\")\n",
    "\n",
    "class SuperClass2:\n",
    "    def my_method(self):\n",
    "        print(\"Goodbye, world!\")\n",
    "\n",
    "class MyClass(SuperClass1, SuperClass2):\n",
    "    pass\n",
    "\n",
    "obj = MyClass()\n",
    "obj.my_method()  "
   ]
  },
  {
   "cell_type": "markdown",
   "id": "23f5d636",
   "metadata": {},
   "source": [
    "**Note:** The order of the superclasses in the tuple matters, because it determines the order in which the classes are searched for attributes and methods. In the example above, the my_method of SuperClass1 is called because it appears before the my_method of SuperClass2 in the class hierarchy."
   ]
  },
  {
   "cell_type": "markdown",
   "id": "785b1c41",
   "metadata": {},
   "source": [
    "For example (`with super`):"
   ]
  },
  {
   "cell_type": "code",
   "execution_count": 8,
   "id": "26ba305d",
   "metadata": {},
   "outputs": [
    {
     "name": "stdout",
     "output_type": "stream",
     "text": [
      "Hello, world!\n",
      "Goodbye, world!\n"
     ]
    }
   ],
   "source": [
    "class SuperClass:\n",
    "    def my_method(self):\n",
    "        print(\"Hello, world!\")\n",
    "\n",
    "class MyClass(SuperClass):\n",
    "    def my_method(self):\n",
    "        super().my_method()\n",
    "        print(\"Goodbye, world!\")\n",
    "\n",
    "obj = MyClass()\n",
    "obj.my_method() "
   ]
  },
  {
   "cell_type": "markdown",
   "id": "e8e5b194",
   "metadata": {},
   "source": [
    "Using the super function. When the `my_method` of the `MyClass` instance is called, both the `my_method` of the `SuperClass` and the `MyClass` are executed."
   ]
  }
 ],
 "metadata": {
  "kernelspec": {
   "display_name": "Python 3 (ipykernel)",
   "language": "python",
   "name": "python3"
  },
  "language_info": {
   "codemirror_mode": {
    "name": "ipython",
    "version": 3
   },
   "file_extension": ".py",
   "mimetype": "text/x-python",
   "name": "python",
   "nbconvert_exporter": "python",
   "pygments_lexer": "ipython3",
   "version": "3.9.15"
  }
 },
 "nbformat": 4,
 "nbformat_minor": 5
}

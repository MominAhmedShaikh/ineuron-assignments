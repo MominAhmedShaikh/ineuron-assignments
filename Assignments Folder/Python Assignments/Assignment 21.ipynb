{
 "cells": [
  {
   "cell_type": "markdown",
   "id": "f9e98d8e",
   "metadata": {},
   "source": [
    "# Assignment 21 : Python Basics"
   ]
  },
  {
   "cell_type": "markdown",
   "id": "c9f0d9ed",
   "metadata": {},
   "source": [
    "### 1. Add the current date to the text file today.txt as a string."
   ]
  },
  {
   "cell_type": "code",
   "execution_count": 1,
   "id": "6901c736",
   "metadata": {},
   "outputs": [],
   "source": [
    "from datetime import date\n",
    "today = date.today()\n",
    "with open('today.txt','w') as date_obj:\n",
    "    date_obj.write(str(today)) "
   ]
  },
  {
   "cell_type": "markdown",
   "id": "790bd70a",
   "metadata": {},
   "source": [
    "### 2. Read the text file today.txt into the string today_string"
   ]
  },
  {
   "cell_type": "code",
   "execution_count": 2,
   "id": "dd96912b",
   "metadata": {},
   "outputs": [
    {
     "data": {
      "text/plain": [
       "'2022-11-13'"
      ]
     },
     "execution_count": 2,
     "metadata": {},
     "output_type": "execute_result"
    }
   ],
   "source": [
    "today_string = \"\"\n",
    "with open('today.txt', 'r') as txt:\n",
    "    today_string = txt.readline()\n",
    "today_string"
   ]
  },
  {
   "cell_type": "markdown",
   "id": "ac2c718f",
   "metadata": {},
   "source": [
    "### 3. Parse the date from today_string."
   ]
  },
  {
   "cell_type": "code",
   "execution_count": 3,
   "id": "912b6f9a",
   "metadata": {},
   "outputs": [
    {
     "name": "stdout",
     "output_type": "stream",
     "text": [
      "2022-11-13 00:00:00\n"
     ]
    }
   ],
   "source": [
    "from datetime import datetime\n",
    "print(datetime.strptime(today_string, '%Y-%m-%d'))"
   ]
  },
  {
   "cell_type": "markdown",
   "id": "bb56aec8",
   "metadata": {},
   "source": [
    "### 4. List the files in your current directory"
   ]
  },
  {
   "cell_type": "code",
   "execution_count": 4,
   "id": "359827b8",
   "metadata": {},
   "outputs": [
    {
     "name": "stdout",
     "output_type": "stream",
     "text": [
      "[   'Assignment 10.ipynb',\n",
      "    'Assignment 12.ipynb',\n",
      "    '.DS_Store',\n",
      "    'Assignment 8.ipynb',\n",
      "    'Assignment 16.ipynb',\n",
      "    'Assignment 14.ipynb',\n",
      "    'Assignment 13.ipynb',\n",
      "    'today.txt',\n",
      "    'Assignment 11.ipynb',\n",
      "    'Assignment 15.ipynb',\n",
      "    'Assignment 9.ipynb',\n",
      "    'Assignment 17.ipynb',\n",
      "    'Assignment 5.ipynb',\n",
      "    'Assignment 7.ipynb',\n",
      "    'Assignment 19.ipynb',\n",
      "    'Assignment 20.ipynb',\n",
      "    'Assignment 3.ipynb',\n",
      "    'Assignment 1.ipynb',\n",
      "    'Assignment 6.ipynb',\n",
      "    'Assignment 18.ipynb',\n",
      "    'Assignment 4.ipynb',\n",
      "    'Assignment 21.ipynb',\n",
      "    'Assignment 2.ipynb']\n",
      "['zoo.cpython-39.pyc']\n",
      "[   'Assignment 2-checkpoint.ipynb',\n",
      "    'Assignment 17-checkpoint.ipynb',\n",
      "    'Assignment 9-checkpoint.ipynb',\n",
      "    'Assignment 18-checkpoint.ipynb',\n",
      "    'Assignment 13-checkpoint.ipynb',\n",
      "    'Assignment 6-checkpoint.ipynb',\n",
      "    'Assignment 16-checkpoint.ipynb',\n",
      "    'Assignment 3-checkpoint.ipynb',\n",
      "    'Assignment 8-checkpoint.ipynb',\n",
      "    'Assignment 19-checkpoint.ipynb',\n",
      "    'Assignment 7-checkpoint.ipynb',\n",
      "    'Assignment 12-checkpoint.ipynb',\n",
      "    'Assignment 20-checkpoint.ipynb',\n",
      "    'Assignment 15-checkpoint.ipynb',\n",
      "    'Assignment 4-checkpoint.ipynb',\n",
      "    'Assignment 11-checkpoint.ipynb',\n",
      "    'Assignment 21-checkpoint.ipynb',\n",
      "    'Assignment 1-checkpoint.ipynb',\n",
      "    'Assignment 14-checkpoint.ipynb',\n",
      "    'Assignment 10-checkpoint.ipynb',\n",
      "    'Assignment 5-checkpoint.ipynb']\n"
     ]
    }
   ],
   "source": [
    "import os,pprint\n",
    "pp = pprint.PrettyPrinter(indent=4)\n",
    "for i,j,k in os.walk('../python assignments/'):\n",
    "    pp.pprint(k)"
   ]
  },
  {
   "cell_type": "markdown",
   "id": "76cf3b87",
   "metadata": {},
   "source": [
    "### 5. Create a list of all of the files in your parent directory (minimum five files should be available)."
   ]
  },
  {
   "cell_type": "code",
   "execution_count": 5,
   "id": "7e3d5012",
   "metadata": {},
   "outputs": [
    {
     "name": "stdout",
     "output_type": "stream",
     "text": [
      "['Untitled Folder', 'Machine-Learning-1', 'santa.ipynb', '.config', 'Music']\n",
      "85\n"
     ]
    },
    {
     "data": {
      "text/plain": [
       "['.DS_Store', 'python assignments', '.ipynb_checkpoints']"
      ]
     },
     "execution_count": 5,
     "metadata": {},
     "output_type": "execute_result"
    }
   ],
   "source": [
    "files = os.listdir('/Users/momin/')\n",
    "print(files[:5])\n",
    "print(len(files))\n",
    "# Five files were not there in parent dir\n",
    "parent = os.listdir('..')\n",
    "parent"
   ]
  },
  {
   "cell_type": "markdown",
   "id": "24e0401a",
   "metadata": {},
   "source": [
    "### 6. Use multiprocessing to create three separate processes. Make each one wait a random number of seconds between one and five, print the current time, and then exit."
   ]
  },
  {
   "cell_type": "code",
   "execution_count": 6,
   "id": "bdc15377",
   "metadata": {},
   "outputs": [],
   "source": [
    "# Not Known"
   ]
  },
  {
   "cell_type": "markdown",
   "id": "6eadc69b",
   "metadata": {},
   "source": [
    "### 7. Create a date object of your day of birth."
   ]
  },
  {
   "cell_type": "code",
   "execution_count": 7,
   "id": "0c9a559f",
   "metadata": {},
   "outputs": [
    {
     "data": {
      "text/plain": [
       "datetime.date(1999, 5, 1)"
      ]
     },
     "execution_count": 7,
     "metadata": {},
     "output_type": "execute_result"
    }
   ],
   "source": [
    "birth_date = date(1999,5,1)\n",
    "birth_date"
   ]
  },
  {
   "cell_type": "markdown",
   "id": "dc9ce737",
   "metadata": {},
   "source": [
    "### 8. What day of the week was your day of birth?"
   ]
  },
  {
   "cell_type": "code",
   "execution_count": 8,
   "id": "d5ace43c",
   "metadata": {},
   "outputs": [
    {
     "name": "stdout",
     "output_type": "stream",
     "text": [
      "I was born on 6 day of the week\n"
     ]
    }
   ],
   "source": [
    "print(f'I was born on {birth_date.isoweekday()} day of the week')"
   ]
  },
  {
   "cell_type": "markdown",
   "id": "5780d7d7",
   "metadata": {},
   "source": [
    "### 9. When will you be (or when were you) 10,000 days old?"
   ]
  },
  {
   "cell_type": "code",
   "execution_count": 9,
   "id": "27a109a4",
   "metadata": {},
   "outputs": [
    {
     "name": "stdout",
     "output_type": "stream",
     "text": [
      "I will be 10000 days old on 2026-09-16\n"
     ]
    }
   ],
   "source": [
    "from datetime import timedelta\n",
    "\n",
    "if birth_date + timedelta(days=10000) > date.today():\n",
    "    print(f'I will be 10000 days old on {birth_date + timedelta(days=10000)}')\n",
    "else:\n",
    "    print(f'I was 10000 days old on {birth_date + timedelta(days=10000)}')"
   ]
  }
 ],
 "metadata": {
  "kernelspec": {
   "display_name": "Python 3 (ipykernel)",
   "language": "python",
   "name": "python3"
  },
  "language_info": {
   "codemirror_mode": {
    "name": "ipython",
    "version": 3
   },
   "file_extension": ".py",
   "mimetype": "text/x-python",
   "name": "python",
   "nbconvert_exporter": "python",
   "pygments_lexer": "ipython3",
   "version": "3.9.7"
  }
 },
 "nbformat": 4,
 "nbformat_minor": 5
}

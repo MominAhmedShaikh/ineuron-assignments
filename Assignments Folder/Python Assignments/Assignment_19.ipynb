{
 "cells": [
  {
   "cell_type": "markdown",
   "id": "e3accf1c",
   "metadata": {},
   "source": [
    "# Assignment 19 : Python Basics"
   ]
  },
  {
   "cell_type": "markdown",
   "id": "2190ecb3",
   "metadata": {},
   "source": [
    "### 1. Make a class called Thing with no contents and print it. Then, create an object called example from this class and also print it. Are the printed values the same or different?"
   ]
  },
  {
   "cell_type": "code",
   "execution_count": 1,
   "id": "223000f0",
   "metadata": {},
   "outputs": [],
   "source": [
    "class Things:\n",
    "    pass"
   ]
  },
  {
   "cell_type": "code",
   "execution_count": 2,
   "id": "b0891574",
   "metadata": {},
   "outputs": [
    {
     "data": {
      "text/plain": [
       "__main__.Things"
      ]
     },
     "execution_count": 2,
     "metadata": {},
     "output_type": "execute_result"
    }
   ],
   "source": [
    "Things"
   ]
  },
  {
   "cell_type": "code",
   "execution_count": 3,
   "id": "55853a7f",
   "metadata": {},
   "outputs": [
    {
     "data": {
      "text/plain": [
       "<__main__.Things at 0x7fa87bf888b0>"
      ]
     },
     "execution_count": 3,
     "metadata": {},
     "output_type": "execute_result"
    }
   ],
   "source": [
    "example = Things()\n",
    "example\n",
    "\n",
    "# Values are different example object gives variable location at memory."
   ]
  },
  {
   "cell_type": "markdown",
   "id": "e622d160",
   "metadata": {},
   "source": [
    "### 2. Create a new class called Thing2 and add the value &#39;abc&#39; to the letters class attribute. Letters should be printed."
   ]
  },
  {
   "cell_type": "code",
   "execution_count": 4,
   "id": "cfc81bd4",
   "metadata": {},
   "outputs": [
    {
     "data": {
      "text/plain": [
       "'abc'"
      ]
     },
     "execution_count": 4,
     "metadata": {},
     "output_type": "execute_result"
    }
   ],
   "source": [
    "class Things2:\n",
    "    letters = 'abc'\n",
    "Things2.letters"
   ]
  },
  {
   "cell_type": "markdown",
   "id": "5b75fd24",
   "metadata": {},
   "source": [
    "### 3. Make yet another class called, of course, Thing3. This time, assign the value &#39;xyz&#39; to an instance (object) attribute called letters. Print letters. Do you need to make an object from the class to do this?"
   ]
  },
  {
   "cell_type": "code",
   "execution_count": 5,
   "id": "684784df",
   "metadata": {},
   "outputs": [
    {
     "data": {
      "text/plain": [
       "'xyz'"
      ]
     },
     "execution_count": 5,
     "metadata": {},
     "output_type": "execute_result"
    }
   ],
   "source": [
    "class Things3:\n",
    "    def __init__(self,letters):\n",
    "        self.letters = letters\n",
    "    def letters(self):\n",
    "        print(self.letters)\n",
    "    \n",
    "Things3('xyz').letters"
   ]
  },
  {
   "cell_type": "markdown",
   "id": "7a4e4b7c",
   "metadata": {},
   "source": [
    "### 4. Create an Element class with the instance attributes name, symbol, and number. Create a class object with the values &#39;Hydrogen,&#39; &#39;H,&#39; and 1."
   ]
  },
  {
   "cell_type": "code",
   "execution_count": 6,
   "id": "24c23aa4",
   "metadata": {},
   "outputs": [],
   "source": [
    "class Element:\n",
    "    def __init__(self,name,symbol,number):\n",
    "        self.name = name\n",
    "        self.symbol = symbol\n",
    "        self.number = number\n",
    "    def Element_info(self):\n",
    "        print('Element ->',self.name, 'Symbol ->' , self.symbol,'Number ->',self.number)"
   ]
  },
  {
   "cell_type": "code",
   "execution_count": 7,
   "id": "5440fbb8",
   "metadata": {},
   "outputs": [
    {
     "name": "stdout",
     "output_type": "stream",
     "text": [
      "Element -> Hydrogen Symbol -> H Number -> 1\n"
     ]
    }
   ],
   "source": [
    "info = Element('Hydrogen','H','1')\n",
    "info.Element_info()"
   ]
  },
  {
   "cell_type": "markdown",
   "id": "aebbaafc",
   "metadata": {},
   "source": [
    "### 5. Make a dictionary with these keys and values: &#39;name&#39;: &#39;Hydrogen&#39;, &#39;symbol&#39;: &#39;H&#39;, &#39;number&#39;: 1. Then, create an object called hydrogen from class Element using this dictionary."
   ]
  },
  {
   "cell_type": "code",
   "execution_count": 8,
   "id": "a8e64051",
   "metadata": {},
   "outputs": [
    {
     "data": {
      "text/plain": [
       "'Hydrogen'"
      ]
     },
     "execution_count": 8,
     "metadata": {},
     "output_type": "execute_result"
    }
   ],
   "source": [
    "dic = {'name': 'Hydrogen', 'symbol': 'H', 'number': 1}\n",
    "hydrogen = Element(**dic)\n",
    "hydrogen.name"
   ]
  },
  {
   "cell_type": "markdown",
   "id": "4b362fe9",
   "metadata": {},
   "source": [
    "### 6. For the Element class, define a method called dump() that prints the values of the object’s attributes (name, symbol, and number). Create the hydrogen object from this new definition and use dump() to print its attributes."
   ]
  },
  {
   "cell_type": "code",
   "execution_count": 9,
   "id": "8eb31381",
   "metadata": {},
   "outputs": [
    {
     "data": {
      "text/plain": [
       "('Hydrogen', 'H', 1)"
      ]
     },
     "execution_count": 9,
     "metadata": {},
     "output_type": "execute_result"
    }
   ],
   "source": [
    "class Element:\n",
    "    def __init__(self,name,symbol,number):\n",
    "        self.name = name\n",
    "        self.symbol = symbol\n",
    "        self.number = number\n",
    "    def dump(self):\n",
    "        return self.name,self.symbol,self.number\n",
    "hydrogen = Element('Hydrogen','H',1).dump()\n",
    "hydrogen"
   ]
  },
  {
   "cell_type": "markdown",
   "id": "1eddcd3c",
   "metadata": {},
   "source": [
    "### 7. Call print(hydrogen). In the definition of Element, change the name of method dump to __str__, create a new hydrogen object, and call print(hydrogen) again."
   ]
  },
  {
   "cell_type": "code",
   "execution_count": 10,
   "id": "86e3397b",
   "metadata": {},
   "outputs": [
    {
     "name": "stdout",
     "output_type": "stream",
     "text": [
      "('Hydrogen', 'H', 1)\n",
      "Hydrogen , H , 1\n"
     ]
    }
   ],
   "source": [
    "print(hydrogen)\n",
    "class Element:\n",
    "    def __init__(self,name,symbol,number):\n",
    "        self.name = name\n",
    "        self.symbol = symbol\n",
    "        self.number = number\n",
    "    def __str__(self):\n",
    "        return f'{self.name} , {self.symbol} , {self.number}'\n",
    "hydrogen = Element('Hydrogen','H',1)\n",
    "print(hydrogen)"
   ]
  },
  {
   "cell_type": "markdown",
   "id": "60279326",
   "metadata": {},
   "source": [
    "### 8. Modify Element to make the attributes name, symbol, and number private. Define a getter property for each to return its value."
   ]
  },
  {
   "cell_type": "code",
   "execution_count": 11,
   "id": "f78235dd",
   "metadata": {},
   "outputs": [
    {
     "data": {
      "text/plain": [
       "('H', 'Hydrogen', 1)"
      ]
     },
     "execution_count": 11,
     "metadata": {},
     "output_type": "execute_result"
    }
   ],
   "source": [
    "class Element:\n",
    "    def __init__(self,name,symbol,number):\n",
    "        self.__name = name\n",
    "        self.__symbol = symbol\n",
    "        self.__number = number\n",
    "        \n",
    "    @property\n",
    "    def name(self):\n",
    "        return self.__name\n",
    "    \n",
    "    @property\n",
    "    def symbol(self):\n",
    "        return self.__symbol\n",
    "    @property\n",
    "    def number(self):\n",
    "        return self.__number\n",
    "\n",
    "ele = Element('Hydrogen','H',1)\n",
    "ele.symbol, ele.name , ele.number"
   ]
  },
  {
   "cell_type": "markdown",
   "id": "1528158b",
   "metadata": {},
   "source": [
    "### 9. Define three classes: Bear, Rabbit, and Octothorpe. For each, define only one method: eats(). This should return &#39;berries&#39; (Bear), &#39;clover&#39; (Rabbit), or &#39;campers&#39; (Octothorpe). Create one object from each and print what it eats."
   ]
  },
  {
   "cell_type": "code",
   "execution_count": 12,
   "id": "77de4ebd",
   "metadata": {},
   "outputs": [
    {
     "data": {
      "text/plain": [
       "('berries', 'clover')"
      ]
     },
     "execution_count": 12,
     "metadata": {},
     "output_type": "execute_result"
    }
   ],
   "source": [
    "class Bear:\n",
    "    def eats():\n",
    "        return 'berries'\n",
    "\n",
    "class Rabbit:\n",
    "    def eats():\n",
    "        return 'clover'\n",
    "\n",
    "class Octothorpe:\n",
    "    def eats():\n",
    "        return 'campers'\n",
    "\n",
    "Bear.eats() , Rabbit.eats() "
   ]
  },
  {
   "cell_type": "markdown",
   "id": "4d27859a",
   "metadata": {},
   "source": [
    "### 10. Define these classes: Laser, Claw, and SmartPhone. Each has only one method: does(). This returns &#39;disintegrate&#39; (Laser), &#39;crush&#39; (Claw), or &#39;ring&#39; (SmartPhone). Then, define the class Robot that has one instance (object) of each of these. Define a does() method for the Robot that prints what its component objects do."
   ]
  },
  {
   "cell_type": "code",
   "execution_count": 13,
   "id": "7fbb6c05",
   "metadata": {},
   "outputs": [
    {
     "name": "stdout",
     "output_type": "stream",
     "text": [
      "1. Laser disintegrate 2. Claw crush 3. SmartPhone ring\n"
     ]
    }
   ],
   "source": [
    "class Laser:\n",
    "    def does():\n",
    "        return 'disintegrate'\n",
    "class Claw:\n",
    "    def does():\n",
    "        return 'crush'\n",
    "class SmartPhone:\n",
    "    def does():\n",
    "        return 'ring'\n",
    "\n",
    "class Robot(Laser,Claw,SmartPhone):\n",
    "    def does():\n",
    "        int_laser = Laser.does()\n",
    "        int_claw = Claw.does()\n",
    "        int_SmartPhone = SmartPhone.does()\n",
    "        return print('1. Laser', int_laser , '2. Claw',int_claw , '3. SmartPhone',int_SmartPhone)\n",
    "\n",
    "Robot.does()"
   ]
  }
 ],
 "metadata": {
  "kernelspec": {
   "display_name": "Python 3 (ipykernel)",
   "language": "python",
   "name": "python3"
  },
  "language_info": {
   "codemirror_mode": {
    "name": "ipython",
    "version": 3
   },
   "file_extension": ".py",
   "mimetype": "text/x-python",
   "name": "python",
   "nbconvert_exporter": "python",
   "pygments_lexer": "ipython3",
   "version": "3.9.7"
  }
 },
 "nbformat": 4,
 "nbformat_minor": 5
}

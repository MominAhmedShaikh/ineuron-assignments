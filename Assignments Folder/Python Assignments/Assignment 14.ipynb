{
 "cells": [
  {
   "cell_type": "markdown",
   "id": "0780f8f5",
   "metadata": {},
   "source": [
    "# Assignment 14 : Python basics"
   ]
  },
  {
   "cell_type": "code",
   "execution_count": 1,
   "id": "387c4360",
   "metadata": {},
   "outputs": [],
   "source": [
    "from PIL import Image"
   ]
  },
  {
   "cell_type": "markdown",
   "id": "c2bbaf2e",
   "metadata": {},
   "source": [
    "### 1. What does RGBA stand for?"
   ]
  },
  {
   "cell_type": "markdown",
   "id": "47bc3341",
   "metadata": {},
   "source": [
    "- RGBA stands for Red-Green-Blue-Alpha"
   ]
  },
  {
   "cell_type": "markdown",
   "id": "f587b701",
   "metadata": {},
   "source": [
    "### 2. From the Pillow module, how do you get the RGBA value of any images?"
   ]
  },
  {
   "cell_type": "markdown",
   "id": "a2c443db",
   "metadata": {},
   "source": [
    "- We can open image using Image modeule of Pillow package in read mode.\n",
    "- We can use getdata() or getcolors() to get RGB values of each pixel on an image.\n",
    "- here 1764000 is number of pixels that has this RGB value (248, 249, 254)."
   ]
  },
  {
   "cell_type": "code",
   "execution_count": 2,
   "id": "93469d32",
   "metadata": {},
   "outputs": [
    {
     "data": {
      "text/plain": [
       "[(1764000, (248, 249, 254))]"
      ]
     },
     "execution_count": 2,
     "metadata": {},
     "output_type": "execute_result"
    }
   ],
   "source": [
    "white = Image.open('/Users/momin/Downloads/white.jpeg',mode = 'r')\n",
    "white.getcolors()"
   ]
  },
  {
   "cell_type": "markdown",
   "id": "67bb7e75",
   "metadata": {},
   "source": [
    "### 3. What is a box tuple, and how does it work?"
   ]
  },
  {
   "cell_type": "markdown",
   "id": "4acb53e8",
   "metadata": {},
   "source": [
    "- Most of the modules or function utilize box tuple.\n",
    "- Box tuple represents 4 parameters.\n",
    "- 1st parameter is Left and is designated by integer eg. 5 means we have to leave 5 pixels in order to start counting pixels our image from Left.\n",
    "- 2nd parameter is Top and is designated by integer eg. 2 means we have to leave 2 pixels in order to start counting pixels our image from Top.\n",
    "- 3rd parameter is Right and is designated by integer eg. 10 means we have to take upto 9 pixels in order to start counting pixels our image from Right.\n",
    "- 4th parameter is Bottom and is designated by integer eg. 20 means we have to take upto 19 pixels in order to start counting pixels our image from Bottom.\n",
    "- Note: Counting starts from 0."
   ]
  },
  {
   "cell_type": "markdown",
   "id": "d8e7abf3",
   "metadata": {},
   "source": [
    "### 4. Use your image and load in notebook then, How can you find out the width and height of an Image object?"
   ]
  },
  {
   "cell_type": "code",
   "execution_count": 3,
   "id": "da1c4e79",
   "metadata": {},
   "outputs": [],
   "source": [
    "white = Image.open('/Users/momin/Downloads/white.jpeg',mode = 'r')"
   ]
  },
  {
   "cell_type": "code",
   "execution_count": 4,
   "id": "7cea439f",
   "metadata": {},
   "outputs": [],
   "source": [
    "width,height = white.size"
   ]
  },
  {
   "cell_type": "code",
   "execution_count": 5,
   "id": "5b3f47c1",
   "metadata": {},
   "outputs": [
    {
     "data": {
      "text/plain": [
       "1680"
      ]
     },
     "execution_count": 5,
     "metadata": {},
     "output_type": "execute_result"
    }
   ],
   "source": [
    "width"
   ]
  },
  {
   "cell_type": "code",
   "execution_count": 6,
   "id": "9e660272",
   "metadata": {},
   "outputs": [
    {
     "data": {
      "text/plain": [
       "1050"
      ]
     },
     "execution_count": 6,
     "metadata": {},
     "output_type": "execute_result"
    }
   ],
   "source": [
    "height"
   ]
  },
  {
   "cell_type": "markdown",
   "id": "962704c5",
   "metadata": {},
   "source": [
    "### 5. What method would you call to get Image object for a 100×100 image, excluding the lower-left quarter of it?"
   ]
  },
  {
   "cell_type": "markdown",
   "id": "b5185e58",
   "metadata": {},
   "source": [
    "- we can use Image.crop() or Image.resize()"
   ]
  },
  {
   "cell_type": "markdown",
   "id": "689762c6",
   "metadata": {},
   "source": [
    "### 6. After making changes to an Image object, how could you save it as an image file?"
   ]
  },
  {
   "cell_type": "markdown",
   "id": "1d1f5bff",
   "metadata": {},
   "source": [
    "- {image_var}.save('{name_you_want_to_assign}.{format}')\n",
    "- eg. White.save('black.png')"
   ]
  },
  {
   "cell_type": "markdown",
   "id": "bcbfac69",
   "metadata": {},
   "source": [
    "### 7. What module contains Pillow’s shape-drawing code?"
   ]
  },
  {
   "cell_type": "markdown",
   "id": "ac6594ea",
   "metadata": {},
   "source": [
    "- Pillow’s ImageDraw module"
   ]
  },
  {
   "cell_type": "markdown",
   "id": "b700725a",
   "metadata": {},
   "source": [
    "### 8. Image objects do not have drawing methods. What kind of object does? How do you get this kind of object?"
   ]
  },
  {
   "cell_type": "markdown",
   "id": "2e003cf2",
   "metadata": {},
   "source": [
    "- First, we import Image and ImageDraw. \n",
    "- Then we create or open a new image and store the Image object. \n",
    "- We pass the Image object to the ImageDraw.Draw() function to receive an ImageDraw object. - This object has several methods for drawing shapes and text onto an Image object."
   ]
  }
 ],
 "metadata": {
  "kernelspec": {
   "display_name": "Python 3 (ipykernel)",
   "language": "python",
   "name": "python3"
  },
  "language_info": {
   "codemirror_mode": {
    "name": "ipython",
    "version": 3
   },
   "file_extension": ".py",
   "mimetype": "text/x-python",
   "name": "python",
   "nbconvert_exporter": "python",
   "pygments_lexer": "ipython3",
   "version": "3.9.7"
  }
 },
 "nbformat": 4,
 "nbformat_minor": 5
}

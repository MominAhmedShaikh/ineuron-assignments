{
 "cells": [
  {
   "cell_type": "markdown",
   "id": "44d8d134",
   "metadata": {},
   "source": [
    "# Assignment 10 : Python basics"
   ]
  },
  {
   "cell_type": "code",
   "execution_count": null,
   "id": "c5eb2dc3",
   "metadata": {},
   "outputs": [],
   "source": [
    "import shutil \n",
    "import os"
   ]
  },
  {
   "cell_type": "markdown",
   "id": "11d55100",
   "metadata": {},
   "source": [
    "### 1. How do you distinguish between shutil.copy() and shutil.copytree()?"
   ]
  },
  {
   "cell_type": "markdown",
   "id": "32422b87",
   "metadata": {},
   "source": [
    "- shutil.copy() will copy a single file \n",
    "- shutil.copytree() will copy an entire folder and every folder and file contained in it."
   ]
  },
  {
   "cell_type": "markdown",
   "id": "2bbbe937",
   "metadata": {},
   "source": [
    "### 2. What function is used to rename files?"
   ]
  },
  {
   "cell_type": "markdown",
   "id": "b652efa7",
   "metadata": {},
   "source": [
    "- shutil.os.rename() & os.rename can be used to rename a file or directory in python."
   ]
  },
  {
   "cell_type": "markdown",
   "id": "997f6c08",
   "metadata": {},
   "source": [
    "### 3. What is the difference between the delete functions in the send2trash and shutil modules?"
   ]
  },
  {
   "cell_type": "markdown",
   "id": "3c129998",
   "metadata": {},
   "source": [
    "- In send2trash the file will be moved in trash while in shutil modules files will be deleted permenantaly."
   ]
  },
  {
   "cell_type": "markdown",
   "id": "1ed3e4f5",
   "metadata": {},
   "source": [
    "### 4. ZipFile objects have a close() method just like File objects’ close() method. What ZipFile method is equivalent to File objects’ open() method?"
   ]
  },
  {
   "cell_type": "markdown",
   "id": "f6c6696d",
   "metadata": {},
   "source": [
    "- zipfile.ZipFile() is equivalent to File objects’ open() method?"
   ]
  },
  {
   "cell_type": "markdown",
   "id": "b7ffb0dc",
   "metadata": {},
   "source": [
    "### 5. Create a programme that searches a folder tree for files with a certain file extension (such as .pdf or .jpg). Copy these files from whatever location they are in to a new folder."
   ]
  },
  {
   "cell_type": "code",
   "execution_count": null,
   "id": "6304f93a",
   "metadata": {},
   "outputs": [],
   "source": [
    "src = os.path.abspath()  #enter name of folder,dir\n",
    "des = os.path.abspath()  #enter name of destination folder where you want files to be copied.\n",
    "ext = ''                 # enter extension you want to search\n",
    "\n",
    "\n",
    "def copy_files(src,des,ext):\n",
    "    for foldername,subfolder,filenames in os.walk(src):\n",
    "        for file in filenames:\n",
    "            if file.endswith(ext):\n",
    "                file_name = os.path.join(src,foldername,file)\n",
    "                if os.path.exists(file_name):\n",
    "                    print(file_name)\n",
    "                    shutil.copy(file_name,des)"
   ]
  }
 ],
 "metadata": {
  "kernelspec": {
   "display_name": "Python 3 (ipykernel)",
   "language": "python",
   "name": "python3"
  },
  "language_info": {
   "codemirror_mode": {
    "name": "ipython",
    "version": 3
   },
   "file_extension": ".py",
   "mimetype": "text/x-python",
   "name": "python",
   "nbconvert_exporter": "python",
   "pygments_lexer": "ipython3",
   "version": "3.9.7"
  }
 },
 "nbformat": 4,
 "nbformat_minor": 5
}

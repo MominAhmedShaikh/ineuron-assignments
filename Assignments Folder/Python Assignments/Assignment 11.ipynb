{
 "cells": [
  {
   "cell_type": "markdown",
   "id": "85f592b8",
   "metadata": {},
   "source": [
    "# Assignment 11"
   ]
  },
  {
   "cell_type": "markdown",
   "id": "53fc47a1",
   "metadata": {},
   "source": [
    "### 1. Create an assert statement that throws an AssertionError if the variable spam is a negative integer."
   ]
  },
  {
   "cell_type": "code",
   "execution_count": 1,
   "id": "245d4e70",
   "metadata": {},
   "outputs": [],
   "source": [
    "spam = -11"
   ]
  },
  {
   "cell_type": "code",
   "execution_count": 2,
   "id": "7db45717",
   "metadata": {
    "scrolled": true
   },
   "outputs": [
    {
     "ename": "AssertionError",
     "evalue": "",
     "output_type": "error",
     "traceback": [
      "\u001b[0;31m---------------------------------------------------------------------------\u001b[0m",
      "\u001b[0;31mAssertionError\u001b[0m                            Traceback (most recent call last)",
      "\u001b[0;32m/var/folders/gd/rkx5__wn68d_wjmvgbst5dqc0000gn/T/ipykernel_1660/2239406149.py\u001b[0m in \u001b[0;36m<module>\u001b[0;34m\u001b[0m\n\u001b[0;32m----> 1\u001b[0;31m \u001b[0;32massert\u001b[0m \u001b[0mspam\u001b[0m \u001b[0;34m>=\u001b[0m \u001b[0;34m-\u001b[0m\u001b[0;36m1\u001b[0m\u001b[0;34m\u001b[0m\u001b[0;34m\u001b[0m\u001b[0m\n\u001b[0m",
      "\u001b[0;31mAssertionError\u001b[0m: "
     ]
    }
   ],
   "source": [
    "assert spam >= -1"
   ]
  },
  {
   "cell_type": "markdown",
   "id": "ef23c0ed",
   "metadata": {},
   "source": [
    "### 2. Write an assert statement that triggers an AssertionError if the variables eggs and bacon contain strings that are the same as each other, even if their cases are different (that is, &#39;hello&#39; and &#39;hello&#39; are considered the same, and &#39;goodbye&#39; and &#39;GOODbye&#39; are also considered the same)."
   ]
  },
  {
   "cell_type": "code",
   "execution_count": 3,
   "id": "c71b5338",
   "metadata": {},
   "outputs": [],
   "source": [
    "eggs = 'Momin'\n",
    "bacon = 'MOmin'"
   ]
  },
  {
   "cell_type": "code",
   "execution_count": 4,
   "id": "4058c94d",
   "metadata": {},
   "outputs": [
    {
     "ename": "AssertionError",
     "evalue": "",
     "output_type": "error",
     "traceback": [
      "\u001b[0;31m---------------------------------------------------------------------------\u001b[0m",
      "\u001b[0;31mAssertionError\u001b[0m                            Traceback (most recent call last)",
      "\u001b[0;32m/var/folders/gd/rkx5__wn68d_wjmvgbst5dqc0000gn/T/ipykernel_1660/3380124720.py\u001b[0m in \u001b[0;36m<module>\u001b[0;34m\u001b[0m\n\u001b[0;32m----> 1\u001b[0;31m \u001b[0;32massert\u001b[0m \u001b[0mbacon\u001b[0m\u001b[0;34m.\u001b[0m\u001b[0mcasefold\u001b[0m\u001b[0;34m(\u001b[0m\u001b[0;34m)\u001b[0m \u001b[0;34m!=\u001b[0m \u001b[0meggs\u001b[0m\u001b[0;34m.\u001b[0m\u001b[0mcasefold\u001b[0m\u001b[0;34m(\u001b[0m\u001b[0;34m)\u001b[0m\u001b[0;34m\u001b[0m\u001b[0;34m\u001b[0m\u001b[0m\n\u001b[0m",
      "\u001b[0;31mAssertionError\u001b[0m: "
     ]
    }
   ],
   "source": [
    "assert bacon.casefold() != eggs.casefold()"
   ]
  },
  {
   "cell_type": "markdown",
   "id": "2c4acb0b",
   "metadata": {},
   "source": [
    "### 3. Create an assert statement that throws an AssertionError every time."
   ]
  },
  {
   "cell_type": "code",
   "execution_count": 5,
   "id": "5e3d6260",
   "metadata": {},
   "outputs": [
    {
     "ename": "AssertionError",
     "evalue": "",
     "output_type": "error",
     "traceback": [
      "\u001b[0;31m---------------------------------------------------------------------------\u001b[0m",
      "\u001b[0;31mAssertionError\u001b[0m                            Traceback (most recent call last)",
      "\u001b[0;32m/var/folders/gd/rkx5__wn68d_wjmvgbst5dqc0000gn/T/ipykernel_1660/2103537015.py\u001b[0m in \u001b[0;36m<module>\u001b[0;34m\u001b[0m\n\u001b[0;32m----> 1\u001b[0;31m \u001b[0;32massert\u001b[0m \u001b[0;32mFalse\u001b[0m\u001b[0;34m\u001b[0m\u001b[0;34m\u001b[0m\u001b[0m\n\u001b[0m",
      "\u001b[0;31mAssertionError\u001b[0m: "
     ]
    }
   ],
   "source": [
    "assert False"
   ]
  },
  {
   "cell_type": "markdown",
   "id": "0eee0914",
   "metadata": {},
   "source": [
    "### 4. What are the two lines that must be present in your software in order to call logging.debug()?"
   ]
  },
  {
   "cell_type": "markdown",
   "id": "e7f59135",
   "metadata": {},
   "source": [
    "- 1) import logging\n",
    "- 2) File which will save all the debug messages when logging.debug is called."
   ]
  },
  {
   "cell_type": "markdown",
   "id": "ee36ddbe",
   "metadata": {},
   "source": [
    "### 5. What are the two lines that your program must have in order to have logging.debug() send a logging message to a file named programLog.txt?"
   ]
  },
  {
   "cell_type": "markdown",
   "id": "949e31f1",
   "metadata": {},
   "source": [
    "- 1) import logging\n",
    "- 2) File which will save all the debug messages when logging.debug is called.\n",
    "- eg . logging.basicConfig(filename = 'programLog.log',level = lg.DEBUG , format = '%(asctime)s %(message)s')"
   ]
  },
  {
   "cell_type": "markdown",
   "id": "c34e437c",
   "metadata": {},
   "source": [
    "### 6. What are the five levels of logging?"
   ]
  },
  {
   "cell_type": "markdown",
   "id": "06f3d7b7",
   "metadata": {},
   "source": [
    "- logging.INFO\n",
    "- logging.DEBUG\n",
    "- logging.CRITICAL\n",
    "- logging.WARNING\n",
    "- logging.ERROR"
   ]
  },
  {
   "cell_type": "markdown",
   "id": "a2a501ae",
   "metadata": {},
   "source": [
    "### 7. What line of code would you add to your software to disable all logging messages?"
   ]
  },
  {
   "cell_type": "markdown",
   "id": "46ba3372",
   "metadata": {},
   "source": [
    "- logging.disable( ) - with log you want to disable as an argument"
   ]
  },
  {
   "cell_type": "markdown",
   "id": "5d5bc627",
   "metadata": {},
   "source": [
    "### 8.Why is using logging messages better than using print() to display the same message?"
   ]
  },
  {
   "cell_type": "markdown",
   "id": "7436c445",
   "metadata": {},
   "source": [
    "- Both print() and logging (Stream handler) will display messages to user, but logging can also save those messages in separate file which can be reviewed later on to debug a software/programe."
   ]
  },
  {
   "cell_type": "markdown",
   "id": "442fb892",
   "metadata": {},
   "source": [
    "### 9. What are the differences between the Step Over, Step In, and Step Out buttons in the debugger?"
   ]
  },
  {
   "cell_type": "markdown",
   "id": "5a4fa610",
   "metadata": {},
   "source": [
    "- Step Over = Will execute whole function as one step, but runs step by step in loops.\n",
    "- Step In = Will execute code line by line.\n",
    "- Step Out = Will execute whole function and breaks after whole function is executed."
   ]
  },
  {
   "cell_type": "markdown",
   "id": "907c6eb2",
   "metadata": {},
   "source": [
    "### 10. After you click Continue, when will the debugger stop ?"
   ]
  },
  {
   "cell_type": "markdown",
   "id": "54fcc411",
   "metadata": {},
   "source": [
    "- Until it reaches breakpoint or end of programe."
   ]
  },
  {
   "cell_type": "markdown",
   "id": "7ba4490b",
   "metadata": {},
   "source": [
    "### 11. What is the concept of a breakpoint?"
   ]
  },
  {
   "cell_type": "markdown",
   "id": "543c4473",
   "metadata": {},
   "source": [
    "- With the help of breakpoint we can guide our programe where to stop."
   ]
  }
 ],
 "metadata": {
  "kernelspec": {
   "display_name": "Python 3 (ipykernel)",
   "language": "python",
   "name": "python3"
  },
  "language_info": {
   "codemirror_mode": {
    "name": "ipython",
    "version": 3
   },
   "file_extension": ".py",
   "mimetype": "text/x-python",
   "name": "python",
   "nbconvert_exporter": "python",
   "pygments_lexer": "ipython3",
   "version": "3.9.7"
  }
 },
 "nbformat": 4,
 "nbformat_minor": 5
}

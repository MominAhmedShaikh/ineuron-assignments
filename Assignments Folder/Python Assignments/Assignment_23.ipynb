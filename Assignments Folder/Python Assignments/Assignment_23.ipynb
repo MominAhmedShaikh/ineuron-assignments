{
 "cells": [
  {
   "cell_type": "markdown",
   "id": "932d7f57",
   "metadata": {},
   "source": [
    "# Assignment 23 : Python Basics"
   ]
  },
  {
   "cell_type": "markdown",
   "id": "aaaff57c",
   "metadata": {},
   "source": [
    "### 1. What is the result of the code, and why?\n",
    "&gt;&gt;&gt; def func(a, b=6, c=8):\n",
    "\n",
    "print(a, b, c)\n",
    "\n",
    "&gt;&gt;&gt; func(1, 2)"
   ]
  },
  {
   "cell_type": "code",
   "execution_count": 1,
   "id": "5c50589d",
   "metadata": {},
   "outputs": [
    {
     "name": "stdout",
     "output_type": "stream",
     "text": [
      "1 2 8\n"
     ]
    }
   ],
   "source": [
    "# The result of code is 1 2 8\n",
    "# The function takes three arguments i.e. a,b and c\n",
    "# arguments b and c has default value set to 6,8 respectively. Hence, when we provide two values to the function\n",
    "# It prints all three values.\n",
    "\n",
    "\n",
    "def func(a,b = 6 , c = 8):\n",
    "    print(a,b,c)\n",
    "func(1,2)"
   ]
  },
  {
   "cell_type": "markdown",
   "id": "27ca28ab",
   "metadata": {},
   "source": [
    "### 2. What is the result of this code, and why?\n",
    "&gt;&gt;&gt; def func(a, b, c=5):\n",
    "\n",
    "print(a, b, c)\n",
    "\n",
    "&gt;&gt;&gt; func(1, c=3, b=2)"
   ]
  },
  {
   "cell_type": "code",
   "execution_count": 2,
   "id": "ad357fd8",
   "metadata": {},
   "outputs": [
    {
     "name": "stdout",
     "output_type": "stream",
     "text": [
      "1 2 3\n"
     ]
    }
   ],
   "source": [
    "# The result of code is 1 2 8\n",
    "# The function takes three arguments i.e. a,b and c\n",
    "# Argument c has default value set to 5\n",
    "# It will use default parameters until we assign new parameter.\n",
    "# here the position of argument declaration has changed but that does not affects the outcome.\n",
    "# We are providing a = 1, b = 2 , c = 3\n",
    "\n",
    "def func(a,b,c = 5):\n",
    "    print(a,b,c)\n",
    "func(1,c = 3, b = 2)"
   ]
  },
  {
   "cell_type": "markdown",
   "id": "2e8edb8a",
   "metadata": {},
   "source": [
    "### 3. How about this code: what is its result, and why?\n",
    "&gt;&gt;&gt; def func(a, *pargs):\n",
    "\n",
    "print(a, pargs)\n",
    "\n",
    "&gt;&gt;&gt; func(1, 2, 3)"
   ]
  },
  {
   "cell_type": "code",
   "execution_count": 3,
   "id": "40085fc2",
   "metadata": {},
   "outputs": [
    {
     "name": "stdout",
     "output_type": "stream",
     "text": [
      "1 (2, 3)\n"
     ]
    }
   ],
   "source": [
    "# The result of the code is 1 (2,3)\n",
    "# *pargs or *any_name is known as variable lenght argument.\n",
    "# When we are not sure about the arguments to pass inside a function we use this. \n",
    "# It returns a tuple of arguments.\n",
    "\n",
    "\n",
    "\n",
    "def func(a,*pargs):\n",
    "    print(a,pargs)\n",
    "func(1,2,3)"
   ]
  },
  {
   "cell_type": "markdown",
   "id": "e6fb215e",
   "metadata": {},
   "source": [
    "### 4. What does this code print, and why?\n",
    "&gt;&gt;&gt; def func(a, **kargs):\n",
    "\n",
    "print(a, kargs)\n",
    "\n",
    "&gt;&gt;&gt; func(a=1, c=3, b=2)"
   ]
  },
  {
   "cell_type": "code",
   "execution_count": 4,
   "id": "83a20c84",
   "metadata": {},
   "outputs": [
    {
     "name": "stdout",
     "output_type": "stream",
     "text": [
      "1 {'c': 3, 'b': 2}\n"
     ]
    }
   ],
   "source": [
    "# The result of the function is 1 {'c': 3, 'b': 2}\n",
    "# **kwargs or **any_name is another type of varaible lenght argument.\n",
    "# It requires key and value pairs to passed on.\n",
    "# Also stands for keyword argument.\n",
    "\n",
    "def func(a,**kargs):\n",
    "    print(a,kargs)\n",
    "func(a = 1 , c = 3 , b = 2 )"
   ]
  },
  {
   "cell_type": "markdown",
   "id": "5cab022e",
   "metadata": {},
   "source": [
    "### 5. What gets printed by this, and explain?\n",
    "&gt;&gt;&gt; def func(a, b, c=8, d=5): \n",
    "\n",
    "print(a, b, c, d)\n",
    "\n",
    "&gt;&gt;&gt; func(1, *(5, 6))"
   ]
  },
  {
   "cell_type": "code",
   "execution_count": 5,
   "id": "74dc3582",
   "metadata": {},
   "outputs": [
    {
     "name": "stdout",
     "output_type": "stream",
     "text": [
      "1 5 6 5\n"
     ]
    }
   ],
   "source": [
    "# The function prints 1 5 6 5\n",
    "# In the context we passed 2 values to our function i.e 1 and *(5,6)\n",
    "# 1 will be assigned to a and returns 1.\n",
    "# *(5,6) will be expand and 5 is passed to b and 6 is passed to c. This is also known as starred expression.\n",
    "# Default value of d is 5. Hence, we may pass a value to it not, in this case no value is passed.\n",
    "\n",
    "\n",
    "def func(a, b, c = 8 , d = 5):\n",
    "    print(a,b,c,d)\n",
    "func(1,*(5,6))"
   ]
  },
  {
   "cell_type": "markdown",
   "id": "c9d3135b",
   "metadata": {},
   "source": [
    "### 6. what is the result of this, and explain?\n",
    "&gt;&gt;&gt; def func(a, b, c):  a = 2;  b[0] = &#39;x&#39;;  c[&#39;a&#39;] = &#39;y&#39;\n",
    "\n",
    "&gt;&gt;&gt; l=1; m=[1]; n={&#39;a&#39;:0}\n",
    "\n",
    "&gt;&gt;&gt; func(l, m, n)\n",
    "\n",
    "&gt;&gt;&gt; l, m, n"
   ]
  },
  {
   "cell_type": "code",
   "execution_count": 6,
   "id": "64943fb9",
   "metadata": {},
   "outputs": [
    {
     "data": {
      "text/plain": [
       "(1, ['x'], {'a': 'y'})"
      ]
     },
     "execution_count": 6,
     "metadata": {},
     "output_type": "execute_result"
    }
   ],
   "source": [
    "# The function returns (1, ['x'], {'a': 'y'})\n",
    "# Line is seperated by ; (semi colon) inside the function\n",
    "# There are three arguments that needs to be passed inside this function.\n",
    "# When l,m,n are provided as inputs to the function. its modifies the values of l,m,n and sets the value of l=2 ,m=['x'] and n={'a':'y'}\n",
    "\n",
    "def func(a, b, c): a = 2; b[0] = 'x'; c['a'] = 'y'\n",
    "l=1; m=[1]; n={'a':0}\n",
    "func(l, m, n)\n",
    "l,m,n"
   ]
  }
 ],
 "metadata": {
  "kernelspec": {
   "display_name": "Python 3 (ipykernel)",
   "language": "python",
   "name": "python3"
  },
  "language_info": {
   "codemirror_mode": {
    "name": "ipython",
    "version": 3
   },
   "file_extension": ".py",
   "mimetype": "text/x-python",
   "name": "python",
   "nbconvert_exporter": "python",
   "pygments_lexer": "ipython3",
   "version": "3.9.7"
  }
 },
 "nbformat": 4,
 "nbformat_minor": 5
}

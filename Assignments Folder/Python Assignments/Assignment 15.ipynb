{
 "cells": [
  {
   "cell_type": "markdown",
   "id": "0ee5ef29",
   "metadata": {},
   "source": [
    "# Assignment 15 : Python basics"
   ]
  },
  {
   "cell_type": "markdown",
   "id": "4c3cd11c",
   "metadata": {},
   "source": [
    "### 1. How many seconds are in an hour? Use the interactive interpreter as a calculator and multiply the number of seconds in a minute (60) by the number of minutes in an hour (also 60)."
   ]
  },
  {
   "cell_type": "code",
   "execution_count": 1,
   "id": "894fd845",
   "metadata": {},
   "outputs": [
    {
     "data": {
      "text/plain": [
       "3600"
      ]
     },
     "execution_count": 1,
     "metadata": {},
     "output_type": "execute_result"
    }
   ],
   "source": [
    "seconds_per_minute = 60\n",
    "minutes_per_hour = 60\n",
    "seconds_per_minute * minutes_per_hour"
   ]
  },
  {
   "cell_type": "markdown",
   "id": "bab2ea93",
   "metadata": {},
   "source": [
    "### 2. Assign the result from the previous task (seconds in an hour) to a variable called seconds_per_hour."
   ]
  },
  {
   "cell_type": "code",
   "execution_count": 2,
   "id": "6a39be38",
   "metadata": {},
   "outputs": [],
   "source": [
    "seconds_per_hour = seconds_per_minute * minutes_per_hour"
   ]
  },
  {
   "cell_type": "markdown",
   "id": "49ec08ef",
   "metadata": {},
   "source": [
    "### 3. How many seconds do you think there are in a day? Make use of the variables seconds per hour and minutes per hour."
   ]
  },
  {
   "cell_type": "code",
   "execution_count": 3,
   "id": "54b0171f",
   "metadata": {},
   "outputs": [
    {
     "data": {
      "text/plain": [
       "86400"
      ]
     },
     "execution_count": 3,
     "metadata": {},
     "output_type": "execute_result"
    }
   ],
   "source": [
    "hours_per_day = 24\n",
    "seconds_per_hour * hours_per_day"
   ]
  },
  {
   "cell_type": "markdown",
   "id": "672dd781",
   "metadata": {},
   "source": [
    "### 4. Calculate seconds per day again, but this time save the result in a variable called seconds_per_day"
   ]
  },
  {
   "cell_type": "code",
   "execution_count": 4,
   "id": "98db74be",
   "metadata": {},
   "outputs": [],
   "source": [
    "seconds_per_day = seconds_per_hour * hours_per_day"
   ]
  },
  {
   "cell_type": "markdown",
   "id": "7c70b938",
   "metadata": {},
   "source": [
    "### 5. Divide seconds_per_day by seconds_per_hour. Use floating-point (/) division."
   ]
  },
  {
   "cell_type": "code",
   "execution_count": 5,
   "id": "882dbdc4",
   "metadata": {},
   "outputs": [
    {
     "data": {
      "text/plain": [
       "24.0"
      ]
     },
     "execution_count": 5,
     "metadata": {},
     "output_type": "execute_result"
    }
   ],
   "source": [
    "seconds_per_day/seconds_per_hour"
   ]
  },
  {
   "cell_type": "markdown",
   "id": "a792f54b",
   "metadata": {},
   "source": [
    "### 6. Divide seconds_per_day by seconds_per_hour, using integer (//) division. Did this number agree with the floating-point value from the previous question, aside from the final .0?"
   ]
  },
  {
   "cell_type": "markdown",
   "id": "d9d5abba",
   "metadata": {},
   "source": [
    "- Yes it agrees from previous answer"
   ]
  },
  {
   "cell_type": "code",
   "execution_count": 6,
   "id": "f567af2c",
   "metadata": {},
   "outputs": [
    {
     "data": {
      "text/plain": [
       "24"
      ]
     },
     "execution_count": 6,
     "metadata": {},
     "output_type": "execute_result"
    }
   ],
   "source": [
    "seconds_per_day // seconds_per_hour"
   ]
  },
  {
   "cell_type": "markdown",
   "id": "56da4b4f",
   "metadata": {},
   "source": [
    "### 7. Write a generator, genPrimes, that returns the sequence of prime numbers on successive calls to its next() method: 2, 3, 5, 7, 11, ..."
   ]
  },
  {
   "cell_type": "code",
   "execution_count": 7,
   "id": "f3667825",
   "metadata": {},
   "outputs": [],
   "source": [
    "def genPrime():\n",
    "    a = []\n",
    "    last = 1\n",
    "    while True:\n",
    "        last += 1\n",
    "        if last % 1==0:\n",
    "                if last==1:\n",
    "                    a.append(last)\n",
    "                elif last%2 == 0:\n",
    "                    if last==2:\n",
    "                        a.append(last)\n",
    "                        yield a[-1]\n",
    "                elif last%3 == 0:\n",
    "                    if last==3:\n",
    "                        a.append(last)\n",
    "                        yield a[-1]\n",
    "                    else:\n",
    "                        a.append(last)\n",
    "                else:\n",
    "                    a.append(last)\n",
    "                    yield a[-1]"
   ]
  },
  {
   "cell_type": "code",
   "execution_count": 8,
   "id": "a3843a78",
   "metadata": {},
   "outputs": [],
   "source": [
    "b = genPrime()"
   ]
  },
  {
   "cell_type": "code",
   "execution_count": 9,
   "id": "bc903ae6",
   "metadata": {},
   "outputs": [
    {
     "data": {
      "text/plain": [
       "2"
      ]
     },
     "execution_count": 9,
     "metadata": {},
     "output_type": "execute_result"
    }
   ],
   "source": [
    "next(b)"
   ]
  }
 ],
 "metadata": {
  "kernelspec": {
   "display_name": "Python 3 (ipykernel)",
   "language": "python",
   "name": "python3"
  },
  "language_info": {
   "codemirror_mode": {
    "name": "ipython",
    "version": 3
   },
   "file_extension": ".py",
   "mimetype": "text/x-python",
   "name": "python",
   "nbconvert_exporter": "python",
   "pygments_lexer": "ipython3",
   "version": "3.9.7"
  }
 },
 "nbformat": 4,
 "nbformat_minor": 5
}

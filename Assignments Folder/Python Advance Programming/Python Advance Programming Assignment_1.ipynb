{
 "cells": [
  {
   "cell_type": "markdown",
   "id": "cfe2cb4f",
   "metadata": {},
   "source": [
    "# Python Advance Programming Assignment : 1"
   ]
  },
  {
   "cell_type": "markdown",
   "id": "a1fbebda",
   "metadata": {},
   "source": [
    "### 1.Write a function that takes a list of lists and returns the value of all of the symbols in it, where each symbol adds or takes something from the total score. Symbol values:<br>\n",
    "`# = 5, O = 3, X = 1, ! = -1, !! = -3 !!! = -5`<br>\n",
    "A list of lists containing 2 #s, a O, and a !!! would equal (0 + 5 + 5 + 3 - 5) 8. If the final score is negative, return 0 (e.g. 3 #s, 3 !!s, 2 !!!s and a X would be (0 + 5 + 5 + 5 - 3 - 3 - 3 - 5 - 5 + 1) -3, so return 0.<br>\n",
    "**Examples:**<br>\n",
    "`check_score([[\"#\", \"!\"],[\"!!\", \"X\"]]) ➞ 2`\n",
    "`check_score([[\"!!!\", \"O\", \"!\"],[\"X\", \"#\", \"!!!\"],[\"!!\", \"X\", \"O\"]]) ➞ 0`"
   ]
  },
  {
   "cell_type": "code",
   "execution_count": 2,
   "id": "a6f391e8",
   "metadata": {},
   "outputs": [],
   "source": [
    "def check_score(x:list)->int:\n",
    "    counter = 0\n",
    "    dic = {'#' : 5, 0 : 3 , 'X' : 1, '!' : -1 , '!!' : -3 , '!!!' : -5}\n",
    "    for i in range(len(x)):\n",
    "        for j in x[i]:\n",
    "            if j in dic.keys():\n",
    "                counter += dic[j]\n",
    "    if counter < 0:\n",
    "        return print(f'check_score({x}) ➞ {0}')\n",
    "    else:\n",
    "        return print(f'check_score({x}) ➞ {counter}')"
   ]
  },
  {
   "cell_type": "code",
   "execution_count": 3,
   "id": "5915febd",
   "metadata": {},
   "outputs": [
    {
     "name": "stdout",
     "output_type": "stream",
     "text": [
      "check_score([['#', '!'], ['!!', 'X']]) ➞ 2\n",
      "check_score([['!!!', 'O', '!'], ['X', '#', '!!!'], ['!!', 'X', 'O']]) ➞ 0\n"
     ]
    }
   ],
   "source": [
    "check_score([[\"#\", \"!\"],[\"!!\", \"X\"]])\n",
    "check_score([[\"!!!\", \"O\", \"!\"],[\"X\", \"#\", \"!!!\"],[\"!!\", \"X\", \"O\"]])"
   ]
  },
  {
   "cell_type": "markdown",
   "id": "0b8bf249",
   "metadata": {},
   "source": [
    "### 2.Create a function that takes a variable number of arguments, each argument representing the number of items in a group, and returns the number of permutations (combinations) of items that you could get by taking one item from each group.<br>\n",
    "**Examples:**<br>\n",
    "`combinations(2, 3) ➞ 6`<br>\n",
    "`combinations(3, 7, 4) ➞ 84`<br>\n",
    "`combinations(2, 3, 4, 5) ➞ 120`<br>"
   ]
  },
  {
   "cell_type": "code",
   "execution_count": 4,
   "id": "bd6a46a7",
   "metadata": {},
   "outputs": [
    {
     "name": "stdout",
     "output_type": "stream",
     "text": [
      "combinations(2, 3) ➞ 6\n",
      "combinations(3, 7, 4) ➞ 84\n",
      "combinations(2, 3, 4, 5) ➞ 120\n"
     ]
    }
   ],
   "source": [
    "# Method 1\n",
    "\n",
    "def combinations(*args):\n",
    "    out_num = 1\n",
    "    for ele in args:\n",
    "        out_num *=ele\n",
    "    print(f'combinations{args} ➞ {out_num}')\n",
    "\n",
    "combinations(2, 3)\n",
    "combinations(3, 7, 4)\n",
    "combinations(2, 3, 4, 5)"
   ]
  },
  {
   "cell_type": "code",
   "execution_count": 5,
   "id": "cfd4c6cd",
   "metadata": {},
   "outputs": [
    {
     "name": "stdout",
     "output_type": "stream",
     "text": [
      "combinations(2, 3) ➞ 6\n",
      "combinations(3, 7, 4) ➞ 84\n",
      "combinations(2, 3, 4, 5) ➞ 120\n"
     ]
    }
   ],
   "source": [
    "# Method 2\n",
    "\n",
    "from functools import reduce\n",
    "def combinations(*args):\n",
    "  # Use the reduce function to combine the values in the args tuple\n",
    "  return print(f'combinations{args} ➞ {reduce(lambda x, y: x * y, args)}')\n",
    "\n",
    "combinations(2, 3)\n",
    "combinations(3, 7, 4)\n",
    "combinations(2, 3, 4, 5)"
   ]
  },
  {
   "cell_type": "markdown",
   "id": "9d94facb",
   "metadata": {},
   "source": [
    "### 3.Create a function that takes a string as an argument and returns the Morse code equivalent.<br>\n",
    "**Examples:**<br>\n",
    "`encode_morse(\"EDABBIT CHALLENGE\") ➞ \". -.. .- -... -... .. - -.-. .... .- .-.. .-... -. --. .\"`<br>\n",
    "`encode_morse(\"HELP ME !\") ➞ \".... . .-.. .--. -- . -.-.--\"`<br>\n",
    "This dictionary can be used for coding:<br>\n",
    "`char_to_dots = { 'A': '.-', 'B': '-...', 'C': '-.-.', 'D': '-..', 'E': '.', 'F': '..-.', 'G': '--.', 'H': '....', 'I': '..', 'J': '.---', 'K': '-.-', 'L': '.-..', 'M': '--', 'N': '-.', 'O': '---', 'P': '.--.', 'Q': '--.-', 'R': '.-.', 'S': '...', 'T': '-', 'U': '..-', 'V': '...-', 'W': '.--', 'X': '-..-', 'Y': '-.--', 'Z': '--..', ' ': ' ', '0': '-----', '1': '.----', '2': '..---', '3': '...--', '4': '....-', '5': '.....', '6': '-....', '7': '--...', '8': '---..', '9': '----.', '&': '.-...', \"'\": '.----.', '@': '.--.-.', ')': '-.--.-', '(': '-.--.', ':': '---...', ',': '--..--', '=': '-...-', '!': '-.-.--', '.': '.-.-.-', '-': '-....-', '+': '.-.-.', '\"': '.-..-.', '?': '..--..', '/': '-..-.' }`"
   ]
  },
  {
   "cell_type": "code",
   "execution_count": 9,
   "id": "e3d1571c",
   "metadata": {},
   "outputs": [
    {
     "name": "stdout",
     "output_type": "stream",
     "text": [
      "encode_morse(EDABBIT CHALLENGE) ➞  . -.. .- -... -... .. -   -.-. .... .- .-.. .-.. . -. --. .\n",
      "encode_morse(HELP ME !) ➞  .... . .-.. .--.   -- .   -.-.--\n"
     ]
    }
   ],
   "source": [
    "def encode_morse(in_string):\n",
    "    out_string = ''\n",
    "    global char_to_dots\n",
    "    char_to_dots = {\n",
    "            'A': '.-', 'B': '-...', 'C': '-.-.', 'D': '-..', 'E': '.', 'F': '..-.',\n",
    "            'G': '--.', 'H': '....', 'I': '..', 'J': '.---', 'K': '-.-', 'L': '.-..',\n",
    "            'M': '--', 'N': '-.', 'O': '---', 'P': '.--.', 'Q': '--.-', 'R': '.-.',\n",
    "            'S': '...', 'T': '-', 'U': '..-', 'V': '...-', 'W': '.--', 'X': '-..-',\n",
    "            'Y': '-.--', 'Z': '--..', ' ': ' ', '0': '-----',\n",
    "            '1': '.----', '2': '..---', '3': '...--', '4': '....-', '5': '.....',\n",
    "            '6': '-....', '7': '--...', '8': '---..', '9': '----.',\n",
    "            '&': '.-...', \"'\": '.----.', '@': '.--.-.', ')': '-.--.-', '(': '-.--.',\n",
    "            ':': '---...', ',': '--..--', '=': '-...-', '!': '-.-.--', '.': '.-.-.-',\n",
    "            '-': '-....-', '+': '.-.-.', '\"': '.-..-.', '?': '..--..', '/': '-..-.'\n",
    "        }\n",
    "    out_string = out_string.join(' ' +char_to_dots[i] for i in in_string)\n",
    "    print(f'encode_morse({in_string}) ➞ {out_string}')\n",
    "    \n",
    "encode_morse(\"EDABBIT CHALLENGE\")\n",
    "encode_morse(\"HELP ME !\")"
   ]
  },
  {
   "cell_type": "code",
   "execution_count": 10,
   "id": "c8942716",
   "metadata": {},
   "outputs": [
    {
     "data": {
      "text/plain": [
       "'. -.. .- -... -... .. -   -.-. .... .- .-.. .-.. . -. --. .'"
      ]
     },
     "execution_count": 10,
     "metadata": {},
     "output_type": "execute_result"
    }
   ],
   "source": [
    "# Method 2\n",
    "text = \"EDABBIT CHALLENGE\"\n",
    "func = lambda c: char_to_dots[c]\n",
    "' '.join(map(func, text))"
   ]
  },
  {
   "cell_type": "markdown",
   "id": "a8a2d32b",
   "metadata": {},
   "source": [
    "### 4.Write a function that takes a number and returns True if it's a prime; False otherwise. The number can be 2^64-1 (2 to the power of 63, not XOR). With the standard technique it would be O(2^64-1), which is much too large for the 10 second time limit.<br>\n",
    "**Examples:**<br>\n",
    "`prime(7) ➞ True`<br>\n",
    "`prime(56963) ➞ True`<br>\n",
    "`prime(5151512515524) ➞ False`<br>"
   ]
  },
  {
   "cell_type": "code",
   "execution_count": 11,
   "id": "b934ee75",
   "metadata": {},
   "outputs": [
    {
     "name": "stdout",
     "output_type": "stream",
     "text": [
      "prime(7) ➞ True\n",
      "prime(56963) ➞ True\n",
      "prime(5151512515524) ➞ False\n"
     ]
    }
   ],
   "source": [
    "def prime(in_num):\n",
    "    out_bool = False\n",
    "    if ((in_num-1)%6 == 0) or ((in_num+1)%6 == 0):\n",
    "        out_bool = True\n",
    "    print(f'prime({in_num}) ➞ {out_bool}')\n",
    "\n",
    "prime(7)\n",
    "prime(56963)\n",
    "prime(5151512515524)"
   ]
  },
  {
   "cell_type": "code",
   "execution_count": 12,
   "id": "45f9af03",
   "metadata": {},
   "outputs": [
    {
     "name": "stdout",
     "output_type": "stream",
     "text": [
      "True\n",
      "True\n",
      "False\n"
     ]
    }
   ],
   "source": [
    "import math\n",
    "\n",
    "prime = lambda x: all(x % i != 0 for i in range(2, int(math.sqrt(x)) + 1))\n",
    "\n",
    "print(prime(1))\n",
    "print(prime(56963))\n",
    "print(prime(5151512515524))"
   ]
  },
  {
   "cell_type": "markdown",
   "id": "83dcd274",
   "metadata": {},
   "source": [
    "### 5.Create a function that converts a word to a bitstring and then to a boolean list based on the following criteria:<br>\n",
    "\n",
    "1. Locate the position of the letter in the English alphabet (from 1 to 26).\n",
    "2. Odd positions will be represented as 1 and 0 otherwise.\n",
    "3. Convert the represented positions to boolean values, 1 for True and 0 for False.\n",
    "4. Store the conversions into an array.<br>\n",
    "\n",
    "**Examples:**<br>\n",
    "`to_boolean_list(\"deep\") ➞ [False, True, True, False]`<br>\n",
    "`# deep converts to 0110`<br>\n",
    "`# d is the 4th alphabet - 0`<br>\n",
    "`# e is the 5th alphabet - 1`<br>\n",
    "`# e is the 5th alphabet - 1`<br>\n",
    "`# p is the 16th alphabet - 0`<br>\n",
    "`to_boolean_list(\"loves\") ➞ [False, True, False, True, True]`<br>\n",
    "`to_boolean_list(\"tesh\") ➞ [False, True, True, False]`<br>"
   ]
  }
 ],
 "metadata": {
  "kernelspec": {
   "display_name": "Python 3.8.10 64-bit",
   "language": "python",
   "name": "python3"
  },
  "language_info": {
   "codemirror_mode": {
    "name": "ipython",
    "version": 3
   },
   "file_extension": ".py",
   "mimetype": "text/x-python",
   "name": "python",
   "nbconvert_exporter": "python",
   "pygments_lexer": "ipython3",
   "version": "3.8.10"
  },
  "vscode": {
   "interpreter": {
    "hash": "e7370f93d1d0cde622a1f8e1c04877d8463912d04d973331ad4851f04de6915a"
   }
  }
 },
 "nbformat": 4,
 "nbformat_minor": 5
}

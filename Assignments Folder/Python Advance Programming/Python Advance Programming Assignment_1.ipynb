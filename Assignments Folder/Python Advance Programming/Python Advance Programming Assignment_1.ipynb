{
 "cells": [
  {
   "cell_type": "markdown",
   "id": "cfe2cb4f",
   "metadata": {},
   "source": [
    "# Python Advance Programming Assignment : 1"
   ]
  },
  {
   "cell_type": "markdown",
   "id": "a1fbebda",
   "metadata": {},
   "source": [
    "### 1.Write a function that takes a list of lists and returns the value of all of the symbols in it, where each symbol adds or takes something from the total score. Symbol values:<br>\n",
    "`# = 5, O = 3, X = 1, ! = -1, !! = -3 !!! = -5`<br>\n",
    "A list of lists containing 2 #s, a O, and a !!! would equal (0 + 5 + 5 + 3 - 5) 8. If the final score is negative, return 0 (e.g. 3 #s, 3 !!s, 2 !!!s and a X would be (0 + 5 + 5 + 5 - 3 - 3 - 3 - 5 - 5 + 1) -3, so return 0.<br>\n",
    "**Examples:**<br>\n",
    "`check_score([[\"#\", \"!\"],[\"!!\", \"X\"]]) ➞ 2`\n",
    "`check_score([[\"!!!\", \"O\", \"!\"],[\"X\", \"#\", \"!!!\"],[\"!!\", \"X\", \"O\"]]) ➞ 0`"
   ]
  },
  {
   "cell_type": "markdown",
   "id": "0b8bf249",
   "metadata": {},
   "source": [
    "### 2.Create a function that takes a variable number of arguments, each argument representing the number of items in a group, and returns the number of permutations (combinations) of items that you could get by taking one item from each group.<br>\n",
    "**Examples:**<br>\n",
    "`combinations(2, 3) ➞ 6`<br>\n",
    "`combinations(3, 7, 4) ➞ 84`<br>\n",
    "`combinations(2, 3, 4, 5) ➞ 120`<br>"
   ]
  },
  {
   "cell_type": "markdown",
   "id": "9d94facb",
   "metadata": {},
   "source": [
    "### 3.Create a function that takes a string as an argument and returns the Morse code equivalent.<br>\n",
    "**Examples:**<br>\n",
    "`encode_morse(\"EDABBIT CHALLENGE\") ➞ \". -.. .- -... -... .. - -.-. .... .- .-.. .-... -. --. .\"`<br>\n",
    "`encode_morse(\"HELP ME !\") ➞ \".... . .-.. .--. -- . -.-.--\"`<br>\n",
    "This dictionary can be used for coding:<br>\n",
    "`char_to_dots = { 'A': '.-', 'B': '-...', 'C': '-.-.', 'D': '-..', 'E': '.', 'F': '..-.', 'G': '--.', 'H': '....', 'I': '..', 'J': '.---', 'K': '-.-', 'L': '.-..', 'M': '--', 'N': '-.', 'O': '---', 'P': '.--.', 'Q': '--.-', 'R': '.-.', 'S': '...', 'T': '-', 'U': '..-', 'V': '...-', 'W': '.--', 'X': '-..-', 'Y': '-.--', 'Z': '--..', ' ': ' ', '0': '-----', '1': '.----', '2': '..---', '3': '...--', '4': '....-', '5': '.....', '6': '-....', '7': '--...', '8': '---..', '9': '----.', '&': '.-...', \"'\": '.----.', '@': '.--.-.', ')': '-.--.-', '(': '-.--.', ':': '---...', ',': '--..--', '=': '-...-', '!': '-.-.--', '.': '.-.-.-', '-': '-....-', '+': '.-.-.', '\"': '.-..-.', '?': '..--..', '/': '-..-.' }`"
   ]
  },
  {
   "cell_type": "markdown",
   "id": "a8a2d32b",
   "metadata": {},
   "source": [
    "### 4.Write a function that takes a number and returns True if it's a prime; False otherwise. The number can be 2^64-1 (2 to the power of 63, not XOR). With the standard technique it would be O(2^64-1), which is much too large for the 10 second time limit.<br>\n",
    "**Examples:**<br>\n",
    "`prime(7) ➞ True`<br>\n",
    "`prime(56963) ➞ True`<br>\n",
    "`prime(5151512515524) ➞ False`<br>"
   ]
  },
  {
   "cell_type": "markdown",
   "id": "83dcd274",
   "metadata": {},
   "source": [
    "### 5.Create a function that converts a word to a bitstring and then to a boolean list based on the following criteria:<br>\n",
    "\n",
    "1. Locate the position of the letter in the English alphabet (from 1 to 26).\n",
    "2. Odd positions will be represented as 1 and 0 otherwise.\n",
    "3. Convert the represented positions to boolean values, 1 for True and 0 for False.\n",
    "4. Store the conversions into an array.<br>\n",
    "\n",
    "**Examples:**<br>\n",
    "`to_boolean_list(\"deep\") ➞ [False, True, True, False]`<br>\n",
    "`# deep converts to 0110`<br>\n",
    "`# d is the 4th alphabet - 0`<br>\n",
    "`# e is the 5th alphabet - 1`<br>\n",
    "`# e is the 5th alphabet - 1`<br>\n",
    "`# p is the 16th alphabet - 0`<br>\n",
    "`to_boolean_list(\"loves\") ➞ [False, True, False, True, True]`<br>\n",
    "`to_boolean_list(\"tesh\") ➞ [False, True, True, False]`<br>"
   ]
  }
 ],
 "metadata": {
  "kernelspec": {
   "display_name": "Python 3 (ipykernel)",
   "language": "python",
   "name": "python3"
  },
  "language_info": {
   "codemirror_mode": {
    "name": "ipython",
    "version": 3
   },
   "file_extension": ".py",
   "mimetype": "text/x-python",
   "name": "python",
   "nbconvert_exporter": "python",
   "pygments_lexer": "ipython3",
   "version": "3.9.15"
  }
 },
 "nbformat": 4,
 "nbformat_minor": 5
}

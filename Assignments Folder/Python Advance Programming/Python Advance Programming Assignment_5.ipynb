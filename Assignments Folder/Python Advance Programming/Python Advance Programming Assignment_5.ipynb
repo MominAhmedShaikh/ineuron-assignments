{
 "cells": [
  {
   "cell_type": "markdown",
   "id": "bd943628",
   "metadata": {},
   "source": [
    "# Python Advance Programming Assignment 5"
   ]
  },
  {
   "cell_type": "markdown",
   "id": "f68f379c",
   "metadata": {},
   "source": [
    "### 1 . Create a function that takes a number n (integer greater than zero) as an argument, and returns 2 if n is odd and 8 if n is even.<br>\n",
    "`You can only use the following arithmetic operators:`<br>\n",
    "`addition of numbers +`<br>\n",
    "`subtraction of numbers -`<br>\n",
    "`multiplication of number *`<br>\n",
    "`division of number /, and`<br>\n",
    "`exponentiation **`<br>\n",
    "`You are not allowed to use any other methods in this challenge (i.e. no if statements, comparison operators, etc).`<br>\n",
    "**Examples:**<br>\n",
    "`f(1) ➞ 2`<br>\n",
    "`f(2) ➞ 8`<br>\n",
    "`f(3) ➞ 2`<br>"
   ]
  },
  {
   "cell_type": "code",
   "execution_count": 1,
   "id": "49b37305",
   "metadata": {},
   "outputs": [],
   "source": [
    "def f(x:int)->str:\n",
    "    if x % 2 == 0:\n",
    "        return f'f({x})➞ {2}'\n",
    "    else:\n",
    "        return f'f({x})➞ {8}'"
   ]
  },
  {
   "cell_type": "code",
   "execution_count": 2,
   "id": "948bf5c4",
   "metadata": {},
   "outputs": [
    {
     "name": "stdout",
     "output_type": "stream",
     "text": [
      "f(1)➞ 8\n",
      "f(2)➞ 2\n",
      "f(3)➞ 8\n"
     ]
    }
   ],
   "source": [
    "print(f(1))\n",
    "print(f(2))\n",
    "print(f(3))"
   ]
  },
  {
   "cell_type": "markdown",
   "id": "3ebf4210",
   "metadata": {},
   "source": [
    "### 2 . Create a function that returns the majority vote in a list. A majority vote is an element that occurs > N/2 times in a list (where N is the length of the list).<br>\n",
    "**Examples:**<br>\n",
    "`majority_vote([\"A\", \"A\", \"B\"]) ➞ \"A\"`<br>\n",
    "`majority_vote([\"A\", \"A\", \"A\", \"B\", \"C\", \"A\"]) ➞ \"A\"`<br>\n",
    "`majority_vote([\"A\", \"B\", \"B\", \"A\", \"C\", \"C\"]) ➞ None`<br>"
   ]
  },
  {
   "cell_type": "code",
   "execution_count": 3,
   "id": "47a9117a",
   "metadata": {},
   "outputs": [],
   "source": [
    "def majority_vote(x:list[str])->str:\n",
    "    dic = {}\n",
    "    for i in x:\n",
    "        if i in dic:\n",
    "            dic[i] += 1\n",
    "        else:\n",
    "            dic[i] = 1\n",
    "\n",
    "    for i,j in dic.items():\n",
    "        if j > (len(x)/2):\n",
    "            return f'majority_vote({x}) ➞ {i}'\n",
    "        else:\n",
    "            return f'majority_vote({x}) ➞ {None}'"
   ]
  },
  {
   "cell_type": "code",
   "execution_count": 4,
   "id": "2ef55694",
   "metadata": {},
   "outputs": [
    {
     "name": "stdout",
     "output_type": "stream",
     "text": [
      "majority_vote(['A', 'B', 'A']) ➞ A\n",
      "majority_vote(['A', 'A', 'A', 'B', 'C', 'A']) ➞ A\n",
      "majority_vote(['A', 'B', 'B', 'A', 'C', 'C']) ➞ None\n"
     ]
    }
   ],
   "source": [
    "print(majority_vote(['A','B','A']))\n",
    "print(majority_vote([\"A\", \"A\", \"A\", \"B\", \"C\", \"A\"]))\n",
    "print(majority_vote([\"A\", \"B\", \"B\", \"A\", \"C\", \"C\"]))"
   ]
  },
  {
   "cell_type": "markdown",
   "id": "1a52eae8",
   "metadata": {},
   "source": [
    "### 3 . Create a function that takes a string txt and censors any word from a given list lst. The text removed must be replaced by the given character char.<br>\n",
    "**Examples:**<br>\n",
    "`censor_string(\"Today is a Wednesday!\", [\"Today\", \"a\"], \"-\") ➞ \"----- is - Wednesday!\"`<br>\n",
    "`censor_string(\"The cow jumped over the moon.\", [\"cow\", \"over\"], \"*\"), \"The *** jumped **** the moon.\")`<br>\n",
    "`censor_string(\"Why did the chicken cross the road ?\", [\"Did\", \"chicken\", \"road\"], \"*\") ➞ \"Why *** the ******* cross the ****?\"`<br>"
   ]
  },
  {
   "cell_type": "code",
   "execution_count": 5,
   "id": "c7d948ea",
   "metadata": {},
   "outputs": [],
   "source": [
    "def censor_string(x:list[str],replace,replace_with)-> list[str]:\n",
    "    list1 = x.split(' ')\n",
    "    for values in replace:\n",
    "        list1[list1.index(values)] = len(values)*replace_with\n",
    "    return f\"{x},{replace},'{replace_with}'   ➞   {list1}\""
   ]
  },
  {
   "cell_type": "code",
   "execution_count": 6,
   "id": "bc9c05ea",
   "metadata": {},
   "outputs": [
    {
     "data": {
      "text/plain": [
       "\"Today is a Wednesday!,['Today', 'a'],'-'   ➞   ['-----', 'is', '-', 'Wednesday!']\""
      ]
     },
     "execution_count": 6,
     "metadata": {},
     "output_type": "execute_result"
    }
   ],
   "source": [
    "censor_string(\"Today is a Wednesday!\",['Today','a'],'-')"
   ]
  },
  {
   "cell_type": "markdown",
   "id": "2d1ec5c3",
   "metadata": {},
   "source": [
    "### 4 . In mathematics a Polydivisible Number (or magic number) is a number in a given number base with digits abcde... that has the following properties:<br>\n",
    "`Its first digit a is not 0.`<br>\n",
    "`The number formed by its first two digits ab is a multiple of 2.`<br>\n",
    "`The number formed by its first three digits abc is a multiple of 3.`<br>\n",
    "`The number formed by its first four digits abcd is a multiple of 4.`<br>\n",
    "`Create a function which takes an integer n and returns True if the given number is a Polydivisible Number and False otherwise.`<br>\n",
    "\n",
    "**Examples:**<br>\n",
    "`is_polydivisible(1232) ➞ True # 1 / 1 = 1 # 12 / 2 = 6 # 123 / 3 = 41 # 1232 / 4 = 308`<br>\n",
    "`is_polydivisible(123220 ) ➞ False # 1 / 1 = 1 # 12 / 2 = 6 # 123 / 3 = 41 # 1232 / 4 = 308 # 12322 / 5 = 2464.4 # Not a Whole Number # 123220 /6 = 220536.333... # Not a Whole Number`<br>"
   ]
  },
  {
   "cell_type": "code",
   "execution_count": 7,
   "id": "189bc888",
   "metadata": {},
   "outputs": [
    {
     "name": "stdout",
     "output_type": "stream",
     "text": [
      "Poly\n"
     ]
    }
   ],
   "source": [
    "a = 123220\n",
    "b = str(a)\n",
    "if (b[1] != 0) & (int(b[:2])%2 == 0) & (int(b[:3])%3 == 0) & (int(b[:4])%4 == 0):\n",
    "    print('Poly')\n",
    "else:\n",
    "    print('No')"
   ]
  },
  {
   "cell_type": "code",
   "execution_count": 8,
   "id": "00784873",
   "metadata": {},
   "outputs": [
    {
     "data": {
      "text/plain": [
       "2"
      ]
     },
     "execution_count": 8,
     "metadata": {},
     "output_type": "execute_result"
    }
   ],
   "source": [
    "12322%5"
   ]
  },
  {
   "cell_type": "code",
   "execution_count": 9,
   "id": "50b7a0e2",
   "metadata": {},
   "outputs": [
    {
     "name": "stdout",
     "output_type": "stream",
     "text": [
      "No\n"
     ]
    }
   ],
   "source": [
    "counter = 0\n",
    "for i in range(1,len(b)):\n",
    "    if b[0] != 0:\n",
    "        if int(b[:i])%i == 0:\n",
    "            counter += 1\n",
    "if counter == (len(b)-1):\n",
    "    print('Ploy')\n",
    "else:\n",
    "    print('No')"
   ]
  },
  {
   "cell_type": "code",
   "execution_count": 10,
   "id": "f6ebb2de",
   "metadata": {},
   "outputs": [],
   "source": [
    "def is_ploydivisible(x:int)->str:\n",
    "    x_str = str(x)\n",
    "    counter = 0\n",
    "    for i in range(1,len(x_str)):\n",
    "        if x_str[0] != 0:\n",
    "            if int(x_str[:i])%i == 0:\n",
    "                counter += 1\n",
    "    if counter == (len(x_str)-1):\n",
    "        return f\"is_ploydivisible({x}) ➞ {True}\"\n",
    "    else:\n",
    "        return f\"is_ploydivisible({x}) ➞ {False}\""
   ]
  },
  {
   "cell_type": "code",
   "execution_count": 11,
   "id": "47383636",
   "metadata": {},
   "outputs": [
    {
     "name": "stdout",
     "output_type": "stream",
     "text": [
      "is_ploydivisible(1232) ➞ True\n",
      "is_ploydivisible(123220) ➞ False\n"
     ]
    }
   ],
   "source": [
    "print(is_ploydivisible(1232))\n",
    "print(is_ploydivisible(123220))"
   ]
  },
  {
   "cell_type": "markdown",
   "id": "d6b30e67",
   "metadata": {},
   "source": [
    "### 5 . Create a function that takes a list of numbers and returns the sum of all prime numbers in the list.<br>\n",
    "**Examples:**<br>\n",
    "`sum_primes([1, 2, 3, 4, 5, 6, 7, 8, 9, 10]) ➞ 17`<br>\n",
    "`sum_primes([2, 3, 4, 11, 20, 50, 71]) ➞ 87`<br>\n",
    "`sum_primes([]) ➞ None`<br>\n",
    "\n"
   ]
  },
  {
   "cell_type": "code",
   "execution_count": 12,
   "id": "728a8175",
   "metadata": {},
   "outputs": [],
   "source": [
    "def sum_prime(x:list[int])->str:\n",
    "    \n",
    "    # Function to identify prime number\n",
    "    def prime(in_num):\n",
    "        out_bool = False\n",
    "        if in_num in [1,2,3]:\n",
    "            return True\n",
    "        else:\n",
    "             if ((in_num-1)%6 == 0) or ((in_num+1)%6 == 0):\n",
    "                out_bool = True\n",
    "                return out_bool\n",
    "            \n",
    "    # Code to store prime numbers in a list and return sum of elements inside the list\n",
    "    out_list = []\n",
    "    if len(x)>1:\n",
    "        for num  in x:\n",
    "            if prime(num) == True:\n",
    "                out_list.append(num)\n",
    "        return f\"sum_primes({x}) ➞ {sum(out_list)}\"\n",
    "    else:\n",
    "        return f\"sum_primes({x}) ➞ {None}\""
   ]
  },
  {
   "cell_type": "code",
   "execution_count": 13,
   "id": "8f154c5c",
   "metadata": {},
   "outputs": [
    {
     "name": "stdout",
     "output_type": "stream",
     "text": [
      "sum_primes([1, 2, 3, 4, 5, 6, 7, 8, 9, 10]) ➞ 18\n",
      "sum_primes([2, 3, 4, 11, 20, 50, 71]) ➞ 87\n",
      "sum_primes([]) ➞ None\n"
     ]
    }
   ],
   "source": [
    "print(sum_prime([1, 2, 3, 4, 5, 6, 7, 8, 9, 10]))\n",
    "print(sum_prime([2, 3, 4, 11, 20, 50, 71]))\n",
    "print(sum_prime([]))"
   ]
  }
 ],
 "metadata": {
  "kernelspec": {
   "display_name": "Python 3 (ipykernel)",
   "language": "python",
   "name": "python3"
  },
  "language_info": {
   "codemirror_mode": {
    "name": "ipython",
    "version": 3
   },
   "file_extension": ".py",
   "mimetype": "text/x-python",
   "name": "python",
   "nbconvert_exporter": "python",
   "pygments_lexer": "ipython3",
   "version": "3.9.15"
  }
 },
 "nbformat": 4,
 "nbformat_minor": 5
}

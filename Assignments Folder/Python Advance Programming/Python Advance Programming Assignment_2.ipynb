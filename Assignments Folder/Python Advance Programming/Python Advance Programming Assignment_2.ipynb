{
 "cells": [
  {
   "cell_type": "markdown",
   "id": "a3c2572d",
   "metadata": {},
   "source": [
    "# Python Advance Programming Assignment 2"
   ]
  },
  {
   "cell_type": "code",
   "execution_count": 1,
   "id": "074eb6ac",
   "metadata": {},
   "outputs": [],
   "source": [
    "from datetime import date\n",
    "import re"
   ]
  },
  {
   "cell_type": "markdown",
   "id": "57bb4f3e",
   "metadata": {},
   "source": [
    "### 1 . Write a function that takes a positive integer num and calculates how many dots exist in a pentagonal shape around the center dot on the Nth iteration.<br>\n",
    "In the image below you can see the first iteration is only a single dot. On the second, there are 6 dots. On the third, there are 16 dots, and on the fourth there are 31 dots.<br>\n",
    "<img src=\"https://i.stack.imgur.com/YWlKr.png\" alt=\"drawing\" style=\"width:500px;\"/>\n",
    "\n",
    "**Example:**<br>\n",
    "`pentagonal(1) ➞ 1`<br>\n",
    "`pentagonal(2) ➞ 6`<br>\n",
    "`pentagonal(3) ➞ 16`<br>\n",
    "`pentagonal(8) ➞ 141`<br>"
   ]
  },
  {
   "cell_type": "code",
   "execution_count": 2,
   "id": "54234b0c",
   "metadata": {},
   "outputs": [],
   "source": [
    "def pentagonal(x:int)->int:\n",
    "    if x >= 1:\n",
    "        a = 2.5\n",
    "        b = -2.5\n",
    "        c = 1\n",
    "        formula = round(a*pow(x,2) + b*x + c)\n",
    "    return f'pentagonal({x}) ➞ {formula}'"
   ]
  },
  {
   "cell_type": "code",
   "execution_count": 3,
   "id": "ffde4a1c",
   "metadata": {},
   "outputs": [
    {
     "name": "stdout",
     "output_type": "stream",
     "text": [
      "pentagonal(1) ➞ 1\n",
      "pentagonal(2) ➞ 6\n",
      "pentagonal(3) ➞ 16\n",
      "pentagonal(8) ➞ 141\n"
     ]
    }
   ],
   "source": [
    "print(pentagonal(1))\n",
    "print(pentagonal(2))\n",
    "print(pentagonal(3))\n",
    "print(pentagonal(8))"
   ]
  },
  {
   "cell_type": "markdown",
   "id": "068190be",
   "metadata": {},
   "source": [
    "### 2 . Make a function that encrypts a given input with these steps:<br>\n",
    "**Input:** `\"apple\"`<br><br>\n",
    "**Step 1:** Reverse the input: `\"elppa\"`<br><br>\n",
    "**Step 2:** Replace all vowels using the following chart:<br><br>\n",
    "`a => 0`<br>\n",
    "`e => 1`<br>\n",
    "`i => 2`<br>\n",
    "`o => 2`<br>\n",
    "`u => 3`<br>\n",
    "`Return \"1lpp0\"`<br><br>\n",
    "**Step 3:** Add \"aca\" to the end of the word: `\"1lpp0aca\"`<br><br>\n",
    "**Output:** `\"1lpp0aca\"`<br><br>\n",
    "**Examples:**<br><br>\n",
    "`encrypt(\"banana\") ➞ \"0n0n0baca\"`<br>\n",
    "`encrypt(\"karaca\") ➞ \"0c0r0kaca\"`<br>\n",
    "`encrypt(\"burak\") ➞ \"k0r3baca\"`<br>\n",
    "`encrypt(\"alpaca\") ➞ \"0c0pl0aca\"`<br>"
   ]
  },
  {
   "cell_type": "code",
   "execution_count": 4,
   "id": "97319fac",
   "metadata": {},
   "outputs": [],
   "source": [
    "def encrypt(a:str)->str:\n",
    "    vowels = {'a':0,'e':1,'i':2,'o':2,'u':3}\n",
    "    new = map(lambda x: str(vowels[x]) if x in vowels.keys()  else \n",
    "                str(x) if x not in vowels.keys() else None,a)\n",
    "    new1 = \"\".join(new)[::-1]+'aca'\n",
    "    return f'encrypt({a}) ➞ {new1}'"
   ]
  },
  {
   "cell_type": "code",
   "execution_count": 5,
   "id": "7253de28",
   "metadata": {
    "scrolled": true
   },
   "outputs": [
    {
     "name": "stdout",
     "output_type": "stream",
     "text": [
      "encrypt(banana) ➞ 0n0n0baca\n",
      "encrypt(karaca) ➞ 0c0r0kaca\n",
      "encrypt(burak) ➞ k0r3baca\n",
      "encrypt(alpaca) ➞ 0c0pl0aca\n"
     ]
    }
   ],
   "source": [
    "print(encrypt(\"banana\"))\n",
    "print(encrypt(\"karaca\"))\n",
    "print(encrypt(\"burak\"))\n",
    "print(encrypt(\"alpaca\"))"
   ]
  },
  {
   "cell_type": "markdown",
   "id": "6331ad53",
   "metadata": {},
   "source": [
    "### 3 . Given the month and year as numbers, return whether that month contains a Friday 13th.(i.e You can check Python's datetime module)<br>\n",
    "**Examples:**<br>\n",
    "`has_friday_13(3, 2020) ➞ True`<br>\n",
    "`has_friday_13(10, 2017) ➞ True`<br>\n",
    "`has_friday_13(1, 1985) ➞ False`<br>"
   ]
  },
  {
   "cell_type": "code",
   "execution_count": 6,
   "id": "52dca190",
   "metadata": {},
   "outputs": [],
   "source": [
    "def has_friday_13(month:int,year:int)->str:\n",
    "    day = date(year,month,13)\n",
    "    if day.weekday() == 4:\n",
    "        return f'has_friday_13({day}) ➞ True'\n",
    "    else:\n",
    "        return f'has_friday_13({day})➞ False'"
   ]
  },
  {
   "cell_type": "code",
   "execution_count": 7,
   "id": "9348a161",
   "metadata": {},
   "outputs": [
    {
     "name": "stdout",
     "output_type": "stream",
     "text": [
      "has_friday_13(2020-03-13) ➞ True\n",
      "has_friday_13(2017-10-13) ➞ True\n",
      "has_friday_13(1985-01-13)➞ False\n"
     ]
    }
   ],
   "source": [
    "print(has_friday_13(3, 2020))\n",
    "print(has_friday_13(10, 2017))\n",
    "print(has_friday_13(1, 1985))"
   ]
  },
  {
   "cell_type": "markdown",
   "id": "28f12940",
   "metadata": {},
   "source": [
    "### 4 . Write a regular expression that will help us count how many bad cookies are produced every day. You must use RegEx negative lookbehind.<br>\n",
    "**Examples:**<br>\n",
    "`lst = [\"bad cookie\", \"good cookie\", \"bad cookie\", \"good cookie\", \"good cookie\"]`<br>\n",
    "`pattern = \"yourregularexpressionhere\"`<br>\n",
    "`len(re.findall(pattern, \", \".join(lst))) ➞ 2`<br>"
   ]
  },
  {
   "cell_type": "code",
   "execution_count": 8,
   "id": "f71f7570",
   "metadata": {},
   "outputs": [],
   "source": [
    "lst = [\"bad cookie\", \"good cookie\", \"bad cookie\", \"good cookie\", \"good cookie\"]\n",
    "\n",
    "def bad_cookie_finder(x:list[str])->str:\n",
    "    pattern = r\"bad\\ [a-zA-Z]*\"\n",
    "    ans = len(re.findall(pattern, \", \".join(x)))\n",
    "    return f'{x} has ➞ {ans} bad cookies'"
   ]
  },
  {
   "cell_type": "code",
   "execution_count": 9,
   "id": "057fc72b",
   "metadata": {},
   "outputs": [
    {
     "name": "stdout",
     "output_type": "stream",
     "text": [
      "['bad cookie', 'good cookie', 'bad cookie', 'good cookie', 'good cookie'] has ➞ 2 bad cookies\n"
     ]
    }
   ],
   "source": [
    "print(bad_cookie_finder(lst))"
   ]
  },
  {
   "cell_type": "markdown",
   "id": "444b3bec",
   "metadata": {},
   "source": [
    "### 5 . Given a list of words in the singular form, return a set of those words in the plural form if they appear more than once in the list.<br>\n",
    "**Examples:**<br>\n",
    "`pluralize([\"cow\", \"pig\", \"cow\", \"cow\"]) ➞ { \"cows\", \"pig\" }`<br>\n",
    "`pluralize([\"table\", \"table\", \"table\"]) ➞ { \"tables\" }`<br>\n",
    "`pluralize([\"chair\", \"pencil\", \"arm\"]) ➞ { \"chair\", \"pencil\", \"arm\" }`<br>"
   ]
  },
  {
   "cell_type": "code",
   "execution_count": 10,
   "id": "38566401",
   "metadata": {},
   "outputs": [],
   "source": [
    "def pluralize(x:list[str])->set():\n",
    "    dic = {}\n",
    "    for i in x:\n",
    "        if i in dic:\n",
    "            dic[i] += 1\n",
    "        else:\n",
    "            dic[i] = 1\n",
    "    se = set()\n",
    "    for i in dic.keys():\n",
    "        if dic[i] > 1:\n",
    "            se.add(i + 's')\n",
    "        else:\n",
    "            se.add(i)\n",
    "    return f'{x} ➞ {se}'     "
   ]
  },
  {
   "cell_type": "code",
   "execution_count": 11,
   "id": "a791c1de",
   "metadata": {},
   "outputs": [
    {
     "name": "stdout",
     "output_type": "stream",
     "text": [
      "['cow', 'pig', 'cow', 'cow'] ➞ {'pig', 'cows'}\n",
      "['table', 'table', 'table'] ➞ {'tables'}\n",
      "['chair', 'pencil', 'arm'] ➞ {'chair', 'pencil', 'arm'}\n"
     ]
    }
   ],
   "source": [
    "print(pluralize([\"cow\", \"pig\", \"cow\", \"cow\"]))\n",
    "print(pluralize([\"table\", \"table\", \"table\"]))\n",
    "print(pluralize([\"chair\", \"pencil\", \"arm\"]))"
   ]
  }
 ],
 "metadata": {
  "kernelspec": {
   "display_name": "Python 3 (ipykernel)",
   "language": "python",
   "name": "python3"
  },
  "language_info": {
   "codemirror_mode": {
    "name": "ipython",
    "version": 3
   },
   "file_extension": ".py",
   "mimetype": "text/x-python",
   "name": "python",
   "nbconvert_exporter": "python",
   "pygments_lexer": "ipython3",
   "version": "3.9.15"
  }
 },
 "nbformat": 4,
 "nbformat_minor": 5
}

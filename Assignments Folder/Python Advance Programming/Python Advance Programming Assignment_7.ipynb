{
 "cells": [
  {
   "cell_type": "markdown",
   "id": "bd943628",
   "metadata": {},
   "source": [
    "# Python Advance Programming Assignment 7"
   ]
  },
  {
   "cell_type": "markdown",
   "id": "3c9457fa",
   "metadata": {},
   "source": [
    "### 1 . Write a function that counts how many concentric layers a rug.<br>\n",
    "**Examples:**<br>\n",
    "`count_layers([\"AAAA\",\"ABBA\",\"AAAA\"]) ➞ 2`<br>\n",
    "`count_layers([\"AAAAAAAAA\",\"ABBBBBBBA\",\"ABBAAABBA\",\"ABBBBBBBA\",\"AAAAAAAAA\"]) ➞ 3`<br>\n",
    "`count_layers([\"AAAAAAAAAAA\",\"AABBBBBBBAA\",\"AABCCCCCBAA\",\"AABCAAACBAA\",\"AABCADACBAA\",\"AABCAAACBAA\",   \n",
    "\"AABCCCCCBAA\",\"AABBBBBBBAA\",\"AAAAAAAAAAA\"]) ➞ 5`<br>"
   ]
  },
  {
   "cell_type": "code",
   "execution_count": 1,
   "id": "7e639e44",
   "metadata": {},
   "outputs": [],
   "source": [
    "def count_layers(x: list) -> str:\n",
    "    \"\"\"\n",
    "    Count the number of unique elements in the input list.\n",
    "\n",
    "    Parameters:\n",
    "    x (list): A list of elements.\n",
    "\n",
    "    Returns:\n",
    "    str: A string containing the input list and the number of unique elements in it.\n",
    "\n",
    "    Example:\n",
    "    count_layers([1, 2, 3]) -> \"count_layers([1, 2, 3]) → 3\"\n",
    "    count_layers([1, 2, 2, 3, 3]) -> \"count_layers([1, 2, 2, 3, 3]) → 3\"\n",
    "    \"\"\"\n",
    "    return f'count_layers({x}) → {len(set(x))}'"
   ]
  },
  {
   "cell_type": "code",
   "execution_count": 2,
   "id": "f45fcc77",
   "metadata": {},
   "outputs": [
    {
     "name": "stdout",
     "output_type": "stream",
     "text": [
      "count_layers(['AAAA', 'ABBA', 'AAAA']) → 2\n",
      "count_layers(['AAAAAAAAA', 'ABBBBBBBA', 'ABBAAABBA', 'ABBBBBBBA', 'AAAAAAAAA']) → 3\n",
      "count_layers(['AAAAAAAAAAA', 'AABBBBBBBAA', 'AABCCCCCBAA', 'AABCAAACBAA', 'AABCADACBAA', 'AABCAAACBAA', 'AABCCCCCBAA', 'AABBBBBBBAA', 'AAAAAAAAAAA']) → 5\n"
     ]
    }
   ],
   "source": [
    "print(count_layers([\"AAAA\",\"ABBA\",\"AAAA\"]))\n",
    "print(count_layers([\"AAAAAAAAA\",\"ABBBBBBBA\",\"ABBAAABBA\",\"ABBBBBBBA\",\"AAAAAAAAA\"]))\n",
    "print(count_layers([\"AAAAAAAAAAA\",\"AABBBBBBBAA\",\"AABCCCCCBAA\",\"AABCAAACBAA\",\"AABCADACBAA\",\"AABCAAACBAA\",    \"AABCCCCCBAA\",\"AABBBBBBBAA\",\"AAAAAAAAAAA\"]))"
   ]
  },
  {
   "cell_type": "markdown",
   "id": "3a38ce61",
   "metadata": {},
   "source": [
    "### 2 . There are many different styles of music and many albums exhibit multiple styles. Create a function that takes a list of musical styles from albums and returns how many styles are unique.<br>\n",
    "**Examples:**<br>\n",
    "`unique_styles([ \"Dub,Dancehall\", \"Industrial,Heavy Metal\", \"Techno,Dubstep\", \"Synth-pop,Euro-Disco\", \"Industrial,Techno,Minimal\" ]) ➞ 9`<br>\n",
    "`unique_styles([ \"Soul\", \"House,Folk\", \"Trance,Downtempo,Big Beat,House\", \"Deep House\", \"Soul\" ]) ➞ 7`<br>"
   ]
  },
  {
   "cell_type": "code",
   "execution_count": 3,
   "id": "e21665a0",
   "metadata": {},
   "outputs": [],
   "source": [
    "def unique_styles(x: list[str]) -> str:\n",
    "    \"\"\"\n",
    "    Find the number of unique styles in a list of lists of strings.\n",
    "    \n",
    "    Parameters:\n",
    "    x: A list of lists of strings, where each inner list represents a group of styles.\n",
    "    \n",
    "    Returns:\n",
    "    A string indicating the number of unique styles in the input list.\n",
    "    \n",
    "    Example:\n",
    "    unique_styles([['A', 'B'], ['A', 'C']]) -> '2'\n",
    "    unique_styles([['A', 'B'], ['B', 'C']]) -> '3'\n",
    "    \"\"\"\n",
    "    output = []\n",
    "    for items in x:\n",
    "        for values in items:\n",
    "            output.extend(items.split(\",\"))\n",
    "            \n",
    "    return f'unique_styles({x}) → {len(set(output))}'"
   ]
  },
  {
   "cell_type": "code",
   "execution_count": 4,
   "id": "b7d9572d",
   "metadata": {},
   "outputs": [
    {
     "name": "stdout",
     "output_type": "stream",
     "text": [
      "unique_styles(['Dub,Dancehall', 'Industrial,Heavy Metal', 'Techno,Dubstep', 'Synth-pop,Euro-Disco', 'Industrial,Techno,Minimal']) → 9\n",
      "unique_styles(['Soul', 'House,Folk', 'Trance,Downtempo,Big Beat,House', 'Deep House', 'Soul']) → 7\n"
     ]
    }
   ],
   "source": [
    "print(unique_styles([ \"Dub,Dancehall\", \"Industrial,Heavy Metal\", \"Techno,Dubstep\", \"Synth-pop,Euro-Disco\", \"Industrial,Techno,Minimal\" ]))\n",
    "print(unique_styles([ \"Soul\", \"House,Folk\", \"Trance,Downtempo,Big Beat,House\", \"Deep House\", \"Soul\" ]))"
   ]
  },
  {
   "cell_type": "markdown",
   "id": "7bf6db40",
   "metadata": {},
   "source": [
    "### 3 . Create a function that finds a target number in a list of prime numbers. Implement a binary search algorithm in your function. The target number will be from 2 through 97. If the target is prime then return \"yes\" else return \"no\".<br>\n",
    "**Examples:**<br>\n",
    "`primes = [2, 3, 5, 7, 11, 13, 17, 19, 23, 29, 31, 37, 41, 43, 47, 53, 59, 61, 67, 71, 73, 79, 83, 89, 97]`<br>\n",
    "`is_prime(primes, 3) ➞ \"yes\"`<br>\n",
    "`is_prime(primes, 4) ➞ \"no\"`<br>\n",
    "`is_prime(primes, 67) ➞ \"yes\"`<br>\n",
    "`is_prime(primes, 36) ➞ \"no\"`<br>"
   ]
  },
  {
   "cell_type": "code",
   "execution_count": 5,
   "id": "b442fde2",
   "metadata": {
    "scrolled": true
   },
   "outputs": [],
   "source": [
    "def is_prime(primes: list[int], target: int) -> str:\n",
    "    \"\"\"\n",
    "    Check if a target number is prime by searching for it in a sorted list of prime numbers.\n",
    "    \n",
    "    Parameters:\n",
    "    primes: A sorted list of prime numbers.\n",
    "    target: The number to be searched for in the list of prime numbers.\n",
    "    \n",
    "    Returns:\n",
    "    A string indicating whether the target number is prime or not.\n",
    "    \n",
    "    Example:\n",
    "    is_prime([2, 3, 5, 7, 11], 7) -> 'is_prime(primes,7) → \"yes\"'\n",
    "    is_prime([2, 3, 5, 7, 11], 4) -> 'is_prime(primes,4) → \"no\"'\n",
    "    \"\"\"\n",
    "    # Set the left and right indices\n",
    "    left = 0\n",
    "    right = len(primes) - 1\n",
    "\n",
    "    while left <= right:\n",
    "        # Find the middle index\n",
    "        mid = (left + right) // 2\n",
    "        if primes[mid] == target:\n",
    "            return f'is_prime(primes,{target}) → \"yes\"'\n",
    "        elif primes[mid] > target:\n",
    "            right = mid - 1\n",
    "        else:\n",
    "            left = mid + 1\n",
    "\n",
    "    return f'is_prime(primes,{target}) → \"no\"'"
   ]
  },
  {
   "cell_type": "code",
   "execution_count": 6,
   "id": "9215ef8f",
   "metadata": {},
   "outputs": [],
   "source": [
    "primes = [2, 3, 5, 7, 11, 13, 17, 19, 23, 29, 31, 37, 41, 43, 47, 53, 59, 61, 67, 71, 73, 79, 83, 89, 97]"
   ]
  },
  {
   "cell_type": "code",
   "execution_count": 7,
   "id": "8a240a09",
   "metadata": {},
   "outputs": [
    {
     "name": "stdout",
     "output_type": "stream",
     "text": [
      "is_prime(primes,3) → \"yes\"\n",
      "is_prime(primes,4) → \"no\"\n",
      "is_prime(primes,67) → \"yes\"\n",
      "is_prime(primes,36) → \"no\"\n"
     ]
    }
   ],
   "source": [
    "print(is_prime(primes,3))\n",
    "print(is_prime(primes,4))\n",
    "print(is_prime(primes,67))\n",
    "print(is_prime(primes,36))"
   ]
  },
  {
   "cell_type": "markdown",
   "id": "d5866490",
   "metadata": {},
   "source": [
    "### 4 . Create a function that takes in n, a, b and returns the number of positive values raised to the nth power that lie in the range [a, b], inclusive.<br>\n",
    "**Examples:**<br>\n",
    "`power_ranger(2, 49, 65) ➞ 2`<br>\n",
    "`# 2 squares (n^2) lie between 49 and 65, 49 (7^2) and 64 (8^2)`<br>\n",
    "\n",
    "`power_ranger(3, 1, 27) ➞ 3`<br>\n",
    "`# 3 cubes (n^3) lie between 1 and 27, 1 (1^3), 8 (2^3) and 27 (3^3)`<br>\n",
    "\n",
    "`power_ranger(10, 1, 5) ➞ 1`<br>\n",
    "`# 1 value raised to the 10th power lies between 1 and 5, 1 (1^10)`<br>\n",
    "\n",
    "`power_ranger(5, 31, 33) ➞ 1`\n",
    "`power_ranger(4, 250, 1300) ➞ 3`"
   ]
  },
  {
   "cell_type": "code",
   "execution_count": 8,
   "id": "cc90d3bc",
   "metadata": {},
   "outputs": [],
   "source": [
    "def power_ranger(n: int, a: int, b: int) -> str:\n",
    "    \"\"\"\n",
    "    Count the number of integers in the range [a, b] (inclusive) that can be expressed as the power of n.\n",
    "    \n",
    "    Parameters:\n",
    "    n: The base of the power.\n",
    "    a: The lower bound of the range.\n",
    "    b: The upper bound of the range.\n",
    "    \n",
    "    Returns:\n",
    "    A string indicating the number of integers in the range [a, b] that can be expressed as the power of n.\n",
    "    \n",
    "    Example:\n",
    "    power_ranger(2, 1, 10) -> 'power_ranger(2,1,10) → 3'\n",
    "    power_ranger(3, 1, 10) -> 'power_ranger(3,1,10) → 2'\n",
    "    \"\"\"\n",
    "    count = 0\n",
    "    for i in range(1, b+1):\n",
    "        if i**n >= a and i**n <= b:\n",
    "            count += 1\n",
    "    return f\"power_ranger({n},{a},{b}) → {count}\""
   ]
  },
  {
   "cell_type": "code",
   "execution_count": 9,
   "id": "919e69a2",
   "metadata": {},
   "outputs": [
    {
     "name": "stdout",
     "output_type": "stream",
     "text": [
      "power_ranger(2,49,65) → 2\n",
      "power_ranger(3,1,27) → 3\n",
      "power_ranger(10,1,5) → 1\n",
      "power_ranger(5,31,33) → 1\n",
      "power_ranger(4,250,1300) → 3\n"
     ]
    }
   ],
   "source": [
    "print(power_ranger(2,49,65))\n",
    "print(power_ranger(3,1,27))\n",
    "print(power_ranger(10,1,5))\n",
    "print(power_ranger(5,31,33))\n",
    "print(power_ranger(4,250,1300))"
   ]
  },
  {
   "cell_type": "markdown",
   "id": "7ad121c1",
   "metadata": {},
   "source": [
    "### 5 . Given a number, return the difference between the maximum and minimum numbers that can be formed when the digits are rearranged.<br>\n",
    "**Examples:**<br>\n",
    "`rearranged_difference(972882) ➞ 744993`<br>\n",
    "`# 988722 - 227889 = 744993`<br>\n",
    "\n",
    "`rearranged_difference(3320707) ➞ 3297330`<br>\n",
    "`# 7733200 - 23377 = 3297330`<br>\n",
    "\n",
    "`rearranged_difference(90010) ➞ 89991`<br>\n",
    "`# 91000 - 19 = 89991`"
   ]
  },
  {
   "cell_type": "code",
   "execution_count": 10,
   "id": "cc02c31d",
   "metadata": {},
   "outputs": [],
   "source": [
    "def rearranged_difference(x: int) -> str:\n",
    "    \"\"\"\n",
    "    Calculate the difference between a number and the number obtained by rearranging its digits in non-decreasing order.\n",
    "    \n",
    "    Parameters:\n",
    "    x: An integer.\n",
    "    \n",
    "    Returns:\n",
    "    A string indicating the difference between x and the number obtained by rearranging its digits in non-decreasing order.\n",
    "    \n",
    "    Example:\n",
    "    rearranged_difference(123) -> 'rearranged_difference(972882) → 744993'\n",
    "    \"\"\"\n",
    "    sorted_num = int(''.join(i for i in sorted(str(x))))\n",
    "    diff = x - sorted_num\n",
    "    return f\"rearranged_difference({x}) → {diff}\""
   ]
  },
  {
   "cell_type": "code",
   "execution_count": 11,
   "id": "81937aa3",
   "metadata": {},
   "outputs": [
    {
     "name": "stdout",
     "output_type": "stream",
     "text": [
      "rearranged_difference(972882) → 744993\n",
      "rearranged_difference(3320707) → 3297330\n",
      "rearranged_difference(90010) → 89991\n"
     ]
    }
   ],
   "source": [
    "print(rearranged_difference(972882))\n",
    "print(rearranged_difference(3320707))\n",
    "print(rearranged_difference(90010))"
   ]
  }
 ],
 "metadata": {
  "kernelspec": {
   "display_name": "Python 3 (ipykernel)",
   "language": "python",
   "name": "python3"
  },
  "language_info": {
   "codemirror_mode": {
    "name": "ipython",
    "version": 3
   },
   "file_extension": ".py",
   "mimetype": "text/x-python",
   "name": "python",
   "nbconvert_exporter": "python",
   "pygments_lexer": "ipython3",
   "version": "3.9.15"
  }
 },
 "nbformat": 4,
 "nbformat_minor": 5
}

{
 "cells": [
  {
   "cell_type": "markdown",
   "id": "da850335",
   "metadata": {},
   "source": [
    "#  Python Advance Programming Assignment 3"
   ]
  },
  {
   "cell_type": "code",
   "execution_count": 1,
   "id": "41d21939",
   "metadata": {},
   "outputs": [],
   "source": [
    "import math\n",
    "import operator"
   ]
  },
  {
   "cell_type": "markdown",
   "id": "53b59126",
   "metadata": {},
   "source": [
    "### 1 . Create a function to perform basic arithmetic operations that includes addition, subtraction, multiplication and division on a string number (e.g. \"12 + 24\" or \"23 - 21\" or \"12 // 12\" or \"12 * 21\").<br>\n",
    "`Here, we have 1 followed by a space, operator followed by another space and 2. For the challenge, we are going to have only two numbers between 1 valid operator.`<br>\n",
    "`The return value should be a number.`<br>\n",
    "`eval() is not allowed. In case of division, whenever the second number equals \"0\" return -1.`<br><br>\n",
    "**For example:**<br>\n",
    "`\"15 // 0\" ➞ -1`<br>\n",
    "\n",
    "**Examples:**<br>\n",
    "`arithmetic_operation(\"12 + 12\") ➞ 24 // 12 + 12 = 24`<br>\n",
    "`arithmetic_operation(\"12 - 12\") ➞ 24 // 12 - 12 = 0`<br>\n",
    "`arithmetic_operation(\"12 * 12\") ➞ 144 // 12 * 12 = 144`<br>\n",
    "`arithmetic_operation(\"12 // 0\") ➞ -1 // 12 / 0 = -1`<br>"
   ]
  },
  {
   "cell_type": "code",
   "execution_count": 2,
   "id": "f1bfe0e0",
   "metadata": {},
   "outputs": [
    {
     "name": "stdout",
     "output_type": "stream",
     "text": [
      "arithmetic_operation(12 + 12) ➞ 24\n",
      "arithmetic_operation(12 - 12) ➞ 0\n",
      "arithmetic_operation(12 * 12) ➞ 144\n",
      "arithmetic_operation(12 // 0) ➞ -1\n"
     ]
    }
   ],
   "source": [
    "ops = {'+':operator.add,'-':operator.sub,'*':operator.mul,'//':operator.floordiv}\n",
    "\n",
    "def arithmetic_operation(x:str):\n",
    "    x = x.split(\" \")\n",
    "    output = ops[x[1]](int(x[0]),int(x[2])) if int(x[2]) != 0 else -1\n",
    "    return f'arithmetic_operation({x[0]} {x[1]} {x[2]}) ➞ {output}'\n",
    "    \n",
    "print(arithmetic_operation(\"12 + 12\"))\n",
    "print(arithmetic_operation(\"12 - 12\"))\n",
    "print(arithmetic_operation(\"12 * 12\"))\n",
    "print(arithmetic_operation(\"12 // 0\"))\n"
   ]
  },
  {
   "cell_type": "markdown",
   "id": "62e8d461",
   "metadata": {},
   "source": [
    "### 2 . Write a function that takes the coordinates of three points in the form of a 2d array and returns the perimeter of the triangle. The given points are the vertices of a triangle on a two-dimensional plane.<br>\n",
    "\n",
    "<img src=\"https://media.nagwa.com/572107930301/en/thumbnail_l.jpeg\" alt=\"img1\" style=\"width:400px;\"/><br>\n",
    "\n",
    "**Examples:**<br>\n",
    "`perimeter( [ [15, 7], [5, 22], [11, 1] ] ) ➞ 47.08`<br>\n",
    "`perimeter( [ [0, 0], [0, 1], [1, 0] ] ) ➞ 3.42`<br>\n",
    "`perimeter( [ [-10, -10], [10, 10 ], [-10, 10] ] ) ➞ 68.28`<br>"
   ]
  },
  {
   "cell_type": "code",
   "execution_count": 3,
   "id": "991f3030",
   "metadata": {},
   "outputs": [
    {
     "name": "stdout",
     "output_type": "stream",
     "text": [
      "perimeter([[15, 7], [5, 22], [11, 1]]) ➞ 47.08\n",
      "perimeter([[0, 0], [0, 1], [1, 0]]) ➞ 3.41\n",
      "perimeter([[-10, -10], [10, 10], [-10, 10]]) ➞ 68.28\n"
     ]
    }
   ],
   "source": [
    "def perimeter(points):\n",
    "    AB = math.sqrt((points[0][0] - points[1][0])**2 + (points[0][1] - points[1][1])**2)\n",
    "    BC = math.sqrt((points[1][0] - points[2][0])**2 + (points[1][1] - points[2][1])**2)\n",
    "    CA = math.sqrt((points[2][0] - points[0][0])**2 + (points[2][1] - points[0][1])**2)\n",
    "    return f'perimeter({points}) ➞ {AB + BC + CA:.2f}'\n",
    "\n",
    "print(perimeter([[15,7],[5,22],[11,1]]))\n",
    "print(perimeter([[0,0],[0,1],[1,0]]))\n",
    "print(perimeter([[-10,-10],[10,10],[-10,10]]))"
   ]
  },
  {
   "cell_type": "markdown",
   "id": "96bed79b",
   "metadata": {},
   "source": [
    "### 3 . A city skyline can be represented as a 2-D list with 1s representing buildings. In the example below, the height of the tallest building is 4 (second-most right column).<br>\n",
    "`[[0, 0, 0, 0, 0, 0], [0, 0, 0, 0, 1, 0], [0, 0, 1, 0, 1, 0], [0, 1, 1, 1, 1, 0], [1, 1, 1, 1, 1, 1]]`<br>\n",
    "`Create a function that takes a skyline (2-D list of 0's and 1's) and returns the height of the tallest skyscraper.`<br><br>\n",
    "**Examples:**<br>\n",
    "`tallest_skyscraper([[0, 0, 0, 0],[0, 1, 0, 0],[0, 1, 1, 0],[1, 1, 1, 1]]) ➞ 3`<br>\n",
    "`tallest_skyscraper([[0, 1, 0, 0],[0, 1, 0, 0],[0, 1, 1, 0],[1, 1, 1, 1]]) ➞ 4`<br>\n",
    "`tallest_skyscraper([[0, 0, 0, 0],[0, 0, 0, 0],[1, 1, 1, 0],[1, 1, 1, 1]]) ➞ 2`<br>"
   ]
  },
  {
   "cell_type": "code",
   "execution_count": 4,
   "id": "cb3b6e59",
   "metadata": {},
   "outputs": [],
   "source": [
    "def tallest_skyscrapper(x:list[list[int]]):\n",
    "    counter = 0\n",
    "    for arr in range(len(x)):\n",
    "        if 1 in x[arr]:\n",
    "            counter += 1\n",
    "    return f\"tallest_skyscraper({x}) ➞ {counter}\""
   ]
  },
  {
   "cell_type": "code",
   "execution_count": 5,
   "id": "57215373",
   "metadata": {},
   "outputs": [
    {
     "name": "stdout",
     "output_type": "stream",
     "text": [
      "tallest_skyscraper([[0, 0, 0, 0], [0, 1, 0, 0], [0, 1, 1, 0], [1, 1, 1, 1]]) ➞ 3\n",
      "tallest_skyscraper([[0, 1, 0, 0], [0, 1, 0, 0], [0, 1, 1, 0], [1, 1, 1, 1]]) ➞ 4\n",
      "tallest_skyscraper([[0, 0, 0, 0], [0, 0, 0, 0], [1, 1, 1, 0], [1, 1, 1, 1]]) ➞ 2\n"
     ]
    }
   ],
   "source": [
    "print(tallest_skyscrapper([[0, 0, 0, 0],[0, 1, 0, 0],[0, 1, 1, 0],[1, 1, 1, 1]]))\n",
    "print(tallest_skyscrapper([[0, 1, 0, 0],[0, 1, 0, 0],[0, 1, 1, 0],[1, 1, 1, 1]]))\n",
    "print(tallest_skyscrapper([[0, 0, 0, 0],[0, 0, 0, 0],[1, 1, 1, 0],[1, 1, 1, 1]]))"
   ]
  },
  {
   "cell_type": "markdown",
   "id": "acd1201f",
   "metadata": {},
   "source": [
    "### 4 . A financial institution provides professional services to banks and claims charges from the customers based on the number of man-days provided. Internally, it has set a scheme to motivate and reward staff to meet and exceed targeted billable utilization and revenues by paying a bonus for each day claimed from customers in excess of a threshold target.<br>\n",
    "`This quarterly scheme is calculated with a threshold target of 32 days per quarter, and the incentive payment for each billable day in excess of such threshold target is shown as follows:`<br>\n",
    "\n",
    "`Days Bonus 0 to 32 days Zero`<br>\n",
    "`33 to 40 days SGD$325 per billable day` <br>\n",
    "`41 to 48 days SGD$550 per billable day`<br>\n",
    "`Greater than 48 days SGD$600 per billable day`<br>\n",
    "\n",
    "`Please note that incentive payment is calculated progressively. As an example, if an employee reached total billable days of 45 in a quarter, his/her incentive payment is computed as follows:` <br><br>\n",
    "\n",
    "<img src=\"https://latex.codecogs.com/svg.latex?%5Cdpi%7B200%7D%2032*0%20&plus;%208*325%20&plus;%205*550%20%3D%205350\" alt=\"img1\" style=\"width:300px;\"/>\n",
    "\n",
    "**Examples:**<br>\n",
    "`bonus(15) ➞ 0`<br>\n",
    "`bonus(37) ➞ 1625`<br>\n",
    "`bonus(50) ➞ 8200`<br>"
   ]
  },
  {
   "cell_type": "code",
   "execution_count": 6,
   "id": "0696e07a",
   "metadata": {},
   "outputs": [
    {
     "name": "stdout",
     "output_type": "stream",
     "text": [
      "bonus(15) ➞ 0\n",
      "bonus(37) ➞ 1625\n",
      "bonus(50) ➞ 8200\n"
     ]
    }
   ],
   "source": [
    "def bonus(days:int):\n",
    "    if days > 48:\n",
    "        bonus = 0 + (8*325) + (8*550) + ((days-48) * 600 )\n",
    "    elif days < 48 and days >= 41:\n",
    "        bonus = 0+(8*325)+((days-41+1)*550)\n",
    "    elif days >33 and days <= 40:\n",
    "        bonus = 0+((days-33+1)*325)\n",
    "    else:\n",
    "        bonus = 0\n",
    "    return f'bonus({days}) ➞ {bonus}'\n",
    "        \n",
    "print(bonus(15))\n",
    "print(bonus(37))\n",
    "print(bonus(50))"
   ]
  },
  {
   "cell_type": "markdown",
   "id": "18e1d53e",
   "metadata": {},
   "source": [
    "### 5 . A number is said to be Disarium if the sum of its digits raised to their respective positions is the number itself.<br>\n",
    "`Create a function that determines whether a number is a Disarium or not.`<br><br>\n",
    "**Examples:**<br>\n",
    "`is_disarium(75) ➞ False`<br>\n",
    "<img src=\"https://latex.codecogs.com/svg.latex?%5Cdpi%7B200%7D%207%5E1%20&plus;%205%5E2%20%3D%207%20&plus;%2025%20%3D%20%7B%5Ccolor%7BRed%7D%2032%7D\" alt=\"img1\" style=\"width:200px;\"/><br>\n",
    "`is_disarium(135) ➞ True`<br>\n",
    "<img src=\"https://latex.codecogs.com/svg.latex?%5Cdpi%7B200%7D%201%5E1%20&plus;%203%5E2%20&plus;%205%5E3%20%3D%201%20&plus;%209%20&plus;%20125%20%3D%20%7B%5Ccolor%7BBlue%7D%20135%7D\" alt=\"img2\" style=\"width:300px;\"/><br>\n",
    "**More Examples:**<br>\n",
    "`is_disarium(544) ➞ False`<br>\n",
    "`is_disarium(518) ➞ True`<br>\n",
    "`is_disarium(466) ➞ False`<br>\n",
    "`is_disarium(8) ➞ True`<br>"
   ]
  },
  {
   "cell_type": "code",
   "execution_count": 7,
   "id": "71a5fec7",
   "metadata": {},
   "outputs": [],
   "source": [
    "def is_disarium(x:int):\n",
    "    counter = 0\n",
    "    output = False\n",
    "    for i in range(len(str(x))):\n",
    "        counter += int(str(x)[i])**(i+1)\n",
    "    if x == counter:\n",
    "        output=True\n",
    "    return f'is_disarium({x}) ➞ {output}'"
   ]
  },
  {
   "cell_type": "code",
   "execution_count": 8,
   "id": "14b130d3",
   "metadata": {},
   "outputs": [
    {
     "name": "stdout",
     "output_type": "stream",
     "text": [
      "is_disarium(75) ➞ False\n",
      "is_disarium(518) ➞ True\n",
      "is_disarium(466) ➞ False\n",
      "is_disarium(8) ➞ True\n"
     ]
    }
   ],
   "source": [
    "print(is_disarium(75))\n",
    "print(is_disarium(518))\n",
    "print(is_disarium(466))\n",
    "print(is_disarium(8))"
   ]
  }
 ],
 "metadata": {
  "kernelspec": {
   "display_name": "Python 3 (ipykernel)",
   "language": "python",
   "name": "python3"
  },
  "language_info": {
   "codemirror_mode": {
    "name": "ipython",
    "version": 3
   },
   "file_extension": ".py",
   "mimetype": "text/x-python",
   "name": "python",
   "nbconvert_exporter": "python",
   "pygments_lexer": "ipython3",
   "version": "3.9.15"
  }
 },
 "nbformat": 4,
 "nbformat_minor": 5
}

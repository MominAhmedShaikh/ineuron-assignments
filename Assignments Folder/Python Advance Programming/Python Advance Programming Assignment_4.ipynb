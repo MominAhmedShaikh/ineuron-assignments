{
 "cells": [
  {
   "cell_type": "markdown",
   "id": "a09934a1",
   "metadata": {},
   "source": [
    "#  Python Advance Programming Assignment 4"
   ]
  },
  {
   "cell_type": "code",
   "execution_count": 1,
   "id": "ccc49a24",
   "metadata": {},
   "outputs": [],
   "source": [
    "import socket"
   ]
  },
  {
   "cell_type": "markdown",
   "id": "132a46c9",
   "metadata": {},
   "source": [
    "### 1 . In mathematics, the Fibonacci numbers, commonly denoted Fn, form a sequence, called the Fibonacci sequence, such that each number is the sum of the two preceding ones, starting from 0 and 1:<br>\n",
    "The beginning of the sequence is this: 0, 1, 1, 2, 3, 5, 8, 13, 21, 34, 55, 89, 144, ...<br>\n",
    "The function fastFib(num) returns the fibonacci number Fn, of the given num as an argument.<br><br>\n",
    "**Examples:**<br>\n",
    "`fib_fast(5) ➞ 5`<br>\n",
    "`fib_fast(10) ➞ 55`<br>\n",
    "`fib_fast(20) ➞ 6765`<br>\n",
    "`fib_fast(50) ➞ 12586269025`<br>"
   ]
  },
  {
   "cell_type": "code",
   "execution_count": 2,
   "id": "a0e8a5f4",
   "metadata": {},
   "outputs": [],
   "source": [
    "def fib_fast(x:int)-> str:\n",
    "    fib_list = []\n",
    "    for i in range(0,x+1):\n",
    "        if i in [0,1]:\n",
    "            fib_list.append(i)\n",
    "        else:\n",
    "            fib_list.append(fib_list[-1]+fib_list[-2])\n",
    "    return f\"fib_fast({x}) ➞ {fib_list[-1]}\""
   ]
  },
  {
   "cell_type": "code",
   "execution_count": 3,
   "id": "6b14734d",
   "metadata": {},
   "outputs": [
    {
     "name": "stdout",
     "output_type": "stream",
     "text": [
      "fib_fast(5) ➞ 5\n",
      "fib_fast(10) ➞ 55\n",
      "fib_fast(20) ➞ 6765\n",
      "fib_fast(50) ➞ 12586269025\n"
     ]
    }
   ],
   "source": [
    "print(fib_fast(5))\n",
    "print(fib_fast(10))\n",
    "print(fib_fast(20))\n",
    "print(fib_fast(50))"
   ]
  },
  {
   "cell_type": "markdown",
   "id": "32662be6",
   "metadata": {},
   "source": [
    "### 2 . Create a function that takes a strings characters as ASCII and returns each characters hexadecimal value as a string.<br><br>\n",
    "**Examples:**<br>\n",
    "`convert_to_hex(\"hello world\") ➞ \"68 65 6c 6c 6f 20 77 6f 72 6c 64\"`<br>\n",
    "`convert_to_hex(\"Big Boi\") ➞ \"42 69 67 20 42 6f 69\"`<br>\n",
    "`convert_to_hex(\"Marty Poppinson\") ➞ \"4d 61 72 74 79 20 50 6f 70 70 69 6e 73 6f 6e\"`<br>"
   ]
  },
  {
   "cell_type": "code",
   "execution_count": 4,
   "id": "efb08081",
   "metadata": {},
   "outputs": [],
   "source": [
    "def convert_to_hex(x:str)->str:\n",
    "    value = \" \".join(hex(ord(char)).removeprefix('0x') for char in x) # ord returns unicode for a character.\n",
    "    return f\"convert_to_hex({x}) ➞ {value}\""
   ]
  },
  {
   "cell_type": "code",
   "execution_count": 5,
   "id": "056b4600",
   "metadata": {},
   "outputs": [
    {
     "name": "stdout",
     "output_type": "stream",
     "text": [
      "convert_to_hex(hello world) ➞ 68 65 6c 6c 6f 20 77 6f 72 6c 64\n",
      "convert_to_hex(Big Boi) ➞ 42 69 67 20 42 6f 69\n",
      "convert_to_hex(Marty Poppinson) ➞ 4d 61 72 74 79 20 50 6f 70 70 69 6e 73 6f 6e\n"
     ]
    }
   ],
   "source": [
    "print(convert_to_hex(\"hello world\"))\n",
    "print(convert_to_hex(\"Big Boi\"))\n",
    "print(convert_to_hex(\"Marty Poppinson\"))"
   ]
  },
  {
   "cell_type": "markdown",
   "id": "cdd5f01d",
   "metadata": {},
   "source": [
    "### 3 . Someone has attempted to censor my strings by replacing every vowel with a *, l*k* th*s. Luckily, I've been able to find the vowels that were removed.<br>\n",
    "\n",
    "Given a censored string and a string of the censored vowels, return the original uncensored string.<br><br>\n",
    "**Examples:**<br>\n",
    "`uncensor(\"Wh*r* d*d my v*w*ls g*?\", \"eeioeo\") ➞ \"Where did my vowels go?\"`<br>\n",
    "`uncensor(\"abcd\", \"\") ➞ \"abcd\"`<br>\n",
    "`uncensor(\"*PP*RC*S*\", \"UEAE\") ➞ \"UPPERCASE\"`<br>"
   ]
  },
  {
   "cell_type": "code",
   "execution_count": 6,
   "id": "bb30fbe6",
   "metadata": {},
   "outputs": [],
   "source": [
    "def uncensor(in_string,in_vowels):\n",
    "    window = 0\n",
    "    out_string = ''\n",
    "    for ele in in_string:\n",
    "        if ele == '*':\n",
    "            out_string += in_vowels[window]\n",
    "            window +=1\n",
    "        else:\n",
    "            out_string += ele\n",
    "    return f'uncensor{in_string,in_vowels} ➞ {out_string}'"
   ]
  },
  {
   "cell_type": "code",
   "execution_count": 7,
   "id": "3ca7d10b",
   "metadata": {},
   "outputs": [
    {
     "name": "stdout",
     "output_type": "stream",
     "text": [
      "uncensor('Wh*r* d*d my v*w*ls g*?', 'eeioeo') ➞ Where did my vowels go?\n",
      "uncensor('abcd', '') ➞ abcd\n",
      "uncensor('*PP*RC*S*', 'UEAE') ➞ UPPERCASE\n"
     ]
    }
   ],
   "source": [
    "print(uncensor(\"Wh*r* d*d my v*w*ls g*?\", \"eeioeo\"))\n",
    "print(uncensor(\"abcd\", \"\"))\n",
    "print(uncensor(\"*PP*RC*S*\", \"UEAE\"))"
   ]
  },
  {
   "cell_type": "markdown",
   "id": "0a4ebd20",
   "metadata": {},
   "source": [
    "### 4 . Write a function that takes an IP address and returns the domain name using PTR DNS records.<br>\n",
    "**Examples:**<br>\n",
    "`get_domain(\"8.8.8.8\") ➞ \"dns.google\"`<br>\n",
    "`get_domain(\"8.8.4.4\") ➞ \"dns.google\"`<br>"
   ]
  },
  {
   "cell_type": "code",
   "execution_count": 8,
   "id": "74bcc3a6",
   "metadata": {},
   "outputs": [],
   "source": [
    "def get_domain(x:str)->str:\n",
    "    host = socket.gethostbyaddr(\"8.8.8.8\")[0]\n",
    "    return f\"get_domain({x}) ➞ {host}\""
   ]
  },
  {
   "cell_type": "code",
   "execution_count": 9,
   "id": "b6b31773",
   "metadata": {},
   "outputs": [
    {
     "name": "stdout",
     "output_type": "stream",
     "text": [
      "get_domain(8.8.8.8) ➞ dns.google\n",
      "get_domain(8.8.4.4) ➞ dns.google\n"
     ]
    }
   ],
   "source": [
    "print(get_domain('8.8.8.8'))\n",
    "print(get_domain('8.8.4.4'))"
   ]
  },
  {
   "cell_type": "markdown",
   "id": "aa61d5e1",
   "metadata": {},
   "source": [
    "### 5.Create a function that takes an integer n and returns the factorial of factorials. See below examples for a better understanding:<br>\n",
    "**Examples:**<br>\n",
    "`fact_of_fact(4) ➞ 288`<br>\n",
    "`Output: 4! * 3! * 2! * 1! = 288`<br>\n",
    "`fact_of_fact(5) ➞ 34560`<br>\n",
    "`fact_of_fact(6) ➞ 24883200`<br>"
   ]
  },
  {
   "cell_type": "code",
   "execution_count": 10,
   "id": "5b6832c1",
   "metadata": {},
   "outputs": [],
   "source": [
    "def fact_of_fact(in_num):\n",
    "    def get_factorial(n):\n",
    "        if n == 1:\n",
    "            return 1\n",
    "        else:\n",
    "            return n*get_factorial(n-1)      \n",
    "    out_num = 1\n",
    "    for ele in range(1,in_num+1):\n",
    "        out_num *= get_factorial(ele)\n",
    "    return f'fact_of_fact({in_num}) ➞ {out_num}'"
   ]
  },
  {
   "cell_type": "code",
   "execution_count": 11,
   "id": "7f2db538",
   "metadata": {
    "scrolled": true
   },
   "outputs": [
    {
     "name": "stdout",
     "output_type": "stream",
     "text": [
      "fact_of_fact(4) ➞ 288\n",
      "fact_of_fact(5) ➞ 34560\n",
      "fact_of_fact(6) ➞ 24883200\n"
     ]
    }
   ],
   "source": [
    "print(fact_of_fact(4))\n",
    "print(fact_of_fact(5))\n",
    "print(fact_of_fact(6))"
   ]
  }
 ],
 "metadata": {
  "kernelspec": {
   "display_name": "Python 3 (ipykernel)",
   "language": "python",
   "name": "python3"
  },
  "language_info": {
   "codemirror_mode": {
    "name": "ipython",
    "version": 3
   },
   "file_extension": ".py",
   "mimetype": "text/x-python",
   "name": "python",
   "nbconvert_exporter": "python",
   "pygments_lexer": "ipython3",
   "version": "3.9.15"
  }
 },
 "nbformat": 4,
 "nbformat_minor": 5
}

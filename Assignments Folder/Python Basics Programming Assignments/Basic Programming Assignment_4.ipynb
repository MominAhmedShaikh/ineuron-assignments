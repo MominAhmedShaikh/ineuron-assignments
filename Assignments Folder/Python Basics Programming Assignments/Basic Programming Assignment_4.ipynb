{
 "cells": [
  {
   "cell_type": "markdown",
   "id": "4bf54c37",
   "metadata": {},
   "source": [
    "# Assignment 4: Python Programming Basic"
   ]
  },
  {
   "cell_type": "markdown",
   "id": "5311109c",
   "metadata": {},
   "source": [
    "### 1. Write a Python Program to Find the Factorial of a Number?"
   ]
  },
  {
   "cell_type": "code",
   "execution_count": 1,
   "id": "443c8139",
   "metadata": {},
   "outputs": [],
   "source": [
    "def recursive_factorial(x : int) -> int:\n",
    "    \n",
    "    '''This Function is a type of recursive function to produce factorial of a Number'''\n",
    "    \n",
    "    if x == 1:\n",
    "        return x\n",
    "    else:\n",
    "        return x * recursive_factorial(x-1)\n",
    " "
   ]
  },
  {
   "cell_type": "code",
   "execution_count": 2,
   "id": "ae55f193",
   "metadata": {},
   "outputs": [
    {
     "data": {
      "text/plain": [
       "120"
      ]
     },
     "execution_count": 2,
     "metadata": {},
     "output_type": "execute_result"
    }
   ],
   "source": [
    "recursive_factorial(5)"
   ]
  },
  {
   "cell_type": "markdown",
   "id": "02a5f9bc",
   "metadata": {},
   "source": [
    "### 2. Write a Python Program to Display the multiplication Table?"
   ]
  },
  {
   "cell_type": "code",
   "execution_count": 3,
   "id": "7b297089",
   "metadata": {},
   "outputs": [],
   "source": [
    "def Multiplication_table(x : range, y : int) -> str:\n",
    "    \n",
    "    '''This Function Generates Multiplication Table for a Given Number'''\n",
    "    \n",
    "    for i in range(1,x+1):\n",
    "        print(f'{y} X {i}','=',y*i)"
   ]
  },
  {
   "cell_type": "code",
   "execution_count": 4,
   "id": "fdb0026d",
   "metadata": {},
   "outputs": [
    {
     "name": "stdout",
     "output_type": "stream",
     "text": [
      "30 X 1 = 30\n",
      "30 X 2 = 60\n",
      "30 X 3 = 90\n",
      "30 X 4 = 120\n",
      "30 X 5 = 150\n",
      "30 X 6 = 180\n",
      "30 X 7 = 210\n",
      "30 X 8 = 240\n",
      "30 X 9 = 270\n",
      "30 X 10 = 300\n"
     ]
    }
   ],
   "source": [
    "Multiplication_table(10,30)"
   ]
  },
  {
   "cell_type": "markdown",
   "id": "a4995e81",
   "metadata": {},
   "source": [
    "### 3. Write a Python Program to Print the Fibonacci sequence?"
   ]
  },
  {
   "cell_type": "code",
   "execution_count": 5,
   "id": "8fc644e1",
   "metadata": {},
   "outputs": [],
   "source": [
    "def fibonacci(n : int) -> int:\n",
    "    \n",
    "    '''This Function represents Recursive appraoch to generate fibonacci sequence'''\n",
    "    \n",
    "    if n <= 1:\n",
    "        return n\n",
    "    else:\n",
    "        return(fibonacci(n-1) + fibonacci(n-2)) # Fibonacci formula"
   ]
  },
  {
   "cell_type": "code",
   "execution_count": 6,
   "id": "f68b96b4",
   "metadata": {},
   "outputs": [
    {
     "data": {
      "text/plain": [
       "[1, 1, 2, 3, 5, 8, 13, 21, 34]"
      ]
     },
     "execution_count": 6,
     "metadata": {},
     "output_type": "execute_result"
    }
   ],
   "source": [
    "FibonacciList = [fibonacci(i) for i in range(1,10)]\n",
    "FibonacciList"
   ]
  },
  {
   "cell_type": "markdown",
   "id": "67c7f967",
   "metadata": {},
   "source": [
    "### 4. Write a Python Program to Check Armstrong Number?"
   ]
  },
  {
   "cell_type": "code",
   "execution_count": 7,
   "id": "9bea3f62",
   "metadata": {},
   "outputs": [],
   "source": [
    "def ArmstrongCheck(x : int) -> str:\n",
    "    \n",
    "    '''This Function checks whether an int is Armstrong Number or Not'''\n",
    "    \n",
    "    NoList = []\n",
    "    for i in str(x):\n",
    "        if len(str(x)) == 3:\n",
    "            NoList.append(int(i)*int(i)*int(i))\n",
    "        elif len(str(x)) == 4:\n",
    "            NoList.append(int(i)*int(i)*int(i)*int(i))\n",
    "        else:\n",
    "            None\n",
    "    counter = 0\n",
    "    for ele in NoList:\n",
    "        counter += ele\n",
    "    if counter == x:\n",
    "        return f'{x} is a Armstrong Number'\n",
    "    else:\n",
    "        return f'{x} is not a Armstrong Number'"
   ]
  },
  {
   "cell_type": "code",
   "execution_count": 8,
   "id": "5c1777a0",
   "metadata": {},
   "outputs": [
    {
     "data": {
      "text/plain": [
       "('9474 is a Armstrong Number', '123 is not a Armstrong Number')"
      ]
     },
     "execution_count": 8,
     "metadata": {},
     "output_type": "execute_result"
    }
   ],
   "source": [
    "ArmstrongCheck(9474),ArmstrongCheck(123)"
   ]
  },
  {
   "cell_type": "markdown",
   "id": "3fb0343c",
   "metadata": {},
   "source": [
    "### 5. Write a Python Program to Find Armstrong Number in an Interval?"
   ]
  },
  {
   "cell_type": "code",
   "execution_count": 9,
   "id": "4d4a0450",
   "metadata": {},
   "outputs": [],
   "source": [
    "def ArmstrongCheckIN(x : range) -> list:\n",
    "    \n",
    "    '''This Function Takes int (range) as an input and provide list of Armstrong Numbers within a given range'''\n",
    "    \n",
    "    ListOfArmstrong = []\n",
    "    for i in range(1,x):\n",
    "        if ArmstrongCheck(i) == f'{i} is a Armstrong Number':\n",
    "            ListOfArmstrong.append(i)\n",
    "    return ListOfArmstrong"
   ]
  },
  {
   "cell_type": "code",
   "execution_count": 10,
   "id": "c8a9b302",
   "metadata": {},
   "outputs": [
    {
     "data": {
      "text/plain": [
       "[153, 370, 371, 407, 1634, 8208, 9474]"
      ]
     },
     "execution_count": 10,
     "metadata": {},
     "output_type": "execute_result"
    }
   ],
   "source": [
    "ArmstrongCheckIN(10000)"
   ]
  },
  {
   "cell_type": "markdown",
   "id": "e3ea1026",
   "metadata": {},
   "source": [
    "### 6. Write a Python Program to Find the Sum of Natural Numbers?"
   ]
  },
  {
   "cell_type": "code",
   "execution_count": 11,
   "id": "ab911d49",
   "metadata": {},
   "outputs": [],
   "source": [
    "def NaturalNumberSum(x : range) -> int:\n",
    "    \n",
    "    '''This Function returns sum of Natural Numbers provided its range'''\n",
    "    \n",
    "    counter = 0\n",
    "    for i in range(1,x+1):\n",
    "        counter += i\n",
    "    return counter"
   ]
  },
  {
   "cell_type": "code",
   "execution_count": 12,
   "id": "77adc582",
   "metadata": {},
   "outputs": [
    {
     "data": {
      "text/plain": [
       "5050"
      ]
     },
     "execution_count": 12,
     "metadata": {},
     "output_type": "execute_result"
    }
   ],
   "source": [
    "NaturalNumberSum(100)"
   ]
  }
 ],
 "metadata": {
  "kernelspec": {
   "display_name": "Python 3 (ipykernel)",
   "language": "python",
   "name": "python3"
  },
  "language_info": {
   "codemirror_mode": {
    "name": "ipython",
    "version": 3
   },
   "file_extension": ".py",
   "mimetype": "text/x-python",
   "name": "python",
   "nbconvert_exporter": "python",
   "pygments_lexer": "ipython3",
   "version": "3.9.7"
  }
 },
 "nbformat": 4,
 "nbformat_minor": 5
}

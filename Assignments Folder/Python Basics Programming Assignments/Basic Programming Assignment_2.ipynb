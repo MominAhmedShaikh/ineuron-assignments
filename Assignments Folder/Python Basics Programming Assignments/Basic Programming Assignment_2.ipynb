{
 "cells": [
  {
   "cell_type": "markdown",
   "id": "193f655f",
   "metadata": {},
   "source": [
    "# Assignment 2 : Python Programming Basic"
   ]
  },
  {
   "cell_type": "markdown",
   "id": "57d9e676",
   "metadata": {},
   "source": [
    "### 1. Write a Python program to convert kilometers to miles?"
   ]
  },
  {
   "cell_type": "code",
   "execution_count": 1,
   "id": "0b6df9ed",
   "metadata": {},
   "outputs": [
    {
     "data": {
      "text/plain": [
       "1.242742"
      ]
     },
     "execution_count": 1,
     "metadata": {},
     "output_type": "execute_result"
    }
   ],
   "source": [
    "def Km_to_miles(km : int):\n",
    "    '''This Function converts KM to Miles'''\n",
    "    \n",
    "    mile = 0.621371\n",
    "    return km*mile\n",
    "\n",
    "\n",
    "Km_to_miles(2)"
   ]
  },
  {
   "cell_type": "markdown",
   "id": "ef47ce3b",
   "metadata": {},
   "source": [
    "### 2. Write a Python program to convert Celsius to Fahrenheit?"
   ]
  },
  {
   "cell_type": "code",
   "execution_count": 2,
   "id": "8f06a875",
   "metadata": {},
   "outputs": [
    {
     "data": {
      "text/plain": [
       "33.8"
      ]
     },
     "execution_count": 2,
     "metadata": {},
     "output_type": "execute_result"
    }
   ],
   "source": [
    "def Celsius_to_Farenhite(C : int) -> float:\n",
    "    '''This Function converts Celsius to Farenhite'''\n",
    "    \n",
    "    Farenhite = (C * 9/5) + 32\n",
    "    \n",
    "    return Farenhite\n",
    "\n",
    "Celsius_to_Farenhite(1)"
   ]
  },
  {
   "cell_type": "markdown",
   "id": "8504b958",
   "metadata": {},
   "source": [
    "### 3. Write a Python program to display calendar?"
   ]
  },
  {
   "cell_type": "code",
   "execution_count": 3,
   "id": "e99e8858",
   "metadata": {},
   "outputs": [
    {
     "name": "stdout",
     "output_type": "stream",
     "text": [
      "                                  2022\n",
      "\n",
      "      January                   February                   March\n",
      "Mo Tu We Th Fr Sa Su      Mo Tu We Th Fr Sa Su      Mo Tu We Th Fr Sa Su\n",
      "                1  2          1  2  3  4  5  6          1  2  3  4  5  6\n",
      " 3  4  5  6  7  8  9       7  8  9 10 11 12 13       7  8  9 10 11 12 13\n",
      "10 11 12 13 14 15 16      14 15 16 17 18 19 20      14 15 16 17 18 19 20\n",
      "17 18 19 20 21 22 23      21 22 23 24 25 26 27      21 22 23 24 25 26 27\n",
      "24 25 26 27 28 29 30      28                        28 29 30 31\n",
      "31\n",
      "\n",
      "       April                      May                       June\n",
      "Mo Tu We Th Fr Sa Su      Mo Tu We Th Fr Sa Su      Mo Tu We Th Fr Sa Su\n",
      "             1  2  3                         1             1  2  3  4  5\n",
      " 4  5  6  7  8  9 10       2  3  4  5  6  7  8       6  7  8  9 10 11 12\n",
      "11 12 13 14 15 16 17       9 10 11 12 13 14 15      13 14 15 16 17 18 19\n",
      "18 19 20 21 22 23 24      16 17 18 19 20 21 22      20 21 22 23 24 25 26\n",
      "25 26 27 28 29 30         23 24 25 26 27 28 29      27 28 29 30\n",
      "                          30 31\n",
      "\n",
      "        July                     August                  September\n",
      "Mo Tu We Th Fr Sa Su      Mo Tu We Th Fr Sa Su      Mo Tu We Th Fr Sa Su\n",
      "             1  2  3       1  2  3  4  5  6  7                1  2  3  4\n",
      " 4  5  6  7  8  9 10       8  9 10 11 12 13 14       5  6  7  8  9 10 11\n",
      "11 12 13 14 15 16 17      15 16 17 18 19 20 21      12 13 14 15 16 17 18\n",
      "18 19 20 21 22 23 24      22 23 24 25 26 27 28      19 20 21 22 23 24 25\n",
      "25 26 27 28 29 30 31      29 30 31                  26 27 28 29 30\n",
      "\n",
      "      October                   November                  December\n",
      "Mo Tu We Th Fr Sa Su      Mo Tu We Th Fr Sa Su      Mo Tu We Th Fr Sa Su\n",
      "                1  2          1  2  3  4  5  6                1  2  3  4\n",
      " 3  4  5  6  7  8  9       7  8  9 10 11 12 13       5  6  7  8  9 10 11\n",
      "10 11 12 13 14 15 16      14 15 16 17 18 19 20      12 13 14 15 16 17 18\n",
      "17 18 19 20 21 22 23      21 22 23 24 25 26 27      19 20 21 22 23 24 25\n",
      "24 25 26 27 28 29 30      28 29 30                  26 27 28 29 30 31\n",
      "31\n",
      "\n"
     ]
    }
   ],
   "source": [
    "import calendar\n",
    "\n",
    "def Display_calender(year : int):\n",
    "    '''This Program displays Calender based on input'''\n",
    "    return print(calendar.calendar(year))\n",
    "\n",
    "Display_calender(2022)"
   ]
  },
  {
   "cell_type": "markdown",
   "id": "e60c2b9f",
   "metadata": {},
   "source": [
    "### 4. Write a Python program to solve quadratic equation?"
   ]
  },
  {
   "cell_type": "code",
   "execution_count": 4,
   "id": "00b2d2e8",
   "metadata": {},
   "outputs": [
    {
     "data": {
      "text/plain": [
       "'The two solution of a Quadratic Equation 1x^2 + 5x + 6 are -3.0 and -2.0'"
      ]
     },
     "execution_count": 4,
     "metadata": {},
     "output_type": "execute_result"
    }
   ],
   "source": [
    "import cmath\n",
    "\n",
    "def solve_quad(a,b,c):\n",
    "    \n",
    "    '''This Function will solve a quadratic equation, which, In it's general form is ax^2 + bx + c'''\n",
    "    \n",
    "    discriminent = (b**2) - (4*a*c)\n",
    "    x1 = (-b-cmath.sqrt(discriminent))/(2*a)\n",
    "    x2 = (-b+cmath.sqrt(discriminent))/(2*a)\n",
    "    return f'The two solution of a Quadratic Equation {a}x^2 + {b}x + {c} are ' + str(x1.real) +' and '+ str(x2.real)\n",
    "\n",
    "solve_quad(1,5,6)"
   ]
  },
  {
   "cell_type": "markdown",
   "id": "cf975bcf",
   "metadata": {},
   "source": [
    "### 5. Write a Python program to swap two variables without temp variable?"
   ]
  },
  {
   "cell_type": "code",
   "execution_count": 5,
   "id": "a21ed521",
   "metadata": {},
   "outputs": [
    {
     "data": {
      "text/plain": [
       "(6, 1)"
      ]
     },
     "execution_count": 5,
     "metadata": {},
     "output_type": "execute_result"
    }
   ],
   "source": [
    "def Swapper(x : any ,y : any ) -> any:\n",
    "    \n",
    "    '''This Program Swaps Two parameters be it str,bool,float or any other dtype without using a temperory var'''\n",
    "    \n",
    "    x,y = y,x\n",
    "    return x,y\n",
    "\n",
    "Swapper(1,6)"
   ]
  }
 ],
 "metadata": {
  "kernelspec": {
   "display_name": "Python 3 (ipykernel)",
   "language": "python",
   "name": "python3"
  },
  "language_info": {
   "codemirror_mode": {
    "name": "ipython",
    "version": 3
   },
   "file_extension": ".py",
   "mimetype": "text/x-python",
   "name": "python",
   "nbconvert_exporter": "python",
   "pygments_lexer": "ipython3",
   "version": "3.9.7"
  }
 },
 "nbformat": 4,
 "nbformat_minor": 5
}

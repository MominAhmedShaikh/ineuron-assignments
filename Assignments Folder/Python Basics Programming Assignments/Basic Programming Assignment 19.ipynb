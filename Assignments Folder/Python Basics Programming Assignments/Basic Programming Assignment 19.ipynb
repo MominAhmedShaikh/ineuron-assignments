{
 "cells": [
  {
   "cell_type": "markdown",
   "id": "909aae01",
   "metadata": {},
   "source": [
    "# Assignment 19 : Python Programming Basic"
   ]
  },
  {
   "cell_type": "markdown",
   "id": "b304f855",
   "metadata": {},
   "source": [
    "### 1.Create a function that takes a string and returns a string in which each character is repeated once.<br>\n",
    "**Examples:**<br>\n",
    "`double_char(\"String\") ➞ \"SSttrriinngg\"`<br>\n",
    "`double_char(\"Hello World!\") ➞ \"HHeelllloo WWoorrlldd!!\"`<br>\n",
    "`doublechar(\"1234!_\") ➞ \"11223344!!__\"`<br>"
   ]
  },
  {
   "cell_type": "code",
   "execution_count": 1,
   "id": "8088965a",
   "metadata": {},
   "outputs": [],
   "source": [
    "def double_char():\n",
    "    in_string = input('Enter the string here!!')\n",
    "    out_string = \"\".join(i*2 for i in in_string)\n",
    "    return out_string"
   ]
  },
  {
   "cell_type": "code",
   "execution_count": 2,
   "id": "f4b53b86",
   "metadata": {},
   "outputs": [
    {
     "name": "stdout",
     "output_type": "stream",
     "text": [
      "Enter the string here!!SSttrriinngg\n"
     ]
    },
    {
     "data": {
      "text/plain": [
       "'SSSSttttrrrriiiinnnngggg'"
      ]
     },
     "execution_count": 2,
     "metadata": {},
     "output_type": "execute_result"
    }
   ],
   "source": [
    "double_char()"
   ]
  },
  {
   "cell_type": "markdown",
   "id": "fc0a1523",
   "metadata": {},
   "source": [
    "### 2.Create a function that reverses a boolean value and returns the string \"boolean expected\" if another variable type is given.<br>\n",
    "**Examples:**<br>\n",
    "`reverse(True) ➞ False`<br>\n",
    "`reverse(False) ➞ True`<br>\n",
    "`reverse(0) ➞ \"boolean expected\"`<br>\n",
    "`reverse(None) ➞ \"boolean expected\"`<br>"
   ]
  },
  {
   "cell_type": "code",
   "execution_count": 3,
   "id": "6a4621ca",
   "metadata": {},
   "outputs": [],
   "source": [
    "def reverse(a):\n",
    "    if type(a) == bool:\n",
    "        if a == True:\n",
    "            return False\n",
    "        else:\n",
    "            return True\n",
    "    else:\n",
    "        print(\"boolean expected\")"
   ]
  },
  {
   "cell_type": "code",
   "execution_count": 4,
   "id": "eabf8da5",
   "metadata": {},
   "outputs": [
    {
     "data": {
      "text/plain": [
       "True"
      ]
     },
     "execution_count": 4,
     "metadata": {},
     "output_type": "execute_result"
    }
   ],
   "source": [
    "reverse(False)"
   ]
  },
  {
   "cell_type": "code",
   "execution_count": 5,
   "id": "d3a82331",
   "metadata": {},
   "outputs": [
    {
     "name": "stdout",
     "output_type": "stream",
     "text": [
      "boolean expected\n"
     ]
    }
   ],
   "source": [
    "reverse(0)"
   ]
  },
  {
   "cell_type": "markdown",
   "id": "2615bd15",
   "metadata": {},
   "source": [
    "### 3. Create a function that returns the thickness (in meters) of a piece of paper after folding it n number of times. The paper starts off with a thickness of 0.5mm.<br>\n",
    "**Examples:**<br>\n",
    "`num_layers(1) ➞ \"0.001m\" # Paper folded once is 1mm (equal to 0.001m) num_layers(4) ➞ \"0.008m\" # Paper folded 4 times is 8mm (equal to 0.008m) num_layers(21) ➞ \"1048.576m\" # Paper folded 21 times is 1048576mm (equal to 1048.576m)`"
   ]
  },
  {
   "cell_type": "code",
   "execution_count": 6,
   "id": "d25289fc",
   "metadata": {},
   "outputs": [],
   "source": [
    "def num_layers(n):\n",
    "    start_size = 0.5\n",
    "    new_fold_size = (n*0.001/start_size)\n",
    "    return f\"Paper folded {n} times is {round(new_fold_size*1000)}mm (equal to {new_fold_size}m)\""
   ]
  },
  {
   "cell_type": "code",
   "execution_count": 7,
   "id": "5934b72a",
   "metadata": {},
   "outputs": [
    {
     "data": {
      "text/plain": [
       "'Paper folded 4 times is 8mm (equal to 0.008m)'"
      ]
     },
     "execution_count": 7,
     "metadata": {},
     "output_type": "execute_result"
    }
   ],
   "source": [
    "num_layers(4)"
   ]
  },
  {
   "cell_type": "markdown",
   "id": "b10a7dfb",
   "metadata": {},
   "source": [
    "### 4.Create a function that takes a single string as argument and returns an ordered list containing the indices of all capital letters in the string.<br>\n",
    "**Examples:**<br>\n",
    "`index_of_caps(\"eDaBiT\") ➞ [1, 3, 5]`<br>\n",
    "`index_of_caps(\"eQuINoX\") ➞ [1, 3, 4, 6]`<br>\n",
    "`index_of_caps(\"determine\") ➞ []`<br>\n",
    "`index_of_caps(\"STRIKE\") ➞ [0, 1, 2, 3, 4, 5]`<br>\n",
    "`index_of_caps(\"sUn\") ➞ [1]`<br>"
   ]
  },
  {
   "cell_type": "code",
   "execution_count": 8,
   "id": "1b4c20c5",
   "metadata": {},
   "outputs": [],
   "source": [
    "def index_of_caps(in_string):\n",
    "    out_list = [in_string.index(word) for word in in_string if word.isupper() == True]\n",
    "    return out_list"
   ]
  },
  {
   "cell_type": "code",
   "execution_count": 9,
   "id": "2583a244",
   "metadata": {},
   "outputs": [
    {
     "data": {
      "text/plain": [
       "[1, 3, 5]"
      ]
     },
     "execution_count": 9,
     "metadata": {},
     "output_type": "execute_result"
    }
   ],
   "source": [
    "index_of_caps(\"eDaBiT\")"
   ]
  },
  {
   "cell_type": "markdown",
   "id": "a2c11671",
   "metadata": {},
   "source": [
    "### 5.Using list comprehensions, create a function that finds all even numbers from 1 to the given number.<br>\n",
    "**Examples:**<br>\n",
    "`find_even_nums(8) ➞ [2, 4, 6, 8]`<br>\n",
    "`find_even_nums(4) ➞ [2, 4]`<br>\n",
    "`find_even_nums(2) ➞ [2]`<br>"
   ]
  },
  {
   "cell_type": "code",
   "execution_count": 10,
   "id": "4ff4110a",
   "metadata": {},
   "outputs": [],
   "source": [
    "def find_even_nums(x):\n",
    "    even_list = [i for i in range(1,x+1) if i % 2 == 0]\n",
    "    return even_list"
   ]
  },
  {
   "cell_type": "code",
   "execution_count": 11,
   "id": "5690122c",
   "metadata": {},
   "outputs": [
    {
     "data": {
      "text/plain": [
       "[2, 4, 6, 8]"
      ]
     },
     "execution_count": 11,
     "metadata": {},
     "output_type": "execute_result"
    }
   ],
   "source": [
    "find_even_nums(8)"
   ]
  }
 ],
 "metadata": {
  "kernelspec": {
   "display_name": "Python 3 (ipykernel)",
   "language": "python",
   "name": "python3"
  },
  "language_info": {
   "codemirror_mode": {
    "name": "ipython",
    "version": 3
   },
   "file_extension": ".py",
   "mimetype": "text/x-python",
   "name": "python",
   "nbconvert_exporter": "python",
   "pygments_lexer": "ipython3",
   "version": "3.9.15"
  }
 },
 "nbformat": 4,
 "nbformat_minor": 5
}

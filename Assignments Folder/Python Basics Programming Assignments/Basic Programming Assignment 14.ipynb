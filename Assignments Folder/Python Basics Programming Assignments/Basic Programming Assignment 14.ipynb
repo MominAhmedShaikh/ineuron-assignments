{
 "cells": [
  {
   "cell_type": "markdown",
   "id": "e7e298ff",
   "metadata": {},
   "source": [
    "# Assignment 14 : Python Programming Basic"
   ]
  },
  {
   "cell_type": "markdown",
   "id": "c5a1a8be",
   "metadata": {},
   "source": [
    "### 1 . Define a class with a generator which can iterate the numbers, which are divisible by 7, between a given range 0 and n?"
   ]
  },
  {
   "cell_type": "code",
   "execution_count": 1,
   "id": "2d11bfd1",
   "metadata": {},
   "outputs": [],
   "source": [
    "class Maths:\n",
    "    def divideBySeven(x,y):\n",
    "        for i in range(x,y):\n",
    "            if i % 7 == 0:\n",
    "                yield i\n",
    "                \n",
    "seven = Maths.divideBySeven(0,100)"
   ]
  },
  {
   "cell_type": "code",
   "execution_count": 2,
   "id": "9a7f537c",
   "metadata": {},
   "outputs": [
    {
     "name": "stdout",
     "output_type": "stream",
     "text": [
      "0 7 14 21 28 35 42 49 56 63 70 77 84 91 98 "
     ]
    }
   ],
   "source": [
    "for num in seven:\n",
    "    print(num,end = ' ')"
   ]
  },
  {
   "cell_type": "markdown",
   "id": "13ff292f",
   "metadata": {},
   "source": [
    "### 2 . Write a program to compute the frequency of the words from the input. The output should output after sorting the key alphanumerically.\n",
    "\n",
    "Suppose the following input is supplied to the program:<br>\n",
    "`New to Python or choosing between Python 2 and Python 3? Read Python 2 or Python 3.`<br>\n",
    "Then, the output should be:<br>\n",
    "`2:2 3.:1 3?:1 New:1 Python:5 Read:1 and:1 between:1 choosing:1 or:2 to:1`\n",
    "\n"
   ]
  },
  {
   "cell_type": "code",
   "execution_count": 3,
   "id": "88a0cfbe",
   "metadata": {},
   "outputs": [],
   "source": [
    "def Freq():\n",
    "    a = input()\n",
    "    b = a.split(' ')\n",
    "    freq = {}\n",
    "    for i in b:\n",
    "        if i in freq:\n",
    "            freq[i] += 1\n",
    "        else:\n",
    "            freq[i] = 1\n",
    "    sorted_freq = dict(sorted(freq.items()))\n",
    "    return sorted_freq"
   ]
  },
  {
   "cell_type": "code",
   "execution_count": 4,
   "id": "16fee638",
   "metadata": {},
   "outputs": [
    {
     "name": "stdout",
     "output_type": "stream",
     "text": [
      "New to Python or choosing between Python 2 and Python 3? Read Python 2 or Python 3\n"
     ]
    },
    {
     "data": {
      "text/plain": [
       "{'2': 2,\n",
       " '3': 1,\n",
       " '3?': 1,\n",
       " 'New': 1,\n",
       " 'Python': 5,\n",
       " 'Read': 1,\n",
       " 'and': 1,\n",
       " 'between': 1,\n",
       " 'choosing': 1,\n",
       " 'or': 2,\n",
       " 'to': 1}"
      ]
     },
     "execution_count": 4,
     "metadata": {},
     "output_type": "execute_result"
    }
   ],
   "source": [
    "Freq()"
   ]
  },
  {
   "cell_type": "markdown",
   "id": "a73e011c",
   "metadata": {},
   "source": [
    "### 3 . Define a class Person and its two child classes: Male and Female. All classes have a method \"getGender\" which can print \"Male\" for Male class and \"Female\" for Female class.?"
   ]
  },
  {
   "cell_type": "code",
   "execution_count": 5,
   "id": "5dafb628",
   "metadata": {},
   "outputs": [],
   "source": [
    "class Person:\n",
    "    def getGender():\n",
    "        pass\n",
    "    \n",
    "class Male(Person):\n",
    "    def getGender():\n",
    "        print('Male')\n",
    "        \n",
    "class Female(Person):\n",
    "    def getGender():\n",
    "        print('Female')"
   ]
  },
  {
   "cell_type": "markdown",
   "id": "72b3c78a",
   "metadata": {},
   "source": [
    "### 4 . Please write a program to generate all sentences where subject is in [\"I\", \"You\"] and verb is in [\"Play\", \"Love\"] and the object is in [\"Hockey\",\"Football\"] ?"
   ]
  },
  {
   "cell_type": "code",
   "execution_count": 6,
   "id": "077aa560",
   "metadata": {},
   "outputs": [
    {
     "name": "stdout",
     "output_type": "stream",
     "text": [
      "I Play Hockey\n",
      "I Play Football\n",
      "I Love Hockey\n",
      "I Love Football\n",
      "You Play Hockey\n",
      "You Play Football\n",
      "You Love Hockey\n",
      "You Love Football\n"
     ]
    }
   ],
   "source": [
    "def SentGen():\n",
    "    sub = ['I','You']\n",
    "    verb = ['Play','Love']\n",
    "    obj = ['Hockey','Football']\n",
    "    for i in sub:\n",
    "        for j in verb:\n",
    "            for k in obj:\n",
    "                print(f'{i} {j} {k}')\n",
    "SentGen()"
   ]
  },
  {
   "cell_type": "markdown",
   "id": "f6073508",
   "metadata": {},
   "source": [
    "### 5 . Please write a program to compress and decompress the string \"hello world!hello world!hello world!hello world!\" ?"
   ]
  },
  {
   "cell_type": "code",
   "execution_count": 7,
   "id": "ae76665b",
   "metadata": {},
   "outputs": [
    {
     "name": "stdout",
     "output_type": "stream",
     "text": [
      "b'\\x1f\\x8b\\x08\\x00\\x8e\\x19~c\\x02\\xff\\xcbH\\xcd\\xc9\\xc9W(\\xcf/\\xcaIQ\\xcc \\x82\\r\\x00\\xd3\\xe6\\xcf\\xae0\\x00\\x00\\x00'\n",
      "b'hello world!hello world!hello world!hello world!'\n"
     ]
    }
   ],
   "source": [
    "import gzip\n",
    "s = b'hello world!hello world!hello world!hello world!'\n",
    "s = gzip.compress(s)\n",
    "print(s)\n",
    "  \n",
    "t = gzip.decompress(s)\n",
    "print(t)"
   ]
  },
  {
   "cell_type": "markdown",
   "id": "0c8a1d57",
   "metadata": {},
   "source": [
    "### 6 . Please write a binary search function which searches an item in a sorted list. The function should return the index of element to be searched in the list ?"
   ]
  },
  {
   "cell_type": "code",
   "execution_count": 8,
   "id": "a74f6107",
   "metadata": {},
   "outputs": [],
   "source": [
    "# Not Known"
   ]
  }
 ],
 "metadata": {
  "kernelspec": {
   "display_name": "Python 3 (ipykernel)",
   "language": "python",
   "name": "python3"
  },
  "language_info": {
   "codemirror_mode": {
    "name": "ipython",
    "version": 3
   },
   "file_extension": ".py",
   "mimetype": "text/x-python",
   "name": "python",
   "nbconvert_exporter": "python",
   "pygments_lexer": "ipython3",
   "version": "3.9.15"
  }
 },
 "nbformat": 4,
 "nbformat_minor": 5
}

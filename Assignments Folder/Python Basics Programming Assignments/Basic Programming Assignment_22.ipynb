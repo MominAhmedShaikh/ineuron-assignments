{
 "cells": [
  {
   "cell_type": "markdown",
   "id": "4e7833f6",
   "metadata": {},
   "source": [
    "# Assignment 22 : Python Programming Basic"
   ]
  },
  {
   "cell_type": "markdown",
   "id": "c8adfa21",
   "metadata": {},
   "source": [
    "### 1 . Create a function that takes three parameters where:<br>\n",
    "`x is the start of the range (inclusive).`<br>\n",
    "`y is the end of the range (inclusive).`<br>\n",
    "`n is the divisor to be checked against.`<br>\n",
    "\n",
    "`Return an ordered list with numbers in the range that are divisible by the third parameter n. Return an empty list if there are no numbers that are divisible by n. `<br>\n",
    "\n",
    "**Examples:**<br>\n",
    "`list_operation(1, 10, 3) ➞ [3, 6, 9]`<br>\n",
    "`list_operation(7, 9, 2) ➞ [8]`<br>\n",
    "`list_operation(15, 20, 7) ➞ []`<br>"
   ]
  },
  {
   "cell_type": "code",
   "execution_count": 1,
   "id": "acc415be",
   "metadata": {},
   "outputs": [],
   "source": [
    "def list_operation(x,y,n):\n",
    "    out_list = [num for num in range(x,y+1) if num % n == 0]\n",
    "    return out_list"
   ]
  },
  {
   "cell_type": "code",
   "execution_count": 2,
   "id": "af5ace25",
   "metadata": {},
   "outputs": [
    {
     "name": "stdout",
     "output_type": "stream",
     "text": [
      "[3, 6, 9]\n",
      "[8]\n",
      "[]\n"
     ]
    }
   ],
   "source": [
    "print(list_operation(1, 10, 3))\n",
    "print(list_operation(7, 9, 2))\n",
    "print(list_operation(15, 20, 7))"
   ]
  },
  {
   "cell_type": "markdown",
   "id": "fed0c78e",
   "metadata": {},
   "source": [
    "### 2 . Create a function that takes in two lists and returns True if the second list follows the first list by one element, and False otherwise. In other words, determine if the second list is the first list shifted to the right by 1.<br>\n",
    "**Examples:**<br>\n",
    "`simon_says([1, 2], [5, 1]) ➞ True`<br>\n",
    "`simon_says([1, 2], [5, 5]) ➞ False`<br>\n",
    "`simon_says([1, 2, 3, 4, 5], [0, 1, 2, 3, 4]) ➞ True`<br>\n",
    "`simon_says([1, 2, 3, 4, 5], [5, 5, 1, 2, 3]) ➞ False`<br>\n",
    "\n",
    "**Notes:**<br>\n",
    "<mark>1. Both input lists will be of the same length, and will have a minimum length of 2.<br>\n",
    "<mark>2. The values of the 0-indexed element in the second list and the n-1th indexed element in the first list do not matter.<br>"
   ]
  },
  {
   "cell_type": "code",
   "execution_count": 3,
   "id": "4aa614e7",
   "metadata": {},
   "outputs": [],
   "source": [
    "def simon_says(x1:list,x2:list)->list:\n",
    "    if len(x1) == len(x2) and len(x1) >1 and len(x2) >1:\n",
    "        if(x1[:-1] == x2[1:]):\n",
    "            return True\n",
    "        else:\n",
    "            return False"
   ]
  },
  {
   "cell_type": "code",
   "execution_count": 4,
   "id": "825d1307",
   "metadata": {},
   "outputs": [
    {
     "name": "stdout",
     "output_type": "stream",
     "text": [
      "O/P 1 -> True\n",
      "O/P 2 -> False\n",
      "O/P 3 -> True\n",
      "O/P 4 -> False\n"
     ]
    }
   ],
   "source": [
    "print(\"O/P 1 ->\",simon_says([1, 2], [5, 1]))\n",
    "print(\"O/P 2 ->\",simon_says([1, 2], [5, 5]))\n",
    "print(\"O/P 3 ->\",simon_says([1, 2, 3, 4, 5], [0, 1, 2, 3, 4]))\n",
    "print(\"O/P 4 ->\",simon_says([1, 2, 3, 4, 5], [5, 5, 1, 2, 3]))"
   ]
  },
  {
   "cell_type": "markdown",
   "id": "bfab0d98",
   "metadata": {},
   "source": [
    "### 3 . A group of friends have decided to start a secret society. The name will be the first letter of each of their names, sorted in a alphabetical order ? Create a function that takes in a list of names and returns the name of the secret society ?<br>\n",
    "**Examples:**<br>\n",
    "`society_name([\"Adam\", \"Sarah\", \"Malcolm\"]) ➞ \"AMS\"`<br>\n",
    "`society_name([\"Harry\", \"Newt\", \"Luna\", \"Cho\"]) ➞ \"CHLN\"`<br>\n",
    "`society_name([\"Phoebe\", \"Chandler\", \"Rachel\", \"Ross\", \"Monica\", \"Joey\"])➞ \"CJMPRR\"`<br>"
   ]
  },
  {
   "cell_type": "code",
   "execution_count": 5,
   "id": "124c15b9",
   "metadata": {},
   "outputs": [],
   "source": [
    "def society_name(list_in:list)->str:\n",
    "    list_out = []\n",
    "    for ele in list_in:\n",
    "        for sec_ele in ele:\n",
    "            if sec_ele.isupper():\n",
    "                list_out.append(sec_ele)\n",
    "    return \"\".join(ele for ele in sorted(list_out))"
   ]
  },
  {
   "cell_type": "code",
   "execution_count": 6,
   "id": "2d851a36",
   "metadata": {},
   "outputs": [
    {
     "name": "stdout",
     "output_type": "stream",
     "text": [
      "O/P 1 ->  AMS\n",
      "O/P 1 ->  CHLN\n",
      "O/P 1 ->  CJMPRR\n"
     ]
    }
   ],
   "source": [
    "print(\"O/P 1 -> \",society_name([\"Adam\", \"Sarah\", \"Malcolm\"]))\n",
    "print(\"O/P 1 -> \",society_name([\"Harry\", \"Newt\", \"Luna\", \"Cho\"]))\n",
    "print(\"O/P 1 -> \",society_name([\"Phoebe\", \"Chandler\", \"Rachel\", \"Ross\", \"Monica\", \"Joey\"]))"
   ]
  },
  {
   "cell_type": "markdown",
   "id": "d8c3fb18",
   "metadata": {},
   "source": [
    "### 4 . An isogram is a word that has no duplicate letters. Create a function that takes a string and returns either True or False depending on whether or not it's an \"isogram\".<br>\n",
    "**Examples:**<br>\n",
    "`is_isogram(\"Algorism\") ➞ True`<br>\n",
    "`is_isogram(\"PasSword\") ➞ False`<br>\n",
    "`# Not case sensitive.`<br>\n",
    "`is_isogram(\"Consecutive\") ➞ False`<br>\n",
    "\n",
    "**Notes:**<br>\n",
    "<mark>Ignore letter case (should not be case sensitive).\n",
    "All test cases contain valid one word strings."
   ]
  },
  {
   "cell_type": "code",
   "execution_count": 7,
   "id": "6968a42a",
   "metadata": {},
   "outputs": [],
   "source": [
    "def is_isogram(x:str)->bool:\n",
    "    if len(x.lower()) == len(set(x.lower())):\n",
    "        return True\n",
    "    else:\n",
    "        return False"
   ]
  },
  {
   "cell_type": "code",
   "execution_count": 8,
   "id": "6e564bfb",
   "metadata": {},
   "outputs": [
    {
     "name": "stdout",
     "output_type": "stream",
     "text": [
      "O/P 1 -> True\n",
      "O/P 2 -> False\n",
      "O/P 3 -> False\n"
     ]
    }
   ],
   "source": [
    "print(\"O/P 1 ->\",is_isogram(\"Algorism\"))\n",
    "print(\"O/P 2 ->\",is_isogram(\"PasSword\"))\n",
    "print(\"O/P 3 ->\",is_isogram(\"Consecutive\"))"
   ]
  },
  {
   "cell_type": "markdown",
   "id": "98fce952",
   "metadata": {},
   "source": [
    "### 5 . Create a function that takes a string and returns True or False, depending on whether the characters are in order or not ?<br>\n",
    "**Examples:**<br>\n",
    "`is_in_order(\"abc\") ➞ True`<br>\n",
    "`is_in_order(\"edabit\") ➞ False`<br>\n",
    "`is_in_order(\"123\") ➞ True`<br>\n",
    "`is_in_order(\"xyzz\") ➞ True`<br>\n",
    "\n",
    "**Notes:**<br>\n",
    "<mark>You don't have to handle empty strings."
   ]
  },
  {
   "cell_type": "code",
   "execution_count": 9,
   "id": "af628e06",
   "metadata": {},
   "outputs": [],
   "source": [
    "def is_in_order(x:str)->bool:\n",
    "    if x == \"\".join(ele for ele in sorted(x)):\n",
    "        return True\n",
    "    else:\n",
    "        return False"
   ]
  },
  {
   "cell_type": "code",
   "execution_count": 10,
   "id": "8b59f6d3",
   "metadata": {},
   "outputs": [
    {
     "name": "stdout",
     "output_type": "stream",
     "text": [
      "O/P 1 -> True\n",
      "O/P 2 -> False\n",
      "O/P 3 -> True\n",
      "O/P 4 -> True\n"
     ]
    }
   ],
   "source": [
    "print(\"O/P 1 ->\",is_in_order(\"abc\"))\n",
    "print(\"O/P 2 ->\",is_in_order(\"edabit\"))\n",
    "print(\"O/P 3 ->\",is_in_order(\"123\"))\n",
    "print(\"O/P 4 ->\",is_in_order(\"xyzz\"))"
   ]
  }
 ],
 "metadata": {
  "kernelspec": {
   "display_name": "Python 3 (ipykernel)",
   "language": "python",
   "name": "python3"
  },
  "language_info": {
   "codemirror_mode": {
    "name": "ipython",
    "version": 3
   },
   "file_extension": ".py",
   "mimetype": "text/x-python",
   "name": "python",
   "nbconvert_exporter": "python",
   "pygments_lexer": "ipython3",
   "version": "3.9.15"
  }
 },
 "nbformat": 4,
 "nbformat_minor": 5
}

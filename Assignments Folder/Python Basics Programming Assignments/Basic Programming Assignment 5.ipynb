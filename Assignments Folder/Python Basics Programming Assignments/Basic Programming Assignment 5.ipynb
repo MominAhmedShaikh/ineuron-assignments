{
 "cells": [
  {
   "cell_type": "markdown",
   "id": "7b32e14b",
   "metadata": {},
   "source": [
    "# Assignment 5 : Python Programming Basic"
   ]
  },
  {
   "cell_type": "markdown",
   "id": "596a7153",
   "metadata": {},
   "source": [
    "### 1. Write a Python Program to Find LCM?"
   ]
  },
  {
   "cell_type": "code",
   "execution_count": 1,
   "id": "fadc1ebf",
   "metadata": {},
   "outputs": [],
   "source": [
    "def FindLCM(x : int , y : int ,r : range) -> int:\n",
    "    \n",
    "    '''This Function returns Least Common Multiple also known as LCM'''\n",
    "    l1 = [x*i for i in range(1,r)]\n",
    "    l2 = [y*i for i in range(1,r)]\n",
    "    num = [i for i in l2 if i % x == 0]\n",
    "    return num[0]"
   ]
  },
  {
   "cell_type": "code",
   "execution_count": 2,
   "id": "49790c07",
   "metadata": {},
   "outputs": [
    {
     "data": {
      "text/plain": [
       "50"
      ]
     },
     "execution_count": 2,
     "metadata": {},
     "output_type": "execute_result"
    }
   ],
   "source": [
    "FindLCM(10,50,10)"
   ]
  },
  {
   "cell_type": "markdown",
   "id": "133771b0",
   "metadata": {},
   "source": [
    "### 2. Write a Python Program to Find HCF?"
   ]
  },
  {
   "cell_type": "code",
   "execution_count": 3,
   "id": "6aca2fb5",
   "metadata": {},
   "outputs": [],
   "source": [
    "def FindHCF(x : int ,y : int ):\n",
    "    \n",
    "    '''This Function returns Highest Common Factor (HCF)'''\n",
    "    \n",
    "    if x < y:\n",
    "        num = x\n",
    "    else:\n",
    "        num = y\n",
    "    \n",
    "    l1 = [x%i for i in range(1,num)]\n",
    "    l2 = [y%i for i in range(1,num)]\n",
    "    c = [i+1 for i,j in enumerate(l1) if j == 0]\n",
    "    d = [i+1 for i,j in enumerate(l2) if j == 0]\n",
    "    e = [i for i in c if i in d]\n",
    "    \n",
    "    return max(e)"
   ]
  },
  {
   "cell_type": "code",
   "execution_count": 4,
   "id": "3f5e91b1",
   "metadata": {},
   "outputs": [
    {
     "data": {
      "text/plain": [
       "6"
      ]
     },
     "execution_count": 4,
     "metadata": {},
     "output_type": "execute_result"
    }
   ],
   "source": [
    "FindHCF(24,30)"
   ]
  },
  {
   "cell_type": "markdown",
   "id": "84c7e39a",
   "metadata": {},
   "source": [
    "### 3. Write a Python Program to Convert Decimal to Binary, Octal and Hexadecimal?\n"
   ]
  },
  {
   "cell_type": "code",
   "execution_count": 5,
   "id": "56a5b0f6",
   "metadata": {},
   "outputs": [
    {
     "name": "stdout",
     "output_type": "stream",
     "text": [
      "Decimal Number :  1000\n",
      "Decimal to Binary :  0b1111101000\n",
      "Decimal to Octal :  0o1750\n",
      "Decimal to Hexadecimal :  0x3e8\n"
     ]
    }
   ],
   "source": [
    "def Dec_to_Bin_Oct_Hex(x : int):\n",
    "    \n",
    "    '''This Fuction Converts Decimal to Octal & Binary & Hexadecimal'''\n",
    "    \n",
    "    \n",
    "    print('Decimal Number : ', x)\n",
    "    print('Decimal to Binary : ', bin(x))\n",
    "    print('Decimal to Octal : ',oct(x))\n",
    "    print('Decimal to Hexadecimal : ', hex(x))\n",
    "    \n",
    "Dec_to_Bin_Oct_Hex(1000)"
   ]
  },
  {
   "cell_type": "markdown",
   "id": "e6d018b9",
   "metadata": {},
   "source": [
    "### 4. Write a Python Program To Find ASCII value of a character?\n"
   ]
  },
  {
   "cell_type": "code",
   "execution_count": 6,
   "id": "699b9b5f",
   "metadata": {},
   "outputs": [
    {
     "name": "stdout",
     "output_type": "stream",
     "text": [
      "Ascii Character of 1 is 49\n"
     ]
    }
   ],
   "source": [
    "def CharToAscii(x : str):\n",
    "    \n",
    "    '''This function finds ASCII value of a character'''\n",
    "    if len(x) > 1:\n",
    "        print('Please Enter a Single Character')\n",
    "    else:\n",
    "        print(f'Ascii Character of {x} is {ord(x)}')\n",
    "\n",
    "CharToAscii('1')"
   ]
  },
  {
   "cell_type": "markdown",
   "id": "be6f339b",
   "metadata": {},
   "source": [
    "### 5. Write a Python Program to Make a Simple Calculator with 4 basic mathematical operations?"
   ]
  },
  {
   "cell_type": "code",
   "execution_count": 7,
   "id": "a7d0af6f",
   "metadata": {},
   "outputs": [],
   "source": [
    "class Calculator:\n",
    "    \n",
    "    def __init__(self,x : int, y :int ) -> int:\n",
    "        self.x = x\n",
    "        self.y = y\n",
    "        \n",
    "    def __str__(self):\n",
    "        return 'This is a Calculator'\n",
    "        \n",
    "    def addition(self):\n",
    "        return self.x + self.y\n",
    "    \n",
    "    def subtraction(self):\n",
    "        return self.x - self.y\n",
    "    \n",
    "    def multiply(self):\n",
    "        return self.x * self.y\n",
    "        \n",
    "    def division(self):\n",
    "        return self.x / self.y\n"
   ]
  },
  {
   "cell_type": "code",
   "execution_count": 8,
   "id": "2d614ca7",
   "metadata": {},
   "outputs": [
    {
     "name": "stdout",
     "output_type": "stream",
     "text": [
      "64\n",
      "295\n",
      "54\n",
      "11.8\n"
     ]
    }
   ],
   "source": [
    "obj = Calculator(59,5)\n",
    "\n",
    "\n",
    "print(obj.addition())\n",
    "print(obj.multiply())\n",
    "print(obj.subtraction())\n",
    "print(obj.division())"
   ]
  }
 ],
 "metadata": {
  "kernelspec": {
   "display_name": "Python 3 (ipykernel)",
   "language": "python",
   "name": "python3"
  },
  "language_info": {
   "codemirror_mode": {
    "name": "ipython",
    "version": 3
   },
   "file_extension": ".py",
   "mimetype": "text/x-python",
   "name": "python",
   "nbconvert_exporter": "python",
   "pygments_lexer": "ipython3",
   "version": "3.9.7"
  }
 },
 "nbformat": 4,
 "nbformat_minor": 5
}

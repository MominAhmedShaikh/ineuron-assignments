{
 "cells": [
  {
   "cell_type": "markdown",
   "id": "de39467a",
   "metadata": {},
   "source": [
    "# Assignment 18 : Python Programming Basic"
   ]
  },
  {
   "cell_type": "markdown",
   "id": "5ba7638c",
   "metadata": {},
   "source": [
    "### 1.Create a function that take a list of non-negative integers and strings and return a new list without the strings ?<br>\n",
    "**Examples:**<br>\n",
    "`filter_list([1, 2, \"a\", \"b\"]) ➞ [1, 2]`<br>\n",
    "`filter_list([1, \"a\", \"b\", 0, 15]) ➞ [1, 0, 15]`<br>\n",
    "`filter_list([1, 2, \"aasf\", \"1\", \"123\", 123]) ➞ [1, 2, 123]`<br>"
   ]
  },
  {
   "cell_type": "code",
   "execution_count": 1,
   "id": "806162ed",
   "metadata": {},
   "outputs": [],
   "source": [
    "def filter_list(x):\n",
    "    new_list = [i for i in x if type(i) != str]\n",
    "    return new_list"
   ]
  },
  {
   "cell_type": "code",
   "execution_count": 2,
   "id": "8da280b7",
   "metadata": {},
   "outputs": [
    {
     "data": {
      "text/plain": [
       "[1, 2]"
      ]
     },
     "execution_count": 2,
     "metadata": {},
     "output_type": "execute_result"
    }
   ],
   "source": [
    "old_list = [1, 2, \"a\", \"b\"]\n",
    "\n",
    "filter_list(old_list)"
   ]
  },
  {
   "cell_type": "markdown",
   "id": "ff42b767",
   "metadata": {},
   "source": [
    "### 2. The \"Reverser\" takes a string as input and returns that string in reverse order, with the opposite case ?<br>\n",
    "**Examples:**<br>\n",
    "`reverse(\"Hello World\") ➞ \"DLROw OLLEh\"`<br>\n",
    "`reverse(\"ReVeRsE\") ➞ \"eSrEvEr\"`<br>\n",
    "`reverse(\"Radar\") ➞ \"RADAr\"`<br>"
   ]
  },
  {
   "cell_type": "code",
   "execution_count": 3,
   "id": "3cda5da7",
   "metadata": {},
   "outputs": [
    {
     "data": {
      "text/plain": [
       "'DLROw OLLEh'"
      ]
     },
     "execution_count": 3,
     "metadata": {},
     "output_type": "execute_result"
    }
   ],
   "source": [
    "def reverse(x):\n",
    "    x = x.swapcase()\n",
    "    return x[::-1]\n",
    "\n",
    "reverse('Hello World')"
   ]
  },
  {
   "cell_type": "markdown",
   "id": "19c5dea9",
   "metadata": {},
   "source": [
    "### 3.You can assign variables from lists like this:<br>\n",
    "`lst = [1, 2, 3, 4, 5, 6] first = lst[0] middle = lst[1:-1] last = lst[-1] print(first) ➞ outputs 1 print(middle) ➞ outputs [2, 3, 4, 5] print(last) ➞ outputs 6`<br>\n",
    "With Python 3, you can assign variables from lists in a much more succinct way. Create variables first, middle and last from the given list using destructuring assignment<br>\n",
    "(check the Resources tab for some examples), where:<br>\n",
    "`first ➞ 1 middle ➞ [2, 3, 4, 5] last ➞ 6`<br>\n",
    "Your task is to unpack the list writeyourcodehere into three variables, being first, middle, and last, with middle being everything in between the first and last element. Then print all three variables."
   ]
  },
  {
   "cell_type": "code",
   "execution_count": 4,
   "id": "38b10936",
   "metadata": {},
   "outputs": [
    {
     "name": "stdout",
     "output_type": "stream",
     "text": [
      "first -> 1\n",
      "middle -> [2, 3, 4, 5]\n",
      "last -> 6\n"
     ]
    }
   ],
   "source": [
    "first,*middle,last = [1,2,3,4,5,6]\n",
    "print('first ->',first)\n",
    "print('middle ->',middle)\n",
    "print('last ->',last)"
   ]
  },
  {
   "cell_type": "markdown",
   "id": "7a1be2f3",
   "metadata": {},
   "source": [
    "### 4.Write a function that calculates the factorial of a number recursively.<br>\n",
    "**Examples:**<br>\n",
    "`factorial(5) ➞ 120`<br>\n",
    "`factorial(3) ➞ 6`<br>\n",
    "`factorial(1) ➞ 1`<br>\n",
    "`factorial(0) ➞ 1`"
   ]
  },
  {
   "cell_type": "code",
   "execution_count": 5,
   "id": "efd357b2",
   "metadata": {},
   "outputs": [
    {
     "data": {
      "text/plain": [
       "120"
      ]
     },
     "execution_count": 5,
     "metadata": {},
     "output_type": "execute_result"
    }
   ],
   "source": [
    "def recursiveFactorial(x):\n",
    "    if x <=1:\n",
    "        return 1\n",
    "    else:\n",
    "        return x * recursiveFactorial(x-1)\n",
    "\n",
    "recursiveFactorial(5)"
   ]
  },
  {
   "cell_type": "markdown",
   "id": "a8b7a83e",
   "metadata": {},
   "source": [
    "### 5.Write a function that moves all elements of one type to the end of the list.<br>\n",
    "**Examples:**<br>\n",
    "`move_to_end([1, 3, 2, 4, 4, 1], 1) ➞ [3, 2, 4, 4, 1, 1]`<br>\n",
    "`# Move all the 1s to the end of the array.`<br>\n",
    "`move_to_end([7, 8, 9, 1, 2, 3, 4], 9) ➞ [7, 8, 1, 2, 3, 4, 9]`<br>\n",
    "`move_to_end([\"a\", \"a\", \"a\", \"b\"], \"a\") ➞ [\"b\", \"a\", \"a\", \"a\"]`<br>"
   ]
  },
  {
   "cell_type": "code",
   "execution_count": 6,
   "id": "adc931b4",
   "metadata": {},
   "outputs": [
    {
     "data": {
      "text/plain": [
       "[3, 2, 4, 4, 1, 1]"
      ]
     },
     "execution_count": 6,
     "metadata": {},
     "output_type": "execute_result"
    }
   ],
   "source": [
    "list1 = [1,3,2,4,4,1]\n",
    "\n",
    "def move_to_end(old_list,remove_item):\n",
    "    part_a = [i for i in old_list if i != remove_item]\n",
    "    part_b = [i for i in old_list if i == remove_item]\n",
    "    return part_a + part_b\n",
    "\n",
    "move_to_end(list1,1)"
   ]
  }
 ],
 "metadata": {
  "kernelspec": {
   "display_name": "Python 3 (ipykernel)",
   "language": "python",
   "name": "python3"
  },
  "language_info": {
   "codemirror_mode": {
    "name": "ipython",
    "version": 3
   },
   "file_extension": ".py",
   "mimetype": "text/x-python",
   "name": "python",
   "nbconvert_exporter": "python",
   "pygments_lexer": "ipython3",
   "version": "3.9.15"
  }
 },
 "nbformat": 4,
 "nbformat_minor": 5
}

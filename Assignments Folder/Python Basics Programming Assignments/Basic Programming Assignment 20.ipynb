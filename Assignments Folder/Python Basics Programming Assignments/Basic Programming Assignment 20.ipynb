{
 "cells": [
  {
   "cell_type": "markdown",
   "id": "97bbc7f8",
   "metadata": {},
   "source": [
    "# Assignment 20 : Python Programming Basic"
   ]
  },
  {
   "cell_type": "markdown",
   "id": "acbc5155",
   "metadata": {},
   "source": [
    "### 1.Create a function that takes a list of strings and integers, and filters out the list so that it returns a list of integers only.<br>\n",
    "**Examples:**<br>\n",
    "`filter_list([1, 2, 3, \"a\", \"b\", 4]) ➞ [1, 2, 3, 4]`<br>\n",
    "`filter_list([\"A\", 0, \"Edabit\", 1729, \"Python\", \"1729\"]) ➞ [0, 1729]`<br>\n",
    "`filter_list([\"Nothing\", \"here\"]) ➞ []`"
   ]
  },
  {
   "cell_type": "code",
   "execution_count": 1,
   "id": "f876f56f",
   "metadata": {},
   "outputs": [],
   "source": [
    "def filter_list(x:list)->list[int]:\n",
    "    out_list = [i for i in x if type(i) == int]\n",
    "    return out_list"
   ]
  },
  {
   "cell_type": "code",
   "execution_count": 2,
   "id": "ccf36fbd",
   "metadata": {},
   "outputs": [
    {
     "data": {
      "text/plain": [
       "[1, 2, 3, 4]"
      ]
     },
     "execution_count": 2,
     "metadata": {},
     "output_type": "execute_result"
    }
   ],
   "source": [
    "filter_list([1, 2, 3, \"a\", \"b\", 4])"
   ]
  },
  {
   "cell_type": "code",
   "execution_count": 3,
   "id": "43920255",
   "metadata": {},
   "outputs": [
    {
     "data": {
      "text/plain": [
       "[0, 1729]"
      ]
     },
     "execution_count": 3,
     "metadata": {},
     "output_type": "execute_result"
    }
   ],
   "source": [
    "filter_list([\"A\", 0, \"Edabit\", 1729, \"Python\", \"1729\"])"
   ]
  },
  {
   "cell_type": "code",
   "execution_count": 4,
   "id": "62b72d60",
   "metadata": {},
   "outputs": [
    {
     "data": {
      "text/plain": [
       "[]"
      ]
     },
     "execution_count": 4,
     "metadata": {},
     "output_type": "execute_result"
    }
   ],
   "source": [
    "filter_list([\"Nothing\", \"here\"])"
   ]
  },
  {
   "cell_type": "markdown",
   "id": "fdb372ca",
   "metadata": {},
   "source": [
    "### 2.Given a list of numbers, create a function which returns the list but with each element's index in the list added to itself. This means you add 0 to the number at index 0, add 1 to the number at index 1, etc...<br>\n",
    "**Examples:**<br>\n",
    "`add_indexes([0, 0, 0, 0, 0]) ➞ [0, 1, 2, 3, 4]`<br>\n",
    "`add_indexes([1, 2, 3, 4, 5]) ➞ [1, 3, 5, 7, 9]`<br>\n",
    "`add_indexes([5, 4, 3, 2, 1]) ➞ [5, 5, 5, 5, 5]`"
   ]
  },
  {
   "cell_type": "code",
   "execution_count": 5,
   "id": "ce074ba6",
   "metadata": {},
   "outputs": [],
   "source": [
    "def add_indexes(x:list)->list[int]:\n",
    "    out_list = [i+x[i] for i in range(len(x))]\n",
    "    return out_list"
   ]
  },
  {
   "cell_type": "code",
   "execution_count": 6,
   "id": "db152aa9",
   "metadata": {},
   "outputs": [
    {
     "data": {
      "text/plain": [
       "[0, 1, 2, 3, 4]"
      ]
     },
     "execution_count": 6,
     "metadata": {},
     "output_type": "execute_result"
    }
   ],
   "source": [
    "add_indexes([0, 0, 0, 0, 0])"
   ]
  },
  {
   "cell_type": "code",
   "execution_count": 7,
   "id": "71214e44",
   "metadata": {},
   "outputs": [
    {
     "data": {
      "text/plain": [
       "[1, 3, 5, 7, 9]"
      ]
     },
     "execution_count": 7,
     "metadata": {},
     "output_type": "execute_result"
    }
   ],
   "source": [
    "add_indexes([1, 2, 3, 4, 5])"
   ]
  },
  {
   "cell_type": "code",
   "execution_count": 8,
   "id": "654c3e57",
   "metadata": {},
   "outputs": [
    {
     "data": {
      "text/plain": [
       "[5, 5, 5, 5, 5]"
      ]
     },
     "execution_count": 8,
     "metadata": {},
     "output_type": "execute_result"
    }
   ],
   "source": [
    "add_indexes([5, 4, 3, 2, 1])"
   ]
  },
  {
   "cell_type": "markdown",
   "id": "645f2860",
   "metadata": {},
   "source": [
    "### 3.Create a function that takes the height and radius of a cone as arguments and returns the volume of the cone rounded to the nearest hundredth. See the resources tab for the formula.<br>\n",
    "**Examples:**<br>\n",
    "`cone_volume(3, 2) ➞ 12.57`<br>\n",
    "`cone_volume(15, 6) ➞ 565.49`<br>\n",
    "`cone_volume(18, 0) ➞ 0`<br>"
   ]
  },
  {
   "cell_type": "code",
   "execution_count": 9,
   "id": "a7ded38e",
   "metadata": {},
   "outputs": [],
   "source": [
    "import numpy as np\n",
    "def cone_volume(height:int,radius:int)->float:\n",
    "    volume = round((np.pi*pow(radius,2))*(height/3),2)\n",
    "    return volume"
   ]
  },
  {
   "cell_type": "code",
   "execution_count": 10,
   "id": "c01c62fa",
   "metadata": {},
   "outputs": [
    {
     "data": {
      "text/plain": [
       "12.57"
      ]
     },
     "execution_count": 10,
     "metadata": {},
     "output_type": "execute_result"
    }
   ],
   "source": [
    "cone_volume(3,2)"
   ]
  },
  {
   "cell_type": "code",
   "execution_count": 11,
   "id": "bd87071b",
   "metadata": {},
   "outputs": [
    {
     "data": {
      "text/plain": [
       "565.49"
      ]
     },
     "execution_count": 11,
     "metadata": {},
     "output_type": "execute_result"
    }
   ],
   "source": [
    "cone_volume(15,6)"
   ]
  },
  {
   "cell_type": "code",
   "execution_count": 12,
   "id": "c3291855",
   "metadata": {},
   "outputs": [
    {
     "data": {
      "text/plain": [
       "0.0"
      ]
     },
     "execution_count": 12,
     "metadata": {},
     "output_type": "execute_result"
    }
   ],
   "source": [
    "cone_volume(18,0)"
   ]
  },
  {
   "cell_type": "markdown",
   "id": "fe4a12c8",
   "metadata": {},
   "source": [
    "### 4.This Triangular Number Sequence is generated from a pattern of dots that form a triangle.<br>\n",
    "The first 5 numbers of the sequence, or dots, are: `1, 3, 6, 10, 15`<br>\n",
    "This means that the first triangle has just one dot, the second one has three dots, the third one has 6 dots and so on. Write a function that gives the number of dots with its corresponding triangle number of the sequence.<br>\n",
    "\n",
    "**Examples:**<br>\n",
    "`triangle(1) ➞ 1`<br>\n",
    "`triangle(6) ➞ 21`<br>\n",
    "`triangle(215) ➞ 23220`<br>"
   ]
  },
  {
   "cell_type": "code",
   "execution_count": 13,
   "id": "7486d2c7",
   "metadata": {},
   "outputs": [],
   "source": [
    "def triangle(x:int)->int:\n",
    "    out_int = int((pow(x,2)/2)+(x/2))\n",
    "    return out_int"
   ]
  },
  {
   "cell_type": "code",
   "execution_count": 14,
   "id": "19421304",
   "metadata": {},
   "outputs": [
    {
     "data": {
      "text/plain": [
       "1"
      ]
     },
     "execution_count": 14,
     "metadata": {},
     "output_type": "execute_result"
    }
   ],
   "source": [
    "triangle(1)"
   ]
  },
  {
   "cell_type": "code",
   "execution_count": 15,
   "id": "885e540b",
   "metadata": {},
   "outputs": [
    {
     "data": {
      "text/plain": [
       "21"
      ]
     },
     "execution_count": 15,
     "metadata": {},
     "output_type": "execute_result"
    }
   ],
   "source": [
    "triangle(6)"
   ]
  },
  {
   "cell_type": "code",
   "execution_count": 16,
   "id": "dc959ceb",
   "metadata": {},
   "outputs": [
    {
     "data": {
      "text/plain": [
       "23220"
      ]
     },
     "execution_count": 16,
     "metadata": {},
     "output_type": "execute_result"
    }
   ],
   "source": [
    "triangle(215)"
   ]
  },
  {
   "cell_type": "markdown",
   "id": "edd8c189",
   "metadata": {},
   "source": [
    "### 5.Create a function that takes a list of numbers between 1 and 10 (excluding one number) and returns the missing number.<br>\n",
    "**Examples:**<br>\n",
    "`missing_num([1, 2, 3, 4, 6, 7, 8, 9, 10]) ➞ 5`<br>\n",
    "`missing_num([7, 2, 3, 6, 5, 9, 1, 4, 8]) ➞ 10`<br>\n",
    "`missing_num([10, 5, 1, 2, 4, 6, 8, 3, 9]) ➞ 7`<br>\n",
    "\n"
   ]
  },
  {
   "cell_type": "code",
   "execution_count": 17,
   "id": "8c02821a",
   "metadata": {},
   "outputs": [],
   "source": [
    "def missing_num(x:list)->int:\n",
    "    range_var = [i for i in range(1,10+1)]\n",
    "    for i in range_var:\n",
    "        if i not in x:\n",
    "            return i"
   ]
  },
  {
   "cell_type": "code",
   "execution_count": 18,
   "id": "4bba94d6",
   "metadata": {},
   "outputs": [
    {
     "data": {
      "text/plain": [
       "5"
      ]
     },
     "execution_count": 18,
     "metadata": {},
     "output_type": "execute_result"
    }
   ],
   "source": [
    "missing_num([1, 2, 3, 4, 6, 7, 8, 9, 10])"
   ]
  },
  {
   "cell_type": "code",
   "execution_count": 19,
   "id": "dcc77f3b",
   "metadata": {},
   "outputs": [
    {
     "data": {
      "text/plain": [
       "10"
      ]
     },
     "execution_count": 19,
     "metadata": {},
     "output_type": "execute_result"
    }
   ],
   "source": [
    "missing_num([7, 2, 3, 6, 5, 9, 1, 4, 8])"
   ]
  },
  {
   "cell_type": "code",
   "execution_count": 20,
   "id": "cf7c58fc",
   "metadata": {},
   "outputs": [
    {
     "data": {
      "text/plain": [
       "7"
      ]
     },
     "execution_count": 20,
     "metadata": {},
     "output_type": "execute_result"
    }
   ],
   "source": [
    "missing_num([10, 5, 1, 2, 4, 6, 8, 3, 9])"
   ]
  }
 ],
 "metadata": {
  "kernelspec": {
   "display_name": "Python 3 (ipykernel)",
   "language": "python",
   "name": "python3"
  },
  "language_info": {
   "codemirror_mode": {
    "name": "ipython",
    "version": 3
   },
   "file_extension": ".py",
   "mimetype": "text/x-python",
   "name": "python",
   "nbconvert_exporter": "python",
   "pygments_lexer": "ipython3",
   "version": "3.9.15"
  }
 },
 "nbformat": 4,
 "nbformat_minor": 5
}

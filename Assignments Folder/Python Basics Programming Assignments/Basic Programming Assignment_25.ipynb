{
 "cells": [
  {
   "cell_type": "markdown",
   "id": "e1b3f861",
   "metadata": {},
   "source": [
    "# Assignment 25 : Python Programming Basic"
   ]
  },
  {
   "cell_type": "markdown",
   "id": "1117ecd7",
   "metadata": {},
   "source": [
    "### 1 . Create a function that takes three integer arguments (a, b, c) and returns the amount of integers which are of equal value.<br>\n",
    "**Examples:**<br>\n",
    "`equal(3, 4, 3) ➞ 2`<br>\n",
    "`equal(1, 1, 1) ➞ 3`<br>\n",
    "`equal(3, 4, 1) ➞ 0`<br>\n",
    "\n",
    "**Notes:**<br>\n",
    "<mark>Your function must return 0, 2 or 3."
   ]
  },
  {
   "cell_type": "code",
   "execution_count": 1,
   "id": "de0e9020",
   "metadata": {},
   "outputs": [],
   "source": [
    "def equal(x,y,z):\n",
    "    values = [x,y,z]\n",
    "    counter = {}\n",
    "    for ele in values:\n",
    "        if ele in counter:\n",
    "            counter[ele] += 1\n",
    "        else:\n",
    "            counter[ele] = 1\n",
    "    for key,value in counter.items():\n",
    "        if value>=2:\n",
    "            return f\"{(x,y,z)} ➞ {value}\"\n",
    "        else:\n",
    "            return f\"{(x,y,z)} ➞ {value-1}\""
   ]
  },
  {
   "cell_type": "code",
   "execution_count": 2,
   "id": "680ec228",
   "metadata": {},
   "outputs": [
    {
     "name": "stdout",
     "output_type": "stream",
     "text": [
      "(3, 4, 3) ➞ 2\n",
      "(1, 1, 1) ➞ 3\n",
      "(3, 4, 1) ➞ 0\n"
     ]
    }
   ],
   "source": [
    "print(equal(3,4,3))\n",
    "print(equal(1,1,1))\n",
    "print(equal(3,4,1))"
   ]
  },
  {
   "cell_type": "markdown",
   "id": "8d783e2d",
   "metadata": {},
   "source": [
    "### 2 . Write a function that converts a dictionary into a list of keys-values tuples.\n",
    "**Examples:**<br>\n",
    "`dict_to_list({\"D\": 1, \"B\": 2, \"C\": 3 }) ➞ [(\"B\", 2), (\"C\", 3), (\"D\", 1)]`<br>\n",
    "`dict_to_list({\"likes\":2,\"dislikes\":3,\"followers\": 10 }) ➞ [(\"dislikes\", 3), (\"followers\", 10), (\"likes\", 2)]`<br>\n",
    "\n",
    "**Notes:**<br>\n",
    "<mark>Return the elements in the list in alphabetical order."
   ]
  },
  {
   "cell_type": "code",
   "execution_count": 3,
   "id": "42ceeda2",
   "metadata": {},
   "outputs": [],
   "source": [
    "def dict_to_list(x:dict):\n",
    "    out_list = [(key,value) for key,value in x.items()]\n",
    "    return f\"{x} ➞ {out_list}\""
   ]
  },
  {
   "cell_type": "code",
   "execution_count": 4,
   "id": "f429281b",
   "metadata": {},
   "outputs": [
    {
     "name": "stdout",
     "output_type": "stream",
     "text": [
      "{'D': 1, 'B': 2, 'C': 3} ➞ [('D', 1), ('B', 2), ('C', 3)]\n",
      "{'likes': 2, 'dislikes': 3, 'followers': 10} ➞ [('likes', 2), ('dislikes', 3), ('followers', 10)]\n"
     ]
    }
   ],
   "source": [
    "print(dict_to_list({ \"D\": 1, \"B\": 2, \"C\": 3 }))\n",
    "print(dict_to_list({ \"likes\": 2, \"dislikes\": 3, \"followers\": 10 }))"
   ]
  },
  {
   "cell_type": "markdown",
   "id": "5075fd61",
   "metadata": {},
   "source": [
    "### 3 . Write a function that creates a dictionary with each (key, value) pair being the (lower case, upper case) versions of a letter, respectively.<br>\n",
    "**Examples:**<br>\n",
    "`mapping([\"p\", \"s\"]) ➞ { \"p\": \"P\", \"s\": \"S\" }`<br>\n",
    "`mapping([\"a\", \"b\", \"c\"]) ➞ { \"a\": \"A\", \"b\": \"B\", \"c\": \"C\" }`<br>\n",
    "`mapping([\"a\", \"v\", \"y\", \"z\"]) ➞ { \"a\": \"A\", \"v\": \"V\", \"y\": \"Y\", \"z\": \"Z\" }`<br>\n",
    "\n",
    "**Notes:**<br>\n",
    "<mark>All of the letters in the input list will always be lowercase.<br>"
   ]
  },
  {
   "cell_type": "code",
   "execution_count": 5,
   "id": "c52ed337",
   "metadata": {},
   "outputs": [],
   "source": [
    "def mapping(x:list[str]):\n",
    "    out_dict = {ele : ele.upper() for ele in x}\n",
    "    return f\"{x} ➞ {out_dict}\""
   ]
  },
  {
   "cell_type": "code",
   "execution_count": 6,
   "id": "b10c5a97",
   "metadata": {},
   "outputs": [
    {
     "name": "stdout",
     "output_type": "stream",
     "text": [
      "['p', 's'] ➞ {'p': 'P', 's': 'S'}\n",
      "['a', 'b', 'c'] ➞ {'a': 'A', 'b': 'B', 'c': 'C'}\n",
      "['a', 'v', 'y', 'z'] ➞ {'a': 'A', 'v': 'V', 'y': 'Y', 'z': 'Z'}\n"
     ]
    }
   ],
   "source": [
    "print(mapping([\"p\", \"s\"]))\n",
    "print(mapping([\"a\", \"b\", \"c\"]))\n",
    "print(mapping([\"a\", \"v\", \"y\", \"z\"]))"
   ]
  },
  {
   "cell_type": "markdown",
   "id": "19c2490d",
   "metadata": {},
   "source": [
    "### 4 . Write a function, that replaces all vowels in a string with a specified vowel.<br>\n",
    "**Examples:**<br>\n",
    "`vow_replace(\"apples and bananas\", \"u\") ➞ \"upplus und bununus\"`<br>\n",
    "`vow_replace(\"cheese casserole\", \"o\") ➞ \"chooso cossorolo\"`<br>\n",
    "`vow_replace(\"stuffed jalapeno poppers\", \"e\") ➞ \"steffed jelepene peppers\"`<br>\n",
    "\n",
    "**Notes:**<br>\n",
    "<mark>All words will be lowercase. Y is not considered a vowel.<br>"
   ]
  },
  {
   "cell_type": "code",
   "execution_count": 7,
   "id": "17ed63d0",
   "metadata": {},
   "outputs": [],
   "source": [
    "def vow_replace(x,y):\n",
    "    vowels = ['a','e','i','o','u']\n",
    "    out_string = \"\"\n",
    "    for i in x:\n",
    "        if i in vowels:\n",
    "            out_string = x.replace(i,y)\n",
    "    return f\"{x} ➞ {out_string}\""
   ]
  },
  {
   "cell_type": "code",
   "execution_count": 8,
   "id": "b6be0d9b",
   "metadata": {},
   "outputs": [
    {
     "name": "stdout",
     "output_type": "stream",
     "text": [
      "apples and bananas ➞ upples und bununus\n",
      "cheese casserole ➞ chooso cassorolo\n"
     ]
    }
   ],
   "source": [
    "print(vow_replace(\"apples and bananas\", \"u\"))\n",
    "print(vow_replace(\"cheese casserole\", \"o\"))"
   ]
  },
  {
   "cell_type": "markdown",
   "id": "599b86c2",
   "metadata": {},
   "source": [
    "### 5 . Create a function that takes a string as input and capitalizes a letter if its ASCII code is even and returns its lower case version if its ASCII code is odd.<br>\n",
    "**Examples:**<br>\n",
    "`ascii_capitalize(\"to be or not to be!\") ➞ \"To Be oR NoT To Be!\"`<br>\n",
    "`ascii_capitalize(\"THE LITTLE MERMAID\") ➞ \"THe LiTTLe meRmaiD\"`<br>\n",
    "`ascii_capitalize(\"Oh what a beautiful morning.\") ➞ \"oH wHaT a BeauTiFuL moRNiNg.\"`<br>"
   ]
  },
  {
   "cell_type": "code",
   "execution_count": 9,
   "id": "666b2ed6",
   "metadata": {},
   "outputs": [],
   "source": [
    "def ascii_capitalize(in_string):\n",
    "    out_string = ''\n",
    "    for ele in in_string.lower():\n",
    "        if (ord(ele)%2 == 0):\n",
    "            out_string += ele.upper()\n",
    "        else:\n",
    "            out_string += ele\n",
    "            \n",
    "    return f'{in_string} ➞ {out_string}'"
   ]
  },
  {
   "cell_type": "code",
   "execution_count": 10,
   "id": "e2d7243d",
   "metadata": {},
   "outputs": [
    {
     "name": "stdout",
     "output_type": "stream",
     "text": [
      "to be or not to be! ➞ To Be oR NoT To Be!\n",
      "THE LITTLE MERMAID ➞ THe LiTTLe meRmaiD\n",
      "Oh what a beautiful morning. ➞ oH wHaT a BeauTiFuL moRNiNg.\n"
     ]
    }
   ],
   "source": [
    "print(ascii_capitalize(\"to be or not to be!\"))\n",
    "print(ascii_capitalize(\"THE LITTLE MERMAID\"))\n",
    "print(ascii_capitalize(\"Oh what a beautiful morning.\"))"
   ]
  }
 ],
 "metadata": {
  "kernelspec": {
   "display_name": "Python 3 (ipykernel)",
   "language": "python",
   "name": "python3"
  },
  "language_info": {
   "codemirror_mode": {
    "name": "ipython",
    "version": 3
   },
   "file_extension": ".py",
   "mimetype": "text/x-python",
   "name": "python",
   "nbconvert_exporter": "python",
   "pygments_lexer": "ipython3",
   "version": "3.9.15"
  }
 },
 "nbformat": 4,
 "nbformat_minor": 5
}

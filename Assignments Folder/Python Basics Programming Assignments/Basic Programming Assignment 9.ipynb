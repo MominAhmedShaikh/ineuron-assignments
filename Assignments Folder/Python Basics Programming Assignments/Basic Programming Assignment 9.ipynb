{
 "cells": [
  {
   "cell_type": "markdown",
   "id": "4f88e53c",
   "metadata": {},
   "source": [
    "# Assignment 9 : Python Programming Basic"
   ]
  },
  {
   "cell_type": "markdown",
   "id": "af7c20b0",
   "metadata": {},
   "source": [
    "### 1. Write a Python program to check if the given number is a Disarium Number?\n"
   ]
  },
  {
   "cell_type": "code",
   "execution_count": 1,
   "id": "5468525b",
   "metadata": {},
   "outputs": [],
   "source": [
    "def DisariumNumCheck(x):\n",
    "    counter = 0\n",
    "    for i,j in enumerate(str(x),1):\n",
    "        counter += pow(int(j),i)\n",
    "    if counter == x:\n",
    "        return f'Yes {x} is Disarium Number'\n",
    "    else:\n",
    "        return f'No {x} is not a Disarium Number'"
   ]
  },
  {
   "cell_type": "code",
   "execution_count": 2,
   "id": "528c12e3",
   "metadata": {},
   "outputs": [
    {
     "data": {
      "text/plain": [
       "'Yes 175 is Disarium Number'"
      ]
     },
     "execution_count": 2,
     "metadata": {},
     "output_type": "execute_result"
    }
   ],
   "source": [
    "DisariumNumCheck(175)"
   ]
  },
  {
   "cell_type": "markdown",
   "id": "86677c90",
   "metadata": {},
   "source": [
    "### 2. Write a Python program to print all disarium numbers between 1 to 100?\n"
   ]
  },
  {
   "cell_type": "code",
   "execution_count": 3,
   "id": "243c8338",
   "metadata": {},
   "outputs": [],
   "source": [
    "def DisariumNumRange(x):\n",
    "    counter = 0\n",
    "    for i,j in enumerate(str(x),1):\n",
    "        counter += pow(int(j),i)\n",
    "        if counter == x:\n",
    "            return counter"
   ]
  },
  {
   "cell_type": "code",
   "execution_count": 4,
   "id": "c0558d4b",
   "metadata": {},
   "outputs": [
    {
     "name": "stdout",
     "output_type": "stream",
     "text": [
      "1,2,3,4,5,6,7,8,9,89,"
     ]
    }
   ],
   "source": [
    "for i in range(1,101):\n",
    "    ls = DisariumNumRange(i)\n",
    "    if ls == i:\n",
    "        print(i , end = ',')"
   ]
  },
  {
   "cell_type": "markdown",
   "id": "0e14612d",
   "metadata": {},
   "source": [
    "### 3. Write a Python program to check if the given number is Happy Number?\n"
   ]
  },
  {
   "cell_type": "code",
   "execution_count": 5,
   "id": "819901ac",
   "metadata": {},
   "outputs": [],
   "source": [
    "def happy(x):\n",
    "    try:\n",
    "        c = 0\n",
    "        for i in str(x):\n",
    "            c += pow(int(i),2)\n",
    "        if c == 1:\n",
    "            return f'The Given Number Is Happy Number'\n",
    "        else:\n",
    "            return happy(c)\n",
    "    except Exception as e:\n",
    "        return 'Try Another Number'\n",
    "\n",
    "        "
   ]
  },
  {
   "cell_type": "code",
   "execution_count": 6,
   "id": "55e5977b",
   "metadata": {},
   "outputs": [
    {
     "data": {
      "text/plain": [
       "'The Given Number Is Happy Number'"
      ]
     },
     "execution_count": 6,
     "metadata": {},
     "output_type": "execute_result"
    }
   ],
   "source": [
    "happy(100)"
   ]
  },
  {
   "cell_type": "markdown",
   "id": "1651f266",
   "metadata": {},
   "source": [
    "### 4. Write a Python program to print all happy numbers between 1 and 100?\n"
   ]
  },
  {
   "cell_type": "code",
   "execution_count": 7,
   "id": "7a4fcfde",
   "metadata": {},
   "outputs": [
    {
     "name": "stdout",
     "output_type": "stream",
     "text": [
      "1,7,10,13,19,23,28,31,32,44,49,68,70,79,82,86,91,94,97,100,"
     ]
    }
   ],
   "source": [
    "try:\n",
    "    for i in range(1,101):\n",
    "        l = happy(i)\n",
    "        if l == 'The Given Number Is Happy Number':\n",
    "            print(i,end=',')\n",
    "except Exception as e:\n",
    "    pass"
   ]
  },
  {
   "cell_type": "markdown",
   "id": "8b436521",
   "metadata": {},
   "source": [
    "### 5. Write a Python program to determine whether the given number is a Harshad Number?\n"
   ]
  },
  {
   "cell_type": "code",
   "execution_count": 9,
   "id": "c32b6d7f",
   "metadata": {},
   "outputs": [
    {
     "data": {
      "text/plain": [
       "'156 is a Harshad Number'"
      ]
     },
     "execution_count": 9,
     "metadata": {},
     "output_type": "execute_result"
    }
   ],
   "source": [
    "def HarshadNumCheck(x):\n",
    "    counter = 0\n",
    "    for i in str(x):\n",
    "        counter += int(i)\n",
    "    if x % counter == 0:\n",
    "        return f'{x} is a Harshad Number'\n",
    "    else:\n",
    "        return f'{x} is Not a Harshad Number'\n",
    "    \n",
    "HarshadNumCheck(156)"
   ]
  },
  {
   "cell_type": "markdown",
   "id": "93ac3149",
   "metadata": {},
   "source": [
    "### 6. Write a Python program to print all pronic numbers between 1 and 100?"
   ]
  },
  {
   "cell_type": "code",
   "execution_count": 10,
   "id": "8474e8f0",
   "metadata": {},
   "outputs": [
    {
     "name": "stdout",
     "output_type": "stream",
     "text": [
      "2,6,12,20,30,42,56,72,90,"
     ]
    }
   ],
   "source": [
    "def PronicNumCheck(x):\n",
    "    for i in range(1,x):\n",
    "        c = i*(i+1)\n",
    "        if c == x:\n",
    "            return c\n",
    "        else:\n",
    "            None\n",
    "for i in range(1,101):\n",
    "    if i == PronicNumCheck(i):\n",
    "        print(i, end = ',')"
   ]
  }
 ],
 "metadata": {
  "kernelspec": {
   "display_name": "Python 3 (ipykernel)",
   "language": "python",
   "name": "python3"
  },
  "language_info": {
   "codemirror_mode": {
    "name": "ipython",
    "version": 3
   },
   "file_extension": ".py",
   "mimetype": "text/x-python",
   "name": "python",
   "nbconvert_exporter": "python",
   "pygments_lexer": "ipython3",
   "version": "3.9.7"
  }
 },
 "nbformat": 4,
 "nbformat_minor": 5
}

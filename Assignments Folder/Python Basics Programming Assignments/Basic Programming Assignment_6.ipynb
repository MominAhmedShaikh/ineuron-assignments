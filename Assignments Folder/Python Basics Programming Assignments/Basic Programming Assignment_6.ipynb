{
 "cells": [
  {
   "cell_type": "markdown",
   "id": "7b32e14b",
   "metadata": {},
   "source": [
    "# Assignment 6: Python Programming Basic"
   ]
  },
  {
   "cell_type": "markdown",
   "id": "f6a7d1c2",
   "metadata": {},
   "source": [
    "### 1. Write a Python Program to Display Fibonacci Sequence Using Recursion?"
   ]
  },
  {
   "cell_type": "code",
   "execution_count": 1,
   "id": "e3c2e553",
   "metadata": {},
   "outputs": [],
   "source": [
    "def fibonacci(n : int) -> int:\n",
    "    \n",
    "    '''This Function represents Recursive appraoch to generate fibonacci sequence'''\n",
    "    \n",
    "    if n <= 1:\n",
    "        return n\n",
    "    else:\n",
    "        return(fibonacci(n-1) + fibonacci(n-2)) # Fibonacci formula\n"
   ]
  },
  {
   "cell_type": "code",
   "execution_count": 2,
   "id": "506a3cc9",
   "metadata": {},
   "outputs": [
    {
     "data": {
      "text/plain": [
       "[1, 1, 2, 3, 5, 8, 13, 21, 34]"
      ]
     },
     "execution_count": 2,
     "metadata": {},
     "output_type": "execute_result"
    }
   ],
   "source": [
    "FibonacciList = [fibonacci(i) for i in range(1,10)]\n",
    "FibonacciList"
   ]
  },
  {
   "cell_type": "markdown",
   "id": "4d79b6a9",
   "metadata": {},
   "source": [
    "### 2. Write a Python Program to Find Factorial of Number Using Recursion?\n"
   ]
  },
  {
   "cell_type": "code",
   "execution_count": 3,
   "id": "a8ca6072",
   "metadata": {},
   "outputs": [],
   "source": [
    "def recursive_factorial(x : int) -> int:\n",
    "    \n",
    "    '''This Function is a type of recursive function to produce factorial of a Number'''\n",
    "    \n",
    "    if x == 1:\n",
    "        return x\n",
    "    else:\n",
    "        return x * recursive_factorial(x-1)\n"
   ]
  },
  {
   "cell_type": "code",
   "execution_count": 4,
   "id": "f20286eb",
   "metadata": {},
   "outputs": [
    {
     "data": {
      "text/plain": [
       "120"
      ]
     },
     "execution_count": 4,
     "metadata": {},
     "output_type": "execute_result"
    }
   ],
   "source": [
    "recursive_factorial(5)"
   ]
  },
  {
   "cell_type": "markdown",
   "id": "124ad940",
   "metadata": {},
   "source": [
    "### 3. Write a Python Program to calculate your Body Mass Index?\n"
   ]
  },
  {
   "cell_type": "code",
   "execution_count": 5,
   "id": "390f3794",
   "metadata": {},
   "outputs": [],
   "source": [
    "def Calculate_BMI(height_cm : int ,weight : int ) -> float:\n",
    "    \n",
    "    '''This Function Calculates Body Mass Index (BMI)'''\n",
    "    \n",
    "    height_m = height_cm/100\n",
    "    bmi = (weight/(height_m*height_m))\n",
    "    return bmi"
   ]
  },
  {
   "cell_type": "code",
   "execution_count": 6,
   "id": "f9470abd",
   "metadata": {},
   "outputs": [
    {
     "data": {
      "text/plain": [
       "28.40054796351365"
      ]
     },
     "execution_count": 6,
     "metadata": {},
     "output_type": "execute_result"
    }
   ],
   "source": [
    "Calculate_BMI(173,85)"
   ]
  },
  {
   "cell_type": "markdown",
   "id": "67e9aa6e",
   "metadata": {},
   "source": [
    "### 4. Write a Python Program to calculate the natural logarithm of any number?\n"
   ]
  },
  {
   "cell_type": "code",
   "execution_count": 7,
   "id": "f2d39850",
   "metadata": {},
   "outputs": [
    {
     "name": "stdout",
     "output_type": "stream",
     "text": [
      "4.605170185988092\n"
     ]
    }
   ],
   "source": [
    "import math\n",
    "\n",
    "def Calculate_NLog(x : int) -> float :\n",
    "    '''This Function Calculates natural log of an int'''\n",
    "    print(math.log(x))\n",
    "    \n",
    "Calculate_NLog(100)"
   ]
  },
  {
   "cell_type": "markdown",
   "id": "eb6db46a",
   "metadata": {},
   "source": [
    "### 5. Write a Python Program for cube sum of first n natural numbers?"
   ]
  },
  {
   "cell_type": "code",
   "execution_count": 8,
   "id": "11b66c56",
   "metadata": {},
   "outputs": [],
   "source": [
    "def Natural_No_Sum(x : range) -> int:\n",
    "    '''This Function returns cube sum of n natural numbers'''\n",
    "    \n",
    "    counter = 0\n",
    "    for i in range(1,x+1):\n",
    "        counter += i\n",
    "    return counter*counter*counter"
   ]
  },
  {
   "cell_type": "code",
   "execution_count": 9,
   "id": "d6831325",
   "metadata": {},
   "outputs": [
    {
     "data": {
      "text/plain": [
       "216"
      ]
     },
     "execution_count": 9,
     "metadata": {},
     "output_type": "execute_result"
    }
   ],
   "source": [
    "Natural_No_Sum(3)"
   ]
  }
 ],
 "metadata": {
  "kernelspec": {
   "display_name": "Python 3 (ipykernel)",
   "language": "python",
   "name": "python3"
  },
  "language_info": {
   "codemirror_mode": {
    "name": "ipython",
    "version": 3
   },
   "file_extension": ".py",
   "mimetype": "text/x-python",
   "name": "python",
   "nbconvert_exporter": "python",
   "pygments_lexer": "ipython3",
   "version": "3.9.7"
  }
 },
 "nbformat": 4,
 "nbformat_minor": 5
}

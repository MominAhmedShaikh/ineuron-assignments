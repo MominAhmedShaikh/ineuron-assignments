{
 "cells": [
  {
   "cell_type": "markdown",
   "id": "c8e0d441",
   "metadata": {},
   "source": [
    "# Assignment 12 : Python Basic Programming"
   ]
  },
  {
   "cell_type": "markdown",
   "id": "a0862b07",
   "metadata": {},
   "source": [
    "### 1. Write a Python program to Extract Unique values dictionary values?\n"
   ]
  },
  {
   "cell_type": "code",
   "execution_count": 1,
   "id": "6f4ca57e",
   "metadata": {},
   "outputs": [],
   "source": [
    "dictonary1 = {1:'iNeuron',2:'is',3:'is',4:'Best'}\n",
    "\n",
    "def UniqueFromDict(x):\n",
    "    count = {}\n",
    "    for i,j in x.items():\n",
    "        count[j] = count.get(j,0) + 1\n",
    "    return list(count)"
   ]
  },
  {
   "cell_type": "code",
   "execution_count": 2,
   "id": "d9c3bd77",
   "metadata": {},
   "outputs": [
    {
     "data": {
      "text/plain": [
       "['iNeuron', 'is', 'Best']"
      ]
     },
     "execution_count": 2,
     "metadata": {},
     "output_type": "execute_result"
    }
   ],
   "source": [
    "UniqueFromDict(dictonary1)"
   ]
  },
  {
   "cell_type": "markdown",
   "id": "7cda1dea",
   "metadata": {},
   "source": [
    "### 2. Write a Python program to find the sum of all items in a dictionary?\n"
   ]
  },
  {
   "cell_type": "code",
   "execution_count": 3,
   "id": "8fb73a2f",
   "metadata": {},
   "outputs": [],
   "source": [
    "dictonary = {'Apple': 10,'Orange': 40,'Mango':50}\n",
    "def SumFromDict(x):\n",
    "    return sum(x.values())"
   ]
  },
  {
   "cell_type": "code",
   "execution_count": 4,
   "id": "de5a69de",
   "metadata": {},
   "outputs": [
    {
     "data": {
      "text/plain": [
       "100"
      ]
     },
     "execution_count": 4,
     "metadata": {},
     "output_type": "execute_result"
    }
   ],
   "source": [
    "SumFromDict(dictonary)"
   ]
  },
  {
   "cell_type": "markdown",
   "id": "e2c0f38c",
   "metadata": {},
   "source": [
    "### 3. Write a Python program to Merging two Dictionaries?\n"
   ]
  },
  {
   "cell_type": "code",
   "execution_count": 5,
   "id": "735f1ca8",
   "metadata": {},
   "outputs": [],
   "source": [
    "def MergeDictionaries(A,B):\n",
    "    A.update(B)\n",
    "    print(A)"
   ]
  },
  {
   "cell_type": "code",
   "execution_count": 6,
   "id": "7d3dc4f8",
   "metadata": {
    "scrolled": true
   },
   "outputs": [
    {
     "name": "stdout",
     "output_type": "stream",
     "text": [
      "{1: 'iNeuron', 2: 'is', 3: 'is', 4: 'Best', 'Apple': 10, 'Orange': 40, 'Mango': 50}\n"
     ]
    }
   ],
   "source": [
    "MergeDictionaries(dictonary1,dictonary)"
   ]
  },
  {
   "cell_type": "code",
   "execution_count": 7,
   "id": "f84dacd7",
   "metadata": {},
   "outputs": [
    {
     "name": "stdout",
     "output_type": "stream",
     "text": [
      "{'Apple': 10, 'Orange': 40, 'Mango': 50}\n"
     ]
    }
   ],
   "source": [
    "print(dictonary)"
   ]
  },
  {
   "cell_type": "markdown",
   "id": "1ea806e5",
   "metadata": {},
   "source": [
    "### 4. Write a Python program to convert key-values list to flat dictionary?\n"
   ]
  },
  {
   "cell_type": "code",
   "execution_count": 8,
   "id": "b90e8805",
   "metadata": {},
   "outputs": [],
   "source": [
    "key_list = [('A',1),('B',2),('C',3),('D',4),('E',5),('F',6),('G',7),('H',8),('I',9),('J',10)]\n",
    "\n",
    "def ListToDict(x):\n",
    "    return dict(x)"
   ]
  },
  {
   "cell_type": "code",
   "execution_count": 9,
   "id": "4ab5af95",
   "metadata": {
    "scrolled": true
   },
   "outputs": [
    {
     "data": {
      "text/plain": [
       "{'A': 1,\n",
       " 'B': 2,\n",
       " 'C': 3,\n",
       " 'D': 4,\n",
       " 'E': 5,\n",
       " 'F': 6,\n",
       " 'G': 7,\n",
       " 'H': 8,\n",
       " 'I': 9,\n",
       " 'J': 10}"
      ]
     },
     "execution_count": 9,
     "metadata": {},
     "output_type": "execute_result"
    }
   ],
   "source": [
    "ListToDict(key_list)"
   ]
  },
  {
   "cell_type": "markdown",
   "id": "33235785",
   "metadata": {},
   "source": [
    "### 5. Write a Python program to insertion at the beginning in OrderedDict?\n"
   ]
  },
  {
   "cell_type": "code",
   "execution_count": 10,
   "id": "0a2fc6db",
   "metadata": {},
   "outputs": [
    {
     "data": {
      "text/plain": [
       "OrderedDict([('Samsung', 'Android'), ('Apple', 'iPhone'), ('Google', 'Pixel')])"
      ]
     },
     "execution_count": 10,
     "metadata": {},
     "output_type": "execute_result"
    }
   ],
   "source": [
    "from collections import OrderedDict\n",
    "\n",
    "d_one = {'Apple':'iPhone','Google':'Pixel'}\n",
    "d_two = {'Samsung':'Android'}\n",
    "\n",
    "def OrderedList(d_one,d_two):\n",
    "    d_one = OrderedDict(d_one)\n",
    "    d_two = OrderedDict(d_two)\n",
    "    d_one.update(d_two)\n",
    "    d_one.move_to_end('Samsung',last = False)\n",
    "    return d_one\n",
    "\n",
    "OrderedList(d_one,d_two)"
   ]
  },
  {
   "cell_type": "markdown",
   "id": "297494bf",
   "metadata": {},
   "source": [
    "### 6. Write a Python program to check order of character in string using OrderedDict()?\n"
   ]
  },
  {
   "cell_type": "code",
   "execution_count": 11,
   "id": "fa546846",
   "metadata": {},
   "outputs": [
    {
     "data": {
      "text/plain": [
       "[('a', 10), ('b', 80), ('c', 20), ('d', 60), ('e', 40), ('f', 70), ('g', 50)]"
      ]
     },
     "execution_count": 11,
     "metadata": {},
     "output_type": "execute_result"
    }
   ],
   "source": [
    "d_three = {'a':10,'c':20,'e':40,'g':50,'d':60,'f':70,'b':80}\n",
    "\n",
    "def SortedDict(d_three):\n",
    "    d_three = OrderedDict(d_three)\n",
    "    return sorted(d_three.items())\n",
    "\n",
    "SortedDict(d_three)"
   ]
  },
  {
   "cell_type": "markdown",
   "id": "ba74b5f5",
   "metadata": {},
   "source": [
    "### 7. Write a Python program to sort Python Dictionaries by Key or Value?"
   ]
  },
  {
   "cell_type": "code",
   "execution_count": 12,
   "id": "d35e1095",
   "metadata": {
    "scrolled": true
   },
   "outputs": [],
   "source": [
    "def sorted_dict(dict_input,sort_type):\n",
    "    \n",
    "    if sort_type == 'key':\n",
    "        return dict(sorted(dict_input.items(), key=lambda x:x[0], reverse=False))\n",
    "    else:\n",
    "        return dict(sorted(dict_input.items(), key=lambda x:x[1], reverse=False))"
   ]
  },
  {
   "cell_type": "code",
   "execution_count": 13,
   "id": "23ff2d87",
   "metadata": {},
   "outputs": [
    {
     "data": {
      "text/plain": [
       "{'a': 10, 'b': 80, 'c': 20, 'd': 60, 'e': 40, 'f': 70, 'g': 50}"
      ]
     },
     "execution_count": 13,
     "metadata": {},
     "output_type": "execute_result"
    }
   ],
   "source": [
    "sorted_dict(d_three,'key')        "
   ]
  },
  {
   "cell_type": "code",
   "execution_count": 14,
   "id": "cd283ae7",
   "metadata": {},
   "outputs": [
    {
     "data": {
      "text/plain": [
       "{'a': 10, 'c': 20, 'e': 40, 'g': 50, 'd': 60, 'f': 70, 'b': 80}"
      ]
     },
     "execution_count": 14,
     "metadata": {},
     "output_type": "execute_result"
    }
   ],
   "source": [
    "sorted_dict(d_three,'value')"
   ]
  }
 ],
 "metadata": {
  "kernelspec": {
   "display_name": "Python 3 (ipykernel)",
   "language": "python",
   "name": "python3"
  },
  "language_info": {
   "codemirror_mode": {
    "name": "ipython",
    "version": 3
   },
   "file_extension": ".py",
   "mimetype": "text/x-python",
   "name": "python",
   "nbconvert_exporter": "python",
   "pygments_lexer": "ipython3",
   "version": "3.9.15"
  }
 },
 "nbformat": 4,
 "nbformat_minor": 5
}

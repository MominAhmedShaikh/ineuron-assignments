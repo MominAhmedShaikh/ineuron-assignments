{
 "cells": [
  {
   "cell_type": "markdown",
   "id": "fa2de5e4",
   "metadata": {},
   "source": [
    "# Assignment 24 : Python Programming Basic"
   ]
  },
  {
   "cell_type": "markdown",
   "id": "94c2759e",
   "metadata": {},
   "source": [
    "### 1 . Create a function that takes an integer and returns a list from 1 to the given number, where:<br>\n",
    "`1.If the number can be divided evenly by 4, amplify it by 10 (i.e. return 10 times the number).`<br>\n",
    "`2.If the number cannot be divided evenly by 4, simply return the number.`<br>\n",
    "\n",
    "**Examples:**<br>\n",
    "`amplify(4) ➞ [1, 2, 3, 40]`<br>\n",
    "`amplify(3) ➞ [1, 2, 3]`<br>\n",
    "`amplify(25) ➞ [1, 2, 3, 40, 5, 6, 7, 80, 9, 10, 11, 120, 13, 14, 15, 160, 17, 18, 19, 200, 21, 22, 23, 240, 25]`<br>\n",
    "\n",
    "**Notes:**<br>\n",
    "<mark>1. The given integer will always be equal to or greater than 1.<br>\n",
    "2. Include the number (see example above).<br>\n",
    "3. To perform this problem with its intended purpose, try doing it with list<br>"
   ]
  },
  {
   "cell_type": "code",
   "execution_count": 1,
   "id": "70f18b8e",
   "metadata": {},
   "outputs": [],
   "source": [
    "def amplify(x:range):\n",
    "    out_list = []\n",
    "    for ele in range(1,x+1):\n",
    "        if ele%4 == 0:\n",
    "            out_list.append(ele*10)\n",
    "        else:\n",
    "            out_list.append(ele)\n",
    "    return f'{x} ➞ {out_list}'"
   ]
  },
  {
   "cell_type": "code",
   "execution_count": 2,
   "id": "e5a0f193",
   "metadata": {},
   "outputs": [
    {
     "name": "stdout",
     "output_type": "stream",
     "text": [
      "4 ➞ [1, 2, 3, 40]\n",
      "3 ➞ [1, 2, 3]\n",
      "25 ➞ [1, 2, 3, 40, 5, 6, 7, 80, 9, 10, 11, 120, 13, 14, 15, 160, 17, 18, 19, 200, 21, 22, 23, 240, 25]\n"
     ]
    }
   ],
   "source": [
    "print(amplify(4))\n",
    "print(amplify(3))\n",
    "print(amplify(25))"
   ]
  },
  {
   "cell_type": "markdown",
   "id": "66e94e58",
   "metadata": {},
   "source": [
    "### 2 . Create a function that takes a list of numbers and return the number that's unique.<br>\n",
    "**Examples:**<br>\n",
    "`unique([3, 3, 3, 7, 3, 3]) ➞ 7`<br>\n",
    "`unique([0, 0, 0.77, 0, 0]) ➞ 0.77`<br>\n",
    "`unique([0, 1, 1, 1, 1, 1, 1, 1]) ➞ 0`<br>\n",
    "\n",
    "**Notes:**\n",
    "<mark>Test cases will always have exactly one unique number while all others are the same."
   ]
  },
  {
   "cell_type": "code",
   "execution_count": 3,
   "id": "7c482f45",
   "metadata": {},
   "outputs": [],
   "source": [
    "def unique(x:list[int]):\n",
    "    counter = {}\n",
    "    for ele in x:\n",
    "        if ele in counter:\n",
    "            counter[ele] += 1\n",
    "        else:\n",
    "            counter[ele] = 1\n",
    "    for ele,sub_ele in counter.items():\n",
    "        if sub_ele <= 1:\n",
    "            return f'unique in {x} ➞ {ele}'"
   ]
  },
  {
   "cell_type": "code",
   "execution_count": 4,
   "id": "ef9b11c6",
   "metadata": {},
   "outputs": [
    {
     "name": "stdout",
     "output_type": "stream",
     "text": [
      "unique in [3, 3, 3, 7, 3, 3] ➞ 7\n",
      "unique in [0, 0, 0.77, 0, 0] ➞ 0.77\n",
      "unique in [0, 1, 1, 1, 1, 1, 1, 1] ➞ 0\n"
     ]
    }
   ],
   "source": [
    "print(unique([3, 3, 3, 7, 3, 3]))\n",
    "print(unique([0, 0, 0.77, 0, 0]))\n",
    "print(unique([0, 1, 1, 1, 1, 1, 1, 1]))"
   ]
  },
  {
   "cell_type": "markdown",
   "id": "e44cd4e5",
   "metadata": {},
   "source": [
    "### 3 . Your task is to create a Circle constructor that creates a circle with a radius provided by an argument. The circles constructed must have two getters getArea() (PIr^2) and getPerimeter() (2PI*r) which give both respective areas and perimeter (circumference). For help with this class, I have provided you with a Rectangle constructor which you can use as a base example ?<br>\n",
    "**Examples:**<br>\n",
    "`circy = Circle(11)`<br>\n",
    "`circy.getArea()`<br>\n",
    "`➞ 380.132711084365`<br>\n",
    "\n",
    "`circy = Circle(4.44)`<br>\n",
    "`circy.getPerimeter()`<br>\n",
    "`➞ 27.897342763877365`<br>\n",
    "\n",
    "**Notes:**\n",
    "<mark>Round results up to the nearest integer."
   ]
  },
  {
   "cell_type": "code",
   "execution_count": 5,
   "id": "e8a5bb8f",
   "metadata": {},
   "outputs": [
    {
     "name": "stdout",
     "output_type": "stream",
     "text": [
      "Radius ➞ 380\n",
      "Perimeter ➞ 69\n"
     ]
    }
   ],
   "source": [
    "import math\n",
    "\n",
    "class Circle:\n",
    "    def __init__(self, radius):\n",
    "        self.radius = radius\n",
    "    def getArea(self):\n",
    "        return f'Radius ➞ {round(math.pi*self.radius*self.radius)}'\n",
    "    def getPerimeter(self):\n",
    "        return f'Perimeter ➞ {round(2*math.pi*self.radius)}'\n",
    "    \n",
    "cir_obj1 = Circle(11)\n",
    "print(cir_obj1.getArea())\n",
    "\n",
    "cir_obj2 = Circle(4.44)\n",
    "print(cir_obj1.getPerimeter())"
   ]
  },
  {
   "cell_type": "markdown",
   "id": "85c011f6",
   "metadata": {},
   "source": [
    "### 4 . Create a function that takes a list of strings and return a list, sorted from shortest to longest.<br>\n",
    "**Examples:**<br>\n",
    "`sort_by_length([\"Google\", \"Apple\", \"Microsoft\"])`<br>\n",
    "`➞ [\"Apple\", \"Google\", \"Microsoft\"]`<br>\n",
    "\n",
    "`sort_by_length([\"Leonardo\", \"Michelangelo\", \"Raphael\", \"Donatello\"])`<br>\n",
    "`➞ [\"Raphael\", \"Leonardo\", \"Donatello\", \"Michelangelo\"]`<br>\n",
    "\n",
    "`sort_by_length([\"Turing\", \"Einstein\", \"Jung\"])`<br>\n",
    "`➞ [\"Jung\", \"Turing\", \"Einstein\"]`<br>\n",
    "\n",
    "**Notes:**<br>\n",
    "<mark>All test cases contain lists with strings of different lengths, so you won't have to deal with multiple strings of the same length.\n",
    "\n"
   ]
  },
  {
   "cell_type": "code",
   "execution_count": 6,
   "id": "defc3026",
   "metadata": {},
   "outputs": [
    {
     "name": "stdout",
     "output_type": "stream",
     "text": [
      "['Apple', 'Google', 'Microsoft']\n",
      "['Raphael', 'Leonardo', 'Donatello', 'Michelangelo']\n",
      "['Jung', 'Turing', 'Einstein']\n"
     ]
    }
   ],
   "source": [
    "def sort_by_length(in_list):\n",
    "    return sorted(in_list,key=len)\n",
    "\n",
    "print(sort_by_length([\"Google\", \"Apple\", \"Microsoft\"]))\n",
    "print(sort_by_length([\"Leonardo\", \"Michelangelo\", \"Raphael\", \"Donatello\"]))\n",
    "print(sort_by_length([\"Turing\", \"Einstein\", \"Jung\"]))"
   ]
  },
  {
   "cell_type": "markdown",
   "id": "05fdeeb4",
   "metadata": {},
   "source": [
    "### 5 . Create a function that validates whether three given integers form a Pythagorean triplet. The sum of the squares of the two smallest integers must equal the square of the largest number to be validated.<br>\n",
    "\n",
    "**Examples:**\n",
    "\n",
    "`is_triplet(3, 4, 5) ➞ True # 3² + 4² = 25 # 5² = 25` <br>\n",
    "`is_triplet(13, 5, 12) ➞ True # 5² + 12² = 169 # 13² = 169`<br>\n",
    "`is_triplet(1, 2, 3) ➞ False # 1² + 2² = 5 # 3² = 9`<br>\n",
    "\n",
    "**Notes:** <mark>Numbers may not be given in a sorted order."
   ]
  },
  {
   "cell_type": "code",
   "execution_count": 7,
   "id": "38c411bb",
   "metadata": {},
   "outputs": [
    {
     "name": "stdout",
     "output_type": "stream",
     "text": [
      "(3, 4, 5) ➞ True\n",
      "(12, 5, 13) ➞ True\n",
      "(1, 2, 3) ➞ False\n"
     ]
    }
   ],
   "source": [
    "def is_triplet(a,b,c):\n",
    "    if ((a**2+b**2) == (c**2)):\n",
    "        return f'{a,b,c} ➞ {True}'\n",
    "    else:\n",
    "        return f'{a,b,c} ➞ {False}'\n",
    "        \n",
    "print(is_triplet(3, 4, 5))\n",
    "print(is_triplet(12, 5, 13))\n",
    "print(is_triplet(1, 2, 3))"
   ]
  }
 ],
 "metadata": {
  "kernelspec": {
   "display_name": "Python 3 (ipykernel)",
   "language": "python",
   "name": "python3"
  },
  "language_info": {
   "codemirror_mode": {
    "name": "ipython",
    "version": 3
   },
   "file_extension": ".py",
   "mimetype": "text/x-python",
   "name": "python",
   "nbconvert_exporter": "python",
   "pygments_lexer": "ipython3",
   "version": "3.9.15"
  }
 },
 "nbformat": 4,
 "nbformat_minor": 5
}

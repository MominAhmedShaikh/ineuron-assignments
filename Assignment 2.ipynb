{
 "cells": [
  {
   "cell_type": "markdown",
   "id": "b1313e0f",
   "metadata": {},
   "source": [
    "# Assignment 2 : Python basics"
   ]
  },
  {
   "cell_type": "markdown",
   "id": "263188a8",
   "metadata": {},
   "source": [
    "### 1.What are the two values of the Boolean data type? How do you write them?"
   ]
  },
  {
   "cell_type": "markdown",
   "id": "60e11e01",
   "metadata": {},
   "source": [
    "### Ans : 1"
   ]
  },
  {
   "cell_type": "markdown",
   "id": "753b523f",
   "metadata": {},
   "source": [
    "- True , False\n",
    "- we can also write True or 1 and False or 0."
   ]
  },
  {
   "cell_type": "markdown",
   "id": "e52660fd",
   "metadata": {},
   "source": [
    "### 2. What are the three different types of Boolean operators?"
   ]
  },
  {
   "cell_type": "markdown",
   "id": "f4aec41e",
   "metadata": {},
   "source": [
    "### Ans : 2"
   ]
  },
  {
   "cell_type": "markdown",
   "id": "0b2d19f5",
   "metadata": {},
   "source": [
    "- AND, OR , NOT"
   ]
  },
  {
   "cell_type": "markdown",
   "id": "3bb352d6",
   "metadata": {},
   "source": [
    "### 3. Make a list of each Boolean operator's truth tables (i.e. every possible combination of Boolean values for the operator and what it evaluate )."
   ]
  },
  {
   "cell_type": "markdown",
   "id": "47d4db2a",
   "metadata": {},
   "source": [
    "### Ans : 3"
   ]
  },
  {
   "cell_type": "code",
   "execution_count": 1,
   "id": "1e514db3",
   "metadata": {},
   "outputs": [
    {
     "data": {
      "text/plain": [
       "{1: True,\n",
       " 2: False,\n",
       " 3: False,\n",
       " 4: False,\n",
       " 5: True,\n",
       " 6: False,\n",
       " 7: True,\n",
       " 8: True,\n",
       " 9: False,\n",
       " 10: True}"
      ]
     },
     "execution_count": 1,
     "metadata": {},
     "output_type": "execute_result"
    }
   ],
   "source": [
    "{1 : True and True,\n",
    " 2 : False and False,\n",
    " 3 : True and False,\n",
    " 4 : False and True,\n",
    " 5 : True or True,\n",
    " 6 : False or False, \n",
    " 7 : True or False, \n",
    " 8 : False or True, \n",
    " 9 : not True, \n",
    " 10 : not False}"
   ]
  },
  {
   "cell_type": "markdown",
   "id": "2cbb03da",
   "metadata": {},
   "source": [
    "### 4. What are the values of the following expressions?\n",
    "(5 > 4) and (3 == 5)\n",
    "\n",
    "not (5 > 4)\n",
    "\n",
    "(5 > 4) or (3 == 5)\n",
    "\n",
    "not ((5 > 4) or (3 == 5))\n",
    "\n",
    "(True and True) and (True == False)\n",
    "\n",
    "(not False) or (not True)\n"
   ]
  },
  {
   "cell_type": "markdown",
   "id": "1b36ffb0",
   "metadata": {},
   "source": [
    "### Ans : 4"
   ]
  },
  {
   "cell_type": "code",
   "execution_count": 2,
   "id": "3dab85ef",
   "metadata": {},
   "outputs": [
    {
     "data": {
      "text/plain": [
       "False"
      ]
     },
     "execution_count": 2,
     "metadata": {},
     "output_type": "execute_result"
    }
   ],
   "source": [
    "(5 > 4) and (3 == 5)"
   ]
  },
  {
   "cell_type": "code",
   "execution_count": 3,
   "id": "4d5f2ea7",
   "metadata": {},
   "outputs": [
    {
     "data": {
      "text/plain": [
       "False"
      ]
     },
     "execution_count": 3,
     "metadata": {},
     "output_type": "execute_result"
    }
   ],
   "source": [
    "not (5 > 4)"
   ]
  },
  {
   "cell_type": "code",
   "execution_count": 4,
   "id": "3be4d1e5",
   "metadata": {},
   "outputs": [
    {
     "data": {
      "text/plain": [
       "True"
      ]
     },
     "execution_count": 4,
     "metadata": {},
     "output_type": "execute_result"
    }
   ],
   "source": [
    "(5 > 4) or (3 == 5)"
   ]
  },
  {
   "cell_type": "code",
   "execution_count": 5,
   "id": "5e647a82",
   "metadata": {},
   "outputs": [
    {
     "data": {
      "text/plain": [
       "False"
      ]
     },
     "execution_count": 5,
     "metadata": {},
     "output_type": "execute_result"
    }
   ],
   "source": [
    "not ((5 > 4) or (3 == 5))"
   ]
  },
  {
   "cell_type": "code",
   "execution_count": 6,
   "id": "7377d86a",
   "metadata": {},
   "outputs": [
    {
     "data": {
      "text/plain": [
       "False"
      ]
     },
     "execution_count": 6,
     "metadata": {},
     "output_type": "execute_result"
    }
   ],
   "source": [
    "(True and True) and (True == False)"
   ]
  },
  {
   "cell_type": "code",
   "execution_count": 7,
   "id": "71cd3ea9",
   "metadata": {},
   "outputs": [
    {
     "data": {
      "text/plain": [
       "True"
      ]
     },
     "execution_count": 7,
     "metadata": {},
     "output_type": "execute_result"
    }
   ],
   "source": [
    "(not False) or (not True)"
   ]
  },
  {
   "cell_type": "markdown",
   "id": "c3cd1a5e",
   "metadata": {},
   "source": [
    "### 5. What are the six comparison operators?"
   ]
  },
  {
   "cell_type": "markdown",
   "id": "17d48d8b",
   "metadata": {},
   "source": [
    "### Ans : 5"
   ]
  },
  {
   "cell_type": "code",
   "execution_count": 8,
   "id": "d7f10e69",
   "metadata": {},
   "outputs": [
    {
     "data": {
      "text/plain": [
       "{1: '==', 2: '!=', 3: '>', 4: '>=', 5: '<', 6: '<='}"
      ]
     },
     "execution_count": 8,
     "metadata": {},
     "output_type": "execute_result"
    }
   ],
   "source": [
    "{1 : \"==\",\n",
    " 2 : \"!=\", \n",
    " 3 : \">\", \n",
    " 4 : \">=\", \n",
    " 5 : \"<\" , \n",
    " 6 : \"<=\"}"
   ]
  },
  {
   "cell_type": "markdown",
   "id": "79610d5a",
   "metadata": {},
   "source": [
    "### 6. How do you tell the difference between the equal to and assignment operators? Describe a condition and when you would use one."
   ]
  },
  {
   "cell_type": "markdown",
   "id": "316f1be0",
   "metadata": {},
   "source": [
    "### Ans : 6"
   ]
  },
  {
   "cell_type": "markdown",
   "id": "bcc48c01",
   "metadata": {},
   "source": [
    "- == checks if expression is true or flase."
   ]
  },
  {
   "cell_type": "code",
   "execution_count": 9,
   "id": "bdd1627a",
   "metadata": {},
   "outputs": [
    {
     "data": {
      "text/plain": [
       "True"
      ]
     },
     "execution_count": 9,
     "metadata": {},
     "output_type": "execute_result"
    }
   ],
   "source": [
    "1 == (2-1) # we can use this when we want to check if value is true or false"
   ]
  },
  {
   "cell_type": "markdown",
   "id": "fb429207",
   "metadata": {},
   "source": [
    "- = assigns values in variable."
   ]
  },
  {
   "cell_type": "code",
   "execution_count": 10,
   "id": "97aefd9a",
   "metadata": {},
   "outputs": [
    {
     "data": {
      "text/plain": [
       "True"
      ]
     },
     "execution_count": 10,
     "metadata": {},
     "output_type": "execute_result"
    }
   ],
   "source": [
    "_1_ = True # we can use = to assign value into variable.\n",
    "_1_"
   ]
  },
  {
   "cell_type": "markdown",
   "id": "57a04d13",
   "metadata": {},
   "source": [
    "### 7. Identify the three blocks in this code:\n",
    "spam = 0\n",
    "\n",
    "if spam == 10:\n",
    "\n",
    "print('eggs')\n",
    "\n",
    "if spam == 5:\n",
    "\n",
    "print('bacon')\n",
    "\n",
    "else:\n",
    "\n",
    "print('ham')\n",
    "\n",
    "print('spam')\n",
    "\n",
    "print('spam')\n"
   ]
  },
  {
   "cell_type": "markdown",
   "id": "5b9933b8",
   "metadata": {},
   "source": [
    "### Ans : 7"
   ]
  },
  {
   "cell_type": "markdown",
   "id": "c402c9e2",
   "metadata": {},
   "source": [
    "- first block is if spam == 10: print('eggs')\n",
    "- second block is if spam == 5: print('bacon')\n",
    "- Third block is else: print('ham') print('spam') print('spam')"
   ]
  },
  {
   "cell_type": "markdown",
   "id": "804cb25d",
   "metadata": {},
   "source": [
    "### 8. Write code that prints Hello if 1 is stored in spam, prints Howdy if 2 is stored in spam, and prints Greetings! if anything else is stored in spam."
   ]
  },
  {
   "cell_type": "markdown",
   "id": "2d73e12e",
   "metadata": {},
   "source": [
    "### Ans : 8"
   ]
  },
  {
   "cell_type": "code",
   "execution_count": 11,
   "id": "5f4ecd66",
   "metadata": {},
   "outputs": [
    {
     "name": "stdout",
     "output_type": "stream",
     "text": [
      "Hello\n"
     ]
    }
   ],
   "source": [
    "spam = 1\n",
    "if spam == 1:\n",
    "    print('Hello')\n",
    "elif spam == 2:\n",
    "    print('Howdy')\n",
    "else:\n",
    "    print('Greetings')"
   ]
  },
  {
   "cell_type": "markdown",
   "id": "b746dd02",
   "metadata": {},
   "source": [
    "### 9. If your programme is stuck in an endless loop, what keys you’ll press?"
   ]
  },
  {
   "cell_type": "markdown",
   "id": "2bd90a8a",
   "metadata": {},
   "source": [
    "### Ans : 9"
   ]
  },
  {
   "cell_type": "markdown",
   "id": "a2a1028c",
   "metadata": {},
   "source": [
    "- Ctrl + C"
   ]
  },
  {
   "cell_type": "markdown",
   "id": "897beb38",
   "metadata": {},
   "source": [
    "### 10. How can you tell the difference between break and continue?"
   ]
  },
  {
   "cell_type": "markdown",
   "id": "1640d452",
   "metadata": {},
   "source": [
    "### Ans : 10"
   ]
  },
  {
   "cell_type": "markdown",
   "id": "05eaec6e",
   "metadata": {},
   "source": [
    "- break - it will stop executing further code if condition is true.\n",
    "- continue - it will continue executing further code if condition is true."
   ]
  },
  {
   "cell_type": "markdown",
   "id": "003f4dd9",
   "metadata": {},
   "source": [
    "### 11. In a for loop, what is the difference between range(10), range(0, 10), and range(0, 10, 1)?"
   ]
  },
  {
   "cell_type": "markdown",
   "id": "cae6406e",
   "metadata": {},
   "source": [
    "### Ans : 11"
   ]
  },
  {
   "cell_type": "markdown",
   "id": "c79a990c",
   "metadata": {},
   "source": [
    "- No diffirence"
   ]
  },
  {
   "cell_type": "markdown",
   "id": "0708d91a",
   "metadata": {},
   "source": [
    "### 12. Write a short program that prints the numbers 1 to 10 using a for loop. Then write an equivalent program that prints the numbers 1 to 10 using a while loop."
   ]
  },
  {
   "cell_type": "markdown",
   "id": "50f4e9f3",
   "metadata": {},
   "source": [
    "### Ans : 12"
   ]
  },
  {
   "cell_type": "code",
   "execution_count": 12,
   "id": "e840d39d",
   "metadata": {},
   "outputs": [
    {
     "name": "stdout",
     "output_type": "stream",
     "text": [
      "0 1 2 3 4 5 6 7 8 9 10 "
     ]
    }
   ],
   "source": [
    "for i in range(11):\n",
    "    print(i,end = ' ')"
   ]
  },
  {
   "cell_type": "code",
   "execution_count": 13,
   "id": "c5fbebc6",
   "metadata": {},
   "outputs": [
    {
     "name": "stdout",
     "output_type": "stream",
     "text": [
      "0 1 2 3 4 5 6 7 8 9 10 "
     ]
    }
   ],
   "source": [
    "i = 0\n",
    "n = 11\n",
    "while i<n:\n",
    "    print(i, end = ' ')\n",
    "    i+=1"
   ]
  },
  {
   "cell_type": "markdown",
   "id": "409c9798",
   "metadata": {},
   "source": [
    "### 13. If you had a function named bacon() inside a module named spam, how would you call it after importing spam?"
   ]
  },
  {
   "cell_type": "markdown",
   "id": "1582aac8",
   "metadata": {},
   "source": [
    "### Ans : 13"
   ]
  },
  {
   "cell_type": "markdown",
   "id": "710faeed",
   "metadata": {},
   "source": [
    "**from spam import bacon**"
   ]
  }
 ],
 "metadata": {
  "kernelspec": {
   "display_name": "Python 3 (ipykernel)",
   "language": "python",
   "name": "python3"
  },
  "language_info": {
   "codemirror_mode": {
    "name": "ipython",
    "version": 3
   },
   "file_extension": ".py",
   "mimetype": "text/x-python",
   "name": "python",
   "nbconvert_exporter": "python",
   "pygments_lexer": "ipython3",
   "version": "3.9.7"
  }
 },
 "nbformat": 4,
 "nbformat_minor": 5
}

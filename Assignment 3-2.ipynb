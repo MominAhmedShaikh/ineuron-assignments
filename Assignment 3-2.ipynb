{
 "cells": [
  {
   "cell_type": "markdown",
   "id": "373ca0c4",
   "metadata": {},
   "source": [
    "# Assignment 3: Python basics"
   ]
  },
  {
   "cell_type": "markdown",
   "id": "24739cb1",
   "metadata": {},
   "source": [
    "### 1. Why are functions advantageous to have in your programs?"
   ]
  },
  {
   "cell_type": "markdown",
   "id": "2460e667",
   "metadata": {},
   "source": [
    "- Function can make repetitive tasks easy. \n",
    "- Function makes programs easy to read."
   ]
  },
  {
   "cell_type": "markdown",
   "id": "1194a4c7",
   "metadata": {},
   "source": [
    "### 2. When does the code in a function run: when it&#39;s specified or when it&#39;s called? "
   ]
  },
  {
   "cell_type": "markdown",
   "id": "7d681e2d",
   "metadata": {},
   "source": [
    "- When it is called."
   ]
  },
  {
   "cell_type": "markdown",
   "id": "cb04eba8",
   "metadata": {},
   "source": [
    "### 3. What statement creates a function?"
   ]
  },
  {
   "cell_type": "markdown",
   "id": "a6debc86",
   "metadata": {},
   "source": [
    "- def keyword creates a function."
   ]
  },
  {
   "cell_type": "markdown",
   "id": "6cdb6040",
   "metadata": {},
   "source": [
    "### 4. What is the difference between a function and a function call?"
   ]
  },
  {
   "cell_type": "markdown",
   "id": "4f3bbd1d",
   "metadata": {},
   "source": [
    "- Function is a set of codes,statements enclosed inside it for a specific task.\n",
    "- Function call is use to execute predifined function."
   ]
  },
  {
   "cell_type": "markdown",
   "id": "5793dd8f",
   "metadata": {},
   "source": [
    "### 5. How many global scopes are there in a Python program? How many local scopes?"
   ]
  },
  {
   "cell_type": "markdown",
   "id": "d3ad671b",
   "metadata": {},
   "source": [
    "- There can be only one global scope but many local scopes."
   ]
  },
  {
   "cell_type": "markdown",
   "id": "c4f4b567",
   "metadata": {},
   "source": [
    "### 6. What happens to variables in a local scope when the function call returns?"
   ]
  },
  {
   "cell_type": "markdown",
   "id": "50fbbce5",
   "metadata": {},
   "source": [
    "- All variables inside local scope are executed inside that function."
   ]
  },
  {
   "cell_type": "markdown",
   "id": "5db842e4",
   "metadata": {},
   "source": [
    "### 7. What is the concept of a return value? Is it possible to have a return value in an expression?"
   ]
  },
  {
   "cell_type": "markdown",
   "id": "84852973",
   "metadata": {},
   "source": [
    "- Return statement is processed at the end of function call to stop execution of function and returns result.\n",
    "- It is not possible to have a return value in an expression"
   ]
  },
  {
   "cell_type": "markdown",
   "id": "3b4a9b6a",
   "metadata": {},
   "source": [
    "### 8. If a function does not have a return statement, what is the return value of a call to that function?"
   ]
  },
  {
   "cell_type": "markdown",
   "id": "7601fd9b",
   "metadata": {},
   "source": [
    "- Function will not return anything."
   ]
  },
  {
   "cell_type": "markdown",
   "id": "42011dff",
   "metadata": {},
   "source": [
    "### 9. How do you make a function variable refer to the global variable?"
   ]
  },
  {
   "cell_type": "markdown",
   "id": "ea2838ee",
   "metadata": {},
   "source": [
    "- We can use global keyword to make a function variable refer to the global variable."
   ]
  },
  {
   "cell_type": "markdown",
   "id": "7f5b48e8",
   "metadata": {},
   "source": [
    "### 10. What is the data type of None?"
   ]
  },
  {
   "cell_type": "markdown",
   "id": "476fd6ee",
   "metadata": {},
   "source": [
    "- Datatype of None is Nonetype"
   ]
  },
  {
   "cell_type": "markdown",
   "id": "0fd4c42a",
   "metadata": {},
   "source": [
    "### 11. What does the sentence import areallyourpetsnamederic do?"
   ]
  },
  {
   "cell_type": "markdown",
   "id": "4c87e08c",
   "metadata": {},
   "source": [
    "- It will import module named areallyourpetsnamederic."
   ]
  },
  {
   "cell_type": "markdown",
   "id": "c57830c5",
   "metadata": {},
   "source": [
    "### 12. If you had a bacon() feature in a spam module, what would you call it after importing spam?"
   ]
  },
  {
   "cell_type": "markdown",
   "id": "053787cb",
   "metadata": {},
   "source": [
    "- Method 1 : from spam import bacon\n",
    "- Method 2 :\n",
    "\n",
    "step 1: Import spam\n",
    "\n",
    "step 2: spam. \n",
    "\n",
    "step 3: press tab key in keyboard and there we can see bacon function. "
   ]
  },
  {
   "cell_type": "markdown",
   "id": "6e1213c2",
   "metadata": {},
   "source": [
    "### 13. What can you do to save a programme from crashing if it encounters an error?"
   ]
  },
  {
   "cell_type": "markdown",
   "id": "5ea5b181",
   "metadata": {},
   "source": [
    "- We can stop program for further execution of code pressing Ctrl + C."
   ]
  },
  {
   "cell_type": "markdown",
   "id": "cf16d7b7",
   "metadata": {},
   "source": [
    "### 14. What is the purpose of the try clause? What is the purpose of the except clause?"
   ]
  },
  {
   "cell_type": "markdown",
   "id": "f2305681",
   "metadata": {},
   "source": [
    "- It will execute code and check for error. If error occurs then it will execute except clause which is use to handle exceptions or errors in code present inside try clause."
   ]
  }
 ],
 "metadata": {
  "kernelspec": {
   "display_name": "Python 3 (ipykernel)",
   "language": "python",
   "name": "python3"
  },
  "language_info": {
   "codemirror_mode": {
    "name": "ipython",
    "version": 3
   },
   "file_extension": ".py",
   "mimetype": "text/x-python",
   "name": "python",
   "nbconvert_exporter": "python",
   "pygments_lexer": "ipython3",
   "version": "3.9.7"
  }
 },
 "nbformat": 4,
 "nbformat_minor": 5
}

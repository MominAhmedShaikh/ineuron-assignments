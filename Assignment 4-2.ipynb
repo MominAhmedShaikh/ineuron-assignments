{
 "cells": [
  {
   "cell_type": "markdown",
   "id": "32dc49d2",
   "metadata": {},
   "source": [
    "# Assignment 4 : Python basics"
   ]
  },
  {
   "cell_type": "markdown",
   "id": "75ff5fd1",
   "metadata": {},
   "source": [
    "### 1. What exactly is [ ]?"
   ]
  },
  {
   "cell_type": "markdown",
   "id": "b4ba1ba9",
   "metadata": {},
   "source": [
    "- Square brackets.\n",
    "- Used to assign list and in indexing, slicing operations."
   ]
  },
  {
   "cell_type": "markdown",
   "id": "5cd7cda0",
   "metadata": {},
   "source": [
    "### 2. In a list of values stored in a variable called spam, how would you assign the value 'hello' as the third value? (Assume [2, 4, 6, 8, 10] are in spam.)"
   ]
  },
  {
   "cell_type": "code",
   "execution_count": 10,
   "id": "b59b244f",
   "metadata": {},
   "outputs": [],
   "source": [
    "spam = [2,4,6,8,10]"
   ]
  },
  {
   "cell_type": "code",
   "execution_count": 11,
   "id": "fb80b2a4",
   "metadata": {},
   "outputs": [],
   "source": [
    "spam[2] = 'hello'"
   ]
  },
  {
   "cell_type": "code",
   "execution_count": 12,
   "id": "591258fd",
   "metadata": {},
   "outputs": [
    {
     "data": {
      "text/plain": [
       "[2, 4, 'hello', 8, 10]"
      ]
     },
     "execution_count": 12,
     "metadata": {},
     "output_type": "execute_result"
    }
   ],
   "source": [
    "spam"
   ]
  },
  {
   "cell_type": "markdown",
   "id": "58158a2c",
   "metadata": {},
   "source": [
    "- spam[2] = 'hello'"
   ]
  },
  {
   "cell_type": "markdown",
   "id": "026a1555",
   "metadata": {},
   "source": [
    "### Let's pretend the spam includes the list ['a','b', 'c','d'] for the next three queries."
   ]
  },
  {
   "cell_type": "code",
   "execution_count": 13,
   "id": "2cd53cd4",
   "metadata": {},
   "outputs": [],
   "source": [
    "spam = ['a','b','c','d']"
   ]
  },
  {
   "cell_type": "markdown",
   "id": "804d01ca",
   "metadata": {},
   "source": [
    "### 3. What is the value of spam[int(int(&#39;3&#39; * 2) / 11)]?"
   ]
  },
  {
   "cell_type": "code",
   "execution_count": 14,
   "id": "ecf4e127",
   "metadata": {},
   "outputs": [
    {
     "data": {
      "text/plain": [
       "'d'"
      ]
     },
     "execution_count": 14,
     "metadata": {},
     "output_type": "execute_result"
    }
   ],
   "source": [
    "spam[int(int('3' * 2) / 11)]"
   ]
  },
  {
   "cell_type": "markdown",
   "id": "c8377022",
   "metadata": {},
   "source": [
    "- spam[int(int('3' * 2) / 11)] returns 3rd index of spam"
   ]
  },
  {
   "cell_type": "markdown",
   "id": "69cde950",
   "metadata": {},
   "source": [
    "### 4. What is the value of spam[-1]?"
   ]
  },
  {
   "cell_type": "code",
   "execution_count": 15,
   "id": "c45bbdd9",
   "metadata": {},
   "outputs": [
    {
     "data": {
      "text/plain": [
       "'d'"
      ]
     },
     "execution_count": 15,
     "metadata": {},
     "output_type": "execute_result"
    }
   ],
   "source": [
    "spam[-1]"
   ]
  },
  {
   "cell_type": "markdown",
   "id": "9bd09673",
   "metadata": {},
   "source": [
    "- spam[-1] returns last value of list spam which is 'd'."
   ]
  },
  {
   "cell_type": "markdown",
   "id": "fd4889a5",
   "metadata": {},
   "source": [
    "### 5. What is the value of spam[:2]?"
   ]
  },
  {
   "cell_type": "code",
   "execution_count": 16,
   "id": "dde145b4",
   "metadata": {},
   "outputs": [
    {
     "data": {
      "text/plain": [
       "['a', 'b']"
      ]
     },
     "execution_count": 16,
     "metadata": {},
     "output_type": "execute_result"
    }
   ],
   "source": [
    "spam[:2]"
   ]
  },
  {
   "cell_type": "markdown",
   "id": "38ebea18",
   "metadata": {},
   "source": [
    "- spam[:2] returns 'a' and 'b'."
   ]
  },
  {
   "cell_type": "markdown",
   "id": "2ffa346a",
   "metadata": {},
   "source": [
    "### Let's pretend bacon has the list [3.14,'cat',11,'cat', True] for the next three questions."
   ]
  },
  {
   "cell_type": "code",
   "execution_count": 17,
   "id": "d31ea8d9",
   "metadata": {},
   "outputs": [],
   "source": [
    "bacon = [3.14,'cat',11,'cat', True]"
   ]
  },
  {
   "cell_type": "markdown",
   "id": "f7c33cc4",
   "metadata": {},
   "source": [
    "### 6. What is the value of bacon.index('cat')?"
   ]
  },
  {
   "cell_type": "code",
   "execution_count": 18,
   "id": "2b154af9",
   "metadata": {},
   "outputs": [
    {
     "data": {
      "text/plain": [
       "1"
      ]
     },
     "execution_count": 18,
     "metadata": {},
     "output_type": "execute_result"
    }
   ],
   "source": [
    "bacon.index('cat')"
   ]
  },
  {
   "cell_type": "markdown",
   "id": "211328d0",
   "metadata": {},
   "source": [
    "- bacon.index('cat') returns index of value 'cat' which is 1."
   ]
  },
  {
   "cell_type": "markdown",
   "id": "83917b81",
   "metadata": {},
   "source": [
    "### 7. How does bacon.append(99) change the look of the list value in bacon?"
   ]
  },
  {
   "cell_type": "code",
   "execution_count": 19,
   "id": "586f73ee",
   "metadata": {},
   "outputs": [],
   "source": [
    "bacon.append(99)"
   ]
  },
  {
   "cell_type": "code",
   "execution_count": 20,
   "id": "7aac6593",
   "metadata": {},
   "outputs": [
    {
     "data": {
      "text/plain": [
       "[3.14, 'cat', 11, 'cat', True, 99]"
      ]
     },
     "execution_count": 20,
     "metadata": {},
     "output_type": "execute_result"
    }
   ],
   "source": [
    "bacon"
   ]
  },
  {
   "cell_type": "markdown",
   "id": "7e413ef3",
   "metadata": {},
   "source": [
    "- Now, bacon has 6 values and index in range 0 - 5"
   ]
  },
  {
   "cell_type": "markdown",
   "id": "e2952e99",
   "metadata": {},
   "source": [
    "### 8. How does bacon.remove(&#39;cat&#39;) change the look of the list in bacon?"
   ]
  },
  {
   "cell_type": "code",
   "execution_count": 21,
   "id": "028f8b47",
   "metadata": {},
   "outputs": [],
   "source": [
    "bacon.remove('cat')"
   ]
  },
  {
   "cell_type": "code",
   "execution_count": 22,
   "id": "e4987290",
   "metadata": {},
   "outputs": [
    {
     "data": {
      "text/plain": [
       "[3.14, 11, 'cat', True, 99]"
      ]
     },
     "execution_count": 22,
     "metadata": {},
     "output_type": "execute_result"
    }
   ],
   "source": [
    "bacon"
   ]
  },
  {
   "cell_type": "markdown",
   "id": "29ea1ddd",
   "metadata": {},
   "source": [
    "- Now, bacon has 5 values and index in range 0 - 4\n",
    "- It removes first value of cat"
   ]
  },
  {
   "cell_type": "markdown",
   "id": "c9ee590c",
   "metadata": {},
   "source": [
    "### 9. What are the list concatenation and list replication operators?"
   ]
  },
  {
   "cell_type": "markdown",
   "id": "3747e278",
   "metadata": {},
   "source": [
    "- The operator for list concatenation is + , while the operator for replication is *"
   ]
  },
  {
   "cell_type": "markdown",
   "id": "1e56bff0",
   "metadata": {},
   "source": [
    "### 10. What is difference between the list methods append() and insert()?"
   ]
  },
  {
   "cell_type": "markdown",
   "id": "670c1183",
   "metadata": {},
   "source": [
    "- append() - takes 1 argument which is object and adds values at last index of list.\n",
    "- insert() - takes 2 argument which are index,object and adds values at any given index of list."
   ]
  },
  {
   "cell_type": "markdown",
   "id": "4bf6df9b",
   "metadata": {},
   "source": [
    "### 11. What are the two methods for removing items from a list?"
   ]
  },
  {
   "cell_type": "markdown",
   "id": "96e745c9",
   "metadata": {},
   "source": [
    "- list.pop() - removes value at last index.\n",
    "- list.remove() - removes values from anywhere inside given list."
   ]
  },
  {
   "cell_type": "markdown",
   "id": "060c2880",
   "metadata": {},
   "source": [
    "### 12. Describe how list values and string values are identical."
   ]
  },
  {
   "cell_type": "markdown",
   "id": "c07c7341",
   "metadata": {},
   "source": [
    "- Values inside list and string are iterable."
   ]
  },
  {
   "cell_type": "markdown",
   "id": "0a71dc25",
   "metadata": {},
   "source": [
    "### 13. What&#39;s the difference between tuples and lists?"
   ]
  },
  {
   "cell_type": "markdown",
   "id": "88a986de",
   "metadata": {},
   "source": [
    "- Tuple - immutable, values can only be added in last index.\n",
    "- list - mutable, values can be added anywhere inside list."
   ]
  },
  {
   "cell_type": "markdown",
   "id": "08910147",
   "metadata": {},
   "source": [
    "### 14. How do you type a tuple value that only contains the integer 42?"
   ]
  },
  {
   "cell_type": "code",
   "execution_count": 36,
   "id": "1b571aef",
   "metadata": {},
   "outputs": [
    {
     "data": {
      "text/plain": [
       "(42,)"
      ]
     },
     "execution_count": 36,
     "metadata": {},
     "output_type": "execute_result"
    }
   ],
   "source": [
    "(42,)"
   ]
  },
  {
   "cell_type": "markdown",
   "id": "dd070861",
   "metadata": {},
   "source": [
    "### 15. How do you get a list value&#39;s tuple form? How do you get a tuple value&#39;s list form?"
   ]
  },
  {
   "cell_type": "markdown",
   "id": "f484e911",
   "metadata": {},
   "source": [
    "- We can convert tuple into list using list(X) where X is tuple. \n",
    "- And we can convert list into tuple using tuple(Y) where Y is list. "
   ]
  },
  {
   "cell_type": "markdown",
   "id": "091a6362",
   "metadata": {},
   "source": [
    "### 16. Variables that &quot;contain&quot; list values are not necessarily lists themselves. Instead, what do they contain?"
   ]
  },
  {
   "cell_type": "markdown",
   "id": "4314c282",
   "metadata": {},
   "source": [
    "- reference to the list"
   ]
  },
  {
   "cell_type": "markdown",
   "id": "a598908d",
   "metadata": {},
   "source": [
    "### 17. How do you distinguish between copy.copy() and copy.deepcopy()?"
   ]
  },
  {
   "cell_type": "markdown",
   "id": "c4373d09",
   "metadata": {},
   "source": [
    "- copy.copy() will create copy of the object but stores reference.\n",
    "- copy.deepcopy() will create copy of the object and will not store its reference."
   ]
  }
 ],
 "metadata": {
  "kernelspec": {
   "display_name": "Python 3 (ipykernel)",
   "language": "python",
   "name": "python3"
  },
  "language_info": {
   "codemirror_mode": {
    "name": "ipython",
    "version": 3
   },
   "file_extension": ".py",
   "mimetype": "text/x-python",
   "name": "python",
   "nbconvert_exporter": "python",
   "pygments_lexer": "ipython3",
   "version": "3.9.7"
  }
 },
 "nbformat": 4,
 "nbformat_minor": 5
}

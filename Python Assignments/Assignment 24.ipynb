{
 "cells": [
  {
   "cell_type": "markdown",
   "id": "859782e4",
   "metadata": {},
   "source": [
    "# Assignment 24 : Python Basics"
   ]
  },
  {
   "cell_type": "markdown",
   "id": "76d33a6b",
   "metadata": {},
   "source": [
    "### 1. What is the relationship between def statements and lambda expressions ?"
   ]
  },
  {
   "cell_type": "markdown",
   "id": "2279a26c",
   "metadata": {},
   "source": [
    "|                        def functions                       \t|             lambda functions             \t|\n",
    "|:----------------------------------------------------------\t|:----------------------------------------\t|\n",
    "| With namespace                                             \t| Without namespace                        \t|\n",
    "| Can be called anywhere inside the program                                             \t| Anonymous function can not be called anywhere inside the program                     \t|\n",
    "| High in functionality                                      \t| lower functionality as compare to latter \t|\n",
    "| Easier to understand                                       \t| Complicated to understand                \t|\n",
    "| Does not return value until explicitly used return keyword \t| Always return values                     \t|"
   ]
  },
  {
   "cell_type": "markdown",
   "id": "632a414b",
   "metadata": {},
   "source": [
    "### 2. What is the benefit of lambda?"
   ]
  },
  {
   "cell_type": "markdown",
   "id": "ee0ff965",
   "metadata": {},
   "source": [
    "- Provides shortcut to declare a function.\n",
    "- Enhance code readability and reduces complexity."
   ]
  },
  {
   "cell_type": "markdown",
   "id": "d7a1b3ed",
   "metadata": {},
   "source": [
    "### 3. Compare and contrast map, filter, and reduce."
   ]
  },
  {
   "cell_type": "markdown",
   "id": "abee4c56",
   "metadata": {},
   "source": [
    "|                                **map**                               \t|                                **filter**                               \t|                                **reduce**                               \t|\n",
    "|:--------------------------------------------------------------------\t|:-----------------------------------------------------------------------\t|:-----------------------------------------------------------------------\t|\n",
    "| Takes a function and iterable object to perform operations           \t| Takes a function and iterable object to perform operations              \t| Returns a Single value, from inputs                                     \t|\n",
    "| Perform the same operation on all elements in an iterable            \t| Filters a subset of elements that meets a certain (set of) condition(s) \t| Performs an operation on an iterable, yielding a single-valued outcome. \t|\n",
    "| Combined with lambda functions perform returns a object or iterable  \t| Use to filter values from iterables.                                    \t| Requires import from functools                                          \t|\n",
    "|                                                                      \t|                                                                         \t| Used to perform operations such as sum(),mean(),etc.                    \t|"
   ]
  },
  {
   "cell_type": "markdown",
   "id": "b77dca26",
   "metadata": {},
   "source": [
    "### 4. What are function annotations, and how are they used?"
   ]
  },
  {
   "cell_type": "markdown",
   "id": "532d0369",
   "metadata": {},
   "source": [
    "- Function annotations are used to annotate data types of agruments passed to the function.\n",
    "- They does not force the users to use that specific data type but displays which data type to be used.\n",
    "- Simple annotation examples include --> \n",
    "`def func(a : int , b : float):`\n",
    ";`pass`\n",
    "\n",
    "- Excess variable annotation examples includes --> \n",
    "`def func(*args : expression, **kwargs : expression)`;`pass`"
   ]
  },
  {
   "cell_type": "markdown",
   "id": "28cf34b4",
   "metadata": {},
   "source": [
    "### 5. What are recursive functions, and how are they used?"
   ]
  },
  {
   "cell_type": "markdown",
   "id": "b128fdb0",
   "metadata": {},
   "source": [
    "- Recursive functions are functions which calls itself when called.\n",
    "- They include a base case and recursive case.\n",
    "- Requires more memory to store rather iterative algorhithm."
   ]
  },
  {
   "cell_type": "markdown",
   "id": "15708afa",
   "metadata": {},
   "source": [
    "### 6. What are some general design guidelines for coding functions?"
   ]
  },
  {
   "cell_type": "markdown",
   "id": "c4e181f1",
   "metadata": {},
   "source": [
    "- Proper use of doc strings.\n",
    "- Proper indentation to increase readability.\n",
    "- Variable names should convey the function of variable.\n",
    "- Properly differentiated names for Global and Local variables.\n",
    "- Global variables should be avoided."
   ]
  },
  {
   "cell_type": "markdown",
   "id": "bf1344c2",
   "metadata": {},
   "source": [
    "### 7. Name three or more ways that functions can communicate results to a caller."
   ]
  },
  {
   "cell_type": "markdown",
   "id": "007c5fe6",
   "metadata": {},
   "source": [
    "- Return\n",
    "- Print\n",
    "- Yield"
   ]
  }
 ],
 "metadata": {
  "kernelspec": {
   "display_name": "Python 3 (ipykernel)",
   "language": "python",
   "name": "python3"
  },
  "language_info": {
   "codemirror_mode": {
    "name": "ipython",
    "version": 3
   },
   "file_extension": ".py",
   "mimetype": "text/x-python",
   "name": "python",
   "nbconvert_exporter": "python",
   "pygments_lexer": "ipython3",
   "version": "3.9.7"
  }
 },
 "nbformat": 4,
 "nbformat_minor": 5
}

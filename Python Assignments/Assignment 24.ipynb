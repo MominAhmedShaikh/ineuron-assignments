{
 "cells": [
  {
   "cell_type": "markdown",
   "id": "eee4b130",
   "metadata": {},
   "source": [
    "# Assignment 24 : Python Basics"
   ]
  },
  {
   "cell_type": "markdown",
   "id": "8c877486",
   "metadata": {},
   "source": [
    "### 1. What is the relationship between def statements and lambda expressions ?"
   ]
  },
  {
   "cell_type": "markdown",
   "id": "a8e78764",
   "metadata": {},
   "source": [
    "**def func**\n",
    "-  With namespace\n",
    "- Can be called anywhere inside the program \n",
    "- High in functionality\n",
    "- Easier to understand \n",
    "- Does not return value until explicitly used return keyword\n",
    "\n",
    "**lambda functions**\n",
    "- Without namespace\n",
    "- Anonymous function can not be called anywhere inside the program\n",
    "- lower functionality as compare to latter\n",
    "- Complicated to understand \n",
    "- Always return values  "
   ]
  },
  {
   "cell_type": "markdown",
   "id": "ccb05430",
   "metadata": {},
   "source": [
    "### 2. What is the benefit of lambda?"
   ]
  },
  {
   "cell_type": "markdown",
   "id": "5194c4dd",
   "metadata": {},
   "source": [
    "- Provides shortcut to declare a function.\n",
    "- Enhance code readability and reduces complexity."
   ]
  },
  {
   "cell_type": "markdown",
   "id": "73b7fe93",
   "metadata": {},
   "source": [
    "### 3. Compare and contrast map, filter, and reduce."
   ]
  },
  {
   "cell_type": "markdown",
   "id": "cbb78a75",
   "metadata": {},
   "source": [
    "**map**\n",
    "- Takes a function and iterable object to perform operations\n",
    "- Perform the same operation on all elements in an iterable\n",
    "- Combined with lambda functions perform returns a object or iterable \n",
    "\n",
    "**filter**\n",
    "- Takes a function and iterable object to perform operations\n",
    "- Filters a subset of elements that meets a certain (set of) condition(s)\n",
    "- Use to filter values from iterables.\n",
    "\n",
    "**reduce**\n",
    "- Returns a Single value, from inputs\n",
    "- Requires import from functools\n",
    "- Used to perform operations such as sum(),mean(),etc."
   ]
  },
  {
   "cell_type": "markdown",
   "id": "5817ada6",
   "metadata": {},
   "source": [
    "### 4. What are function annotations, and how are they used?"
   ]
  },
  {
   "cell_type": "markdown",
   "id": "ae1359f8",
   "metadata": {},
   "source": [
    "- Function annotations are used to annotate data types of agruments passed to the function.\n",
    "- They does not force the users to use that specific data type but displays which data type to be used.\n",
    "- Simple annotation examples include --> \n",
    "`def func(a : int , b : float):`\n",
    ";`pass`\n",
    "\n",
    "- Excess variable annotation examples includes --> \n",
    "`def func(*args : expression, **kwargs : expression)`;`pass`"
   ]
  },
  {
   "cell_type": "markdown",
   "id": "5f0ae46c",
   "metadata": {},
   "source": [
    "### 5. What are recursive functions, and how are they used?"
   ]
  },
  {
   "cell_type": "markdown",
   "id": "1a0f4dbe",
   "metadata": {},
   "source": [
    "- Recursive functions are functions which calls itself when called.\n",
    "- They include a base case and recursive case.\n",
    "- Requires more memory to store rather iterative algorhithm."
   ]
  },
  {
   "cell_type": "markdown",
   "id": "8fa8af3e",
   "metadata": {},
   "source": [
    "### 6. What are some general design guidelines for coding functions?"
   ]
  },
  {
   "cell_type": "markdown",
   "id": "b2acd8b5",
   "metadata": {},
   "source": [
    "- Proper use of doc strings.\n",
    "- Proper indentation to increase readability.\n",
    "- Variable names should convey the function of variable.\n",
    "- Properly differentiated names for Global and Local variables.\n",
    "- Global variables should be avoided."
   ]
  },
  {
   "cell_type": "markdown",
   "id": "7a23476f",
   "metadata": {},
   "source": [
    "### 7. Name three or more ways that functions can communicate results to a caller."
   ]
  },
  {
   "cell_type": "markdown",
   "id": "eb85a9fd",
   "metadata": {},
   "source": [
    "- Return\n",
    "- Print\n",
    "- Yield"
   ]
  }
 ],
 "metadata": {
  "kernelspec": {
   "display_name": "Python 3 (ipykernel)",
   "language": "python",
   "name": "python3"
  },
  "language_info": {
   "codemirror_mode": {
    "name": "ipython",
    "version": 3
   },
   "file_extension": ".py",
   "mimetype": "text/x-python",
   "name": "python",
   "nbconvert_exporter": "python",
   "pygments_lexer": "ipython3",
   "version": "3.9.7"
  }
 },
 "nbformat": 4,
 "nbformat_minor": 5
}

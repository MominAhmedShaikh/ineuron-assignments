{
 "cells": [
  {
   "cell_type": "markdown",
   "id": "5db5601f",
   "metadata": {},
   "source": [
    "# Assignment 9 : Python basics"
   ]
  },
  {
   "cell_type": "markdown",
   "id": "63eb5520",
   "metadata": {},
   "source": [
    "### 1. To what does a relative path refer?"
   ]
  },
  {
   "cell_type": "markdown",
   "id": "8ca7e347",
   "metadata": {},
   "source": [
    "- Relative path refers to current directory.\n",
    "- Doesn't require full path like absolute directory."
   ]
  },
  {
   "cell_type": "markdown",
   "id": "82f3e531",
   "metadata": {},
   "source": [
    "### 2. What does an absolute path start with your operating system?"
   ]
  },
  {
   "cell_type": "markdown",
   "id": "a11f7b40",
   "metadata": {},
   "source": [
    "- In my operating system absolute path starts with Users.\n",
    "- Eg. '/Users/momin/Inueron assignments/python assignments'"
   ]
  },
  {
   "cell_type": "markdown",
   "id": "eadcad07",
   "metadata": {},
   "source": [
    "### 3. What do the functions os.getcwd() and os.chdir() do?"
   ]
  },
  {
   "cell_type": "markdown",
   "id": "465d8854",
   "metadata": {},
   "source": [
    "- os.getcwd() refers to current working directory, will print location of this file in my directory. eg . '/Users/momin/Inueron assignments/python assignments'\n",
    "- os.chdir() refers to change directory, new location can be added or removed from current working directory."
   ]
  },
  {
   "cell_type": "markdown",
   "id": "b5b51d61",
   "metadata": {},
   "source": [
    "### 4. What are the . and .. folders?"
   ]
  },
  {
   "cell_type": "markdown",
   "id": "bf7114a7",
   "metadata": {},
   "source": [
    "- ' . ' refers to relative directory or current dir, handy when we needed to load files from same directory.\n",
    "- ' .. ' refers to two folders to parent directory. eg . /User/momin/Inueron assignments can be written as ../Inueron assignments"
   ]
  },
  {
   "cell_type": "markdown",
   "id": "9dfda916",
   "metadata": {},
   "source": [
    "### 5. In C:\\bacon\\eggs\\spam.txt, which part is the dir name, and which part is the base name?"
   ]
  },
  {
   "cell_type": "markdown",
   "id": "deb3ef00",
   "metadata": {},
   "source": [
    "- C:\\bacon\\eggs is the dir name, while spam. txt is the base name."
   ]
  },
  {
   "cell_type": "markdown",
   "id": "f7556947",
   "metadata": {},
   "source": [
    "### 6. What are the three “mode” arguments that can be passed to the open() function?"
   ]
  },
  {
   "cell_type": "markdown",
   "id": "d34ecde8",
   "metadata": {},
   "source": [
    "- Various modes are listed below.\n",
    "- 'r'       open for reading (default)\n",
    "- 'w'       open for writing, truncating the file first\n",
    "- 'x'       create a new file and open it for writing\n",
    "- 'a'       open for writing, appending to the end of the file if it exists\n",
    "- 'b'       binary mode\n",
    "- 't'       text mode (default)\n",
    "- '+'       open a disk file for updating (reading and writing)\n",
    "- 'U'       universal newline mode (deprecated)"
   ]
  },
  {
   "cell_type": "markdown",
   "id": "4e6fd111",
   "metadata": {},
   "source": [
    "### 7. What happens if an existing file is opened in write mode?"
   ]
  },
  {
   "cell_type": "markdown",
   "id": "82707cc8",
   "metadata": {},
   "source": [
    "- An existing file opened in write mode is erased and completely overwritten."
   ]
  },
  {
   "cell_type": "markdown",
   "id": "ef381a99",
   "metadata": {},
   "source": [
    "### 8. How do you tell the difference between read() and readlines()?"
   ]
  },
  {
   "cell_type": "markdown",
   "id": "95199b8d",
   "metadata": {},
   "source": [
    "- read() will read whole content and print it as a string, while readlines() will read line by line and print lists of string."
   ]
  },
  {
   "cell_type": "markdown",
   "id": "622fa269",
   "metadata": {},
   "source": [
    "### 9. What data structure does a shelf value resemble?"
   ]
  },
  {
   "cell_type": "markdown",
   "id": "e70cd248",
   "metadata": {},
   "source": [
    "- Resembles much like a directory.\n",
    "- Much like python dictionary it stores data in key value format."
   ]
  }
 ],
 "metadata": {
  "kernelspec": {
   "display_name": "Python 3 (ipykernel)",
   "language": "python",
   "name": "python3"
  },
  "language_info": {
   "codemirror_mode": {
    "name": "ipython",
    "version": 3
   },
   "file_extension": ".py",
   "mimetype": "text/x-python",
   "name": "python",
   "nbconvert_exporter": "python",
   "pygments_lexer": "ipython3",
   "version": "3.9.7"
  }
 },
 "nbformat": 4,
 "nbformat_minor": 5
}

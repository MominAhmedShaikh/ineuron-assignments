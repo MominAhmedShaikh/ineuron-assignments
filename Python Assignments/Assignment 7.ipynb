{
 "cells": [
  {
   "cell_type": "markdown",
   "id": "77a81f22",
   "metadata": {},
   "source": [
    "# Assignment 7 : Python basics"
   ]
  },
  {
   "cell_type": "code",
   "execution_count": 1,
   "id": "6535971d",
   "metadata": {},
   "outputs": [],
   "source": [
    "import re"
   ]
  },
  {
   "cell_type": "markdown",
   "id": "da352972",
   "metadata": {},
   "source": [
    "### 1. What is the name of the feature responsible for generating Regex objects?"
   ]
  },
  {
   "cell_type": "markdown",
   "id": "bbd6c985",
   "metadata": {},
   "source": [
    "- re.compile() is used to create regex objects."
   ]
  },
  {
   "cell_type": "markdown",
   "id": "88907bc2",
   "metadata": {},
   "source": [
    "### 2. Why do raw strings often appear in Regex objects?"
   ]
  },
  {
   "cell_type": "markdown",
   "id": "b06c1d60",
   "metadata": {},
   "source": [
    "- While calling regex objects we will only get non-escaped characters.\n",
    "- When we print raw strings it makes sure that linebreak, blackslash, etc. don't have to be escaped. "
   ]
  },
  {
   "cell_type": "markdown",
   "id": "ffec259f",
   "metadata": {},
   "source": [
    "### 3. What is the return value of the search() method?"
   ]
  },
  {
   "cell_type": "markdown",
   "id": "787eced9",
   "metadata": {},
   "source": [
    "- re.search() takes three parameters viz. pattern,string,flags.\n",
    "- If more than one pattern is matched in string it will return first occured value of that pattern, and returns None when no pattern is matched."
   ]
  },
  {
   "cell_type": "markdown",
   "id": "cc968b54",
   "metadata": {},
   "source": [
    "### 4. From a Match item, how do you get the actual strings that match the pattern?"
   ]
  },
  {
   "cell_type": "markdown",
   "id": "41c18672",
   "metadata": {},
   "source": [
    "-  We will use re.match() and \n",
    "- If a match is found in the first line, it returns the match object. But if a match is found in some other line, the Python RegEx Match function returns null."
   ]
  },
  {
   "cell_type": "markdown",
   "id": "abbb3a25",
   "metadata": {},
   "source": [
    "### 5. In the regex which created from the r&#39;(\\d\\d\\d)-(\\d\\d\\d-\\d\\d\\d\\d)&#39;, what does group zero cover?Group 2? Group 1?"
   ]
  },
  {
   "cell_type": "markdown",
   "id": "20239687",
   "metadata": {},
   "source": [
    "- There are only two groups inside this r'(\\d\\d\\d)-(\\d\\d\\d-\\d\\d\\d\\d)'.\n",
    "- Group 0 covers starting part of the numerical value and Group 1 covers middle and last part of numerical value seperated by hyphen respectively.\n",
    "- And if we are considering three groups viz. Group 0, Group 1 , Group 2. then string will be changed here. eg . r'((\\d{3})-(\\d{3}-\\d{4}))'\n",
    "- Here, Group 0 covers whole of the numerical value and Group 1 covers first part of numerical value and Group 2 covers middle and last part seperated by hyphen respectively."
   ]
  },
  {
   "cell_type": "code",
   "execution_count": 2,
   "id": "2a5bfa2a",
   "metadata": {},
   "outputs": [
    {
     "data": {
      "text/plain": [
       "[('333-333-3333', '333', '333-3333')]"
      ]
     },
     "execution_count": 2,
     "metadata": {},
     "output_type": "execute_result"
    }
   ],
   "source": [
    "X = '333-333-3333'\n",
    "pattern = r'((\\d\\d\\d)-(\\d{3}-\\d{4}))'\n",
    "matches = re.findall(pattern, X)\n",
    "matches"
   ]
  },
  {
   "cell_type": "markdown",
   "id": "c4819eb7",
   "metadata": {},
   "source": [
    "### 6. In standard expression syntax, parentheses and intervals have distinct meanings. How can you tell a regex that you want it to fit real parentheses and periods?"
   ]
  },
  {
   "cell_type": "markdown",
   "id": "4069e60d",
   "metadata": {},
   "source": [
    "- Periods and parentheses can be escaped with a backslash."
   ]
  },
  {
   "cell_type": "markdown",
   "id": "ca25bbbe",
   "metadata": {},
   "source": [
    "### 7. The findall() method returns a string list or a list of string tuples. What causes it to return one of the two options?"
   ]
  },
  {
   "cell_type": "markdown",
   "id": "742b783b",
   "metadata": {},
   "source": [
    "- If findall() method matches a single pattern it will return in list and if it matches with group it returns list of tuples."
   ]
  },
  {
   "cell_type": "markdown",
   "id": "23ffe084",
   "metadata": {},
   "source": [
    "### 8. In standard expressions, what does the | character mean?"
   ]
  },
  {
   "cell_type": "markdown",
   "id": "0bdba1df",
   "metadata": {},
   "source": [
    "- | means either, or."
   ]
  },
  {
   "cell_type": "markdown",
   "id": "ab35117f",
   "metadata": {},
   "source": [
    "### 9. In regular expressions, what does the character stand for?"
   ]
  },
  {
   "cell_type": "markdown",
   "id": "e6b03ba6",
   "metadata": {},
   "source": [
    "- Each character in a regular expression (that is, each character in the string describing its pattern) is either a metacharacter, having a special meaning, or a regular character that has a literal meaning. For example, in the regex, 'd' is a literal character that matches just 'd', while '\\d' is Meta Character which Matches any digits."
   ]
  },
  {
   "cell_type": "markdown",
   "id": "e541022d",
   "metadata": {},
   "source": [
    "### 10.In regular expressions, what is the difference between the + and * characters?"
   ]
  },
  {
   "cell_type": "markdown",
   "id": "d7c4615d",
   "metadata": {},
   "source": [
    "- '+' - Represents one or more of a.\n",
    "- '*' - Represents zero or more of a."
   ]
  },
  {
   "cell_type": "markdown",
   "id": "a88cecc8",
   "metadata": {},
   "source": [
    "### 11. What is the difference between {4} and {4,5} in regular expression?"
   ]
  },
  {
   "cell_type": "markdown",
   "id": "f55182d8",
   "metadata": {},
   "source": [
    "- {4} - Represents exactly 4 of a.\n",
    "- {4,5} - Represents range of a from 4 to 5."
   ]
  },
  {
   "cell_type": "markdown",
   "id": "c6595383",
   "metadata": {},
   "source": [
    "### 12. What do you mean by the \\d, \\w, and \\s shorthand character classes signify in regular expressions?"
   ]
  },
  {
   "cell_type": "markdown",
   "id": "088bf321",
   "metadata": {},
   "source": [
    "- \" \\d \" - Mean any digit\n",
    "- \" \\w \" - Mean any word\n",
    "- \" \\s \" - Mean any whitespace character"
   ]
  },
  {
   "cell_type": "markdown",
   "id": "69581b74",
   "metadata": {},
   "source": [
    "### 13. What do means by \\D, \\W, and \\S shorthand character classes signify in regular expressions?"
   ]
  },
  {
   "cell_type": "markdown",
   "id": "aaee3c6c",
   "metadata": {},
   "source": [
    "- \" \\D \" - Mean any Non - digit\n",
    "- \" \\W \" - Mean any Non - word\n",
    "- \" \\S \" - Mean any Non - whitespace character"
   ]
  },
  {
   "cell_type": "markdown",
   "id": "00963b1d",
   "metadata": {},
   "source": [
    "### 14. What is the difference between .*? and .*?"
   ]
  },
  {
   "cell_type": "markdown",
   "id": "0babb092",
   "metadata": {},
   "source": [
    "- \" . \" - Matches any character other than newline (or including line terminators with the /s flag)\n",
    "- \" .? \" - Matches a character 'a' or nothing, Returns as Null if no character is found, Where a can be any number of character."
   ]
  },
  {
   "cell_type": "markdown",
   "id": "3fc49874",
   "metadata": {},
   "source": [
    "### 15. What is the syntax for matching both numbers and lowercase letters with a character class?"
   ]
  },
  {
   "cell_type": "markdown",
   "id": "106d3a38",
   "metadata": {},
   "source": [
    "- Either [0-9a-z] or [a-z0-9]"
   ]
  },
  {
   "cell_type": "markdown",
   "id": "e4e5ae6f",
   "metadata": {},
   "source": [
    "### 16. What is the procedure for making a normal expression in regex case insensitive?"
   ]
  },
  {
   "cell_type": "markdown",
   "id": "598ec41b",
   "metadata": {},
   "source": [
    "- We can pass re.IGNORECASE or re.I as a hyperparameter in flag parameter to make it case insensitive."
   ]
  },
  {
   "cell_type": "markdown",
   "id": "deca89d2",
   "metadata": {},
   "source": [
    "### 17. What does the . character normally match? What does it match if re.DOTALL is passed as 2nd argument in re.compile()?"
   ]
  },
  {
   "cell_type": "markdown",
   "id": "6c3276bc",
   "metadata": {},
   "source": [
    "- The \" . \" character normally matches any character except the newline character. If re.DOTALL is passed as the second argument to re.compile(), then the dot will also match newline characters."
   ]
  },
  {
   "cell_type": "markdown",
   "id": "42df07c3",
   "metadata": {},
   "source": [
    "### 18. If numReg = re.compile(r&#39;\\d+&#39;), what will numRegex.sub(&#39;X&#39;, &#39;11 drummers, 10 pipers, five rings, 4 hen&#39;) return?"
   ]
  },
  {
   "cell_type": "markdown",
   "id": "297f2cac",
   "metadata": {},
   "source": [
    "- 'X drummers, X pipers, five rings, X hens'"
   ]
  },
  {
   "cell_type": "markdown",
   "id": "f25c0a28",
   "metadata": {},
   "source": [
    "### 19. What does passing re.VERBOSE as the 2nd argument to re.compile() allow to do?"
   ]
  },
  {
   "cell_type": "markdown",
   "id": "e8284693",
   "metadata": {},
   "source": [
    "- Allows us to add comments right inside the pattern"
   ]
  },
  {
   "cell_type": "markdown",
   "id": "07943071",
   "metadata": {},
   "source": [
    "### 20. How would you write a regex that match a number with comma for every three digits? It must\n",
    "match the given following:\n",
    "\n",
    "&#39;42&#39;\n",
    "\n",
    "&#39;1,234&#39;\n",
    "\n",
    "&#39;6,368,745&#39;\n",
    "\n",
    "\n",
    "but not the following:\n",
    "\n",
    "&#39;12,34,567&#39; (which has only two digits between the commas)\n",
    "\n",
    "&#39;1234&#39; (which lacks commas)\n"
   ]
  },
  {
   "cell_type": "code",
   "execution_count": 3,
   "id": "374a7386",
   "metadata": {},
   "outputs": [
    {
     "data": {
      "text/plain": [
       "[['42'], ['1,234'], ['6,368,745'], [], []]"
      ]
     },
     "execution_count": 3,
     "metadata": {},
     "output_type": "execute_result"
    }
   ],
   "source": [
    "X = '42','1,234','6,368,745','12,34,567','1234'\n",
    "l = []\n",
    "for i in X:\n",
    "    pattern = r'^\\d{1,3}(?:,\\d{3})*$'\n",
    "    matches = re.findall(pattern,i)\n",
    "    l.append(matches)\n",
    "l"
   ]
  },
  {
   "cell_type": "markdown",
   "id": "c177c972",
   "metadata": {},
   "source": [
    "### 21. How would you write a regex that matches the full name of someone whose last name is Watanabe? You can assume that the first name that comes before it will always be one word that begins with a capital letter. \n",
    "The regex must match the following:\n",
    "\n",
    "&#39;Haruto Watanabe&#39;\n",
    "\n",
    "&#39;Alice Watanabe&#39;\n",
    "\n",
    "&#39;RoboCop Watanabe&#39;\n",
    "\n",
    "but not the following:\n",
    "\n",
    "&#39;haruto Watanabe&#39; (where the first name is not capitalized)\n",
    "\n",
    "&#39;Mr. Watanabe&#39; (where the preceding word has a nonletter character)\n",
    "\n",
    "&#39;Watanabe&#39; (which has no first name)\n",
    "\n",
    "&#39;Haruto watanabe&#39; (where Watanabe is not capitalized)\n"
   ]
  },
  {
   "cell_type": "code",
   "execution_count": 4,
   "id": "fade86f1",
   "metadata": {},
   "outputs": [
    {
     "data": {
      "text/plain": [
       "[['Haruto Watanabe'], ['Alice Watanabe'], ['RoboCop Watanabe'], [], [], [], []]"
      ]
     },
     "execution_count": 4,
     "metadata": {},
     "output_type": "execute_result"
    }
   ],
   "source": [
    "X = 'Haruto Watanabe','Alice Watanabe','RoboCop Watanabe','haruto Watanabe','Mr. Watanabe','Watanabe' ,'Haruto watanabe' \n",
    "l = []\n",
    "for i in X:\n",
    "    pattern = r'[A-Z]+\\w+ Watanabe'\n",
    "    matches = re.findall(pattern,i)\n",
    "    l.append(matches)\n",
    "l"
   ]
  },
  {
   "cell_type": "markdown",
   "id": "6e271b2b",
   "metadata": {},
   "source": [
    "### 22. How would you write a regex that matches a sentence where the first word is either Alice, Bob, or Carol; the second word is either eats, pets, or throws; the third word is apples, cats, or baseballs; and the sentence ends with a period? This regex should be case-insensitive. It must match the following:\n",
    "\n",
    "&#39;Alice eats apples.&#39;\n",
    "\n",
    "&#39;Bob pets cats.&#39;\n",
    "\n",
    "&#39;Carol throws baseballs.&#39;\n",
    "\n",
    "&#39;Alice throws Apples.&#39;\n",
    "\n",
    "&#39;BOB EATS CATS.&#39;\n",
    "\n",
    "but not the following:\n",
    "\n",
    "&#39;RoboCop eats apples.&#39;\n",
    "\n",
    "&#39;ALICE THROWS FOOTBALLS.&#39;\n",
    "\n",
    "&#39;Carol eats 7 cats.&#39;"
   ]
  },
  {
   "cell_type": "code",
   "execution_count": 5,
   "id": "40c6c7b4",
   "metadata": {},
   "outputs": [
    {
     "data": {
      "text/plain": [
       "[['Alice eats apples.'],\n",
       " ['Bob pets cats.'],\n",
       " ['Carol throws baseballs.'],\n",
       " ['Alice throws Apples.'],\n",
       " ['BOB EATS CATS.'],\n",
       " [],\n",
       " [],\n",
       " []]"
      ]
     },
     "execution_count": 5,
     "metadata": {},
     "output_type": "execute_result"
    }
   ],
   "source": [
    "X = 'Alice eats apples.','Bob pets cats.','Carol throws baseballs.','Alice throws Apples.','BOB EATS CATS.','RoboCop eats apples.','ALICE THROWS FOOTBALLS.','Carol eats 7 cats.'\n",
    "l = []\n",
    "for i in X:\n",
    "    pattern = r'[Alice|Bob|Carol]+ [eats|throws|pets]+ [cats|apple|baseball]+\\.'\n",
    "    matches = re.findall(pattern,i,flags=re.I)\n",
    "    l.append(matches)\n",
    "l"
   ]
  }
 ],
 "metadata": {
  "kernelspec": {
   "display_name": "Python 3 (ipykernel)",
   "language": "python",
   "name": "python3"
  },
  "language_info": {
   "codemirror_mode": {
    "name": "ipython",
    "version": 3
   },
   "file_extension": ".py",
   "mimetype": "text/x-python",
   "name": "python",
   "nbconvert_exporter": "python",
   "pygments_lexer": "ipython3",
   "version": "3.9.7"
  }
 },
 "nbformat": 4,
 "nbformat_minor": 5
}

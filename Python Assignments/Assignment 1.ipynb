{
 "cells": [
  {
   "cell_type": "markdown",
   "id": "49c36b78",
   "metadata": {},
   "source": [
    "# Assignment 1 : Python basics"
   ]
  },
  {
   "cell_type": "markdown",
   "id": "ac0dc2d6",
   "metadata": {},
   "source": [
    "## 1. In the below elements which of them are values or an expression? \n",
    "eg:- values can be\n",
    "integer or string and expressions will be mathematical operators.\n",
    "\n",
    "*\n",
    "\n",
    "'hello'\n",
    "\n",
    "-87.8\n",
    "\n",
    "-\n",
    "\n",
    "/\n",
    "\n",
    "+\n",
    "\n",
    "6\n"
   ]
  },
  {
   "cell_type": "markdown",
   "id": "38b2e20a",
   "metadata": {},
   "source": [
    "### Ans : 1"
   ]
  },
  {
   "cell_type": "markdown",
   "id": "a368e43f",
   "metadata": {},
   "source": [
    "values are (-87.8 , 6,'hello')\n",
    "\n",
    "expressions are (* , - , + , /)"
   ]
  },
  {
   "cell_type": "markdown",
   "id": "5f9a18f6",
   "metadata": {},
   "source": [
    "## 2. What is the difference between string and variable? "
   ]
  },
  {
   "cell_type": "markdown",
   "id": "651f8be0",
   "metadata": {},
   "source": [
    "### Ans : 2"
   ]
  },
  {
   "cell_type": "markdown",
   "id": "b42c4514",
   "metadata": {},
   "source": [
    "- Strings are anything (int,float,character,values,etc) which is mentioned between single ' ' or double \" \" quotes.\n",
    "- Variables stores any values which can be changed or manipulated in later stage. Values can be of anything irrespective of data types."
   ]
  },
  {
   "cell_type": "markdown",
   "id": "6ee360ee",
   "metadata": {},
   "source": [
    "## 3. Describe three different data types."
   ]
  },
  {
   "cell_type": "markdown",
   "id": "fa6515c0",
   "metadata": {},
   "source": [
    "### Ans : 3"
   ]
  },
  {
   "cell_type": "markdown",
   "id": "4340edc2",
   "metadata": {},
   "source": [
    "- int = numbers without decimals , requires no rounding off digits.\n",
    "- str = this data type holds values which are mentioned between '' or \"\" quotes.\n",
    "- bool = this data type shows boolean value or expressions.\n",
    "- float = numbers with decimals, can be rounded as per needs with round() function in python."
   ]
  },
  {
   "cell_type": "markdown",
   "id": "3c8b3f28",
   "metadata": {},
   "source": [
    "## 4. What is an expression made up of? What do all expressions do?"
   ]
  },
  {
   "cell_type": "markdown",
   "id": "b1d869fe",
   "metadata": {},
   "source": [
    "### Ans : 4"
   ]
  },
  {
   "cell_type": "markdown",
   "id": "f2a5b6a4",
   "metadata": {},
   "source": [
    "- expression is made up of operators(mathematical operators like + - etc) and operands (values on which operation is to be performed). Expression can be arithematic , boolean , constant etc.\n",
    "- Expression performs tasks on which they are defined on. \n",
    "- Eg . 10 + 2 = 12 , in which 10 + 2 can be called as expression."
   ]
  },
  {
   "cell_type": "markdown",
   "id": "1b431baf",
   "metadata": {},
   "source": [
    "## 5. This assignment statements, like spam = 10. What is the difference between an expression and a statement?"
   ]
  },
  {
   "cell_type": "markdown",
   "id": "c69c39fa",
   "metadata": {},
   "source": [
    "###  Ans : 5"
   ]
  },
  {
   "cell_type": "markdown",
   "id": "8dc2e977",
   "metadata": {},
   "source": [
    "- Expression is made up of operators(mathematical operators like + - etc) and operands (values on which operation is to be performed). Expression can be arithematic , boolean , constant etc.\n",
    "- Statement executes on top of expressions eg. print(spam) while your ans is 10. here spam is variable stroing int value as 10 and print statement executes the expression and shows you result on screen. "
   ]
  },
  {
   "cell_type": "markdown",
   "id": "d7c8c348",
   "metadata": {},
   "source": [
    "## 6. After running the following code, what does the variable bacon contain? bacon = 22 bacon + 1"
   ]
  },
  {
   "cell_type": "markdown",
   "id": "149b275d",
   "metadata": {},
   "source": [
    "###  Ans : 6"
   ]
  },
  {
   "cell_type": "markdown",
   "id": "33a4195d",
   "metadata": {},
   "source": [
    "- bacon + 1 adds 1 in old value of bacon.\n",
    "- we get 23 as answer."
   ]
  },
  {
   "cell_type": "code",
   "execution_count": 1,
   "id": "228e40db",
   "metadata": {},
   "outputs": [
    {
     "data": {
      "text/plain": [
       "23"
      ]
     },
     "execution_count": 1,
     "metadata": {},
     "output_type": "execute_result"
    }
   ],
   "source": [
    "bacon = 22\n",
    "bacon + 1"
   ]
  },
  {
   "cell_type": "markdown",
   "id": "8ca19f74",
   "metadata": {},
   "source": [
    "## 7. What should the values of the following two terms be? 'spam' + 'spamspam' , spam * 3"
   ]
  },
  {
   "cell_type": "markdown",
   "id": "41467c78",
   "metadata": {},
   "source": [
    "### Ans : 7"
   ]
  },
  {
   "cell_type": "code",
   "execution_count": 2,
   "id": "57d30e41",
   "metadata": {},
   "outputs": [
    {
     "data": {
      "text/plain": [
       "'spamspamspam'"
      ]
     },
     "execution_count": 2,
     "metadata": {},
     "output_type": "execute_result"
    }
   ],
   "source": [
    "'spam' + 'spamspam'"
   ]
  },
  {
   "cell_type": "code",
   "execution_count": 3,
   "id": "778873fc",
   "metadata": {},
   "outputs": [
    {
     "data": {
      "text/plain": [
       "'spamspamspam'"
      ]
     },
     "execution_count": 3,
     "metadata": {},
     "output_type": "execute_result"
    }
   ],
   "source": [
    "'spam' * 3"
   ]
  },
  {
   "cell_type": "markdown",
   "id": "29a53677",
   "metadata": {},
   "source": [
    "- The value is same for both the questions which is 'spamspamspam'"
   ]
  },
  {
   "cell_type": "markdown",
   "id": "0ed900ac",
   "metadata": {},
   "source": [
    "## 8. Why is eggs a valid variable name while 100 is invalid?"
   ]
  },
  {
   "cell_type": "markdown",
   "id": "76ea926d",
   "metadata": {},
   "source": [
    "### Ans : 8"
   ]
  },
  {
   "cell_type": "markdown",
   "id": "62dfa72a",
   "metadata": {},
   "source": [
    "- eggs start with alphabet which is following our rule of variable assignment.\n",
    "- while 100 starts with 1 which is number which voilates our rule of variable assignment, and we will get error as cannot assign to literal."
   ]
  },
  {
   "cell_type": "markdown",
   "id": "7f4859fd",
   "metadata": {},
   "source": [
    "## 9. What three functions can be used to get the integer, floating-point number, or string version of a value?"
   ]
  },
  {
   "cell_type": "markdown",
   "id": "305c663f",
   "metadata": {},
   "source": [
    "### Ans : 9"
   ]
  },
  {
   "cell_type": "markdown",
   "id": "ffd6320c",
   "metadata": {},
   "source": [
    "- for integer verion of numeric value : int()\n",
    "- for float version of numeric value : float()\n",
    "- for string version of any value : str()"
   ]
  },
  {
   "cell_type": "markdown",
   "id": "8ce8c8ba",
   "metadata": {},
   "source": [
    "## 10. Why does this expression cause an error? How can you fix it? 'I have eaten'+ 99 + 'burritos.'"
   ]
  },
  {
   "cell_type": "markdown",
   "id": "f34153ac",
   "metadata": {},
   "source": [
    "### Ans : 10"
   ]
  },
  {
   "cell_type": "markdown",
   "id": "9f679b28",
   "metadata": {},
   "source": [
    "- We can only concatenate values with similar data type.\n",
    "- Here we have string and int data types which can never be concatenated.\n",
    "- instead we use comma(,) in place of + "
   ]
  },
  {
   "cell_type": "code",
   "execution_count": 4,
   "id": "b1088c8d",
   "metadata": {},
   "outputs": [
    {
     "name": "stdout",
     "output_type": "stream",
     "text": [
      "I have eaten 99 burritos.\n"
     ]
    }
   ],
   "source": [
    "print('I have eaten',99,'burritos.')"
   ]
  }
 ],
 "metadata": {
  "kernelspec": {
   "display_name": "Python 3.8.10 64-bit",
   "language": "python",
   "name": "python3"
  },
  "language_info": {
   "codemirror_mode": {
    "name": "ipython",
    "version": 3
   },
   "file_extension": ".py",
   "mimetype": "text/x-python",
   "name": "python",
   "nbconvert_exporter": "python",
   "pygments_lexer": "ipython3",
   "version": "3.8.10"
  },
  "vscode": {
   "interpreter": {
    "hash": "e7370f93d1d0cde622a1f8e1c04877d8463912d04d973331ad4851f04de6915a"
   }
  }
 },
 "nbformat": 4,
 "nbformat_minor": 5
}

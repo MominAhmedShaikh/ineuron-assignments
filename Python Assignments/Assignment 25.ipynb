{
 "cells": [
  {
   "cell_type": "markdown",
   "id": "a7a2d429",
   "metadata": {},
   "source": [
    "# Assignment 25 : Python Basics"
   ]
  },
  {
   "cell_type": "markdown",
   "id": "87b9e539",
   "metadata": {},
   "source": [
    "### 1) What is the difference between enclosing a list comprehension in square brackets and parentheses?"
   ]
  },
  {
   "cell_type": "code",
   "execution_count": 1,
   "id": "c7e157eb",
   "metadata": {},
   "outputs": [
    {
     "data": {
      "text/plain": [
       "([1, 2, 3], <generator object <genexpr> at 0x7fb1656407b0>)"
      ]
     },
     "execution_count": 1,
     "metadata": {},
     "output_type": "execute_result"
    }
   ],
   "source": [
    "# Enclosing a list comprehension in square brackets returns a list.but where as enclosing a list comprehension in parentheses returns a generator object\n",
    "[i for i in range(1,4)],(i for i in range(1,4))"
   ]
  },
  {
   "cell_type": "markdown",
   "id": "057de0a6",
   "metadata": {},
   "source": [
    "### 2) What is the relationship between generators and iterators?"
   ]
  },
  {
   "cell_type": "markdown",
   "id": "ffc891b4",
   "metadata": {},
   "source": [
    "**iterators**\n",
    "- Iteration performs the same function more than once on iterators.\n",
    "- Iterator is object which can be iterated over a range of countable values.\n",
    "- iter() keyword is used to create an iterator containing an iterable object.\n",
    "- next() keyword is used to call the next element in the iterable object.\n",
    "- Every iterator is not a generator\t\n",
    "\n",
    "**generators**\n",
    "- Same as iterator but here yield statement is used (explicitly).\n",
    "- Reduces memory consumption.\n",
    "- Every generator is an iterator"
   ]
  },
  {
   "cell_type": "markdown",
   "id": "47ba1096",
   "metadata": {},
   "source": [
    "### 3) What are the signs that a function is a generator function?"
   ]
  },
  {
   "cell_type": "markdown",
   "id": "a7fe3370",
   "metadata": {},
   "source": [
    "- Returns generator object.\n",
    "- Uses yield statement instead of return."
   ]
  },
  {
   "cell_type": "markdown",
   "id": "777f0aac",
   "metadata": {},
   "source": [
    "### 4) What is the purpose of a yield statement?"
   ]
  },
  {
   "cell_type": "markdown",
   "id": "5ba2d3c3",
   "metadata": {},
   "source": [
    "- yield statement is similar to return statement but yield statement returns a generator object where as return statement returns a value.\n",
    "- This will keep suspending the execution of code and when the next function call takes place. It continues where the last yeild statement was left."
   ]
  },
  {
   "cell_type": "markdown",
   "id": "f4eb5174",
   "metadata": {},
   "source": [
    "### 5) What is the relationship between map calls and list comprehensions? Make a comparison and contrast between the two."
   ]
  },
  {
   "cell_type": "code",
   "execution_count": 2,
   "id": "cf08ad80",
   "metadata": {},
   "outputs": [
    {
     "name": "stdout",
     "output_type": "stream",
     "text": [
      "List: [1, 2, 3, 4]\n",
      "List with Map [2, 4, 6, 8]\n"
     ]
    }
   ],
   "source": [
    "# List comprehension is consize and more readable.\n",
    "list_ = [i for i in range(1,5)]\n",
    "print('List:',list_)\n",
    "# map requires a function and iterable object and we need to specify the return object's data type eg. list,dataframe,series,etc.\n",
    "def addition(n):\n",
    "    return n + n\n",
    "  \n",
    "result = map(addition, list_)\n",
    "print('List with Map',list(result))"
   ]
  }
 ],
 "metadata": {
  "kernelspec": {
   "display_name": "Python 3 (ipykernel)",
   "language": "python",
   "name": "python3"
  },
  "language_info": {
   "codemirror_mode": {
    "name": "ipython",
    "version": 3
   },
   "file_extension": ".py",
   "mimetype": "text/x-python",
   "name": "python",
   "nbconvert_exporter": "python",
   "pygments_lexer": "ipython3",
   "version": "3.9.7"
  }
 },
 "nbformat": 4,
 "nbformat_minor": 5
}

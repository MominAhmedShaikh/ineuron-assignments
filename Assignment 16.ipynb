{
 "cells": [
  {
   "cell_type": "markdown",
   "id": "0afecba0",
   "metadata": {},
   "source": [
    "# Assignment 16 : Python Basics"
   ]
  },
  {
   "cell_type": "markdown",
   "id": "2e61f282",
   "metadata": {},
   "source": [
    "### 1. Create a list called years_list, starting with the year of your birth, and each year thereafter until the year of your fifth birthday. For example, if you were born in 1980. the list would be years_list = [1980, 1981, 1982, 1983, 1984, 1985]."
   ]
  },
  {
   "cell_type": "code",
   "execution_count": 1,
   "id": "77a1588e",
   "metadata": {},
   "outputs": [],
   "source": [
    "years_list = [i for i in range(1999,1999+6)]"
   ]
  },
  {
   "cell_type": "markdown",
   "id": "41040b89",
   "metadata": {},
   "source": [
    "### 2. In which year in years_list was your third birthday? Remember, you were 0 years of age for your first year."
   ]
  },
  {
   "cell_type": "markdown",
   "id": "e54959da",
   "metadata": {},
   "source": [
    "- At 2002 I became 3 years old."
   ]
  },
  {
   "cell_type": "code",
   "execution_count": 2,
   "id": "784badb3",
   "metadata": {},
   "outputs": [
    {
     "data": {
      "text/plain": [
       "2002"
      ]
     },
     "execution_count": 2,
     "metadata": {},
     "output_type": "execute_result"
    }
   ],
   "source": [
    "years_list[3]"
   ]
  },
  {
   "cell_type": "markdown",
   "id": "82974def",
   "metadata": {},
   "source": [
    "### 3.In the years list, which year were you the oldest?"
   ]
  },
  {
   "cell_type": "code",
   "execution_count": 3,
   "id": "d332d5df",
   "metadata": {},
   "outputs": [
    {
     "data": {
      "text/plain": [
       "2004"
      ]
     },
     "execution_count": 3,
     "metadata": {},
     "output_type": "execute_result"
    }
   ],
   "source": [
    "max(years_list)"
   ]
  },
  {
   "cell_type": "markdown",
   "id": "3cd9ac88",
   "metadata": {},
   "source": [
    "- At 2004 I was oldest."
   ]
  },
  {
   "cell_type": "markdown",
   "id": "a007bb4e",
   "metadata": {},
   "source": [
    "### 4. Make a list called things with these three strings as elements: &quot;mozzarella&quot;, &quot;cinderella&quot;,&quot;salmonella&quot;."
   ]
  },
  {
   "cell_type": "code",
   "execution_count": 4,
   "id": "b42cdc4c",
   "metadata": {},
   "outputs": [],
   "source": [
    "things = [\"mozzarella\", \"cinderella\",\"salmonella\"]"
   ]
  },
  {
   "cell_type": "markdown",
   "id": "d3ad45fa",
   "metadata": {},
   "source": [
    "### 5. Capitalize the element in things that refers to a person and then print the list. Did it change the element in the list?"
   ]
  },
  {
   "cell_type": "code",
   "execution_count": 5,
   "id": "cae6e622",
   "metadata": {},
   "outputs": [
    {
     "data": {
      "text/plain": [
       "'Cinderella'"
      ]
     },
     "execution_count": 5,
     "metadata": {},
     "output_type": "execute_result"
    }
   ],
   "source": [
    "things[1].capitalize() # if cinderella is a person"
   ]
  },
  {
   "cell_type": "code",
   "execution_count": 6,
   "id": "4628d2b0",
   "metadata": {},
   "outputs": [
    {
     "name": "stdout",
     "output_type": "stream",
     "text": [
      "['mozzarella', 'cinderella', 'salmonella']\n"
     ]
    }
   ],
   "source": [
    "print(things)"
   ]
  },
  {
   "cell_type": "markdown",
   "id": "069d7fc0",
   "metadata": {},
   "source": [
    "- No it didn't changed the list element"
   ]
  },
  {
   "cell_type": "markdown",
   "id": "9084a4da",
   "metadata": {},
   "source": [
    "### 6. Make a surprise list with the elements &quot;Groucho,&quot; &quot;Chico,&quot; and &quot;Harpo.&quot;"
   ]
  },
  {
   "cell_type": "code",
   "execution_count": 7,
   "id": "5fe050ae",
   "metadata": {},
   "outputs": [],
   "source": [
    "surprise = [\"Groucho\",\"Chico\",\"Harpo\"]"
   ]
  },
  {
   "cell_type": "markdown",
   "id": "b2556c29",
   "metadata": {},
   "source": [
    "### 7. Lowercase the last element of the surprise list, reverse it, and then capitalize it."
   ]
  },
  {
   "cell_type": "code",
   "execution_count": 8,
   "id": "501a857f",
   "metadata": {},
   "outputs": [],
   "source": [
    "surprise[-1] = surprise[-1].lower() # step 1"
   ]
  },
  {
   "cell_type": "code",
   "execution_count": 9,
   "id": "aba510ea",
   "metadata": {},
   "outputs": [],
   "source": [
    "surprise[-1] = surprise[-1][::-1].upper() # step 2 and step 3"
   ]
  },
  {
   "cell_type": "code",
   "execution_count": 10,
   "id": "0a3708f3",
   "metadata": {},
   "outputs": [
    {
     "data": {
      "text/plain": [
       "['Groucho', 'Chico', 'OPRAH']"
      ]
     },
     "execution_count": 10,
     "metadata": {},
     "output_type": "execute_result"
    }
   ],
   "source": [
    "surprise"
   ]
  },
  {
   "cell_type": "markdown",
   "id": "5890eae2",
   "metadata": {},
   "source": [
    "### 8. Make an English-to-French dictionary called e2f and print it. Here are your starter words: dog is chien, cat is chat, and walrus is morse."
   ]
  },
  {
   "cell_type": "code",
   "execution_count": 11,
   "id": "283227f4",
   "metadata": {},
   "outputs": [],
   "source": [
    "e2f = {'dog':'chien','cat':'chat','walrus':'morse'}"
   ]
  },
  {
   "cell_type": "markdown",
   "id": "7261148a",
   "metadata": {},
   "source": [
    "### 9. Write the French word for walrus in your three-word dictionary e2f."
   ]
  },
  {
   "cell_type": "code",
   "execution_count": 12,
   "id": "d7ae484f",
   "metadata": {},
   "outputs": [
    {
     "data": {
      "text/plain": [
       "'morse'"
      ]
     },
     "execution_count": 12,
     "metadata": {},
     "output_type": "execute_result"
    }
   ],
   "source": [
    "e2f['walrus']"
   ]
  },
  {
   "cell_type": "markdown",
   "id": "9426eabc",
   "metadata": {},
   "source": [
    "### 10. Make a French-to-English dictionary called f2e from e2f. Use the items method."
   ]
  },
  {
   "cell_type": "code",
   "execution_count": 13,
   "id": "f7e87afa",
   "metadata": {},
   "outputs": [],
   "source": [
    "f2e = {}\n",
    "for i,j in e2f.items():\n",
    "    f2e[j] = i"
   ]
  },
  {
   "cell_type": "code",
   "execution_count": 14,
   "id": "54c300eb",
   "metadata": {},
   "outputs": [
    {
     "data": {
      "text/plain": [
       "{'chien': 'dog', 'chat': 'cat', 'morse': 'walrus'}"
      ]
     },
     "execution_count": 14,
     "metadata": {},
     "output_type": "execute_result"
    }
   ],
   "source": [
    "f2e"
   ]
  },
  {
   "cell_type": "markdown",
   "id": "d50393e9",
   "metadata": {},
   "source": [
    "### 11. Print the English version of the French word chien using f2e."
   ]
  },
  {
   "cell_type": "code",
   "execution_count": 15,
   "id": "0c81a114",
   "metadata": {},
   "outputs": [
    {
     "data": {
      "text/plain": [
       "'dog'"
      ]
     },
     "execution_count": 15,
     "metadata": {},
     "output_type": "execute_result"
    }
   ],
   "source": [
    "f2e['chien']"
   ]
  },
  {
   "cell_type": "markdown",
   "id": "6bd3ee41",
   "metadata": {},
   "source": [
    "### 12. Make and print a set of English words from the keys in e2f."
   ]
  },
  {
   "cell_type": "code",
   "execution_count": 16,
   "id": "b47e1682",
   "metadata": {},
   "outputs": [
    {
     "data": {
      "text/plain": [
       "dict_keys(['dog', 'cat', 'walrus'])"
      ]
     },
     "execution_count": 16,
     "metadata": {},
     "output_type": "execute_result"
    }
   ],
   "source": [
    "e2f.keys()"
   ]
  },
  {
   "cell_type": "markdown",
   "id": "54a3c9ce",
   "metadata": {},
   "source": [
    "### 13. Make a multilevel dictionary called life. Use these strings for the topmost keys: &#39;animals&#39;, &#39;plants&#39;, and &#39;other&#39;. Make the &#39;animals&#39; key refer to another dictionary with the keys &#39;cats&#39;, &#39;octopi&#39;, and &#39;emus&#39;. Make the &#39;cats&#39; key refer to a list of strings with the values &#39;Henri&#39;, &#39;Grumpy&#39;, and &#39;Lucy&#39;. Make all the other keys refer to empty dictionaries."
   ]
  },
  {
   "cell_type": "code",
   "execution_count": 17,
   "id": "c306d526",
   "metadata": {},
   "outputs": [],
   "source": [
    "life = {'animals':{\n",
    "    'cats':['Henri','Grumpy','Lucy']  ,'octopi':{}  , 'emus':{} \n",
    "}\n",
    "        ,'plants':{}\n",
    "        ,'other':{}\n",
    "}"
   ]
  },
  {
   "cell_type": "code",
   "execution_count": 18,
   "id": "60b783c5",
   "metadata": {},
   "outputs": [
    {
     "data": {
      "text/plain": [
       "{'animals': {'cats': ['Henri', 'Grumpy', 'Lucy'], 'octopi': {}, 'emus': {}},\n",
       " 'plants': {},\n",
       " 'other': {}}"
      ]
     },
     "execution_count": 18,
     "metadata": {},
     "output_type": "execute_result"
    }
   ],
   "source": [
    "life"
   ]
  },
  {
   "cell_type": "markdown",
   "id": "a7377781",
   "metadata": {},
   "source": [
    "### 14. Print the top-level keys of life."
   ]
  },
  {
   "cell_type": "code",
   "execution_count": 19,
   "id": "5109c468",
   "metadata": {},
   "outputs": [
    {
     "data": {
      "text/plain": [
       "dict_keys(['animals', 'plants', 'other'])"
      ]
     },
     "execution_count": 19,
     "metadata": {},
     "output_type": "execute_result"
    }
   ],
   "source": [
    "life.keys()"
   ]
  },
  {
   "cell_type": "markdown",
   "id": "014258fe",
   "metadata": {},
   "source": [
    "### 15. Print the keys for life[&#39;animals&#39;]."
   ]
  },
  {
   "cell_type": "code",
   "execution_count": 20,
   "id": "5c62e685",
   "metadata": {},
   "outputs": [
    {
     "data": {
      "text/plain": [
       "dict_keys(['cats', 'octopi', 'emus'])"
      ]
     },
     "execution_count": 20,
     "metadata": {},
     "output_type": "execute_result"
    }
   ],
   "source": [
    "life['animals'].keys()"
   ]
  },
  {
   "cell_type": "markdown",
   "id": "fed7bee9",
   "metadata": {},
   "source": [
    "### 16. Print the values for life[&#39;animals&#39;][&#39;cats&#39;]"
   ]
  },
  {
   "cell_type": "code",
   "execution_count": 21,
   "id": "81851d10",
   "metadata": {},
   "outputs": [
    {
     "data": {
      "text/plain": [
       "['Henri', 'Grumpy', 'Lucy']"
      ]
     },
     "execution_count": 21,
     "metadata": {},
     "output_type": "execute_result"
    }
   ],
   "source": [
    "life['animals']['cats']"
   ]
  }
 ],
 "metadata": {
  "kernelspec": {
   "display_name": "Python 3 (ipykernel)",
   "language": "python",
   "name": "python3"
  },
  "language_info": {
   "codemirror_mode": {
    "name": "ipython",
    "version": 3
   },
   "file_extension": ".py",
   "mimetype": "text/x-python",
   "name": "python",
   "nbconvert_exporter": "python",
   "pygments_lexer": "ipython3",
   "version": "3.9.7"
  }
 },
 "nbformat": 4,
 "nbformat_minor": 5
}

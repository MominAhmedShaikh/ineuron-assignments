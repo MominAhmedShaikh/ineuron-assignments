{
 "cells": [
  {
   "cell_type": "markdown",
   "id": "72b2e1a2",
   "metadata": {},
   "source": [
    "# Assignment 21 : Python Programming Basic"
   ]
  },
  {
   "cell_type": "markdown",
   "id": "8a1811df",
   "metadata": {},
   "source": [
    "### 1 . Write a function that takes a list and a number as arguments. Add the number to the end of the list, then remove the first element of the list. The function should then return the updated list.<br>\n",
    "**Examples:**<br>\n",
    "`next_in_line([5, 6, 7, 8, 9], 1) ➞ [6, 7, 8, 9, 1]`<br>\n",
    "`next_in_line([7, 6, 3, 23, 17], 10) ➞ [6, 3, 23, 17, 10]`<br>\n",
    "`next_in_line([1, 10, 20, 42 ], 6) ➞ [10, 20, 42, 6]`<br>\n",
    "`next_in_line([], 6) ➞ \"No list has been selected\"`<br>\n",
    "\n"
   ]
  },
  {
   "cell_type": "code",
   "execution_count": 1,
   "id": "c0773ed3",
   "metadata": {},
   "outputs": [],
   "source": [
    "def next_in_line(x:list,y:int)->list[int]:\n",
    "    if len(x)>=1:\n",
    "        x.remove(x[0])\n",
    "        x.append(y)\n",
    "        return x\n",
    "    else:\n",
    "        return \"No list has been selected\""
   ]
  },
  {
   "cell_type": "code",
   "execution_count": 2,
   "id": "f79ff2f5",
   "metadata": {},
   "outputs": [
    {
     "name": "stdout",
     "output_type": "stream",
     "text": [
      "[6, 7, 8, 9, 1]\n",
      "[6, 3, 23, 17, 10]\n",
      "[10, 20, 42, 6]\n",
      "No list has been selected\n"
     ]
    }
   ],
   "source": [
    "print(next_in_line([5, 6, 7, 8, 9], 1))\n",
    "print(next_in_line([7, 6, 3, 23, 17],10))\n",
    "print(next_in_line([1, 10, 20, 42 ], 6))\n",
    "print(next_in_line([], 6))"
   ]
  },
  {
   "cell_type": "markdown",
   "id": "71cb89f1",
   "metadata": {},
   "source": [
    "### 2 . Create the function that takes a list of dictionaries and returns the sum of people's budgets.<br>\n",
    "**Examples:**<br>\n",
    "`get_budgets([ { \"name\": \"John\", \"age\": 21, \"budget\": 23000 }, { \"name\": \"Steve\", \"age\": 32, \"budget\": 40000 }, { \"name\": \"Martin\", \"age\": 16, \"budget\": 2700 } ]) ➞ 65700`<br>\n",
    "\n",
    "`get_budgets([ { \"name\": \"John\", \"age\": 21, \"budget\": 29000 }, { \"name\": \"Steve\", \"age\": 32, \"budget\": 32000 }, { \"name\": \"Martin\", \"age\": 16, \"budget\": 1600 } ]) ➞ 62600`<br>"
   ]
  },
  {
   "cell_type": "code",
   "execution_count": 3,
   "id": "c2cf8d9f",
   "metadata": {},
   "outputs": [],
   "source": [
    "def get_budgets(x:list)->int:\n",
    "    b = 0\n",
    "    for ele in range(len(x)):\n",
    "        if type(x[ele]) == dict:\n",
    "            if \"budget\" in x[ele].keys():\n",
    "                b += x[ele][\"budget\"]\n",
    "    return b"
   ]
  },
  {
   "cell_type": "code",
   "execution_count": 4,
   "id": "365a262a",
   "metadata": {},
   "outputs": [
    {
     "name": "stdout",
     "output_type": "stream",
     "text": [
      "O/P 1 -> 65700\n",
      "O/P 2 -> 62600\n"
     ]
    }
   ],
   "source": [
    "print('O/P 1 ->',get_budgets([ { \"name\": \"John\", \"age\": 21, \"budget\": 23000 }, { \"name\": \"Steve\", \"age\": 32, \"budget\": 40000 }, { \"name\": \"Martin\", \"age\": 16, \"budget\": 2700 } ]))\n",
    "print('O/P 2 ->',get_budgets([{ \"name\": \"John\", \"age\": 21, \"budget\": 29000 }, { \"name\": \"Steve\", \"age\": 32, \"budget\": 32000 }, { \"name\": \"Martin\", \"age\": 16, \"budget\": 1600 } ]))"
   ]
  },
  {
   "cell_type": "markdown",
   "id": "102f593b",
   "metadata": {},
   "source": [
    "### 3 . Create a function that takes a string and returns a string with its letters in alphabetical order.<br>\n",
    "**Examples:**<br>\n",
    "`alphabet_soup(\"hello\") ➞ \"ehllo\"`<br>\n",
    "`alphabet_soup(\"edabit\") ➞ \"abdeit\"`<br>\n",
    "`alphabet_soup(\"hacker\") ➞ \"acehkr\"`<br>\n",
    "`alphabet_soup(\"geek\") ➞ \"eegk\"`<br>\n",
    "`alphabet_soup(\"javascript\") ➞ \"aacijprstv\"`<br>"
   ]
  },
  {
   "cell_type": "code",
   "execution_count": 5,
   "id": "0da2de1a",
   "metadata": {},
   "outputs": [],
   "source": [
    "def alphabet_soup(x:str):\n",
    "    out_str = \"\".join(char for char in sorted(x))\n",
    "    return out_str"
   ]
  },
  {
   "cell_type": "code",
   "execution_count": 6,
   "id": "8e57bc6f",
   "metadata": {},
   "outputs": [
    {
     "name": "stdout",
     "output_type": "stream",
     "text": [
      "O/P 1 -> ehllo\n",
      "O/P 2 -> abdeit\n",
      "O/P 3 -> acehkr\n",
      "O/P 4 -> eegk\n",
      "O/P 5 -> aacijprstv\n"
     ]
    }
   ],
   "source": [
    "print('O/P 1 ->',alphabet_soup(\"hello\"))\n",
    "print('O/P 2 ->',alphabet_soup(\"edabit\"))\n",
    "print('O/P 3 ->',alphabet_soup(\"hacker\"))\n",
    "print('O/P 4 ->',alphabet_soup(\"geek\"))\n",
    "print('O/P 5 ->',alphabet_soup(\"javascript\"))"
   ]
  },
  {
   "cell_type": "markdown",
   "id": "435e5a22",
   "metadata": {},
   "source": [
    "### 4 . What will be the value of your investment at the end of the 10 year period?<br>\n",
    "Create a function that accepts the principal p, the term in years t, the interest rate r, and the number of compounding periods per year n. The function returns the value at the end of term rounded to the nearest cent.<br>\n",
    "\n",
    "**For the example above:**<br>\n",
    "`compound_interest(10000, 10, 0.06, 12) ➞ 18193.97`<br>\n",
    "\n",
    "<mark>Note that the interest rate is given as a decimal and n=12 because with monthly compounding there are 12 periods per year. Compounding can also be done annually, quarterly, weekly, or daily.<br>\n",
    "\n",
    "**Examples:**<br>\n",
    "`compound_interest(100, 1, 0.05, 1) ➞ 105.0`<br>\n",
    "`compound_interest(3500, 15, 0.1, 4) ➞ 15399.26`<br>\n",
    "`compound_interest(100000, 20, 0.15, 365) ➞ 2007316.26`<br>"
   ]
  },
  {
   "cell_type": "code",
   "execution_count": 7,
   "id": "92de1c45",
   "metadata": {},
   "outputs": [
    {
     "name": "stdout",
     "output_type": "stream",
     "text": [
      "O/P -> 105.0\n",
      "O/P -> 15399.26\n",
      "O/P -> 2007316.26\n"
     ]
    }
   ],
   "source": [
    "def compound_interest(principal:int,years:int,roi:float,cp:int)->float:\n",
    "    ci = principal*(1+(roi/cp))**(cp*years)\n",
    "    return f'O/P -> {round(ci,2)}'\n",
    "\n",
    "print(compound_interest(100, 1, 0.05, 1))\n",
    "print(compound_interest(3500, 15, 0.1, 4))\n",
    "print(compound_interest(100000, 20, 0.15, 365))"
   ]
  },
  {
   "cell_type": "markdown",
   "id": "2176fd56",
   "metadata": {},
   "source": [
    "### 5 . Write a function that takes a list of elements and returns only the integers.<br>\n",
    "**Examples:**<br>\n",
    "`return_only_integer([9, 2, \"space\", \"car\", \"lion\", 16]) ➞ [9, 2, 16]`<br>\n",
    "`return_only_integer([\"hello\", 81, \"basketball\", 123, \"fox\"]) ➞ [81, 123]`<br>\n",
    "`return_only_integer([10, \"121\", 56, 20, \"car\", 3, \"lion\"]) ➞ [10, 56, 20,3]`<br>\n",
    "`return_only_integer([\"String\", True, 3.3, 1]) ➞ [1]`<br>"
   ]
  },
  {
   "cell_type": "code",
   "execution_count": 8,
   "id": "c8c6a01c",
   "metadata": {},
   "outputs": [],
   "source": [
    "def return_only_integer(x:list)->list[int]:\n",
    "    b = []\n",
    "    for ele in x:\n",
    "        if type(ele) == int:\n",
    "            b.append(ele)\n",
    "    return b"
   ]
  },
  {
   "cell_type": "code",
   "execution_count": 9,
   "id": "1d87d205",
   "metadata": {},
   "outputs": [
    {
     "name": "stdout",
     "output_type": "stream",
     "text": [
      "O/P 1 -> [9, 2, 16]\n",
      "O/P 2 -> [81, 123]\n",
      "O/P 3 -> [10, 56, 20, 3]\n",
      "O/P 4 -> [1]\n"
     ]
    }
   ],
   "source": [
    "print('O/P 1 ->',return_only_integer([9, 2, \"space\", \"car\", \"lion\", 16]))\n",
    "print('O/P 2 ->',return_only_integer([\"hello\", 81, \"basketball\", 123, \"fox\"]))\n",
    "print('O/P 3 ->',return_only_integer([10, \"121\", 56, 20, \"car\", 3, \"lion\"]))\n",
    "print('O/P 4 ->',return_only_integer([\"String\", True, 3.3, 1]))"
   ]
  }
 ],
 "metadata": {
  "kernelspec": {
   "display_name": "Python 3 (ipykernel)",
   "language": "python",
   "name": "python3"
  },
  "language_info": {
   "codemirror_mode": {
    "name": "ipython",
    "version": 3
   },
   "file_extension": ".py",
   "mimetype": "text/x-python",
   "name": "python",
   "nbconvert_exporter": "python",
   "pygments_lexer": "ipython3",
   "version": "3.9.15"
  }
 },
 "nbformat": 4,
 "nbformat_minor": 5
}

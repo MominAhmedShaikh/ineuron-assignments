{
 "cells": [
  {
   "cell_type": "markdown",
   "id": "665b024b",
   "metadata": {},
   "source": [
    "# Assignment 8: Python Programming Basic"
   ]
  },
  {
   "cell_type": "markdown",
   "id": "7510aad1",
   "metadata": {},
   "source": [
    "### 1. Write a Python Program to Add Two Matrices?\n"
   ]
  },
  {
   "cell_type": "code",
   "execution_count": 1,
   "id": "1e87b867",
   "metadata": {},
   "outputs": [],
   "source": [
    "A = [[1,2],\n",
    "     [3,4]]\n",
    "\n",
    "B = [[5,6],\n",
    "     [3,1]]"
   ]
  },
  {
   "cell_type": "code",
   "execution_count": 2,
   "id": "3395bb16",
   "metadata": {},
   "outputs": [],
   "source": [
    "def Matrix_Addition(A,B):\n",
    "    result = [[A[row][col] + B[row][col] for col in range(len(A[0]))] for row in range(len(A))]\n",
    "    return result"
   ]
  },
  {
   "cell_type": "code",
   "execution_count": 3,
   "id": "8e48986a",
   "metadata": {},
   "outputs": [
    {
     "data": {
      "text/plain": [
       "[[6, 8], [6, 5]]"
      ]
     },
     "execution_count": 3,
     "metadata": {},
     "output_type": "execute_result"
    }
   ],
   "source": [
    "Matrix_Addition(A,B)"
   ]
  },
  {
   "cell_type": "markdown",
   "id": "22155a5f",
   "metadata": {},
   "source": [
    "### 2. Write a Python Program to Multiply Two Matrices?\n"
   ]
  },
  {
   "cell_type": "code",
   "execution_count": 4,
   "id": "100d6cd6",
   "metadata": {},
   "outputs": [],
   "source": [
    "def Matrix_Multiply(A,B):\n",
    "    result = [[A[row][col] * B[row][col] for col in range(len(A[0]))] for row in range(len(A))]\n",
    "    return result"
   ]
  },
  {
   "cell_type": "code",
   "execution_count": 5,
   "id": "f8c6c65c",
   "metadata": {},
   "outputs": [
    {
     "data": {
      "text/plain": [
       "[[5, 12], [9, 4]]"
      ]
     },
     "execution_count": 5,
     "metadata": {},
     "output_type": "execute_result"
    }
   ],
   "source": [
    "Matrix_Multiply(A,B)"
   ]
  },
  {
   "cell_type": "markdown",
   "id": "26ca68f2",
   "metadata": {},
   "source": [
    "### 3. Write a Python Program to Transpose a Matrix?\n"
   ]
  },
  {
   "cell_type": "code",
   "execution_count": 6,
   "id": "be9682e3",
   "metadata": {},
   "outputs": [],
   "source": [
    "def Matrix_Transpose(A):\n",
    "    result = [[A[row][col] for row in range(len(A[0]))] for col in range(len(A))]\n",
    "#     for i in result:\n",
    "#         print(i)\n",
    "    return A,result"
   ]
  },
  {
   "cell_type": "code",
   "execution_count": 7,
   "id": "1ce808a9",
   "metadata": {},
   "outputs": [
    {
     "data": {
      "text/plain": [
       "([[1, 2], [3, 4]], [[1, 3], [2, 4]])"
      ]
     },
     "execution_count": 7,
     "metadata": {},
     "output_type": "execute_result"
    }
   ],
   "source": [
    "Matrix_Transpose(A)"
   ]
  },
  {
   "cell_type": "markdown",
   "id": "7bfb9d20",
   "metadata": {},
   "source": [
    "### 4. Write a Python Program to Sort Words in Alphabetic Order?\n"
   ]
  },
  {
   "cell_type": "code",
   "execution_count": 8,
   "id": "78e662c4",
   "metadata": {},
   "outputs": [
    {
     "data": {
      "text/plain": [
       "'Best Is iNeuron'"
      ]
     },
     "execution_count": 8,
     "metadata": {},
     "output_type": "execute_result"
    }
   ],
   "source": [
    "string = 'iNeuron Is Best'\n",
    "def sort_str(A):\n",
    "    return \" \".join(sorted(A.split(' ')))\n",
    "    \n",
    "sort_str(string)"
   ]
  },
  {
   "cell_type": "markdown",
   "id": "25930634",
   "metadata": {},
   "source": [
    "### 5. Write a Python Program to Remove Punctuation From a String?"
   ]
  },
  {
   "cell_type": "code",
   "execution_count": 9,
   "id": "72b0c38e",
   "metadata": {},
   "outputs": [
    {
     "data": {
      "text/plain": [
       "' iNeuron Assignment no 8 Basic Python Programming '"
      ]
     },
     "execution_count": 9,
     "metadata": {},
     "output_type": "execute_result"
    }
   ],
   "source": [
    "def Remove_Punctuation(X):\n",
    "    punctuations = '''!()-[]{};:'\"\\,<>./?@#$%^&*_~'''\n",
    "    string = ''\n",
    "    for ele in X:\n",
    "        if ele not in punctuations:\n",
    "            string += ele\n",
    "    return string\n",
    "    \n",
    "Remove_Punctuation('@ iNeuron Assignment no. 8: Basic Python Programming ;)')"
   ]
  }
 ],
 "metadata": {
  "kernelspec": {
   "display_name": "Python 3 (ipykernel)",
   "language": "python",
   "name": "python3"
  },
  "language_info": {
   "codemirror_mode": {
    "name": "ipython",
    "version": 3
   },
   "file_extension": ".py",
   "mimetype": "text/x-python",
   "name": "python",
   "nbconvert_exporter": "python",
   "pygments_lexer": "ipython3",
   "version": "3.9.7"
  }
 },
 "nbformat": 4,
 "nbformat_minor": 5
}

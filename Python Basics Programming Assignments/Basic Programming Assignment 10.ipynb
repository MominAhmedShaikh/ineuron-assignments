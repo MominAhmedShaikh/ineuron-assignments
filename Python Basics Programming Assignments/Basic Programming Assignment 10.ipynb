{
 "cells": [
  {
   "cell_type": "markdown",
   "id": "0162f887",
   "metadata": {},
   "source": [
    "# Assignment 10 : Python Programming Basics"
   ]
  },
  {
   "cell_type": "code",
   "execution_count": 1,
   "id": "2d3fec2f",
   "metadata": {},
   "outputs": [],
   "source": [
    "array = [1,0,2,3,6,4,5]"
   ]
  },
  {
   "cell_type": "markdown",
   "id": "499a357d",
   "metadata": {},
   "source": [
    "### 1. Write a Python program to find sum of elements in list?\n"
   ]
  },
  {
   "cell_type": "code",
   "execution_count": 2,
   "id": "e36508be",
   "metadata": {},
   "outputs": [],
   "source": [
    "def sum_(x):\n",
    "    counter = 0\n",
    "    for i in x:\n",
    "        counter +=i\n",
    "    return counter"
   ]
  },
  {
   "cell_type": "code",
   "execution_count": 3,
   "id": "2d773cc6",
   "metadata": {},
   "outputs": [
    {
     "data": {
      "text/plain": [
       "21"
      ]
     },
     "execution_count": 3,
     "metadata": {},
     "output_type": "execute_result"
    }
   ],
   "source": [
    "sum_(array)"
   ]
  },
  {
   "cell_type": "markdown",
   "id": "f379e558",
   "metadata": {},
   "source": [
    "### 2. Write a Python program to Multiply all numbers in the list?"
   ]
  },
  {
   "cell_type": "code",
   "execution_count": 4,
   "id": "69834c2b",
   "metadata": {},
   "outputs": [],
   "source": [
    "def mult(x):\n",
    "    counter = 1\n",
    "    for i in x:\n",
    "        counter *= i\n",
    "    return counter"
   ]
  },
  {
   "cell_type": "code",
   "execution_count": 5,
   "id": "dd7937bf",
   "metadata": {},
   "outputs": [
    {
     "data": {
      "text/plain": [
       "0"
      ]
     },
     "execution_count": 5,
     "metadata": {},
     "output_type": "execute_result"
    }
   ],
   "source": [
    "mult(array)"
   ]
  },
  {
   "cell_type": "markdown",
   "id": "3c70eb40",
   "metadata": {},
   "source": [
    "### 3. Write a Python program to find smallest number in a list?"
   ]
  },
  {
   "cell_type": "code",
   "execution_count": 6,
   "id": "8a2c763e",
   "metadata": {},
   "outputs": [],
   "source": [
    "def smallest(x):\n",
    "    smallest = x[0] if x else None\n",
    "    for i in x:\n",
    "        if i<smallest:\n",
    "            smallest=i\n",
    "            return smallest"
   ]
  },
  {
   "cell_type": "code",
   "execution_count": 7,
   "id": "efd31687",
   "metadata": {},
   "outputs": [
    {
     "data": {
      "text/plain": [
       "0"
      ]
     },
     "execution_count": 7,
     "metadata": {},
     "output_type": "execute_result"
    }
   ],
   "source": [
    "smallest(array)"
   ]
  },
  {
   "cell_type": "markdown",
   "id": "c48c092a",
   "metadata": {},
   "source": [
    "### 4. Write a Python program to find largest number in a list?\n"
   ]
  },
  {
   "cell_type": "code",
   "execution_count": 8,
   "id": "334afe21",
   "metadata": {},
   "outputs": [],
   "source": [
    "def largest(x):\n",
    "    largest = x[-1] if x else None\n",
    "    for i in x:\n",
    "        if largest<i:\n",
    "            largest = i\n",
    "    return largest"
   ]
  },
  {
   "cell_type": "code",
   "execution_count": 9,
   "id": "25b63e9b",
   "metadata": {},
   "outputs": [
    {
     "data": {
      "text/plain": [
       "6"
      ]
     },
     "execution_count": 9,
     "metadata": {},
     "output_type": "execute_result"
    }
   ],
   "source": [
    "largest(array)"
   ]
  },
  {
   "cell_type": "markdown",
   "id": "ac8901ae",
   "metadata": {},
   "source": [
    "### 5. Write a Python program to find second largest number in a list?\n"
   ]
  },
  {
   "cell_type": "code",
   "execution_count": 10,
   "id": "08c85fc1",
   "metadata": {},
   "outputs": [],
   "source": [
    "def sec_largest(x):\n",
    "    return sorted(x)[-2]"
   ]
  },
  {
   "cell_type": "code",
   "execution_count": 11,
   "id": "e30032c0",
   "metadata": {},
   "outputs": [
    {
     "data": {
      "text/plain": [
       "5"
      ]
     },
     "execution_count": 11,
     "metadata": {},
     "output_type": "execute_result"
    }
   ],
   "source": [
    "sec_largest(array)"
   ]
  },
  {
   "cell_type": "markdown",
   "id": "accad0c7",
   "metadata": {},
   "source": [
    "### 6. Write a Python program to find N largest elements from a list?\n"
   ]
  },
  {
   "cell_type": "code",
   "execution_count": 12,
   "id": "e9b55f03",
   "metadata": {},
   "outputs": [],
   "source": [
    "def n_largest(x,i):\n",
    "    return sorted(x)[-i]"
   ]
  },
  {
   "cell_type": "code",
   "execution_count": 13,
   "id": "9a4d47c0",
   "metadata": {},
   "outputs": [
    {
     "data": {
      "text/plain": [
       "4"
      ]
     },
     "execution_count": 13,
     "metadata": {},
     "output_type": "execute_result"
    }
   ],
   "source": [
    "n_largest(array,3)"
   ]
  },
  {
   "cell_type": "markdown",
   "id": "a009fac3",
   "metadata": {},
   "source": [
    "### 7. Write a Python program to print even numbers in a list?\n"
   ]
  },
  {
   "cell_type": "code",
   "execution_count": 14,
   "id": "2b79ca55",
   "metadata": {},
   "outputs": [],
   "source": [
    "def even(x):\n",
    "    even = [i for i in x if i % 2 == 0]\n",
    "    return even"
   ]
  },
  {
   "cell_type": "code",
   "execution_count": 15,
   "id": "409929e3",
   "metadata": {},
   "outputs": [
    {
     "data": {
      "text/plain": [
       "[0, 2, 6, 4]"
      ]
     },
     "execution_count": 15,
     "metadata": {},
     "output_type": "execute_result"
    }
   ],
   "source": [
    "even(array)"
   ]
  },
  {
   "cell_type": "markdown",
   "id": "04510473",
   "metadata": {},
   "source": [
    "### 8. Write a Python program to print odd numbers in a List?\n"
   ]
  },
  {
   "cell_type": "code",
   "execution_count": 16,
   "id": "5eeeb41e",
   "metadata": {},
   "outputs": [],
   "source": [
    "def odd(x):\n",
    "    odd = [i for i in x if i % 2 != 0]\n",
    "    return odd"
   ]
  },
  {
   "cell_type": "code",
   "execution_count": 17,
   "id": "e804d158",
   "metadata": {},
   "outputs": [
    {
     "data": {
      "text/plain": [
       "[1, 3, 5]"
      ]
     },
     "execution_count": 17,
     "metadata": {},
     "output_type": "execute_result"
    }
   ],
   "source": [
    "odd(array)"
   ]
  },
  {
   "cell_type": "markdown",
   "id": "b1c8ee9e",
   "metadata": {},
   "source": [
    "### 9. Write a Python program to Remove empty List from List?\n"
   ]
  },
  {
   "cell_type": "code",
   "execution_count": 18,
   "id": "219f5748",
   "metadata": {},
   "outputs": [],
   "source": [
    "empty_list = [1,'iNeuron','@','Best',[],[]]\n",
    "\n",
    "def removeList(x):\n",
    "    new_list = [i for i in x if i != []]\n",
    "    return new_list"
   ]
  },
  {
   "cell_type": "code",
   "execution_count": 19,
   "id": "5796e4ab",
   "metadata": {},
   "outputs": [
    {
     "data": {
      "text/plain": [
       "[1, 'iNeuron', '@', 'Best']"
      ]
     },
     "execution_count": 19,
     "metadata": {},
     "output_type": "execute_result"
    }
   ],
   "source": [
    "removeList(empty_list)"
   ]
  },
  {
   "cell_type": "markdown",
   "id": "d717e26a",
   "metadata": {},
   "source": [
    "### 10. Write a Python program to Cloning or Copying a list?\n"
   ]
  },
  {
   "cell_type": "code",
   "execution_count": 20,
   "id": "da7fb8bf",
   "metadata": {},
   "outputs": [],
   "source": [
    "def cloneList(x):\n",
    "    cloned_list = [i for i in x]\n",
    "    return f\"Original_List's id : {id(x)}, Cloned_List's ID : {id(cloned_list)}\""
   ]
  },
  {
   "cell_type": "code",
   "execution_count": 21,
   "id": "a038c90c",
   "metadata": {},
   "outputs": [
    {
     "data": {
      "text/plain": [
       "\"Original_List's id : 140216311358208, Cloned_List's ID : 140216311360512\""
      ]
     },
     "execution_count": 21,
     "metadata": {},
     "output_type": "execute_result"
    }
   ],
   "source": [
    "cloneList(array)"
   ]
  },
  {
   "cell_type": "markdown",
   "id": "3a8ce764",
   "metadata": {},
   "source": [
    "### 11. Write a Python program to Count occurrences of an element in a list?"
   ]
  },
  {
   "cell_type": "code",
   "execution_count": 22,
   "id": "a9611282",
   "metadata": {},
   "outputs": [],
   "source": [
    "array = [1,0,2,3,6,4,5,5]\n",
    "def CountOccurance(x,j):\n",
    "    values = [i for i in x if i == j]\n",
    "    return len(values)"
   ]
  },
  {
   "cell_type": "code",
   "execution_count": 23,
   "id": "2bf4d045",
   "metadata": {},
   "outputs": [
    {
     "data": {
      "text/plain": [
       "2"
      ]
     },
     "execution_count": 23,
     "metadata": {},
     "output_type": "execute_result"
    }
   ],
   "source": [
    "CountOccurance(array,5)"
   ]
  }
 ],
 "metadata": {
  "kernelspec": {
   "display_name": "Python 3 (ipykernel)",
   "language": "python",
   "name": "python3"
  },
  "language_info": {
   "codemirror_mode": {
    "name": "ipython",
    "version": 3
   },
   "file_extension": ".py",
   "mimetype": "text/x-python",
   "name": "python",
   "nbconvert_exporter": "python",
   "pygments_lexer": "ipython3",
   "version": "3.9.15"
  }
 },
 "nbformat": 4,
 "nbformat_minor": 5
}

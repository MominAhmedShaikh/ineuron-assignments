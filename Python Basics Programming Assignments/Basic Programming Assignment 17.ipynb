{
 "cells": [
  {
   "cell_type": "markdown",
   "id": "2d49d98b",
   "metadata": {},
   "source": [
    "# Assignment 17 : Python Programming Basic"
   ]
  },
  {
   "cell_type": "markdown",
   "id": "a07689b9",
   "metadata": {},
   "source": [
    "### 1.Create a function that takes three arguments a, b, c and returns the sum of the numbers that are evenly divided by c from the range a, b inclusive ?\n",
    "**Examples:**<br>\n",
    "`evenly_divisible(1, 10, 20) ➞ 0 # No number between 1 and 10 can be evenly divided by 20.`<br> `evenly_divisible(1, 10, 2) ➞ 30 # 2 + 4 + 6 + 8 + 10 = 30`<br> \n",
    "`evenly_divisible(1, 10, 3) ➞ 18 # 3 + 6 + 9 = 18`"
   ]
  },
  {
   "cell_type": "code",
   "execution_count": 1,
   "id": "882a0bd9",
   "metadata": {},
   "outputs": [
    {
     "data": {
      "text/plain": [
       "30"
      ]
     },
     "execution_count": 1,
     "metadata": {},
     "output_type": "execute_result"
    }
   ],
   "source": [
    "def evenly_distributed(a,b,c):\n",
    "    summation  = [i for i in range(a,b+1) if i % c == 0]\n",
    "    return sum(summation)\n",
    "\n",
    "evenly_distributed(1,10,2)"
   ]
  },
  {
   "cell_type": "markdown",
   "id": "1d45276b",
   "metadata": {},
   "source": [
    "### 2.Create a function that returns True if a given inequality expression is correct and False otherwise ?\n",
    "**Examples:**<br>\n",
    "`correct_signs(\"3 < 7 < 11\") ➞ True`<br>\n",
    "`correct_signs(\"13 > 44 > 33 > 1\") ➞ False`<br>\n",
    "`correct_signs(\"1 < 2 < 6 < 9 > 3\") ➞ True`<br>"
   ]
  },
  {
   "cell_type": "code",
   "execution_count": 2,
   "id": "47fd5585",
   "metadata": {},
   "outputs": [],
   "source": [
    "def correct_signs(expression):\n",
    "    return eval(expression)"
   ]
  },
  {
   "cell_type": "code",
   "execution_count": 3,
   "id": "869170bd",
   "metadata": {},
   "outputs": [
    {
     "data": {
      "text/plain": [
       "True"
      ]
     },
     "execution_count": 3,
     "metadata": {},
     "output_type": "execute_result"
    }
   ],
   "source": [
    "correct_signs('3 < 7 < 11')"
   ]
  },
  {
   "cell_type": "markdown",
   "id": "15875ff5",
   "metadata": {},
   "source": [
    "### 3.Create a function that replaces all the vowels in a string with a specified character ?\n",
    "**Examples:**<br>\n",
    "`replace_vowels(\"the aardvark\", \"#\") ➞ \"th# ##rdv#rk\"`<br>\n",
    "`replace_vowels(\"minnie mouse\", \"?\") ➞ \"m?nn?? m??s?\"`<br>\n",
    "`replace_vowels(\"shakespeare\", \"*\") ➞ \"shksp**r\"`<br>"
   ]
  },
  {
   "cell_type": "code",
   "execution_count": 4,
   "id": "b7368d60",
   "metadata": {},
   "outputs": [],
   "source": [
    "def replace_vowels(string,replace_w):\n",
    "    for i in string:\n",
    "        if i in \"a,e,i,o,u\":\n",
    "            string = string.replace(i,replace_w)\n",
    "    return string"
   ]
  },
  {
   "cell_type": "code",
   "execution_count": 5,
   "id": "48674b0a",
   "metadata": {},
   "outputs": [
    {
     "data": {
      "text/plain": [
       "'m?nn?? m??s?'"
      ]
     },
     "execution_count": 5,
     "metadata": {},
     "output_type": "execute_result"
    }
   ],
   "source": [
    "replace_vowels(\"minnie mouse\",\"?\")"
   ]
  },
  {
   "cell_type": "markdown",
   "id": "86ff19ce",
   "metadata": {},
   "source": [
    "### 4.Write a function that calculates the factorial of a number recursively ?\n",
    "**Examples:**<br>\n",
    "`factorial(5) ➞ 120`<br>\n",
    "`factorial(3) ➞ 6`<br>\n",
    "`factorial(1) ➞ 1`<br>\n",
    "`factorial(0) ➞ 1`<br>"
   ]
  },
  {
   "cell_type": "code",
   "execution_count": 6,
   "id": "b77feb94",
   "metadata": {},
   "outputs": [
    {
     "data": {
      "text/plain": [
       "120"
      ]
     },
     "execution_count": 6,
     "metadata": {},
     "output_type": "execute_result"
    }
   ],
   "source": [
    "def factorial(x):\n",
    "    if x < 1:\n",
    "        return 1\n",
    "    else:\n",
    "        return x*factorial(x-1)\n",
    "    \n",
    "factorial(5)"
   ]
  },
  {
   "cell_type": "markdown",
   "id": "2332f116",
   "metadata": {},
   "source": [
    "### 5.Hamming distance is the number of characters that differ between two strings ?\n",
    "To illustrate:<br>\n",
    "`String1: \"abcbba\"`<br>\n",
    "`String2: \"abcbda\"`<br>\n",
    "`Hamming Distance: 1 - \"b\" vs. \"d\" is the only difference.`<br>\n",
    "\n",
    "`Create a function that computes the hamming distance between two strings.`<br>\n",
    "**Examples:**<br>\n",
    "\n",
    "`hamming_distance(\"abcde\", \"bcdef\") ➞ 5`<br>\n",
    "`hamming_distance(\"abcde\", \"abcde\") ➞ 0`<br>\n",
    "`hamming_distance(\"strong\", \"strung\") ➞ 1`"
   ]
  },
  {
   "cell_type": "code",
   "execution_count": 7,
   "id": "4b608fcf",
   "metadata": {},
   "outputs": [],
   "source": [
    "def hamming_distance(x1,x2):\n",
    "    if len(x1) == len(x2):\n",
    "        counter = 0\n",
    "        for i in range(len(x1)):\n",
    "            if x1[i] != x2[i]:\n",
    "                counter +=1\n",
    "        print(x1,x2,'->',counter)\n",
    "    else:\n",
    "        print('String Must Be Of Same Length')"
   ]
  },
  {
   "cell_type": "code",
   "execution_count": 8,
   "id": "d6588a85",
   "metadata": {},
   "outputs": [
    {
     "name": "stdout",
     "output_type": "stream",
     "text": [
      "abcde bcdef -> 5\n"
     ]
    }
   ],
   "source": [
    "hamming_distance(\"abcde\",\"bcdef\")"
   ]
  }
 ],
 "metadata": {
  "kernelspec": {
   "display_name": "Python 3 (ipykernel)",
   "language": "python",
   "name": "python3"
  },
  "language_info": {
   "codemirror_mode": {
    "name": "ipython",
    "version": 3
   },
   "file_extension": ".py",
   "mimetype": "text/x-python",
   "name": "python",
   "nbconvert_exporter": "python",
   "pygments_lexer": "ipython3",
   "version": "3.9.15"
  }
 },
 "nbformat": 4,
 "nbformat_minor": 5
}

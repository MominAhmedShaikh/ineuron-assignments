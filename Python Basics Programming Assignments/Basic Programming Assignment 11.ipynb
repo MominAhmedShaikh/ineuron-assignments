{
 "cells": [
  {
   "cell_type": "markdown",
   "id": "131e0c9b",
   "metadata": {},
   "source": [
    "# Assignment 11 : Python Basic Programming"
   ]
  },
  {
   "cell_type": "markdown",
   "id": "bdd4309c",
   "metadata": {},
   "source": [
    "### 1. Write a Python program to find words which are greater than given length k?"
   ]
  },
  {
   "cell_type": "code",
   "execution_count": 1,
   "id": "712b7ccc",
   "metadata": {},
   "outputs": [],
   "source": [
    "words = ['Full','Stack','Data','Science','is','best','at','iNeuron']"
   ]
  },
  {
   "cell_type": "code",
   "execution_count": 2,
   "id": "e4f92d89",
   "metadata": {},
   "outputs": [
    {
     "data": {
      "text/plain": [
       "['Full', 'Stack', 'Data', 'Science', 'best', 'iNeuron']"
      ]
     },
     "execution_count": 2,
     "metadata": {},
     "output_type": "execute_result"
    }
   ],
   "source": [
    "def FindWords(x,k):\n",
    "    words = [word for word in x if len(word)>k]\n",
    "    return words\n",
    "FindWords(words,2)"
   ]
  },
  {
   "cell_type": "markdown",
   "id": "af4380ae",
   "metadata": {},
   "source": [
    "### 2. Write a Python program for removing i-th character from a string?\n"
   ]
  },
  {
   "cell_type": "code",
   "execution_count": 3,
   "id": "10714e4c",
   "metadata": {},
   "outputs": [],
   "source": [
    "string = 'INeuron'\n",
    "def RemoveChar(x,char):\n",
    "    for i in x:\n",
    "        if i == char:\n",
    "            return x.replace(char,'')\n",
    "    "
   ]
  },
  {
   "cell_type": "code",
   "execution_count": 4,
   "id": "07044b7c",
   "metadata": {},
   "outputs": [
    {
     "data": {
      "text/plain": [
       "'INeron'"
      ]
     },
     "execution_count": 4,
     "metadata": {},
     "output_type": "execute_result"
    }
   ],
   "source": [
    "RemoveChar(string,'u')"
   ]
  },
  {
   "cell_type": "code",
   "execution_count": 5,
   "id": "3dfd1e8f",
   "metadata": {},
   "outputs": [],
   "source": [
    "def removeChar(string,char):\n",
    "    new_str = ''.join(i for i in 'iNeuron' if 'iNeuron'.index(i) != char)\n",
    "    return new_str"
   ]
  },
  {
   "cell_type": "code",
   "execution_count": 6,
   "id": "0d64da4d",
   "metadata": {},
   "outputs": [
    {
     "data": {
      "text/plain": [
       "'iNuron'"
      ]
     },
     "execution_count": 6,
     "metadata": {},
     "output_type": "execute_result"
    }
   ],
   "source": [
    "removeChar('iNeuron',2)"
   ]
  },
  {
   "cell_type": "markdown",
   "id": "4863b7b4",
   "metadata": {},
   "source": [
    "### 3. Write a Python program to split and join a string?\n"
   ]
  },
  {
   "cell_type": "code",
   "execution_count": 7,
   "id": "00d6d429",
   "metadata": {},
   "outputs": [
    {
     "data": {
      "text/plain": [
       "\"Splited string: ['iNeuron', 'is', 'best'] , Joined string: iNeuron is best\""
      ]
     },
     "execution_count": 7,
     "metadata": {},
     "output_type": "execute_result"
    }
   ],
   "source": [
    "def SplitJoinStr(x,split_by):\n",
    "    str_split = x.split(f'{split_by}')\n",
    "    str_join = ' '.join(str_split)\n",
    "    return f'Splited string: {str_split} , Joined string: {str_join}'\n",
    "\n",
    "\n",
    "SplitJoinStr('iNeuron is best',' ')"
   ]
  },
  {
   "cell_type": "markdown",
   "id": "bf05963e",
   "metadata": {},
   "source": [
    "### 4. Write a Python to check if a given string is binary string or not?\n"
   ]
  },
  {
   "cell_type": "code",
   "execution_count": 8,
   "id": "86bc15de",
   "metadata": {},
   "outputs": [
    {
     "data": {
      "text/plain": [
       "'101010001 is a Binary String'"
      ]
     },
     "execution_count": 8,
     "metadata": {},
     "output_type": "execute_result"
    }
   ],
   "source": [
    "non_binary = '2345'\n",
    "binary = '101010001'\n",
    "\n",
    "def BinaryCheck(x):\n",
    "    counter = 0\n",
    "    for i in x:\n",
    "        if i in ['0','1']:\n",
    "            counter += 1\n",
    "    if len(x) == counter:\n",
    "        return f'{x} is a Binary String'\n",
    "    else:\n",
    "        return f'{x} is not a Binary String'\n",
    "    \n",
    "    \n",
    "BinaryCheck(non_binary)\n",
    "BinaryCheck(binary)"
   ]
  },
  {
   "cell_type": "markdown",
   "id": "c9a2aac1",
   "metadata": {},
   "source": [
    "### 5. Write a Python program to find uncommon words from two Strings?\n"
   ]
  },
  {
   "cell_type": "code",
   "execution_count": 9,
   "id": "7bbe8ffd",
   "metadata": {},
   "outputs": [
    {
     "name": "stdout",
     "output_type": "stream",
     "text": [
      "['Deep', 'Machine']\n"
     ]
    }
   ],
   "source": [
    "def UncommonWords(A, B):\n",
    "    count = {}     \n",
    "    for word in A.split():\n",
    "        count[word] = count.get(word, 0) + 1\n",
    "     \n",
    "    for word in B.split():\n",
    "        count[word] = count.get(word, 0) + 1\n",
    " \n",
    "    return [word for word in count if count[word] == 1]\n",
    " \n",
    "A = \"Deep Learning\"\n",
    "B = \"Machine Learning\"\n",
    " \n",
    "print(UncommonWords(A, B))"
   ]
  },
  {
   "cell_type": "markdown",
   "id": "49c7741b",
   "metadata": {},
   "source": [
    "### 6. Write a Python to find all duplicate characters in string?\n"
   ]
  },
  {
   "cell_type": "code",
   "execution_count": 10,
   "id": "831b47f8",
   "metadata": {},
   "outputs": [],
   "source": [
    "def FindDuplicate(x):\n",
    "    count = {}\n",
    "    for char in x:\n",
    "        count[char] = count.get(char,0) + 1\n",
    "    return [i for i in count if count[i] != 1]"
   ]
  },
  {
   "cell_type": "code",
   "execution_count": 11,
   "id": "4ed08000",
   "metadata": {},
   "outputs": [
    {
     "data": {
      "text/plain": [
       "['i', 'e', ' ', 's']"
      ]
     },
     "execution_count": 11,
     "metadata": {},
     "output_type": "execute_result"
    }
   ],
   "source": [
    "FindDuplicate('iNeuron is Best')"
   ]
  },
  {
   "cell_type": "markdown",
   "id": "77b60183",
   "metadata": {},
   "source": [
    "### 7. Write a Python Program to check if a string contains any special character?"
   ]
  },
  {
   "cell_type": "code",
   "execution_count": 12,
   "id": "ff2b8207",
   "metadata": {},
   "outputs": [],
   "source": [
    "string = 'FSDS @ iNeuron is Awesome'\n",
    "\n",
    "def CheckSpecialChar(x):\n",
    "    counter = 0\n",
    "    special_char = '[@_!#$%^&*()<>?/\\|}{~:]'\n",
    "    for char in x:\n",
    "        if char in special_char:\n",
    "            counter +=1\n",
    "            return f'{x} : Contains {counter} Special Characters'"
   ]
  },
  {
   "cell_type": "code",
   "execution_count": 13,
   "id": "d25ab7c0",
   "metadata": {},
   "outputs": [
    {
     "data": {
      "text/plain": [
       "'FSDS @ iNeuron is Awesome : Contains 1 Special Characters'"
      ]
     },
     "execution_count": 13,
     "metadata": {},
     "output_type": "execute_result"
    }
   ],
   "source": [
    "CheckSpecialChar(string)"
   ]
  }
 ],
 "metadata": {
  "kernelspec": {
   "display_name": "Python 3 (ipykernel)",
   "language": "python",
   "name": "python3"
  },
  "language_info": {
   "codemirror_mode": {
    "name": "ipython",
    "version": 3
   },
   "file_extension": ".py",
   "mimetype": "text/x-python",
   "name": "python",
   "nbconvert_exporter": "python",
   "pygments_lexer": "ipython3",
   "version": "3.9.15"
  }
 },
 "nbformat": 4,
 "nbformat_minor": 5
}

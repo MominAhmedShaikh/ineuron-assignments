{
 "cells": [
  {
   "cell_type": "markdown",
   "id": "81d2ef98",
   "metadata": {},
   "source": [
    "# Assignment 7: Python Programming Basic"
   ]
  },
  {
   "cell_type": "markdown",
   "id": "e6fcfae1",
   "metadata": {},
   "source": [
    "### 1. Write a Python Program to find sum of array?"
   ]
  },
  {
   "cell_type": "code",
   "execution_count": 1,
   "id": "355e7ac7",
   "metadata": {},
   "outputs": [],
   "source": [
    "array = [5,4,3,2,1]"
   ]
  },
  {
   "cell_type": "code",
   "execution_count": 2,
   "id": "278f3113",
   "metadata": {},
   "outputs": [],
   "source": [
    "def sum_(*args) ->int :\n",
    "    \n",
    "    counter = 0\n",
    "    for i in args:\n",
    "        counter += i\n",
    "    return counter\n",
    "        "
   ]
  },
  {
   "cell_type": "code",
   "execution_count": 3,
   "id": "2810e2a9",
   "metadata": {},
   "outputs": [
    {
     "data": {
      "text/plain": [
       "15"
      ]
     },
     "execution_count": 3,
     "metadata": {},
     "output_type": "execute_result"
    }
   ],
   "source": [
    "sum_(*array)"
   ]
  },
  {
   "cell_type": "markdown",
   "id": "4a40aa23",
   "metadata": {},
   "source": [
    "### 2. Write a Python Program to find largest element in an array?\n"
   ]
  },
  {
   "cell_type": "code",
   "execution_count": 4,
   "id": "d69b5b91",
   "metadata": {},
   "outputs": [],
   "source": [
    "def max_(x) -> int:\n",
    "    \n",
    "    if len(x) >=1:\n",
    "        ind_1 = x[0]\n",
    "    for i in x:\n",
    "        if i > ind_1:\n",
    "            ind_1 = i\n",
    "    return ind_1"
   ]
  },
  {
   "cell_type": "code",
   "execution_count": 5,
   "id": "52bbfa42",
   "metadata": {},
   "outputs": [
    {
     "data": {
      "text/plain": [
       "5"
      ]
     },
     "execution_count": 5,
     "metadata": {},
     "output_type": "execute_result"
    }
   ],
   "source": [
    "max_(array)"
   ]
  },
  {
   "cell_type": "markdown",
   "id": "482be16b",
   "metadata": {},
   "source": [
    "### 3. Write a Python Program for array rotation?\n"
   ]
  },
  {
   "cell_type": "code",
   "execution_count": 6,
   "id": "1e81c050",
   "metadata": {},
   "outputs": [],
   "source": [
    "def rotateList(arr,d):\n",
    "    \n",
    "    og = arr.copy()\n",
    "    n = len(arr)\n",
    "    arr[:]=arr[d:n]+arr[0:d]\n",
    "    return og,arr"
   ]
  },
  {
   "cell_type": "code",
   "execution_count": 7,
   "id": "bcf6529b",
   "metadata": {},
   "outputs": [
    {
     "data": {
      "text/plain": [
       "([5, 4, 3, 2, 1], [3, 2, 1, 5, 4])"
      ]
     },
     "execution_count": 7,
     "metadata": {},
     "output_type": "execute_result"
    }
   ],
   "source": [
    "rotateList(array,2)"
   ]
  },
  {
   "cell_type": "markdown",
   "id": "e900ce8e",
   "metadata": {},
   "source": [
    "### 4. Write a Python Program to Split the array and add the first part to the end?\n"
   ]
  },
  {
   "cell_type": "code",
   "execution_count": 8,
   "id": "010d33e5",
   "metadata": {},
   "outputs": [],
   "source": [
    "def List(arr,d,n):\n",
    "\n",
    "    og = arr.copy()\n",
    "    arr[:]=arr[d:n]+arr[0:d]\n",
    "    return og,arr"
   ]
  },
  {
   "cell_type": "code",
   "execution_count": 9,
   "id": "edf4fc2e",
   "metadata": {},
   "outputs": [
    {
     "data": {
      "text/plain": [
       "([3, 2, 1, 5, 4], [2, 1, 5, 4, 3])"
      ]
     },
     "execution_count": 9,
     "metadata": {},
     "output_type": "execute_result"
    }
   ],
   "source": [
    "List(array,1,len(array))"
   ]
  },
  {
   "cell_type": "markdown",
   "id": "bca3a68f",
   "metadata": {},
   "source": [
    "### 5. Write a Python Program to check if given array is Monotonic?"
   ]
  },
  {
   "cell_type": "code",
   "execution_count": 10,
   "id": "bfd7ff92",
   "metadata": {},
   "outputs": [],
   "source": [
    "def isMonotonic(A):\n",
    "   \n",
    "    return (all(A[i] <= A[i+1] for i in range(len(A) - 1)) or\n",
    "            all(A[i] >= A[i+1] for i in range(len(A) - 1)))"
   ]
  },
  {
   "cell_type": "code",
   "execution_count": 11,
   "id": "54376786",
   "metadata": {},
   "outputs": [
    {
     "data": {
      "text/plain": [
       "False"
      ]
     },
     "execution_count": 11,
     "metadata": {},
     "output_type": "execute_result"
    }
   ],
   "source": [
    "isMonotonic(array)"
   ]
  }
 ],
 "metadata": {
  "kernelspec": {
   "display_name": "Python 3 (ipykernel)",
   "language": "python",
   "name": "python3"
  },
  "language_info": {
   "codemirror_mode": {
    "name": "ipython",
    "version": 3
   },
   "file_extension": ".py",
   "mimetype": "text/x-python",
   "name": "python",
   "nbconvert_exporter": "python",
   "pygments_lexer": "ipython3",
   "version": "3.9.7"
  }
 },
 "nbformat": 4,
 "nbformat_minor": 5
}

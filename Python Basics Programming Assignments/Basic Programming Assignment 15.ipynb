{
 "cells": [
  {
   "cell_type": "markdown",
   "id": "c634672c",
   "metadata": {},
   "source": [
    "# Assignment 15 : Python Programming Basic"
   ]
  },
  {
   "cell_type": "markdown",
   "id": "74c72fab",
   "metadata": {},
   "source": [
    "### 1 .  Please write a program using generator to print the numbers which can be divisible by 5 and 7 between 0 and n in comma separated form while n is input by console ?\n",
    "\n",
    "**Example:**<br>\n",
    "If the following n is given as input to the program: `100`<br>\n",
    "Then, the output of the program should be: `0,35,70`"
   ]
  },
  {
   "cell_type": "code",
   "execution_count": 1,
   "id": "0e2f6039",
   "metadata": {},
   "outputs": [],
   "source": [
    "def Number(x:range):\n",
    "    for i in range(0,x+1):\n",
    "        if (i % 5 == 0) & (i % 7 == 0):\n",
    "            yield i"
   ]
  },
  {
   "cell_type": "code",
   "execution_count": 2,
   "id": "15422947",
   "metadata": {},
   "outputs": [
    {
     "name": "stdout",
     "output_type": "stream",
     "text": [
      "0,35,70\n"
     ]
    }
   ],
   "source": [
    "print(*Number(100),sep = ',')"
   ]
  },
  {
   "cell_type": "markdown",
   "id": "a43cbd68",
   "metadata": {},
   "source": [
    "### 2 . Please write a program using generator to print the even numbers between 0 and n in comma separated form while n is input by console ?\n",
    "\n",
    "**Example:**<br>\n",
    "If the following n is given as input to the program: `10`<br>\n",
    "Then, the output of the program should be: `0,2,4,6,8,10`"
   ]
  },
  {
   "cell_type": "code",
   "execution_count": 3,
   "id": "329ad9ce",
   "metadata": {},
   "outputs": [],
   "source": [
    "def EvenNumbers(x:range):\n",
    "    for i in range(0,x+1):\n",
    "        if i % 2 == 0:\n",
    "            yield i"
   ]
  },
  {
   "cell_type": "code",
   "execution_count": 4,
   "id": "5fe69176",
   "metadata": {},
   "outputs": [
    {
     "name": "stdout",
     "output_type": "stream",
     "text": [
      "0,2,4,6,8,10\n"
     ]
    }
   ],
   "source": [
    "print(*EvenNumbers(10),sep=',')"
   ]
  },
  {
   "cell_type": "markdown",
   "id": "9f7f0883",
   "metadata": {},
   "source": [
    "### 3 . The Fibonacci Sequence is computed based on the following formula below, Please write a program using list comprehension to print the Fibonacci Sequence in comma separated form with a given n input by console ?\n",
    "`f(n)=0 if n=0 f(n)=1 if n=1 f(n)=f(n-1)+f(n-2) if n>1`\n"
   ]
  },
  {
   "cell_type": "code",
   "execution_count": 5,
   "id": "7b078669",
   "metadata": {},
   "outputs": [
    {
     "name": "stdout",
     "output_type": "stream",
     "text": [
      "[0, 1, 1, 2, 3, 5, 8, 13, 21, 34, 55, 89, 144, 233, 377, 610, 987, 1597, 2584, 4181]\n"
     ]
    }
   ],
   "source": [
    "def Fibonacci(x:int):\n",
    "    if x == 0:\n",
    "        return 0\n",
    "    elif x == 1:\n",
    "        return 1\n",
    "    else:\n",
    "        return Fibonacci(x-1)+Fibonacci(x-2)\n",
    "    \n",
    "print([Fibonacci(x) for x in range(20)])"
   ]
  },
  {
   "cell_type": "markdown",
   "id": "8845168f",
   "metadata": {},
   "source": [
    "### 4 . Assuming that we have some email addresses in the `\"username@companyname.com\"` format, please write program to print the user name of a given email address. Both user names and company names are composed of letters only ?\n",
    "**Example:**<br>\n",
    "If the following email address is given as input to the program: `john@google.com`<br>\n",
    "Then, the output of the program should be: `john`"
   ]
  },
  {
   "cell_type": "code",
   "execution_count": 6,
   "id": "eacbd3b4",
   "metadata": {},
   "outputs": [
    {
     "name": "stdout",
     "output_type": "stream",
     "text": [
      "User Name :  shaikhmomin4\n"
     ]
    }
   ],
   "source": [
    "def userNameValid(x:input):\n",
    "    print('User Name : ',x.split('@')[0])\n",
    "    \n",
    "    \n",
    "userNameValid('shaikhmomin4@gmail.com')"
   ]
  },
  {
   "cell_type": "markdown",
   "id": "24ac45d6",
   "metadata": {},
   "source": [
    "### 5 . Define a class named Shape and its subclass Square. The Square class has an init function which takes a length as argument. Both classes have a area function which can print the area of the shape where Shape's area is 0 by default."
   ]
  },
  {
   "cell_type": "code",
   "execution_count": 7,
   "id": "bae3ecb7",
   "metadata": {},
   "outputs": [
    {
     "name": "stdout",
     "output_type": "stream",
     "text": [
      "Area of sqaure is 100\n"
     ]
    }
   ],
   "source": [
    "class Shape:\n",
    "    def area(self):\n",
    "        pass\n",
    "\n",
    "class Square(Shape):\n",
    "    def __init__(self, length):\n",
    "        self.length = length\n",
    "    def area(self):\n",
    "        return self.length*self.length\n",
    "\n",
    "square = Square(10)\n",
    "print('Area of sqaure is',square.area())"
   ]
  }
 ],
 "metadata": {
  "kernelspec": {
   "display_name": "Python 3 (ipykernel)",
   "language": "python",
   "name": "python3"
  },
  "language_info": {
   "codemirror_mode": {
    "name": "ipython",
    "version": 3
   },
   "file_extension": ".py",
   "mimetype": "text/x-python",
   "name": "python",
   "nbconvert_exporter": "python",
   "pygments_lexer": "ipython3",
   "version": "3.9.15"
  }
 },
 "nbformat": 4,
 "nbformat_minor": 5
}

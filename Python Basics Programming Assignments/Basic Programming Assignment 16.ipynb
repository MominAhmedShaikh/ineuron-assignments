{
 "cells": [
  {
   "cell_type": "markdown",
   "id": "b6ccbf2d",
   "metadata": {},
   "source": [
    "# Assignment 16 : Python Programming Basic"
   ]
  },
  {
   "cell_type": "markdown",
   "id": "e5d8e6d1",
   "metadata": {},
   "source": [
    "### 1 . Write a function that stutters a word as if someone is struggling to read it. The first two letters are repeated twice with an ellipsis ... and space after each, and then the word is pronounced with a question mark ?\n",
    "**Examples:** `stutter(\"incredible\") ➞ \"in... in... incredible?\"`<br>\n",
    "`stutter(\"enthusiastic\") ➞ \"en... en... enthusiastic?\"`<br>\n",
    "`stutter(\"outstanding\") ➞ \"ou... ou... outstanding?\" `<br>\n",
    "\n",
    "**Hint :-** `Assume all input is in lower case and at least two characters long.`\n",
    "\n"
   ]
  },
  {
   "cell_type": "code",
   "execution_count": 1,
   "id": "ca95f26a",
   "metadata": {},
   "outputs": [
    {
     "data": {
      "text/plain": [
       "'in... in... incredible?'"
      ]
     },
     "execution_count": 1,
     "metadata": {},
     "output_type": "execute_result"
    }
   ],
   "source": [
    "string = 'incredible'\n",
    "\n",
    "def stutters(x:str):\n",
    "    return string[0:2]+'... '+string[0:2]+'... '+string+'?'\n",
    "\n",
    "stutters(string)"
   ]
  },
  {
   "cell_type": "markdown",
   "id": "fd2f4ceb",
   "metadata": {},
   "source": [
    "### 2 . Create a function that takes an angle in radians and returns the corresponding angle in degrees rounded to one decimal place ?\n",
    "**Examples:** `radians_to_degrees(1) ➞ 57.3`<br>\n",
    "`radians_to_degrees(20) ➞ 1145.9`<br>\n",
    "`radians_to_degrees(50) ➞ 2864.8`<br>"
   ]
  },
  {
   "cell_type": "code",
   "execution_count": 2,
   "id": "8444df76",
   "metadata": {},
   "outputs": [
    {
     "data": {
      "text/plain": [
       "57.3"
      ]
     },
     "execution_count": 2,
     "metadata": {},
     "output_type": "execute_result"
    }
   ],
   "source": [
    "import numpy as np\n",
    "\n",
    "def radians_to_degrees(x:int):\n",
    "    return round((180/np.pi)*x,1)\n",
    "\n",
    "radians_to_degrees(1)"
   ]
  },
  {
   "cell_type": "markdown",
   "id": "b686a694",
   "metadata": {},
   "source": [
    "### 3 . In this challenge, establish if a given integer num is a Curzon number. If 1 plus 2 elevated to num is exactly divisible by 1 plus 2 multiplied by num, then num is a Curzon number. Given a non-negative integer num, implement a function that returns True if num is a Curzon number, or False otherwise.\n",
    "**Examples:** `is_curzon(5) ➞ True # 2 ** 5 + 1 = 33 # 2 * 5 + 1 = 11 # 33 is a multiple of 11 is_curzon(10) ➞ False # 2 ** 10 + 1 = 1025 # 2 * 10 + 1 = 21 # 1025 is not a multiple of 21 is_curzon(14) ➞ True # 2 ** 14 + 1 = 16385 # 2 * 14 + 1 = 29 # 16385 is a multiple of 29`"
   ]
  },
  {
   "cell_type": "code",
   "execution_count": 3,
   "id": "2a7a7beb",
   "metadata": {},
   "outputs": [
    {
     "data": {
      "text/plain": [
       "True"
      ]
     },
     "execution_count": 3,
     "metadata": {},
     "output_type": "execute_result"
    }
   ],
   "source": [
    "((2 ** 5) + 1) % (2 * 5+1)  == 0"
   ]
  },
  {
   "cell_type": "code",
   "execution_count": 4,
   "id": "cc9902d7",
   "metadata": {},
   "outputs": [
    {
     "name": "stdout",
     "output_type": "stream",
     "text": [
      "5 is Curzon Number\n"
     ]
    }
   ],
   "source": [
    "def CurzonNumber(x:int):\n",
    "    if ((2 ** x) + 1) % (2 * x+1)  == 0:\n",
    "        print(f'{x} is Curzon Number')\n",
    "    else:\n",
    "        print(f'{x} is Not Curzon Number')\n",
    "        \n",
    "        \n",
    "CurzonNumber(5)"
   ]
  },
  {
   "cell_type": "markdown",
   "id": "0f80dbcf",
   "metadata": {},
   "source": [
    "### 4 . Given the side length x find the area of a hexagon ?\n",
    "**Examples:** `area_of_hexagon(1) ➞ 2.6`<br>\n",
    "`area_of_hexagon(2) ➞ 10.4`<br>\n",
    "`area_of_hexagon(3) ➞ 23.4`<br>"
   ]
  },
  {
   "cell_type": "code",
   "execution_count": 5,
   "id": "a44c7cdc",
   "metadata": {},
   "outputs": [
    {
     "data": {
      "text/plain": [
       "2.6"
      ]
     },
     "execution_count": 5,
     "metadata": {},
     "output_type": "execute_result"
    }
   ],
   "source": [
    "from math import sqrt\n",
    "\n",
    "def AreaOfHex(x:int):\n",
    "    Area = (3*sqrt(3)*(x**2))/2\n",
    "    return round(Area,2)\n",
    "\n",
    "AreaOfHex(1)"
   ]
  },
  {
   "cell_type": "markdown",
   "id": "3f5ad98f",
   "metadata": {},
   "source": [
    "### 5 . Create a function that returns a base-2 (binary) representation of a base-10 (decimal) string number. To convert is simple:\n",
    "((2) means base-2 and (10) means base-10)<br>\n",
    "`010101001(2) = 1 + 8 + 32 + 128.`<br>\n",
    "Going from right to left, the value of the most right bit is 1, now from that every bit to the left will be x2 the value, value of an 8 bit binary numbers are (256, 128, 64, 32, 16, 8, 4, 2, 1).<br>\n",
    "\n",
    "**Examples:**\n",
    "`binary(1) ➞ \"1\" # 1* 1 = 1 binary(5) ➞ \"101\" # 1 1 + 1 4 = 5 binary(10) ➞ \"1010\" # 1 2 + 1 8 = 10`"
   ]
  },
  {
   "cell_type": "code",
   "execution_count": 6,
   "id": "ca026d5f",
   "metadata": {},
   "outputs": [],
   "source": [
    "# Not Known"
   ]
  }
 ],
 "metadata": {
  "kernelspec": {
   "display_name": "Python 3 (ipykernel)",
   "language": "python",
   "name": "python3"
  },
  "language_info": {
   "codemirror_mode": {
    "name": "ipython",
    "version": 3
   },
   "file_extension": ".py",
   "mimetype": "text/x-python",
   "name": "python",
   "nbconvert_exporter": "python",
   "pygments_lexer": "ipython3",
   "version": "3.9.15"
  }
 },
 "nbformat": 4,
 "nbformat_minor": 5
}

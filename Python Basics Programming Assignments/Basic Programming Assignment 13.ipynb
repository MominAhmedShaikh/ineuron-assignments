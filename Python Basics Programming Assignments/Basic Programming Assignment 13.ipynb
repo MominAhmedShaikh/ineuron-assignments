{
 "cells": [
  {
   "cell_type": "markdown",
   "id": "57eb519f",
   "metadata": {},
   "source": [
    "# Assignment 1 : Python Programming Basic "
   ]
  },
  {
   "cell_type": "code",
   "execution_count": 1,
   "id": "5d34ad95",
   "metadata": {},
   "outputs": [],
   "source": [
    "import math"
   ]
  },
  {
   "cell_type": "markdown",
   "id": "710270b9",
   "metadata": {},
   "source": [
    "### 1 . Write a program that calculates and prints the value according to the given formula:\n",
    "`Q = Square root of [(2 * C * D)/H]`\n",
    "\n",
    "Following are the fixed values of C and H:\n",
    "\n",
    "C is 50. H is 30.\n",
    "\n",
    "D is the variable whose values should be input to your program in a comma-separated sequence.\n",
    "\n",
    "**Example:** Let us assume the following comma separated input sequence is given to the program:`100,150,180`\n",
    "The output of the program should be: `18,22,24`"
   ]
  },
  {
   "cell_type": "code",
   "execution_count": 2,
   "id": "19a2cc2a",
   "metadata": {},
   "outputs": [],
   "source": [
    "def Formula(C = 50, H = 30):\n",
    "    input_val = eval(input('Enter int input: '))\n",
    "    output_val = [round(math.sqrt((2*C*i)/H)) for i in input_val]\n",
    "    print(*output_val)"
   ]
  },
  {
   "cell_type": "code",
   "execution_count": 3,
   "id": "8fb4ca95",
   "metadata": {},
   "outputs": [
    {
     "name": "stdout",
     "output_type": "stream",
     "text": [
      "Enter int input: 100,150,180\n",
      "18 22 24\n"
     ]
    }
   ],
   "source": [
    "Formula()"
   ]
  },
  {
   "cell_type": "markdown",
   "id": "2b4cba9a",
   "metadata": {},
   "source": [
    "### 2 . Write a program which takes 2 digits, X,Y as input and generates a 2-dimensional array. The element value in the i-th row and j-th column of the array should be i*j.\n",
    "\n",
    "`Note: i=0,1.., X-1; j=0,1,¡Y-1.`\n",
    "\n",
    "**Example:** Suppose the following inputs are given to the program: 3,5\n",
    "Then, the output of the program should be:`[[0, 0, 0, 0, 0], [0, 1, 2, 3, 4], [0, 2, 4, 6, 8]]`"
   ]
  },
  {
   "cell_type": "code",
   "execution_count": 4,
   "id": "087901bd",
   "metadata": {},
   "outputs": [
    {
     "data": {
      "text/plain": [
       "[[0, 0, 0, 0, 0], [0, 1, 2, 3, 4], [0, 2, 4, 6, 8]]"
      ]
     },
     "execution_count": 4,
     "metadata": {},
     "output_type": "execute_result"
    }
   ],
   "source": [
    "def GenerateArray(rows = 3, cols = 5):\n",
    "    array = [[col*row for col in range(cols)] for row in range(rows)]\n",
    "    return array\n",
    "\n",
    "GenerateArray()"
   ]
  },
  {
   "cell_type": "markdown",
   "id": "ebcee42d",
   "metadata": {},
   "source": [
    "### 3 . Write a program that accepts a comma separated sequence of words as input and prints the words in a comma-separated sequence after sorting them alphabetically ?\n",
    "\n",
    "Suppose the following input is supplied to the program: `without,hello,bag,world`\n",
    "\n",
    "Then, the output should be: `bag,hello,without,world`"
   ]
  },
  {
   "cell_type": "code",
   "execution_count": 5,
   "id": "3643cdd8",
   "metadata": {},
   "outputs": [
    {
     "name": "stdout",
     "output_type": "stream",
     "text": [
      "bag,hello,without,world\n"
     ]
    }
   ],
   "source": [
    "# Method 1: Using List\n",
    "\n",
    "string = ['without','hello','bag','world']\n",
    "\n",
    "def SortString(a):\n",
    "    b = sorted(a[::-1])\n",
    "    print(*b,sep=',')\n",
    "    \n",
    "SortString(string)"
   ]
  },
  {
   "cell_type": "code",
   "execution_count": 6,
   "id": "2f84117e",
   "metadata": {},
   "outputs": [
    {
     "name": "stdout",
     "output_type": "stream",
     "text": [
      "Enter the Input String: without,hello,bag,world\n",
      "Output: bag,hello,without,world\n"
     ]
    }
   ],
   "source": [
    "# Method 2: Using string Input\n",
    "\n",
    "def SortString():\n",
    "    in_string = input(\"Enter the Input String: \")\n",
    "    out_string = ','.join(sorted(in_string.split(',')))\n",
    "    print(f'Output: {out_string}')\n",
    "    \n",
    "SortString()"
   ]
  },
  {
   "cell_type": "markdown",
   "id": "cadd5479",
   "metadata": {},
   "source": [
    "### 4 . Write a program that accepts a sequence of whitespace separated words as input and prints the words after removing all duplicate words and sorting them alphanumerically.\n",
    "\n",
    "Suppose the following input is supplied to the program: `hello world and practice makes perfect and hello world again`\n",
    "\n",
    "Then, the output should be: `again and hello makes perfect practice world`"
   ]
  },
  {
   "cell_type": "code",
   "execution_count": 7,
   "id": "47d29e23",
   "metadata": {},
   "outputs": [
    {
     "name": "stdout",
     "output_type": "stream",
     "text": [
      "Enter the Input String: hello world and practice makes perfect and hello world again\n",
      "Output: again and hello makes perfect practice world\n"
     ]
    }
   ],
   "source": [
    "def SortAlphaNumerically():\n",
    "    in_string = input(\"Enter the Input String: \")\n",
    "    out_string = ' '.join(sorted(set(in_string.split(\" \"))))\n",
    "    print(f'Output: {out_string}')\n",
    "    \n",
    "SortAlphaNumerically()"
   ]
  },
  {
   "cell_type": "markdown",
   "id": "055f75d3",
   "metadata": {},
   "source": [
    "### 5 . Write a program that accepts a sentence and calculate the number of letters and digits.\n",
    "\n",
    "Suppose the following input is supplied to the program: `hello world! 123`\n",
    "\n",
    "Then, the output should be: \n",
    "`LETTERS 10`,\n",
    "`DIGITS 3`"
   ]
  },
  {
   "cell_type": "code",
   "execution_count": 8,
   "id": "589b9fe3",
   "metadata": {},
   "outputs": [
    {
     "name": "stdout",
     "output_type": "stream",
     "text": [
      "Enter the input String: hello world! 123\n"
     ]
    },
    {
     "data": {
      "text/plain": [
       "'LETTERS:10, DIGITS:3'"
      ]
     },
     "execution_count": 8,
     "metadata": {},
     "output_type": "execute_result"
    }
   ],
   "source": [
    "def AlphanumericLetterCounter():\n",
    "    string = input('Enter the input String: ')\n",
    "    letter,digits = 0,0\n",
    "    for i in string:\n",
    "        if i.isnumeric():\n",
    "            digits+=1\n",
    "        elif i.isalpha():\n",
    "            letter+=1\n",
    "        else:\n",
    "            None\n",
    "    return f\"LETTERS:{letter}, DIGITS:{digits}\"\n",
    "AlphanumericLetterCounter()"
   ]
  },
  {
   "cell_type": "markdown",
   "id": "3f9b826f",
   "metadata": {},
   "source": [
    "### 6 . A website requires the users to input username and password to register. Write a program to check the validity of password input by users.\n",
    "\n",
    "Following are the criteria for checking the password:\n",
    "\n",
    "- At least 1 letter between [a-z]\n",
    "- At least 1 number between [0-9]\n",
    "- At least 1 letter between [A-Z]\n",
    "- At least 1 character from [$#@]\n",
    "- Minimum length of transaction password: 6\n",
    "- Maximum length of transaction password: 12\n",
    "\n",
    "Your program should accept a sequence of comma separated passwords and will check them according to the above criteria. Passwords that match the criteria are to be printed, each separated by a comma.\n",
    "\n",
    "**Example:**\n",
    "If the following passwords are given as input to the program: `ABd1234@1,a F1#,2w3E*,2We3345`\n",
    "Then, the output of the program should be:`ABd1234@1`"
   ]
  },
  {
   "cell_type": "code",
   "execution_count": 9,
   "id": "f0211dd5",
   "metadata": {},
   "outputs": [
    {
     "name": "stdout",
     "output_type": "stream",
     "text": [
      "Enter the Input String: ABd1234@1,a F1#,2w3E*,2We3345\n",
      "ABd1234@1\n"
     ]
    }
   ],
   "source": [
    "def checkPassword():\n",
    "    in_string = input(\"Enter the Input String: \")\n",
    "    special_list = \"$#@\"\n",
    "    for ele in in_string.split(\",\"):\n",
    "        if len(ele) <= 12 and len(ele) >=6 :\n",
    "            if any(i.isupper() for i in ele):\n",
    "                if any(i.islower() for i in ele):\n",
    "                    if any(i for i in ele if i in special_list):\n",
    "                        print(ele)\n",
    "                               \n",
    "checkPassword() "
   ]
  }
 ],
 "metadata": {
  "kernelspec": {
   "display_name": "Python 3 (ipykernel)",
   "language": "python",
   "name": "python3"
  },
  "language_info": {
   "codemirror_mode": {
    "name": "ipython",
    "version": 3
   },
   "file_extension": ".py",
   "mimetype": "text/x-python",
   "name": "python",
   "nbconvert_exporter": "python",
   "pygments_lexer": "ipython3",
   "version": "3.9.15"
  }
 },
 "nbformat": 4,
 "nbformat_minor": 5
}

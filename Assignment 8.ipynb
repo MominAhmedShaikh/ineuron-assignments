{
 "cells": [
  {
   "cell_type": "markdown",
   "id": "ca77ad0c",
   "metadata": {},
   "source": [
    "# Assignment 8 : Python basics"
   ]
  },
  {
   "cell_type": "markdown",
   "id": "16d7e5bb",
   "metadata": {},
   "source": [
    "### 1. Is the Python Standard Library included with PyInputPlus?"
   ]
  },
  {
   "cell_type": "markdown",
   "id": "e176ef03",
   "metadata": {},
   "source": [
    "- PyInputPlus is not a part of the Python Standard Library, so you must install it separately using Pip"
   ]
  },
  {
   "cell_type": "markdown",
   "id": "96d7b7b8",
   "metadata": {},
   "source": [
    "### 2. Why is PyInputPlus commonly imported with import pyinputplus as pypi?"
   ]
  },
  {
   "cell_type": "markdown",
   "id": "a68a91b5",
   "metadata": {},
   "source": [
    "- Most of people prefer to import it with alias pypi as it is easy to read and saves lots of time when writing code and code looks cleaner and won't have to write it again and again."
   ]
  },
  {
   "cell_type": "markdown",
   "id": "72804674",
   "metadata": {},
   "source": [
    "### 3. How do you distinguish between inputInt() and inputFloat()?"
   ]
  },
  {
   "cell_type": "markdown",
   "id": "f4401f08",
   "metadata": {},
   "source": [
    "- pypi.inputInt() - Prompts the user to enter an integer value. Returns the integer as an int value.\n",
    "- pypi.inputFlaot() - Prompts the user to enter a floating point number value. Returns the number as a float."
   ]
  },
  {
   "cell_type": "markdown",
   "id": "1ca69ccf",
   "metadata": {},
   "source": [
    "### 4. Using PyInputPlus, how do you ensure that the user enters a whole number between 0 and 99?"
   ]
  },
  {
   "cell_type": "markdown",
   "id": "30cc956b",
   "metadata": {},
   "source": [
    "- pypi.inputInt() - We can give min = 0 and max = 99 in input function parameter."
   ]
  },
  {
   "cell_type": "markdown",
   "id": "e0e244a8",
   "metadata": {},
   "source": [
    "### 5. What is transferred to the keyword arguments allowRegexes and blockRegexes?"
   ]
  },
  {
   "cell_type": "markdown",
   "id": "86e29b20",
   "metadata": {},
   "source": [
    "-  We can also use regular expressions to specify whether an input is allowed or not. The allowRegexes and blockRegexes keyword arguments take a list of regular expression strings to determine what the PyInputPlus function will accept or reject as valid input."
   ]
  },
  {
   "cell_type": "markdown",
   "id": "acd7dee1",
   "metadata": {},
   "source": [
    "### 6. If a blank input is entered three times, what does inputStr(limit=3) do?"
   ]
  },
  {
   "cell_type": "markdown",
   "id": "f0240541",
   "metadata": {},
   "source": [
    "- If limit is exceeded it will throw an error saying RetryLimitException.\n",
    "- And if there was no timeout/limit exceeded, it lets the user enter input again."
   ]
  },
  {
   "cell_type": "markdown",
   "id": "438b301f",
   "metadata": {},
   "source": [
    "### 7. If blank input is entered three times, what does inputStr(limit=3, default=&#39;hello&#39;) do?"
   ]
  },
  {
   "cell_type": "markdown",
   "id": "f27fd479",
   "metadata": {},
   "source": [
    "- pypi.inputStr(limit=3,default='hello') - Will take 'hello' as default value as limit is exceeded."
   ]
  }
 ],
 "metadata": {
  "kernelspec": {
   "display_name": "Python 3 (ipykernel)",
   "language": "python",
   "name": "python3"
  },
  "language_info": {
   "codemirror_mode": {
    "name": "ipython",
    "version": 3
   },
   "file_extension": ".py",
   "mimetype": "text/x-python",
   "name": "python",
   "nbconvert_exporter": "python",
   "pygments_lexer": "ipython3",
   "version": "3.9.7"
  }
 },
 "nbformat": 4,
 "nbformat_minor": 5
}

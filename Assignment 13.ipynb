{
 "cells": [
  {
   "cell_type": "markdown",
   "id": "09630470",
   "metadata": {},
   "source": [
    "# Assignment 13 : Python Basics"
   ]
  },
  {
   "cell_type": "markdown",
   "id": "bdae8234",
   "metadata": {},
   "source": [
    "### 1. What advantages do Excel spreadsheets have over CSV spreadsheets?"
   ]
  },
  {
   "cell_type": "markdown",
   "id": "765465a8",
   "metadata": {},
   "source": [
    "- Excel sheets can be protected with password.\n",
    "- We can write formulas,functions,run VBA,etc. inside excel.\n",
    "- We can also pull data from other resources with excel.\n",
    "- Easy to make summarized reports with excel."
   ]
  },
  {
   "cell_type": "markdown",
   "id": "3032d7c1",
   "metadata": {},
   "source": [
    "### 2.What do you pass to csv.reader() and csv.writer() to create reader and writer objects?"
   ]
  },
  {
   "cell_type": "markdown",
   "id": "a60f97d3",
   "metadata": {},
   "source": [
    "- In csv.reader() we can pass any iterable file object or a list or a Dictionary.\n",
    "- In csv.writer() we can pass only file object that supports file API."
   ]
  },
  {
   "cell_type": "markdown",
   "id": "23cea9e0",
   "metadata": {},
   "source": [
    "### 3. What modes do File objects for reader and writer objects need to be opened in?"
   ]
  },
  {
   "cell_type": "markdown",
   "id": "fd2c636d",
   "metadata": {},
   "source": [
    "- csv.reader() should be opened in 'r' or 'r+' mode.\n",
    "- csv.writer() should be opened in 'w' or 'w+' mode."
   ]
  },
  {
   "cell_type": "markdown",
   "id": "baedd723",
   "metadata": {},
   "source": [
    "### 4. What method takes a list argument and writes it to a CSV file?"
   ]
  },
  {
   "cell_type": "markdown",
   "id": "9e3b5787",
   "metadata": {},
   "source": [
    "- csv.writer().writerows() or csv.writer().writerow()"
   ]
  },
  {
   "cell_type": "markdown",
   "id": "1ee33e87",
   "metadata": {},
   "source": [
    "### 5. What do the keyword arguments delimiter and line terminator do?"
   ]
  },
  {
   "cell_type": "markdown",
   "id": "ec500e94",
   "metadata": {},
   "source": [
    "- Delimeter is character which appears between cells in row\n",
    "- Terminator is character which appears at end of row."
   ]
  },
  {
   "cell_type": "markdown",
   "id": "25b1b17e",
   "metadata": {},
   "source": [
    "### 6. What function takes a string of JSON data and returns a Python data structure?"
   ]
  },
  {
   "cell_type": "markdown",
   "id": "9dfb52ab",
   "metadata": {},
   "source": [
    "- json.loads() and json.load()"
   ]
  },
  {
   "cell_type": "markdown",
   "id": "12abee86",
   "metadata": {},
   "source": [
    "### 7. What function takes a Python data structure and returns a string of JSON data?"
   ]
  },
  {
   "cell_type": "markdown",
   "id": "4ea24a00",
   "metadata": {},
   "source": [
    "- json.dump() or json.dumps()"
   ]
  }
 ],
 "metadata": {
  "kernelspec": {
   "display_name": "Python 3 (ipykernel)",
   "language": "python",
   "name": "python3"
  },
  "language_info": {
   "codemirror_mode": {
    "name": "ipython",
    "version": 3
   },
   "file_extension": ".py",
   "mimetype": "text/x-python",
   "name": "python",
   "nbconvert_exporter": "python",
   "pygments_lexer": "ipython3",
   "version": "3.9.7"
  }
 },
 "nbformat": 4,
 "nbformat_minor": 5
}

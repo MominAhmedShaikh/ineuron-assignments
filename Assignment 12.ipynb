{
 "cells": [
  {
   "cell_type": "markdown",
   "id": "19a5682b",
   "metadata": {},
   "source": [
    "# Assignment 12 : Python basics"
   ]
  },
  {
   "cell_type": "markdown",
   "id": "232daab2",
   "metadata": {},
   "source": [
    "### 1. In what modes should the PdfFileReader() and PdfFileWriter() File objects will be opened?"
   ]
  },
  {
   "cell_type": "markdown",
   "id": "b009c8e4",
   "metadata": {},
   "source": [
    "- In PyPDF2.PdfFileReader() and PyPDF2.PdfFileWriter() objects files must be opened in 'rb' for reading and 'wb' for writing purposes otherwise it will throw error saying, PdfReader stream/file object is not in binary mode. It may not be read correctly."
   ]
  },
  {
   "cell_type": "markdown",
   "id": "295c5d6b",
   "metadata": {},
   "source": [
    "### 2. From a PdfFileReader object, how do you get a Page object for page 5?"
   ]
  },
  {
   "cell_type": "markdown",
   "id": "db84aa95",
   "metadata": {},
   "source": [
    "- We can call getPage() method in PdfFileReader object and we can pass page number as interger."
   ]
  },
  {
   "cell_type": "markdown",
   "id": "a184d20d",
   "metadata": {},
   "source": [
    "### 3. What PdfFileReader variable stores the number of pages in the PDF document?"
   ]
  },
  {
   "cell_type": "markdown",
   "id": "7da3d13a",
   "metadata": {},
   "source": [
    "- getNumPages() method in PdfFileReader object stores number of pages inside pdf document."
   ]
  },
  {
   "cell_type": "markdown",
   "id": "68fa3e4c",
   "metadata": {},
   "source": [
    "### 4. If a PdfFileReader object’s PDF is encrypted with the password swordfish, what must you do before you can obtain Page objects from it?"
   ]
  },
  {
   "cell_type": "markdown",
   "id": "60cf072a",
   "metadata": {},
   "source": [
    "- We first have to decrypt the encrypted file using method decrypt in PdfFileReader object eg . decrypt(password = 'swordfish')"
   ]
  },
  {
   "cell_type": "markdown",
   "id": "20cd2850",
   "metadata": {},
   "source": [
    "### 5. What methods do you use to rotate a page?"
   ]
  },
  {
   "cell_type": "markdown",
   "id": "445800b4",
   "metadata": {},
   "source": [
    "- We can use four methods in getPage method of PdfFileReader object, viz. \n",
    "\n",
    "getPage().rotate()  ,\n",
    "\n",
    "getPage().rotate_clockwise()  , \n",
    "\n",
    "getPage().rotateClockwise()  , \n",
    "\n",
    "getPage().rotateCounterClockwise() .\n",
    "\n",
    "- We can page multiple of 90 is all of these methods and any desired page number as int in getPage method"
   ]
  },
  {
   "cell_type": "markdown",
   "id": "c744fff8",
   "metadata": {},
   "source": [
    "### 6. What is the difference between a Run object and a Paragraph object?"
   ]
  },
  {
   "cell_type": "markdown",
   "id": "639653e6",
   "metadata": {},
   "source": [
    "- Based on hierarchy of different levels of texts, word documents are not easily manipulated using text editors.\n",
    "- We can classify them into three objects viz. Run objects , Paragrapgh objects , Document object.\n",
    "- Paragraph object supports paragraph styles.\n",
    "- While run object supports character and different text attributes styles.\n",
    "- Run objects are present in paragraph object and paragraph objects are present in run object."
   ]
  },
  {
   "cell_type": "markdown",
   "id": "00f692c9",
   "metadata": {},
   "source": [
    "### 7. How do you obtain a list of Paragraph objects for a Document object that’s stored in a variable named doc?"
   ]
  },
  {
   "cell_type": "markdown",
   "id": "00a40042",
   "metadata": {},
   "source": [
    "- We can use doc.paragraphs() method to display list of paragraph objects inside doc object."
   ]
  },
  {
   "cell_type": "markdown",
   "id": "3f740770",
   "metadata": {},
   "source": [
    "### 8. What type of object has bold, underline, italic, strike, and outline variables?"
   ]
  },
  {
   "cell_type": "markdown",
   "id": "19ca5c66",
   "metadata": {},
   "source": [
    "- As mentioned in answer of Q.6 run object supports character and different text attributes styles."
   ]
  },
  {
   "cell_type": "markdown",
   "id": "7cadab36",
   "metadata": {},
   "source": [
    "### 9. What is the difference between False, True, and None for the bold variable?"
   ]
  },
  {
   "cell_type": "markdown",
   "id": "46b3147a",
   "metadata": {},
   "source": [
    "- True will always set characters to be bolded.\n",
    "- False will always. set characters to be not bolded.\n",
    "- None will helpful when we dont want to set any attributes to our character and always follows style of bigger object in hierarchy if any."
   ]
  },
  {
   "cell_type": "markdown",
   "id": "35186df2",
   "metadata": {},
   "source": [
    "### 10. How do you create a Document object for a new Word document?"
   ]
  },
  {
   "cell_type": "markdown",
   "id": "d4f2c860",
   "metadata": {},
   "source": [
    "- We can call docx.Document() function."
   ]
  },
  {
   "cell_type": "markdown",
   "id": "9d433bb7",
   "metadata": {},
   "source": [
    "### 11. How do you add a paragraph with the text &#39;Hello, there!&#39; to a Document object stored in a variable named doc?"
   ]
  },
  {
   "cell_type": "markdown",
   "id": "0c660ce5",
   "metadata": {},
   "source": [
    "- import docx\n",
    "- doc = docx.Document()\n",
    "- doc.add_paragraph('Hello,there!')"
   ]
  },
  {
   "cell_type": "markdown",
   "id": "df5ee3e8",
   "metadata": {},
   "source": [
    "### 12. What integers represent the levels of headings available in Word documents?"
   ]
  },
  {
   "cell_type": "markdown",
   "id": "46191f93",
   "metadata": {},
   "source": [
    "- In range 0 to 4\n",
    "- 0 - for biggest heading size.\n",
    "- 4 - for lowest heading size."
   ]
  }
 ],
 "metadata": {
  "kernelspec": {
   "display_name": "Python 3 (ipykernel)",
   "language": "python",
   "name": "python3"
  },
  "language_info": {
   "codemirror_mode": {
    "name": "ipython",
    "version": 3
   },
   "file_extension": ".py",
   "mimetype": "text/x-python",
   "name": "python",
   "nbconvert_exporter": "python",
   "pygments_lexer": "ipython3",
   "version": "3.9.7"
  }
 },
 "nbformat": 4,
 "nbformat_minor": 5
}
